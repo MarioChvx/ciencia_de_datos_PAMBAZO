{
 "cells": [
  {
   "attachments": {},
   "cell_type": "markdown",
   "metadata": {},
   "source": [
    "# Algoritmos de ordenamiento"
   ]
  },
  {
   "cell_type": "code",
   "execution_count": 1,
   "metadata": {},
   "outputs": [],
   "source": [
    "import numpy as np\n",
    "import pandas as pd\n",
    "import seaborn as sns\n",
    "import time"
   ]
  },
  {
   "cell_type": "markdown",
   "metadata": {},
   "source": [
    "## Definición función `merge_sort`"
   ]
  },
  {
   "cell_type": "code",
   "execution_count": 2,
   "metadata": {},
   "outputs": [],
   "source": [
    "def merge(left: np.array, right: np.array) -> np.array:\n",
    "    res = list()\n",
    "    while len(left) > 0 and len(right) > 0:\n",
    "        if left[0] <= right[0]:\n",
    "            res = np.append(res, left[0])\n",
    "            left = np.delete(left, 0)\n",
    "        else:\n",
    "            res = np.append(res, right[0])\n",
    "            right = np.delete(right, 0)\n",
    "    if len(left) == 0:\n",
    "        return np.append(res, right)\n",
    "    else:\n",
    "        return np.append(res, left)\n",
    "\n",
    "\n",
    "def merge_sort(arr: np.array) -> np.array:\n",
    "    size = len(arr)\n",
    "    if size < 2:\n",
    "        return arr\n",
    "    left, right =  arr[:size // 2], arr[size // 2:]\n",
    "    left = merge_sort(left)\n",
    "    right = merge_sort(right)\n",
    "    return merge(left, right)\n"
   ]
  },
  {
   "attachments": {},
   "cell_type": "markdown",
   "metadata": {},
   "source": [
    "## Definición función `quick_sort`"
   ]
  },
  {
   "cell_type": "code",
   "execution_count": 3,
   "metadata": {},
   "outputs": [],
   "source": [
    "def partition(arr: np.array, low: int, high: int) -> int:\n",
    "    pivot = arr[high]\n",
    "    i = low - 1\n",
    "    for j in range(low, high):\n",
    "        if arr[j] <= pivot:\n",
    "            i += 1\n",
    "            arr[i], arr[j] = arr[j], arr[i]\n",
    "    arr[i + 1], arr[high] = arr[high], arr[i + 1]\n",
    "    return i + 1\n",
    "\n",
    "def quick_sort(arr: np.array, low: int, high: int):\n",
    "    if low < high:\n",
    "        p = partition(arr, low, high)\n",
    "        quick_sort(arr, low, p - 1)\n",
    "        quick_sort(arr, p + 1, high)"
   ]
  },
  {
   "attachments": {},
   "cell_type": "markdown",
   "metadata": {},
   "source": [
    "## Medir los tiempos de los distintos algoritmos"
   ]
  },
  {
   "cell_type": "code",
   "execution_count": 24,
   "metadata": {},
   "outputs": [],
   "source": [
    "LIMIT = 1_000\n",
    "problem_size = np.arange(5, LIMIT + 1, 5)\n",
    "ms_times = list()\n",
    "qs_times = list()\n",
    "np_times = list()\n",
    "\n",
    "for i in problem_size:\n",
    "    array = np.random.randint(1, 100, i)\n",
    "\n",
    "    start = time.time()\n",
    "    np.sort(array)\n",
    "    np_times.append(time.time() - start)\n",
    "\n",
    "    start = time.time()\n",
    "    merge_sort(array)\n",
    "    ms_times.append(time.time() - start)\n",
    "\n",
    "    start = time.time()\n",
    "    quick_sort(array, 0, len(array) - 1)\n",
    "    qs_times.append(time.time() - start)"
   ]
  },
  {
   "attachments": {},
   "cell_type": "markdown",
   "metadata": {},
   "source": [
    "Guardar los tiempos en un data frame "
   ]
  },
  {
   "cell_type": "code",
   "execution_count": 25,
   "metadata": {},
   "outputs": [
    {
     "data": {
      "text/html": [
       "<div>\n",
       "<style scoped>\n",
       "    .dataframe tbody tr th:only-of-type {\n",
       "        vertical-align: middle;\n",
       "    }\n",
       "\n",
       "    .dataframe tbody tr th {\n",
       "        vertical-align: top;\n",
       "    }\n",
       "\n",
       "    .dataframe thead th {\n",
       "        text-align: right;\n",
       "    }\n",
       "</style>\n",
       "<table border=\"1\" class=\"dataframe\">\n",
       "  <thead>\n",
       "    <tr style=\"text-align: right;\">\n",
       "      <th></th>\n",
       "      <th>#problems</th>\n",
       "      <th>merge</th>\n",
       "      <th>quick</th>\n",
       "      <th>numpy</th>\n",
       "    </tr>\n",
       "  </thead>\n",
       "  <tbody>\n",
       "    <tr>\n",
       "      <th>0</th>\n",
       "      <td>5</td>\n",
       "      <td>0.000712</td>\n",
       "      <td>0.000011</td>\n",
       "      <td>0.000014</td>\n",
       "    </tr>\n",
       "    <tr>\n",
       "      <th>1</th>\n",
       "      <td>10</td>\n",
       "      <td>0.001369</td>\n",
       "      <td>0.000021</td>\n",
       "      <td>0.000220</td>\n",
       "    </tr>\n",
       "    <tr>\n",
       "      <th>2</th>\n",
       "      <td>15</td>\n",
       "      <td>0.000441</td>\n",
       "      <td>0.000024</td>\n",
       "      <td>0.000010</td>\n",
       "    </tr>\n",
       "    <tr>\n",
       "      <th>3</th>\n",
       "      <td>20</td>\n",
       "      <td>0.000576</td>\n",
       "      <td>0.000035</td>\n",
       "      <td>0.000006</td>\n",
       "    </tr>\n",
       "    <tr>\n",
       "      <th>4</th>\n",
       "      <td>25</td>\n",
       "      <td>0.000835</td>\n",
       "      <td>0.000046</td>\n",
       "      <td>0.000005</td>\n",
       "    </tr>\n",
       "  </tbody>\n",
       "</table>\n",
       "</div>"
      ],
      "text/plain": [
       "   #problems     merge     quick     numpy\n",
       "0          5  0.000712  0.000011  0.000014\n",
       "1         10  0.001369  0.000021  0.000220\n",
       "2         15  0.000441  0.000024  0.000010\n",
       "3         20  0.000576  0.000035  0.000006\n",
       "4         25  0.000835  0.000046  0.000005"
      ]
     },
     "execution_count": 25,
     "metadata": {},
     "output_type": "execute_result"
    }
   ],
   "source": [
    "times_df = pd.DataFrame({\n",
    "    '#problems': problem_size,\n",
    "    'merge': ms_times,\n",
    "    'quick': qs_times,\n",
    "    'numpy': np_times \n",
    "})\n",
    "times_df.head()"
   ]
  },
  {
   "cell_type": "code",
   "execution_count": 30,
   "metadata": {},
   "outputs": [
    {
     "name": "stdout",
     "output_type": "stream",
     "text": [
      "\u001b[H\u001b[2J"
     ]
    },
    {
     "data": {
      "image/png": "[encoded data removed]",
      "text/plain": [
       "<Figure size 640x480 with 1 Axes>"
      ]
     },
     "metadata": {},
     "output_type": "display_data"
    }
   ],
   "source": [
    "sns.lineplot(\n",
    "    data= times_df[['merge', 'quick', 'numpy']],\n",
    "    # x= '#problems',\n",
    "    # y= ['merge', 'quick', 'numpy'],\n",
    "    legend= True\n",
    ")\n",
    "!clear"
   ]
  }
 ],
 "metadata": {
  "kernelspec": {
   "display_name": "venv",
   "language": "python",
   "name": "python3"
  },
  "language_info": {
   "codemirror_mode": {
    "name": "ipython",
    "version": 3
   },
   "file_extension": ".py",
   "mimetype": "text/x-python",
   "name": "python",
   "nbconvert_exporter": "python",
   "pygments_lexer": "ipython3",
   "version": "3.10.7"
  },
  "orig_nbformat": 4
 },
 "nbformat": 4,
 "nbformat_minor": 2
}
