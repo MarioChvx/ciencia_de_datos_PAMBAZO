{
 "cells": [
  {
   "attachments": {},
   "cell_type": "markdown",
   "metadata": {},
   "source": [
    "# Titulo\n",
    "\n",
    "## Subtitulo\n",
    "\n",
    "$$\n",
    "x = \\frac{1}{y}\n",
    "$$"
   ]
  },
  {
   "cell_type": "code",
   "execution_count": 1,
   "metadata": {},
   "outputs": [],
   "source": [
    "import numpy as np"
   ]
  },
  {
   "cell_type": "code",
   "execution_count": 2,
   "metadata": {},
   "outputs": [],
   "source": [
    "def isPrime(n:int) -> bool:\n",
    "    if n <= 2:\n",
    "    # no recuerdo si el uno se considera primo o no, asumi que si\n",
    "        return True\n",
    "    for i in range(2, n):\n",
    "        if n % i == 0:\n",
    "            return False\n",
    "    return True"
   ]
  },
  {
   "cell_type": "code",
   "execution_count": 6,
   "metadata": {},
   "outputs": [
    {
     "name": "stdout",
     "output_type": "stream",
     "text": [
      "0\tTrue\n",
      "1\tTrue\n",
      "2\tTrue\n",
      "3\tTrue\n",
      "4\tFalse\n",
      "5\tTrue\n",
      "6\tFalse\n",
      "7\tTrue\n",
      "8\tFalse\n",
      "9\tFalse\n",
      "10\tFalse\n",
      "11\tTrue\n",
      "12\tFalse\n",
      "13\tTrue\n",
      "14\tFalse\n",
      "15\tFalse\n",
      "16\tFalse\n",
      "17\tTrue\n",
      "18\tFalse\n",
      "19\tTrue\n",
      "20\tFalse\n",
      "21\tFalse\n",
      "22\tFalse\n",
      "23\tTrue\n",
      "24\tFalse\n",
      "25\tFalse\n",
      "26\tFalse\n",
      "27\tFalse\n",
      "28\tFalse\n",
      "29\tTrue\n",
      "30\tFalse\n",
      "31\tTrue\n",
      "32\tFalse\n",
      "33\tFalse\n",
      "34\tFalse\n",
      "35\tFalse\n",
      "36\tFalse\n",
      "37\tTrue\n",
      "38\tFalse\n",
      "39\tFalse\n",
      "40\tFalse\n",
      "41\tTrue\n",
      "42\tFalse\n",
      "43\tTrue\n",
      "44\tFalse\n",
      "45\tFalse\n",
      "46\tFalse\n",
      "47\tTrue\n",
      "48\tFalse\n",
      "49\tFalse\n",
      "50\tFalse\n",
      "51\tFalse\n",
      "52\tFalse\n",
      "53\tTrue\n",
      "54\tFalse\n",
      "55\tFalse\n",
      "56\tFalse\n",
      "57\tFalse\n",
      "58\tFalse\n",
      "59\tTrue\n",
      "60\tFalse\n",
      "61\tTrue\n",
      "62\tFalse\n",
      "63\tFalse\n",
      "64\tFalse\n",
      "65\tFalse\n",
      "66\tFalse\n",
      "67\tTrue\n",
      "68\tFalse\n",
      "69\tFalse\n",
      "70\tFalse\n",
      "71\tTrue\n",
      "72\tFalse\n",
      "73\tTrue\n",
      "74\tFalse\n",
      "75\tFalse\n",
      "76\tFalse\n",
      "77\tFalse\n",
      "78\tFalse\n",
      "79\tTrue\n",
      "80\tFalse\n",
      "81\tFalse\n",
      "82\tFalse\n",
      "83\tTrue\n",
      "84\tFalse\n",
      "85\tFalse\n",
      "86\tFalse\n",
      "87\tFalse\n",
      "88\tFalse\n",
      "89\tTrue\n",
      "90\tFalse\n",
      "91\tFalse\n",
      "92\tFalse\n",
      "93\tFalse\n",
      "94\tFalse\n",
      "95\tFalse\n",
      "96\tFalse\n",
      "97\tTrue\n",
      "98\tFalse\n",
      "99\tFalse\n",
      "100\tFalse\n"
     ]
    }
   ],
   "source": [
    "for i in range(101):\n",
    "    print(i, isPrime(i), sep='\\t')"
   ]
  },
  {
   "cell_type": "code",
   "execution_count": 8,
   "metadata": {},
   "outputs": [
    {
     "name": "stdout",
     "output_type": "stream",
     "text": [
      "[9 8 2 6 8 5 6 9 9 6]\n",
      "[1 2 3 3 8 4 5 4 8 4]\n",
      "[ 9.05538514  8.24621125  3.60555128  6.70820393 11.3137085   6.40312424\n",
      "  7.81024968  9.8488578  12.04159458  7.21110255]\n"
     ]
    }
   ],
   "source": [
    "a = np.random.randint(1, 10, 10)\n",
    "b = np.random.randint(1, 10, 10)\n",
    "c = (a**2 + b**2)**(1/2)\n",
    "print(a, b, c, sep='\\n')"
   ]
  }
 ],
 "metadata": {
  "kernelspec": {
   "display_name": "venv",
   "language": "python",
   "name": "python3"
  },
  "language_info": {
   "codemirror_mode": {
    "name": "ipython",
    "version": 3
   },
   "file_extension": ".py",
   "mimetype": "text/x-python",
   "name": "python",
   "nbconvert_exporter": "python",
   "pygments_lexer": "ipython3",
   "version": "3.10.7"
  },
  "orig_nbformat": 4
 },
 "nbformat": 4,
 "nbformat_minor": 2
}
