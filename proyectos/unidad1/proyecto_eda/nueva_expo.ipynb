{
 "cells": [
  {
   "cell_type": "markdown",
   "metadata": {},
   "source": [
    "# EDA 2"
   ]
  },
  {
   "attachments": {},
   "cell_type": "markdown",
   "metadata": {},
   "source": [
    "## Hacer preguntas\n",
    "\n",
    "#### Ejemplos\n",
    "\n",
    "- ¿Qué pasaría si sólo se hubiera analizado un grupo étnico?​\n",
    "- ¿Qué pasaría si el dataset sólo tuviera estudiantes de un solo género?​\n",
    "- ¿Qué pasaría si ningún estudiante hubiera completado el curso?​\n",
    "- ¿Qué pasaría si el promedio de calificaciones fuera irregular?​"
   ]
  }
 ],
 "metadata": {
  "language_info": {
   "name": "python"
  },
  "orig_nbformat": 4
 },
 "nbformat": 4,
 "nbformat_minor": 2
}
