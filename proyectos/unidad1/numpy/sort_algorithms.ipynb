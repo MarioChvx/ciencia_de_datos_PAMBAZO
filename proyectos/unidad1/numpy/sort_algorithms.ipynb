{
 "cells": [
  {
   "attachments": {},
   "cell_type": "markdown",
   "metadata": {},
   "source": [
    "# Algoritmos de ordenamiento"
   ]
  },
  {
   "cell_type": "code",
   "execution_count": 9,
   "metadata": {},
   "outputs": [],
   "source": [
    "import numpy as np\n",
    "import pandas as pd\n",
    "import seaborn as sns\n",
    "import time\n",
    "import sys"
   ]
  },
  {
   "cell_type": "markdown",
   "metadata": {},
   "source": [
    "## Definición función `merge_sort`"
   ]
  },
  {
   "cell_type": "code",
   "execution_count": 10,
   "metadata": {},
   "outputs": [],
   "source": [
    "def merge(left: np.array, right: np.array) -> np.array:\n",
    "    res = list()\n",
    "    while len(left) > 0 and len(right) > 0:\n",
    "        if left[0] <= right[0]:\n",
    "            res = np.append(res, left[0])\n",
    "            left = np.delete(left, 0)\n",
    "        else:\n",
    "            res = np.append(res, right[0])\n",
    "            right = np.delete(right, 0)\n",
    "    if len(left) == 0:\n",
    "        return np.append(res, right)\n",
    "    else:\n",
    "        return np.append(res, left)\n",
    "\n",
    "\n",
    "def merge_sort(arr: np.array) -> np.array:\n",
    "    size = len(arr)\n",
    "    if size < 2:\n",
    "        return arr\n",
    "    left, right =  arr[:size // 2], arr[size // 2:]\n",
    "    left = merge_sort(left)\n",
    "    right = merge_sort(right)\n",
    "    return merge(left, right)\n"
   ]
  },
  {
   "attachments": {},
   "cell_type": "markdown",
   "metadata": {},
   "source": [
    "## Definición función `quick_sort`"
   ]
  },
  {
   "cell_type": "code",
   "execution_count": 11,
   "metadata": {},
   "outputs": [],
   "source": [
    "def partition(arr: np.array, low: int, high: int) -> int:\n",
    "    pivot = arr[high]\n",
    "    i = low - 1\n",
    "    for j in range(low, high):\n",
    "        if arr[j] <= pivot:\n",
    "            i += 1\n",
    "            arr[i], arr[j] = arr[j], arr[i]\n",
    "    arr[i + 1], arr[high] = arr[high], arr[i + 1]\n",
    "    return i + 1\n",
    "\n",
    "def quick_sort(arr: np.array, low: int, high: int):\n",
    "    if low < high:\n",
    "        p = partition(arr, low, high)\n",
    "        quick_sort(arr, low, p - 1)\n",
    "        quick_sort(arr, p + 1, high)"
   ]
  },
  {
   "attachments": {},
   "cell_type": "markdown",
   "metadata": {},
   "source": [
    "## Medir los tiempos de los distintos algoritmos"
   ]
  },
  {
   "cell_type": "code",
   "execution_count": 12,
   "metadata": {},
   "outputs": [],
   "source": [
    "sys.setrecursionlimit(1_000_000)"
   ]
  },
  {
   "cell_type": "code",
   "execution_count": 13,
   "metadata": {},
   "outputs": [
    {
     "name": "stdout",
     "output_type": "stream",
     "text": [
      "size\t\tnumpy quick sort\t\tmerge sort      \t\tquick sort\n",
      "10\t\t0.0001785755157470703\t\t0.0007255077362060547\t\t1.9788742065429688e-05\n",
      "100\t\t9.5367431640625e-06\t\t0.005030632019042969\t\t0.0002770423889160156\n",
      "1000\t\t4.410743713378906e-05\t\t0.07796716690063477\t\t0.0050089359283447266\n",
      "10000\t\t0.0002963542938232422\t\t0.9811139106750488\t\t0.2680938243865967\n",
      "100000\t\t0.003972053527832031\t\t15.640460014343262\t\t22.57941198348999\n",
      "1000000\t\t0.03224492073059082\t\t"
     ]
    },
    {
     "ename": "KeyboardInterrupt",
     "evalue": "",
     "output_type": "error",
     "traceback": [
      "\u001b[0;31m---------------------------------------------------------------------------\u001b[0m",
      "\u001b[0;31mKeyboardInterrupt\u001b[0m                         Traceback (most recent call last)",
      "Cell \u001b[0;32mIn[13], line 21\u001b[0m\n\u001b[1;32m     18\u001b[0m \u001b[39mprint\u001b[39m(np_times[\u001b[39m-\u001b[39m\u001b[39m1\u001b[39m], end\u001b[39m=\u001b[39m SEP)\n\u001b[1;32m     20\u001b[0m start \u001b[39m=\u001b[39m time\u001b[39m.\u001b[39mtime()\n\u001b[0;32m---> 21\u001b[0m merge_sort(array)\n\u001b[1;32m     22\u001b[0m ms_times\u001b[39m.\u001b[39mappend(time\u001b[39m.\u001b[39mtime() \u001b[39m-\u001b[39m start)\n\u001b[1;32m     23\u001b[0m \u001b[39mprint\u001b[39m(ms_times[\u001b[39m-\u001b[39m\u001b[39m1\u001b[39m], end\u001b[39m=\u001b[39m SEP)\n",
      "Cell \u001b[0;32mIn[10], line 23\u001b[0m, in \u001b[0;36mmerge_sort\u001b[0;34m(arr)\u001b[0m\n\u001b[1;32m     21\u001b[0m left \u001b[39m=\u001b[39m merge_sort(left)\n\u001b[1;32m     22\u001b[0m right \u001b[39m=\u001b[39m merge_sort(right)\n\u001b[0;32m---> 23\u001b[0m \u001b[39mreturn\u001b[39;00m merge(left, right)\n",
      "Cell \u001b[0;32mIn[10], line 9\u001b[0m, in \u001b[0;36mmerge\u001b[0;34m(left, right)\u001b[0m\n\u001b[1;32m      7\u001b[0m     \u001b[39melse\u001b[39;00m:\n\u001b[1;32m      8\u001b[0m         res \u001b[39m=\u001b[39m np\u001b[39m.\u001b[39mappend(res, right[\u001b[39m0\u001b[39m])\n\u001b[0;32m----> 9\u001b[0m         right \u001b[39m=\u001b[39m np\u001b[39m.\u001b[39;49mdelete(right, \u001b[39m0\u001b[39;49m)\n\u001b[1;32m     10\u001b[0m \u001b[39mif\u001b[39;00m \u001b[39mlen\u001b[39m(left) \u001b[39m==\u001b[39m \u001b[39m0\u001b[39m:\n\u001b[1;32m     11\u001b[0m     \u001b[39mreturn\u001b[39;00m np\u001b[39m.\u001b[39mappend(res, right)\n",
      "File \u001b[0;32m<__array_function__ internals>:200\u001b[0m, in \u001b[0;36mdelete\u001b[0;34m(*args, **kwargs)\u001b[0m\n",
      "File \u001b[0;32m~/Projects/programacion_para_ciencia_de_datos/venv/lib/python3.10/site-packages/numpy/lib/function_base.py:5240\u001b[0m, in \u001b[0;36mdelete\u001b[0;34m(arr, obj, axis)\u001b[0m\n\u001b[1;32m   5237\u001b[0m     slobj[axis] \u001b[39m=\u001b[39m keep\n\u001b[1;32m   5238\u001b[0m     new \u001b[39m=\u001b[39m arr[\u001b[39mtuple\u001b[39m(slobj)]\n\u001b[0;32m-> 5240\u001b[0m \u001b[39mif\u001b[39;00m wrap:\n\u001b[1;32m   5241\u001b[0m     \u001b[39mreturn\u001b[39;00m wrap(new)\n\u001b[1;32m   5242\u001b[0m \u001b[39melse\u001b[39;00m:\n",
      "\u001b[0;31mKeyboardInterrupt\u001b[0m: "
     ]
    }
   ],
   "source": [
    "LIMIT = 6\n",
    "SEP = '\\t\\t'\n",
    "problem_size = np.array([10 ** i for i in range(1, LIMIT + 1)])\n",
    "ms_times = list()\n",
    "qs_times = list()\n",
    "np_times = list()\n",
    "\n",
    "print(*'size,numpy quick sort,merge sort      ,quick sort'.split(','), sep= SEP)\n",
    "\n",
    "for i in problem_size:\n",
    "    array = np.random.randint(1, i, i)\n",
    "\n",
    "\n",
    "    print(i, end= SEP)\n",
    "    start = time.time()\n",
    "    np.sort(array)\n",
    "    np_times.append(time.time() - start)\n",
    "    print(np_times[-1], end= SEP)\n",
    "\n",
    "    start = time.time()\n",
    "    merge_sort(array)\n",
    "    ms_times.append(time.time() - start)\n",
    "    print(ms_times[-1], end= SEP)\n",
    "\n",
    "    start = time.time()\n",
    "    quick_sort(array, 0, len(array) - 1)\n",
    "    qs_times.append(time.time() - start)\n",
    "    print(qs_times[-1])"
   ]
  },
  {
   "attachments": {},
   "cell_type": "markdown",
   "metadata": {},
   "source": [
    "Para problemas de tamaño $10^7$ y $10^8$ nuestras implementaciones de `merge_sort` y `quick_sort` tardan demasiado por eso nos saltaremos esos pasos y solo ejecutaremos `np.sort`."
   ]
  },
  {
   "cell_type": "code",
   "execution_count": null,
   "metadata": {},
   "outputs": [],
   "source": [
    "for i in range(7,9):\n",
    "    n = 10 ** i\n",
    "    array = np.random.randint(1, n, n)\n",
    "    start = time.time()\n",
    "    np.sort(array)\n",
    "    np_times.append(time.time() - start)\n",
    "    ms_times.append(np.nan)\n",
    "    qs_times.append(np.nan)"
   ]
  },
  {
   "attachments": {},
   "cell_type": "markdown",
   "metadata": {},
   "source": [
    "Guardar los tiempos en un data frame "
   ]
  },
  {
   "cell_type": "code",
   "execution_count": null,
   "metadata": {},
   "outputs": [],
   "source": [
    "times_df = pd.DataFrame({\n",
    "    'Tamaño del problema': problem_size,\n",
    "    'MiMergeSort': ms_times,\n",
    "    'MiQuickSort': qs_times,\n",
    "    'NumpySort': np_times \n",
    "})\n",
    "times_df"
   ]
  },
  {
   "cell_type": "code",
   "execution_count": null,
   "metadata": {},
   "outputs": [],
   "source": [
    "sns.lineplot(\n",
    "    data= times_df[['MiMergeSort','MiQuickSort','NumpySort']],\n",
    "    # x= '#problems',\n",
    "    # y= ['merge', 'quick', 'numpy'],\n",
    "    legend= True\n",
    ")\n",
    "!clear"
   ]
  },
  {
   "cell_type": "code",
   "execution_count": null,
   "metadata": {},
   "outputs": [],
   "source": [
    "times_df.to_excel()"
   ]
  }
 ],
 "metadata": {
  "kernelspec": {
   "display_name": "venv",
   "language": "python",
   "name": "python3"
  },
  "language_info": {
   "codemirror_mode": {
    "name": "ipython",
    "version": 3
   },
   "file_extension": ".py",
   "mimetype": "text/x-python",
   "name": "python",
   "nbconvert_exporter": "python",
   "pygments_lexer": "ipython3",
   "version": "3.10.7"
  },
  "orig_nbformat": 4
 },
 "nbformat": 4,
 "nbformat_minor": 2
}
