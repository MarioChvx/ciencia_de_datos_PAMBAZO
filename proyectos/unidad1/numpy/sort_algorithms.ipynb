{
 "cells": [
  {
   "attachments": {},
   "cell_type": "markdown",
   "metadata": {},
   "source": [
    "# Algoritmos de ordenamiento"
   ]
  },
  {
   "cell_type": "code",
   "execution_count": 50,
   "metadata": {},
   "outputs": [],
   "source": [
    "import numpy as np\n",
    "import pandas as pd\n",
    "import seaborn as sns\n",
    "import time\n",
    "import sys"
   ]
  },
  {
   "cell_type": "markdown",
   "metadata": {},
   "source": [
    "## Definición función `merge_sort`"
   ]
  },
  {
   "cell_type": "code",
   "execution_count": 51,
   "metadata": {},
   "outputs": [],
   "source": [
    "def merge(left: np.array, right: np.array) -> np.array:\n",
    "    res = list()\n",
    "    while len(left) > 0 and len(right) > 0:\n",
    "        if left[0] <= right[0]:\n",
    "            res = np.append(res, left[0])\n",
    "            left = np.delete(left, 0)\n",
    "        else:\n",
    "            res = np.append(res, right[0])\n",
    "            right = np.delete(right, 0)\n",
    "    if len(left) == 0:\n",
    "        return np.append(res, right)\n",
    "    else:\n",
    "        return np.append(res, left)\n",
    "\n",
    "\n",
    "def merge_sort(arr: np.array) -> np.array:\n",
    "    size = len(arr)\n",
    "    if size < 2:\n",
    "        return arr\n",
    "    left, right =  arr[:size // 2], arr[size // 2:]\n",
    "    left = merge_sort(left)\n",
    "    right = merge_sort(right)\n",
    "    return merge(left, right)\n"
   ]
  },
  {
   "attachments": {},
   "cell_type": "markdown",
   "metadata": {},
   "source": [
    "## Definición función `quick_sort`"
   ]
  },
  {
   "cell_type": "code",
   "execution_count": 52,
   "metadata": {},
   "outputs": [],
   "source": [
    "def partition(arr: np.array, low: int, high: int) -> int:\n",
    "    pivot = arr[high]\n",
    "    i = low - 1\n",
    "    for j in range(low, high):\n",
    "        if arr[j] <= pivot:\n",
    "            i += 1\n",
    "            arr[i], arr[j] = arr[j], arr[i]\n",
    "    arr[i + 1], arr[high] = arr[high], arr[i + 1]\n",
    "    return i + 1\n",
    "\n",
    "def quick_sort(arr: np.array, low: int, high: int):\n",
    "    if low < high:\n",
    "        p = partition(arr, low, high)\n",
    "        quick_sort(arr, low, p - 1)\n",
    "        quick_sort(arr, p + 1, high)"
   ]
  },
  {
   "attachments": {},
   "cell_type": "markdown",
   "metadata": {},
   "source": [
    "## Medir los tiempos de los distintos algoritmos"
   ]
  },
  {
   "attachments": {},
   "cell_type": "markdown",
   "metadata": {},
   "source": [
    "Para problemas de tamaño $10^7$ y $10^8$ nuestras implementacion de `merge_sort` tarda demasiado por eso nos saltaremos esos pasos y solo ejecutaremos los demás."
   ]
  },
  {
   "cell_type": "code",
   "execution_count": 53,
   "metadata": {},
   "outputs": [],
   "source": [
    "sys.setrecursionlimit(1_000_000)"
   ]
  },
  {
   "cell_type": "code",
   "execution_count": 54,
   "metadata": {},
   "outputs": [
    {
     "name": "stdout",
     "output_type": "stream",
     "text": [
      "size\t\tnumpy quick sort\t\tmerge sort      \t\tquick sort\n",
      "10\t\t3.528594970703125e-05\t\t0.0012898445129394531\t\t1.71661376953125e-05\n",
      "100\t\t1.2636184692382812e-05\t\t0.005417823791503906\t\t0.000286102294921875\n",
      "1000\t\t5.459785461425781e-05\t\t0.07667899131774902\t\t0.0032570362091064453\n",
      "10000\t\t0.00040435791015625\t\t0.9858307838439941\t\t0.04618048667907715\n",
      "100000\t\t0.004994392395019531\t\t15.740646600723267\t\t0.5962085723876953\n",
      "1000000\t\t0.060030460357666016\t\t1581.9560205936432\t\t7.099131107330322\n"
     ]
    }
   ],
   "source": [
    "LIMIT = 8\n",
    "SEP = '\\t\\t'\n",
    "problem_size = np.array([10 ** i for i in range(1, LIMIT + 1)])\n",
    "ms_times = list()\n",
    "qs_times = list()\n",
    "np_times = list()\n",
    "\n",
    "print(*'size,numpy quick sort,merge sort      ,quick sort'.split(','), sep= SEP)\n",
    "\n",
    "for j, i in enumerate(problem_size):\n",
    "    array = np.random.randint(1, i, i)\n",
    "\n",
    "\n",
    "    print(i, end= SEP)\n",
    "    start = time.time()\n",
    "    np.sort(array)\n",
    "    np_times.append(time.time() - start)\n",
    "    print(np_times[-1], end= SEP)\n",
    "\n",
    "    if j > 5:\n",
    "        ms_times.append(np.nan)\n",
    "        print(ms_times[-1], end= SEP)\n",
    "    else:\n",
    "        start = time.time()\n",
    "        merge_sort(array)\n",
    "        ms_times.append(time.time() - start)\n",
    "        print(ms_times[-1], end= SEP)\n",
    "\n",
    "    start = time.time()\n",
    "    quick_sort(array, 0, len(array) - 1)\n",
    "    qs_times.append(time.time() - start)\n",
    "    print(qs_times[-1])"
   ]
  },
  {
   "attachments": {},
   "cell_type": "markdown",
   "metadata": {},
   "source": [
    "Guardar los tiempos en un data frame "
   ]
  },
  {
   "cell_type": "code",
   "execution_count": 55,
   "metadata": {},
   "outputs": [
    {
     "data": {
      "text/html": [
       "<div>\n",
       "<style scoped>\n",
       "    .dataframe tbody tr th:only-of-type {\n",
       "        vertical-align: middle;\n",
       "    }\n",
       "\n",
       "    .dataframe tbody tr th {\n",
       "        vertical-align: top;\n",
       "    }\n",
       "\n",
       "    .dataframe thead th {\n",
       "        text-align: right;\n",
       "    }\n",
       "</style>\n",
       "<table border=\"1\" class=\"dataframe\">\n",
       "  <thead>\n",
       "    <tr style=\"text-align: right;\">\n",
       "      <th></th>\n",
       "      <th>Tamaño del problema</th>\n",
       "      <th>MiMergeSort</th>\n",
       "      <th>MiQuickSort</th>\n",
       "      <th>NumpySort</th>\n",
       "    </tr>\n",
       "  </thead>\n",
       "  <tbody>\n",
       "    <tr>\n",
       "      <th>0</th>\n",
       "      <td>10</td>\n",
       "      <td>0.001290</td>\n",
       "      <td>0.000017</td>\n",
       "      <td>0.000035</td>\n",
       "    </tr>\n",
       "    <tr>\n",
       "      <th>1</th>\n",
       "      <td>100</td>\n",
       "      <td>0.005418</td>\n",
       "      <td>0.000286</td>\n",
       "      <td>0.000013</td>\n",
       "    </tr>\n",
       "    <tr>\n",
       "      <th>2</th>\n",
       "      <td>1000</td>\n",
       "      <td>0.076679</td>\n",
       "      <td>0.003257</td>\n",
       "      <td>0.000055</td>\n",
       "    </tr>\n",
       "    <tr>\n",
       "      <th>3</th>\n",
       "      <td>10000</td>\n",
       "      <td>0.985831</td>\n",
       "      <td>0.046180</td>\n",
       "      <td>0.000404</td>\n",
       "    </tr>\n",
       "    <tr>\n",
       "      <th>4</th>\n",
       "      <td>100000</td>\n",
       "      <td>15.740647</td>\n",
       "      <td>0.596209</td>\n",
       "      <td>0.004994</td>\n",
       "    </tr>\n",
       "    <tr>\n",
       "      <th>5</th>\n",
       "      <td>1000000</td>\n",
       "      <td>1581.956021</td>\n",
       "      <td>7.099131</td>\n",
       "      <td>0.060030</td>\n",
       "    </tr>\n",
       "  </tbody>\n",
       "</table>\n",
       "</div>"
      ],
      "text/plain": [
       "   Tamaño del problema  MiMergeSort  MiQuickSort  NumpySort\n",
       "0                   10     0.001290     0.000017   0.000035\n",
       "1                  100     0.005418     0.000286   0.000013\n",
       "2                 1000     0.076679     0.003257   0.000055\n",
       "3                10000     0.985831     0.046180   0.000404\n",
       "4               100000    15.740647     0.596209   0.004994\n",
       "5              1000000  1581.956021     7.099131   0.060030"
      ]
     },
     "execution_count": 55,
     "metadata": {},
     "output_type": "execute_result"
    }
   ],
   "source": [
    "times_df = pd.DataFrame({\n",
    "    'Tamaño del problema': problem_size,\n",
    "    'MiMergeSort': ms_times,\n",
    "    'MiQuickSort': qs_times,\n",
    "    'NumpySort': np_times \n",
    "})\n",
    "times_df"
   ]
  },
  {
   "cell_type": "code",
   "execution_count": 56,
   "metadata": {},
   "outputs": [
    {
     "name": "stdout",
     "output_type": "stream",
     "text": [
      "\u001b[H\u001b[2J"
     ]
    },
    {
     "data": {
      "image/png": "[encoded data removed]",
      "text/plain": [
       "<Figure size 640x480 with 1 Axes>"
      ]
     },
     "metadata": {},
     "output_type": "display_data"
    }
   ],
   "source": [
    "sns.lineplot(\n",
    "    data= times_df[['MiMergeSort','MiQuickSort','NumpySort']],\n",
    "    # x= '#problems',\n",
    "    # y= ['merge', 'quick', 'numpy'],\n",
    "    legend= True\n",
    ")\n",
    "!clear"
   ]
  },
  {
   "cell_type": "code",
   "execution_count": 57,
   "metadata": {},
   "outputs": [],
   "source": [
    "with pd.ExcelWriter(\"TiemposOrdenamiento.xlsx\") as writer:\n",
    "    times_df.to_excel(writer, sheet_name='Hoja1')"
   ]
  }
 ],
 "metadata": {
  "kernelspec": {
   "display_name": "venv",
   "language": "python",
   "name": "python3"
  },
  "language_info": {
   "codemirror_mode": {
    "name": "ipython",
    "version": 3
   },
   "file_extension": ".py",
   "mimetype": "text/x-python",
   "name": "python",
   "nbconvert_exporter": "python",
   "pygments_lexer": "ipython3",
   "version": "3.10.7"
  },
  "orig_nbformat": 4
 },
 "nbformat": 4,
 "nbformat_minor": 2
}
