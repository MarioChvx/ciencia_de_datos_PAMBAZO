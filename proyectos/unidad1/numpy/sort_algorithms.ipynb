{
 "cells": [
  {
   "attachments": {},
   "cell_type": "markdown",
   "metadata": {},
   "source": [
    "# Algoritmos de ordenamiento"
   ]
  },
  {
   "cell_type": "code",
   "execution_count": 13,
   "metadata": {},
   "outputs": [],
   "source": [
    "import numpy as np\n",
    "import pandas as pd\n",
    "import seaborn as sns\n",
    "import time\n",
    "import sys"
   ]
  },
  {
   "cell_type": "code",
   "execution_count": 14,
   "metadata": {},
   "outputs": [],
   "source": [
    "sys.setrecursionlimit(5000)"
   ]
  },
  {
   "cell_type": "markdown",
   "metadata": {},
   "source": [
    "## Definición función `merge_sort`"
   ]
  },
  {
   "cell_type": "code",
   "execution_count": 15,
   "metadata": {},
   "outputs": [],
   "source": [
    "def merge(left: np.array, right: np.array) -> np.array:\n",
    "    res = list()\n",
    "    while len(left) > 0 and len(right) > 0:\n",
    "        if left[0] <= right[0]:\n",
    "            res = np.append(res, left[0])\n",
    "            left = np.delete(left, 0)\n",
    "        else:\n",
    "            res = np.append(res, right[0])\n",
    "            right = np.delete(right, 0)\n",
    "    if len(left) == 0:\n",
    "        return np.append(res, right)\n",
    "    else:\n",
    "        return np.append(res, left)\n",
    "\n",
    "\n",
    "def merge_sort(arr: np.array) -> np.array:\n",
    "    size = len(arr)\n",
    "    if size < 2:\n",
    "        return arr\n",
    "    left, right =  arr[:size // 2], arr[size // 2:]\n",
    "    left = merge_sort(left)\n",
    "    right = merge_sort(right)\n",
    "    return merge(left, right)\n"
   ]
  },
  {
   "attachments": {},
   "cell_type": "markdown",
   "metadata": {},
   "source": [
    "## Definición función `quick_sort`"
   ]
  },
  {
   "cell_type": "code",
   "execution_count": 16,
   "metadata": {},
   "outputs": [],
   "source": [
    "def partition(arr: np.array, low: int, high: int) -> int:\n",
    "    pivot = arr[high]\n",
    "    i = low - 1\n",
    "    for j in range(low, high):\n",
    "        if arr[j] <= pivot:\n",
    "            i += 1\n",
    "            arr[i], arr[j] = arr[j], arr[i]\n",
    "    arr[i + 1], arr[high] = arr[high], arr[i + 1]\n",
    "    return i + 1\n",
    "\n",
    "def quick_sort(arr: np.array, low: int, high: int):\n",
    "    if low < high:\n",
    "        p = partition(arr, low, high)\n",
    "        quick_sort(arr, low, p - 1)\n",
    "        quick_sort(arr, p + 1, high)"
   ]
  },
  {
   "attachments": {},
   "cell_type": "markdown",
   "metadata": {},
   "source": [
    "## Medir los tiempos de los distintos algoritmos"
   ]
  },
  {
   "cell_type": "code",
   "execution_count": 22,
   "metadata": {},
   "outputs": [
    {
     "name": "stdout",
     "output_type": "stream",
     "text": [
      "size\t\tnumpy quick sort\t\tmerge sort\t\tquick sort\n",
      "10\t\t6.103515625e-05\t\t0.0026290416717529297\t\t4.57763671875e-05\n",
      "100\t\t4.76837158203125e-05\t\t0.010549068450927734\t\t0.0005130767822265625\n",
      "1000\t\t7.963180541992188e-05\t\t0.10622572898864746\t\t0.004644155502319336\n",
      "10000\t\t0.0002892017364501953\t\t0.9820070266723633\t\t0.23465824127197266\n",
      "100000\t\t0.002789020538330078\t\t15.262551069259644\t\t20.80230188369751\n"
     ]
    }
   ],
   "source": [
    "LIMIT = 8\n",
    "SEP = '\\t\\t'\n",
    "problem_size = np.array([10 ** i for i in range(1, LIMIT + 1)])\n",
    "ms_times = list()\n",
    "qs_times = list()\n",
    "np_times = list()\n",
    "\n",
    "print(*'size,numpy quick sort,merge sort,quick sort'.split(','), sep= SEP)\n",
    "\n",
    "for i in problem_size:\n",
    "    array = np.random.randint(1, 100, i)\n",
    "\n",
    "\n",
    "    start = time.time()\n",
    "    np.sort(array)\n",
    "    np_times.append(time.time() - start)\n",
    "\n",
    "    start = time.time()\n",
    "    merge_sort(array)\n",
    "    ms_times.append(time.time() - start)\n",
    "\n",
    "    start = time.time()\n",
    "    quick_sort(array, 0, len(array) - 1)\n",
    "    qs_times.append(time.time() - start)\n",
    "\n",
    "    print(i, np_times[-1], ms_times[-1], qs_times[-1], sep= SEP)"
   ]
  },
  {
   "attachments": {},
   "cell_type": "markdown",
   "metadata": {},
   "source": [
    "Guardar los tiempos en un data frame "
   ]
  },
  {
   "cell_type": "code",
   "execution_count": null,
   "metadata": {},
   "outputs": [],
   "source": [
    "times_df = pd.DataFrame({\n",
    "    '#problems': problem_size,\n",
    "    'merge': ms_times,\n",
    "    'quick': qs_times,\n",
    "    'numpy': np_times \n",
    "})\n",
    "times_df"
   ]
  },
  {
   "cell_type": "code",
   "execution_count": null,
   "metadata": {},
   "outputs": [],
   "source": [
    "sns.lineplot(\n",
    "    data= times_df[['merge', 'quick', 'numpy']],\n",
    "    # x= '#problems',\n",
    "    # y= ['merge', 'quick', 'numpy'],\n",
    "    legend= True\n",
    ")\n",
    "!clear"
   ]
  }
 ],
 "metadata": {
  "kernelspec": {
   "display_name": "venv",
   "language": "python",
   "name": "python3"
  },
  "language_info": {
   "codemirror_mode": {
    "name": "ipython",
    "version": 3
   },
   "file_extension": ".py",
   "mimetype": "text/x-python",
   "name": "python",
   "nbconvert_exporter": "python",
   "pygments_lexer": "ipython3",
   "version": "3.10.7"
  },
  "orig_nbformat": 4
 },
 "nbformat": 4,
 "nbformat_minor": 2
}
