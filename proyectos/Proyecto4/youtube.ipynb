{
 "cells": [
  {
   "cell_type": "markdown",
   "metadata": {
    "tags": []
   },
   "source": [
    "# Youtube"
   ]
  },
  {
   "cell_type": "code",
   "execution_count": 1,
   "metadata": {
    "tags": []
   },
   "outputs": [],
   "source": [
    "import numpy as np\n",
    "import pandas as pd\n",
    "import matplotlib.pyplot as plt\n",
    "import seaborn as sns\n",
    "import pathlib\n",
    "import re\n",
    "from difflib import SequenceMatcher"
   ]
  },
  {
   "cell_type": "code",
   "execution_count": 2,
   "metadata": {
    "tags": []
   },
   "outputs": [
    {
     "data": {
      "text/html": [
       "<div>\n",
       "<style scoped>\n",
       "    .dataframe tbody tr th:only-of-type {\n",
       "        vertical-align: middle;\n",
       "    }\n",
       "\n",
       "    .dataframe tbody tr th {\n",
       "        vertical-align: top;\n",
       "    }\n",
       "\n",
       "    .dataframe thead th {\n",
       "        text-align: right;\n",
       "    }\n",
       "</style>\n",
       "<table border=\"1\" class=\"dataframe\">\n",
       "  <thead>\n",
       "    <tr style=\"text-align: right;\">\n",
       "      <th></th>\n",
       "      <th>username</th>\n",
       "      <th>name</th>\n",
       "      <th>category1</th>\n",
       "      <th>category2</th>\n",
       "      <th>subs</th>\n",
       "      <th>country</th>\n",
       "      <th>views</th>\n",
       "      <th>likes</th>\n",
       "      <th>comments</th>\n",
       "      <th>month</th>\n",
       "    </tr>\n",
       "  </thead>\n",
       "  <tbody>\n",
       "    <tr>\n",
       "      <th>1</th>\n",
       "      <td>Baby Big Mouth Kids - Sing, Dance, Explore</td>\n",
       "      <td>Baby Big Mouth Kids - Sing, Dance, Explore</td>\n",
       "      <td>Animation</td>\n",
       "      <td>Toys</td>\n",
       "      <td>10.6M</td>\n",
       "      <td>-</td>\n",
       "      <td>348.5</td>\n",
       "      <td>3</td>\n",
       "      <td>N/A'</td>\n",
       "      <td>June</td>\n",
       "    </tr>\n",
       "  </tbody>\n",
       "</table>\n",
       "</div>"
      ],
      "text/plain": [
       "                                     username  \\\n",
       "1  Baby Big Mouth Kids - Sing, Dance, Explore   \n",
       "\n",
       "                                         name  category1 category2   subs  \\\n",
       "1  Baby Big Mouth Kids - Sing, Dance, Explore  Animation      Toys  10.6M   \n",
       "\n",
       "  country  views likes comments month  \n",
       "1       -  348.5     3     N/A'  June  "
      ]
     },
     "execution_count": 2,
     "metadata": {},
     "output_type": "execute_result"
    }
   ],
   "source": [
    "y_june = (\n",
    "    pd.read_csv('DATA/youtubejune2022.csv')\n",
    "    .assign(Month='June')\n",
    "    .rename(columns={\n",
    "        \"channel name\": \"username\",\n",
    "        \"youTuber\":\"name\",\n",
    "        \"Category\": \"category1\",\n",
    "        \"Category_2\": \"category2\",\n",
    "        \"Subscribers count\": \"subs\",\n",
    "        \"Country\": \"country\",\n",
    "        \"Views avg.\": \"views\",\n",
    "        \"Likes avg\": \"likes\",\n",
    "        \"Comments avg.\": \"comments\",\n",
    "        \"Month\": \"month\"\n",
    "    })\n",
    "    .dropna()\n",
    ")\n",
    "y_june.head(1)"
   ]
  },
  {
   "cell_type": "code",
   "execution_count": 3,
   "metadata": {
    "tags": []
   },
   "outputs": [
    {
     "data": {
      "text/html": [
       "<div>\n",
       "<style scoped>\n",
       "    .dataframe tbody tr th:only-of-type {\n",
       "        vertical-align: middle;\n",
       "    }\n",
       "\n",
       "    .dataframe tbody tr th {\n",
       "        vertical-align: top;\n",
       "    }\n",
       "\n",
       "    .dataframe thead th {\n",
       "        text-align: right;\n",
       "    }\n",
       "</style>\n",
       "<table border=\"1\" class=\"dataframe\">\n",
       "  <thead>\n",
       "    <tr style=\"text-align: right;\">\n",
       "      <th></th>\n",
       "      <th>username</th>\n",
       "      <th>name</th>\n",
       "      <th>country</th>\n",
       "      <th>subs</th>\n",
       "      <th>category2</th>\n",
       "      <th>views</th>\n",
       "      <th>likes</th>\n",
       "      <th>comments</th>\n",
       "      <th>category3</th>\n",
       "      <th>month</th>\n",
       "    </tr>\n",
       "  </thead>\n",
       "  <tbody>\n",
       "    <tr>\n",
       "      <th>3</th>\n",
       "      <td>MrBeast</td>\n",
       "      <td>MrBeast6000</td>\n",
       "      <td>United States</td>\n",
       "      <td>104.1M</td>\n",
       "      <td>Video games</td>\n",
       "      <td>44.8M</td>\n",
       "      <td>2.2M</td>\n",
       "      <td>70.9K</td>\n",
       "      <td>Humor</td>\n",
       "      <td>September</td>\n",
       "    </tr>\n",
       "  </tbody>\n",
       "</table>\n",
       "</div>"
      ],
      "text/plain": [
       "  username         name        country    subs    category2  views likes  \\\n",
       "3  MrBeast  MrBeast6000  United States  104.1M  Video games  44.8M  2.2M   \n",
       "\n",
       "  comments category3      month  \n",
       "3    70.9K     Humor  September  "
      ]
     },
     "execution_count": 3,
     "metadata": {},
     "output_type": "execute_result"
    }
   ],
   "source": [
    "y_sep = (\n",
    "    pd.read_csv('DATA/Youtubesep2022.csv')\n",
    "    .assign(Month='September')\n",
    "    .rename(columns={\n",
    "        \"Name\": \"username\",\n",
    "        \"Youtuber\":\"name\",\n",
    "        \"Category_2\": \"category2\",\n",
    "        \" Subscribers\": \"subs\",\n",
    "        \"Country\": \"country\",\n",
    "        \"Avg. views\\r\\n\": \"views\",\n",
    "        \"Avg. likes\": \"likes\",\n",
    "        \"Avg Comments\": \"comments\",\n",
    "        \"Category_3\": \"category3\",\n",
    "        \"Month\": \"month\"\n",
    "    })\n",
    "    .drop(\"S.no\", axis=1)\n",
    "    .dropna()\n",
    ")\n",
    "y_sep.head(1)"
   ]
  },
  {
   "cell_type": "code",
   "execution_count": 4,
   "metadata": {
    "tags": []
   },
   "outputs": [
    {
     "data": {
      "text/html": [
       "<div>\n",
       "<style scoped>\n",
       "    .dataframe tbody tr th:only-of-type {\n",
       "        vertical-align: middle;\n",
       "    }\n",
       "\n",
       "    .dataframe tbody tr th {\n",
       "        vertical-align: top;\n",
       "    }\n",
       "\n",
       "    .dataframe thead th {\n",
       "        text-align: right;\n",
       "    }\n",
       "</style>\n",
       "<table border=\"1\" class=\"dataframe\">\n",
       "  <thead>\n",
       "    <tr style=\"text-align: right;\">\n",
       "      <th></th>\n",
       "      <th>username</th>\n",
       "      <th>name</th>\n",
       "      <th>category1</th>\n",
       "      <th>subs</th>\n",
       "      <th>country</th>\n",
       "      <th>views</th>\n",
       "      <th>likes</th>\n",
       "      <th>comments</th>\n",
       "      <th>category2</th>\n",
       "      <th>month</th>\n",
       "    </tr>\n",
       "  </thead>\n",
       "  <tbody>\n",
       "    <tr>\n",
       "      <th>3</th>\n",
       "      <td>MrBeast6000</td>\n",
       "      <td>MrBeast</td>\n",
       "      <td>Video games</td>\n",
       "      <td>109.1M</td>\n",
       "      <td>United States</td>\n",
       "      <td>38.4M</td>\n",
       "      <td>3.1M</td>\n",
       "      <td>56.7K</td>\n",
       "      <td>Humor</td>\n",
       "      <td>November</td>\n",
       "    </tr>\n",
       "  </tbody>\n",
       "</table>\n",
       "</div>"
      ],
      "text/plain": [
       "      username     name    category1    subs        country  views likes  \\\n",
       "3  MrBeast6000  MrBeast  Video games  109.1M  United States  38.4M  3.1M   \n",
       "\n",
       "  comments category2     month  \n",
       "3    56.7K     Humor  November  "
      ]
     },
     "execution_count": 4,
     "metadata": {},
     "output_type": "execute_result"
    }
   ],
   "source": [
    "y_nov = (\n",
    "    pd.read_csv('DATA/youtubenov2022.csv')\n",
    "    .assign(Month='November')\n",
    "    .rename(columns={\n",
    "        \"Youtube channel\": \"username\",\n",
    "        \"youtuber name\":\"name\",\n",
    "        \"Category\": \"category1\",\n",
    "        \"Followers\": \"subs\",\n",
    "        \"Country\": \"country\",\n",
    "        \"\\nViews (Avg.)\": \"views\",\n",
    "        \"Likes (Avg.)\": \"likes\",\n",
    "        \"Comments (Avg.)\": \"comments\",\n",
    "        \"Category-2\": \"category2\",\n",
    "        \"Month\": \"month\"\n",
    "    })\n",
    "    .drop(\"s.no\", axis=1)\n",
    "    .dropna()\n",
    ")\n",
    "y_nov.head(1)"
   ]
  },
  {
   "cell_type": "code",
   "execution_count": 5,
   "metadata": {
    "tags": []
   },
   "outputs": [
    {
     "data": {
      "text/html": [
       "<div>\n",
       "<style scoped>\n",
       "    .dataframe tbody tr th:only-of-type {\n",
       "        vertical-align: middle;\n",
       "    }\n",
       "\n",
       "    .dataframe tbody tr th {\n",
       "        vertical-align: top;\n",
       "    }\n",
       "\n",
       "    .dataframe thead th {\n",
       "        text-align: right;\n",
       "    }\n",
       "</style>\n",
       "<table border=\"1\" class=\"dataframe\">\n",
       "  <thead>\n",
       "    <tr style=\"text-align: right;\">\n",
       "      <th></th>\n",
       "      <th>username</th>\n",
       "      <th>name</th>\n",
       "      <th>category1</th>\n",
       "      <th>subs</th>\n",
       "      <th>country</th>\n",
       "      <th>views</th>\n",
       "      <th>likes</th>\n",
       "      <th>comments</th>\n",
       "      <th>category2</th>\n",
       "      <th>month</th>\n",
       "    </tr>\n",
       "  </thead>\n",
       "  <tbody>\n",
       "    <tr>\n",
       "      <th>3</th>\n",
       "      <td>MrBeast</td>\n",
       "      <td>MrBeast</td>\n",
       "      <td>Video games</td>\n",
       "      <td>117M</td>\n",
       "      <td>United States</td>\n",
       "      <td>68.5M</td>\n",
       "      <td>2.9M</td>\n",
       "      <td>99.9K</td>\n",
       "      <td>Humor</td>\n",
       "      <td>December</td>\n",
       "    </tr>\n",
       "  </tbody>\n",
       "</table>\n",
       "</div>"
      ],
      "text/plain": [
       "  username     name    category1  subs        country  views likes comments  \\\n",
       "3  MrBeast  MrBeast  Video games  117M  United States  68.5M  2.9M    99.9K   \n",
       "\n",
       "  category2     month  \n",
       "3     Humor  December  "
      ]
     },
     "execution_count": 5,
     "metadata": {},
     "output_type": "execute_result"
    }
   ],
   "source": [
    "y_dec= pd.read_csv('DATA/YOUTUBEDEC2022.csv')\n",
    "y_dec = (\n",
    "    pd.read_csv('DATA/YOUTUBEDEC2022.csv')\n",
    "    .assign(Month='December')\n",
    "    .rename(columns={\n",
    "        \"Youtube channel\": \"username\",\n",
    "        \"youtuber name\":\"name\",\n",
    "        \"Category\": \"category1\",\n",
    "        \"Followers\": \"subs\",\n",
    "        \"Country\": \"country\",\n",
    "        \"\\nViews (Avg.)\": \"views\",\n",
    "        \"Likes (Avg.)\": \"likes\",\n",
    "        \"Comments (Avg.)\": \"comments\",\n",
    "        \"Category-2\": \"category2\",\n",
    "        \"Month\": \"month\"\n",
    "    })\n",
    "    .drop(\"s.no\", axis=1)\n",
    "    .dropna()\n",
    ")\n",
    "y_dec.head(1)"
   ]
  },
  {
   "cell_type": "code",
   "execution_count": 6,
   "metadata": {
    "tags": []
   },
   "outputs": [
    {
     "data": {
      "text/html": [
       "<div>\n",
       "<style scoped>\n",
       "    .dataframe tbody tr th:only-of-type {\n",
       "        vertical-align: middle;\n",
       "    }\n",
       "\n",
       "    .dataframe tbody tr th {\n",
       "        vertical-align: top;\n",
       "    }\n",
       "\n",
       "    .dataframe thead th {\n",
       "        text-align: right;\n",
       "    }\n",
       "</style>\n",
       "<table border=\"1\" class=\"dataframe\">\n",
       "  <thead>\n",
       "    <tr style=\"text-align: right;\">\n",
       "      <th></th>\n",
       "      <th>username</th>\n",
       "      <th>name</th>\n",
       "      <th>category1</th>\n",
       "      <th>category2</th>\n",
       "      <th>subs</th>\n",
       "      <th>country</th>\n",
       "      <th>views</th>\n",
       "      <th>likes</th>\n",
       "      <th>comments</th>\n",
       "      <th>month</th>\n",
       "    </tr>\n",
       "  </thead>\n",
       "  <tbody>\n",
       "    <tr>\n",
       "      <th>1</th>\n",
       "      <td>Baby Big Mouth Kids - Sing, Dance, Explore</td>\n",
       "      <td>Baby Big Mouth Kids - Sing, Dance, Explore</td>\n",
       "      <td>Animation</td>\n",
       "      <td>Toys</td>\n",
       "      <td>10.6M</td>\n",
       "      <td>-</td>\n",
       "      <td>348.5</td>\n",
       "      <td>3</td>\n",
       "      <td>NaN</td>\n",
       "      <td>June</td>\n",
       "    </tr>\n",
       "  </tbody>\n",
       "</table>\n",
       "</div>"
      ],
      "text/plain": [
       "                                     username  \\\n",
       "1  Baby Big Mouth Kids - Sing, Dance, Explore   \n",
       "\n",
       "                                         name  category1 category2   subs  \\\n",
       "1  Baby Big Mouth Kids - Sing, Dance, Explore  Animation      Toys  10.6M   \n",
       "\n",
       "  country  views likes comments month  \n",
       "1       -  348.5     3      NaN  June  "
      ]
     },
     "execution_count": 6,
     "metadata": {},
     "output_type": "execute_result"
    }
   ],
   "source": [
    "numeric_text_cols = ['subs', 'views', 'likes', 'comments']\n",
    "\n",
    "def delete_rows_with_value(df, value):\n",
    "    df.replace(value, np.nan, inplace=True)\n",
    "    return df\n",
    "\n",
    "y_june = delete_rows_with_value(y_june, \"N/A'\")\n",
    "y_june.head(1)"
   ]
  },
  {
   "cell_type": "code",
   "execution_count": 7,
   "metadata": {
    "tags": []
   },
   "outputs": [],
   "source": [
    "def cientific_int(column: pd.Series) -> pd.Series:\n",
    "    return (\n",
    "        column\n",
    "        .fillna('0')\n",
    "        .replace({'K': '*1e3', 'M': '*1e6', 'G':'*1e9'}, regex=True)\n",
    "        .map(pd.eval)\n",
    "        .astype(int)\n",
    "        .replace(0, np.nan)\n",
    "    )\n",
    "\n",
    "y_june.loc[:, numeric_text_cols] = y_june[numeric_text_cols].apply(cientific_int)\n",
    "y_sep.loc[:, numeric_text_cols] = y_sep[numeric_text_cols].apply(cientific_int)\n",
    "y_nov.loc[:, numeric_text_cols] = y_nov[numeric_text_cols].apply(cientific_int)\n",
    "y_dec.loc[:, numeric_text_cols] = y_dec[numeric_text_cols].apply(cientific_int)"
   ]
  },
  {
   "cell_type": "code",
   "execution_count": 8,
   "metadata": {
    "tags": []
   },
   "outputs": [
    {
     "data": {
      "text/html": [
       "<div>\n",
       "<style scoped>\n",
       "    .dataframe tbody tr th:only-of-type {\n",
       "        vertical-align: middle;\n",
       "    }\n",
       "\n",
       "    .dataframe tbody tr th {\n",
       "        vertical-align: top;\n",
       "    }\n",
       "\n",
       "    .dataframe thead th {\n",
       "        text-align: right;\n",
       "    }\n",
       "</style>\n",
       "<table border=\"1\" class=\"dataframe\">\n",
       "  <thead>\n",
       "    <tr style=\"text-align: right;\">\n",
       "      <th></th>\n",
       "      <th>username</th>\n",
       "      <th>name</th>\n",
       "      <th>category1</th>\n",
       "      <th>category2</th>\n",
       "      <th>subs</th>\n",
       "      <th>country</th>\n",
       "      <th>views</th>\n",
       "      <th>likes</th>\n",
       "      <th>comments</th>\n",
       "      <th>month</th>\n",
       "      <th>category3</th>\n",
       "    </tr>\n",
       "  </thead>\n",
       "  <tbody>\n",
       "    <tr>\n",
       "      <th>0</th>\n",
       "      <td>Baby Big Mouth Kids - Sing, Dance, Explore</td>\n",
       "      <td>Baby Big Mouth Kids - Sing, Dance, Explore</td>\n",
       "      <td>Animation</td>\n",
       "      <td>Toys</td>\n",
       "      <td>10600000.0</td>\n",
       "      <td>-</td>\n",
       "      <td>348.0</td>\n",
       "      <td>3.0</td>\n",
       "      <td>NaN</td>\n",
       "      <td>June</td>\n",
       "      <td>NaN</td>\n",
       "    </tr>\n",
       "    <tr>\n",
       "      <th>1</th>\n",
       "      <td>Blippi - Educational Videos for Kids</td>\n",
       "      <td>Blippi - Educational Videos for Kids</td>\n",
       "      <td>Education</td>\n",
       "      <td>Toys</td>\n",
       "      <td>15700000.0</td>\n",
       "      <td>-</td>\n",
       "      <td>1200000.0</td>\n",
       "      <td>4200.0</td>\n",
       "      <td>NaN</td>\n",
       "      <td>June</td>\n",
       "      <td>NaN</td>\n",
       "    </tr>\n",
       "    <tr>\n",
       "      <th>2</th>\n",
       "      <td>Трум Трум</td>\n",
       "      <td>Трум Трум</td>\n",
       "      <td>Humor</td>\n",
       "      <td>Toys</td>\n",
       "      <td>13700000.0</td>\n",
       "      <td>-</td>\n",
       "      <td>103200.0</td>\n",
       "      <td>1800.0</td>\n",
       "      <td>83.0</td>\n",
       "      <td>June</td>\n",
       "      <td>NaN</td>\n",
       "    </tr>\n",
       "    <tr>\n",
       "      <th>3</th>\n",
       "      <td>dangmattsmith</td>\n",
       "      <td>Dang Matt Smith</td>\n",
       "      <td>Animation</td>\n",
       "      <td>Humor</td>\n",
       "      <td>13700000.0</td>\n",
       "      <td>-</td>\n",
       "      <td>103500.0</td>\n",
       "      <td>4400.0</td>\n",
       "      <td>332.0</td>\n",
       "      <td>June</td>\n",
       "      <td>NaN</td>\n",
       "    </tr>\n",
       "    <tr>\n",
       "      <th>4</th>\n",
       "      <td>DuDuPopTOY</td>\n",
       "      <td>DuDuPopTOY</td>\n",
       "      <td>Animation</td>\n",
       "      <td>Humor</td>\n",
       "      <td>10500000.0</td>\n",
       "      <td>-</td>\n",
       "      <td>11100.0</td>\n",
       "      <td>109.0</td>\n",
       "      <td>NaN</td>\n",
       "      <td>June</td>\n",
       "      <td>NaN</td>\n",
       "    </tr>\n",
       "    <tr>\n",
       "      <th>...</th>\n",
       "      <td>...</td>\n",
       "      <td>...</td>\n",
       "      <td>...</td>\n",
       "      <td>...</td>\n",
       "      <td>...</td>\n",
       "      <td>...</td>\n",
       "      <td>...</td>\n",
       "      <td>...</td>\n",
       "      <td>...</td>\n",
       "      <td>...</td>\n",
       "      <td>...</td>\n",
       "    </tr>\n",
       "    <tr>\n",
       "      <th>863</th>\n",
       "      <td>TopMovieClips</td>\n",
       "      <td>TopMovieClips</td>\n",
       "      <td>Movies</td>\n",
       "      <td>Animation</td>\n",
       "      <td>10300000.0</td>\n",
       "      <td>United States</td>\n",
       "      <td>124500.0</td>\n",
       "      <td>2100.0</td>\n",
       "      <td>140.0</td>\n",
       "      <td>December</td>\n",
       "      <td>NaN</td>\n",
       "    </tr>\n",
       "    <tr>\n",
       "      <th>864</th>\n",
       "      <td>topperguild</td>\n",
       "      <td>Topper Guild</td>\n",
       "      <td>Animation</td>\n",
       "      <td>Humor</td>\n",
       "      <td>10300000.0</td>\n",
       "      <td>United States</td>\n",
       "      <td>288900.0</td>\n",
       "      <td>5900.0</td>\n",
       "      <td>680.0</td>\n",
       "      <td>December</td>\n",
       "      <td>NaN</td>\n",
       "    </tr>\n",
       "    <tr>\n",
       "      <th>865</th>\n",
       "      <td>Wylsacom</td>\n",
       "      <td>Wylsacom</td>\n",
       "      <td>Science &amp; Technology</td>\n",
       "      <td>News &amp; Politics</td>\n",
       "      <td>10300000.0</td>\n",
       "      <td>Russia</td>\n",
       "      <td>291700.0</td>\n",
       "      <td>13000.0</td>\n",
       "      <td>950.0</td>\n",
       "      <td>December</td>\n",
       "      <td>NaN</td>\n",
       "    </tr>\n",
       "    <tr>\n",
       "      <th>866</th>\n",
       "      <td>JessicaJulioeBaby</td>\n",
       "      <td>Laurinha e Helena - Clubinho da Laura</td>\n",
       "      <td>Movies</td>\n",
       "      <td>Animation</td>\n",
       "      <td>10300000.0</td>\n",
       "      <td>Brazil</td>\n",
       "      <td>83500.0</td>\n",
       "      <td>1400.0</td>\n",
       "      <td>NaN</td>\n",
       "      <td>December</td>\n",
       "      <td>NaN</td>\n",
       "    </tr>\n",
       "    <tr>\n",
       "      <th>867</th>\n",
       "      <td>Sơn Tùng M-TP Official</td>\n",
       "      <td>Sơn Tùng M-TP Official</td>\n",
       "      <td>Music &amp; Dance</td>\n",
       "      <td>Animation</td>\n",
       "      <td>10200000.0</td>\n",
       "      <td>United States</td>\n",
       "      <td>100900.0</td>\n",
       "      <td>7700.0</td>\n",
       "      <td>108.0</td>\n",
       "      <td>December</td>\n",
       "      <td>NaN</td>\n",
       "    </tr>\n",
       "  </tbody>\n",
       "</table>\n",
       "<p>858 rows × 11 columns</p>\n",
       "</div>"
      ],
      "text/plain": [
       "                                       username  \\\n",
       "0    Baby Big Mouth Kids - Sing, Dance, Explore   \n",
       "1          Blippi - Educational Videos for Kids   \n",
       "2                                     Трум Трум   \n",
       "3                                 dangmattsmith   \n",
       "4                                    DuDuPopTOY   \n",
       "..                                          ...   \n",
       "863                               TopMovieClips   \n",
       "864                                 topperguild   \n",
       "865                                    Wylsacom   \n",
       "866                           JessicaJulioeBaby   \n",
       "867                      Sơn Tùng M-TP Official   \n",
       "\n",
       "                                           name             category1  \\\n",
       "0    Baby Big Mouth Kids - Sing, Dance, Explore             Animation   \n",
       "1          Blippi - Educational Videos for Kids             Education   \n",
       "2                                     Трум Трум                 Humor   \n",
       "3                               Dang Matt Smith             Animation   \n",
       "4                                    DuDuPopTOY             Animation   \n",
       "..                                          ...                   ...   \n",
       "863                               TopMovieClips                Movies   \n",
       "864                                Topper Guild             Animation   \n",
       "865                                    Wylsacom  Science & Technology   \n",
       "866       Laurinha e Helena - Clubinho da Laura                Movies   \n",
       "867                      Sơn Tùng M-TP Official         Music & Dance   \n",
       "\n",
       "           category2        subs        country      views    likes comments  \\\n",
       "0               Toys  10600000.0              -      348.0      3.0      NaN   \n",
       "1               Toys  15700000.0              -  1200000.0   4200.0      NaN   \n",
       "2               Toys  13700000.0              -   103200.0   1800.0     83.0   \n",
       "3              Humor  13700000.0              -   103500.0   4400.0    332.0   \n",
       "4              Humor  10500000.0              -    11100.0    109.0      NaN   \n",
       "..               ...         ...            ...        ...      ...      ...   \n",
       "863        Animation  10300000.0  United States   124500.0   2100.0    140.0   \n",
       "864            Humor  10300000.0  United States   288900.0   5900.0    680.0   \n",
       "865  News & Politics  10300000.0         Russia   291700.0  13000.0    950.0   \n",
       "866        Animation  10300000.0         Brazil    83500.0   1400.0      NaN   \n",
       "867        Animation  10200000.0  United States   100900.0   7700.0    108.0   \n",
       "\n",
       "        month category3  \n",
       "0        June       NaN  \n",
       "1        June       NaN  \n",
       "2        June       NaN  \n",
       "3        June       NaN  \n",
       "4        June       NaN  \n",
       "..        ...       ...  \n",
       "863  December       NaN  \n",
       "864  December       NaN  \n",
       "865  December       NaN  \n",
       "866  December       NaN  \n",
       "867  December       NaN  \n",
       "\n",
       "[858 rows x 11 columns]"
      ]
     },
     "execution_count": 8,
     "metadata": {},
     "output_type": "execute_result"
    }
   ],
   "source": [
    "y_months = (\n",
    "    pd.concat([y_june, y_sep, y_nov, y_dec], ignore_index=True)\n",
    "    .drop_duplicates()\n",
    ")\n",
    "\n",
    "y_months"
   ]
  },
  {
   "cell_type": "markdown",
   "metadata": {},
   "source": [
    "# Análisis"
   ]
  },
  {
   "cell_type": "markdown",
   "metadata": {},
   "source": [
    "## 1. Número total de cuentas distintas"
   ]
  },
  {
   "cell_type": "code",
   "execution_count": 9,
   "metadata": {
    "tags": []
   },
   "outputs": [
    {
     "data": {
      "text/plain": [
       "415"
      ]
     },
     "execution_count": 9,
     "metadata": {},
     "output_type": "execute_result"
    }
   ],
   "source": [
    "y_months.username.drop_duplicates().size"
   ]
  },
  {
   "cell_type": "markdown",
   "metadata": {},
   "source": [
    "## 2. Promedio de seguidores, views, likes y comments"
   ]
  },
  {
   "cell_type": "code",
   "execution_count": 10,
   "metadata": {
    "tags": []
   },
   "outputs": [],
   "source": [
    "y_means = (\n",
    "    y_months\n",
    "    .groupby('username')\n",
    "     # aggregate functiosn skips nan by deffault\n",
    "    .aggregate({\n",
    "        'subs': 'mean',\n",
    "        'views': 'mean',\n",
    "        'likes': 'mean',\n",
    "        'comments': 'mean'\n",
    "    })    \n",
    "    .reset_index()\n",
    "    .sort_values('subs', ascending=False)\n",
    ")"
   ]
  },
  {
   "cell_type": "code",
   "execution_count": 11,
   "metadata": {
    "tags": []
   },
   "outputs": [
    {
     "data": {
      "text/html": [
       "<div>\n",
       "<style scoped>\n",
       "    .dataframe tbody tr th:only-of-type {\n",
       "        vertical-align: middle;\n",
       "    }\n",
       "\n",
       "    .dataframe tbody tr th {\n",
       "        vertical-align: top;\n",
       "    }\n",
       "\n",
       "    .dataframe thead th {\n",
       "        text-align: right;\n",
       "    }\n",
       "</style>\n",
       "<table border=\"1\" class=\"dataframe\">\n",
       "  <thead>\n",
       "    <tr style=\"text-align: right;\">\n",
       "      <th></th>\n",
       "      <th>username</th>\n",
       "      <th>subs</th>\n",
       "      <th>views</th>\n",
       "      <th>likes</th>\n",
       "      <th>comments</th>\n",
       "    </tr>\n",
       "  </thead>\n",
       "  <tbody>\n",
       "    <tr>\n",
       "      <th>195</th>\n",
       "      <td>MrBeast</td>\n",
       "      <td>110550000.0</td>\n",
       "      <td>56650000.0</td>\n",
       "      <td>2.550000e+06</td>\n",
       "      <td>85400.0</td>\n",
       "    </tr>\n",
       "    <tr>\n",
       "      <th>197</th>\n",
       "      <td>MrBeast6000</td>\n",
       "      <td>103200000.0</td>\n",
       "      <td>53650000.0</td>\n",
       "      <td>3.500000e+06</td>\n",
       "      <td>109150.0</td>\n",
       "    </tr>\n",
       "    <tr>\n",
       "      <th>412</th>\n",
       "      <td>✿ Kids Diana Show</td>\n",
       "      <td>96600000.0</td>\n",
       "      <td>11400000.0</td>\n",
       "      <td>4.090000e+04</td>\n",
       "      <td>NaN</td>\n",
       "    </tr>\n",
       "    <tr>\n",
       "      <th>394</th>\n",
       "      <td>sabtv</td>\n",
       "      <td>72100000.0</td>\n",
       "      <td>41900.0</td>\n",
       "      <td>7.243333e+02</td>\n",
       "      <td>18.0</td>\n",
       "    </tr>\n",
       "    <tr>\n",
       "      <th>274</th>\n",
       "      <td>Sony SAB</td>\n",
       "      <td>71700000.0</td>\n",
       "      <td>61700.0</td>\n",
       "      <td>9.240000e+02</td>\n",
       "      <td>18.0</td>\n",
       "    </tr>\n",
       "    <tr>\n",
       "      <th>...</th>\n",
       "      <td>...</td>\n",
       "      <td>...</td>\n",
       "      <td>...</td>\n",
       "      <td>...</td>\n",
       "      <td>...</td>\n",
       "    </tr>\n",
       "    <tr>\n",
       "      <th>135</th>\n",
       "      <td>JoeyGraceffa</td>\n",
       "      <td>9400000.0</td>\n",
       "      <td>311100.0</td>\n",
       "      <td>2.380000e+04</td>\n",
       "      <td>1500.0</td>\n",
       "    </tr>\n",
       "    <tr>\n",
       "      <th>153</th>\n",
       "      <td>LetDa Hyper</td>\n",
       "      <td>9400000.0</td>\n",
       "      <td>142400.0</td>\n",
       "      <td>7.400000e+03</td>\n",
       "      <td>510.0</td>\n",
       "    </tr>\n",
       "    <tr>\n",
       "      <th>313</th>\n",
       "      <td>Troom Troom SELECT</td>\n",
       "      <td>9300000.0</td>\n",
       "      <td>254800.0</td>\n",
       "      <td>2.900000e+03</td>\n",
       "      <td>52.0</td>\n",
       "    </tr>\n",
       "    <tr>\n",
       "      <th>304</th>\n",
       "      <td>Thơ Nguyễn</td>\n",
       "      <td>9300000.0</td>\n",
       "      <td>185500.0</td>\n",
       "      <td>2.400000e+03</td>\n",
       "      <td>106.0</td>\n",
       "    </tr>\n",
       "    <tr>\n",
       "      <th>339</th>\n",
       "      <td>brunoberti10</td>\n",
       "      <td>9300000.0</td>\n",
       "      <td>90900.0</td>\n",
       "      <td>6.000000e+03</td>\n",
       "      <td>249.0</td>\n",
       "    </tr>\n",
       "  </tbody>\n",
       "</table>\n",
       "<p>415 rows × 5 columns</p>\n",
       "</div>"
      ],
      "text/plain": [
       "               username         subs       views         likes  comments\n",
       "195             MrBeast  110550000.0  56650000.0  2.550000e+06   85400.0\n",
       "197         MrBeast6000  103200000.0  53650000.0  3.500000e+06  109150.0\n",
       "412   ✿ Kids Diana Show   96600000.0  11400000.0  4.090000e+04       NaN\n",
       "394               sabtv   72100000.0     41900.0  7.243333e+02      18.0\n",
       "274            Sony SAB   71700000.0     61700.0  9.240000e+02      18.0\n",
       "..                  ...          ...         ...           ...       ...\n",
       "135        JoeyGraceffa    9400000.0    311100.0  2.380000e+04    1500.0\n",
       "153         LetDa Hyper    9400000.0    142400.0  7.400000e+03     510.0\n",
       "313  Troom Troom SELECT    9300000.0    254800.0  2.900000e+03      52.0\n",
       "304          Thơ Nguyễn    9300000.0    185500.0  2.400000e+03     106.0\n",
       "339        brunoberti10    9300000.0     90900.0  6.000000e+03     249.0\n",
       "\n",
       "[415 rows x 5 columns]"
      ]
     },
     "execution_count": 11,
     "metadata": {},
     "output_type": "execute_result"
    }
   ],
   "source": [
    "y_means"
   ]
  },
  {
   "cell_type": "markdown",
   "metadata": {},
   "source": [
    "## 3. Métricas de valor de cada cuenta"
   ]
  },
  {
   "cell_type": "markdown",
   "metadata": {},
   "source": [
    "### Métricas de valor"
   ]
  },
  {
   "cell_type": "code",
   "execution_count": 12,
   "metadata": {
    "tags": []
   },
   "outputs": [],
   "source": [
    "y_means['views_ratio'] = y_means.views / y_means.subs\n",
    "y_means['likes_ratio'] = y_means.likes / y_means.subs\n",
    "y_means['comments_ratio'] = y_means.comments / y_means.subs"
   ]
  },
  {
   "cell_type": "code",
   "execution_count": 13,
   "metadata": {
    "tags": []
   },
   "outputs": [
    {
     "data": {
      "text/html": [
       "<div>\n",
       "<style scoped>\n",
       "    .dataframe tbody tr th:only-of-type {\n",
       "        vertical-align: middle;\n",
       "    }\n",
       "\n",
       "    .dataframe tbody tr th {\n",
       "        vertical-align: top;\n",
       "    }\n",
       "\n",
       "    .dataframe thead th {\n",
       "        text-align: right;\n",
       "    }\n",
       "</style>\n",
       "<table border=\"1\" class=\"dataframe\">\n",
       "  <thead>\n",
       "    <tr style=\"text-align: right;\">\n",
       "      <th></th>\n",
       "      <th>username</th>\n",
       "      <th>subs</th>\n",
       "      <th>views</th>\n",
       "      <th>likes</th>\n",
       "      <th>comments</th>\n",
       "      <th>views_ratio</th>\n",
       "      <th>likes_ratio</th>\n",
       "      <th>comments_ratio</th>\n",
       "    </tr>\n",
       "  </thead>\n",
       "  <tbody>\n",
       "    <tr>\n",
       "      <th>195</th>\n",
       "      <td>MrBeast</td>\n",
       "      <td>110550000.0</td>\n",
       "      <td>56650000.0</td>\n",
       "      <td>2.550000e+06</td>\n",
       "      <td>85400.0</td>\n",
       "      <td>0.512438</td>\n",
       "      <td>0.023066</td>\n",
       "      <td>7.725011e-04</td>\n",
       "    </tr>\n",
       "    <tr>\n",
       "      <th>197</th>\n",
       "      <td>MrBeast6000</td>\n",
       "      <td>103200000.0</td>\n",
       "      <td>53650000.0</td>\n",
       "      <td>3.500000e+06</td>\n",
       "      <td>109150.0</td>\n",
       "      <td>0.519864</td>\n",
       "      <td>0.033915</td>\n",
       "      <td>1.057655e-03</td>\n",
       "    </tr>\n",
       "    <tr>\n",
       "      <th>412</th>\n",
       "      <td>✿ Kids Diana Show</td>\n",
       "      <td>96600000.0</td>\n",
       "      <td>11400000.0</td>\n",
       "      <td>4.090000e+04</td>\n",
       "      <td>NaN</td>\n",
       "      <td>0.118012</td>\n",
       "      <td>0.000423</td>\n",
       "      <td>NaN</td>\n",
       "    </tr>\n",
       "    <tr>\n",
       "      <th>394</th>\n",
       "      <td>sabtv</td>\n",
       "      <td>72100000.0</td>\n",
       "      <td>41900.0</td>\n",
       "      <td>7.243333e+02</td>\n",
       "      <td>18.0</td>\n",
       "      <td>0.000581</td>\n",
       "      <td>0.000010</td>\n",
       "      <td>2.496533e-07</td>\n",
       "    </tr>\n",
       "    <tr>\n",
       "      <th>274</th>\n",
       "      <td>Sony SAB</td>\n",
       "      <td>71700000.0</td>\n",
       "      <td>61700.0</td>\n",
       "      <td>9.240000e+02</td>\n",
       "      <td>18.0</td>\n",
       "      <td>0.000861</td>\n",
       "      <td>0.000013</td>\n",
       "      <td>2.510460e-07</td>\n",
       "    </tr>\n",
       "    <tr>\n",
       "      <th>...</th>\n",
       "      <td>...</td>\n",
       "      <td>...</td>\n",
       "      <td>...</td>\n",
       "      <td>...</td>\n",
       "      <td>...</td>\n",
       "      <td>...</td>\n",
       "      <td>...</td>\n",
       "      <td>...</td>\n",
       "    </tr>\n",
       "    <tr>\n",
       "      <th>135</th>\n",
       "      <td>JoeyGraceffa</td>\n",
       "      <td>9400000.0</td>\n",
       "      <td>311100.0</td>\n",
       "      <td>2.380000e+04</td>\n",
       "      <td>1500.0</td>\n",
       "      <td>0.033096</td>\n",
       "      <td>0.002532</td>\n",
       "      <td>1.595745e-04</td>\n",
       "    </tr>\n",
       "    <tr>\n",
       "      <th>153</th>\n",
       "      <td>LetDa Hyper</td>\n",
       "      <td>9400000.0</td>\n",
       "      <td>142400.0</td>\n",
       "      <td>7.400000e+03</td>\n",
       "      <td>510.0</td>\n",
       "      <td>0.015149</td>\n",
       "      <td>0.000787</td>\n",
       "      <td>5.425532e-05</td>\n",
       "    </tr>\n",
       "    <tr>\n",
       "      <th>313</th>\n",
       "      <td>Troom Troom SELECT</td>\n",
       "      <td>9300000.0</td>\n",
       "      <td>254800.0</td>\n",
       "      <td>2.900000e+03</td>\n",
       "      <td>52.0</td>\n",
       "      <td>0.027398</td>\n",
       "      <td>0.000312</td>\n",
       "      <td>5.591398e-06</td>\n",
       "    </tr>\n",
       "    <tr>\n",
       "      <th>304</th>\n",
       "      <td>Thơ Nguyễn</td>\n",
       "      <td>9300000.0</td>\n",
       "      <td>185500.0</td>\n",
       "      <td>2.400000e+03</td>\n",
       "      <td>106.0</td>\n",
       "      <td>0.019946</td>\n",
       "      <td>0.000258</td>\n",
       "      <td>1.139785e-05</td>\n",
       "    </tr>\n",
       "    <tr>\n",
       "      <th>339</th>\n",
       "      <td>brunoberti10</td>\n",
       "      <td>9300000.0</td>\n",
       "      <td>90900.0</td>\n",
       "      <td>6.000000e+03</td>\n",
       "      <td>249.0</td>\n",
       "      <td>0.009774</td>\n",
       "      <td>0.000645</td>\n",
       "      <td>2.677419e-05</td>\n",
       "    </tr>\n",
       "  </tbody>\n",
       "</table>\n",
       "<p>415 rows × 8 columns</p>\n",
       "</div>"
      ],
      "text/plain": [
       "               username         subs       views         likes  comments  \\\n",
       "195             MrBeast  110550000.0  56650000.0  2.550000e+06   85400.0   \n",
       "197         MrBeast6000  103200000.0  53650000.0  3.500000e+06  109150.0   \n",
       "412   ✿ Kids Diana Show   96600000.0  11400000.0  4.090000e+04       NaN   \n",
       "394               sabtv   72100000.0     41900.0  7.243333e+02      18.0   \n",
       "274            Sony SAB   71700000.0     61700.0  9.240000e+02      18.0   \n",
       "..                  ...          ...         ...           ...       ...   \n",
       "135        JoeyGraceffa    9400000.0    311100.0  2.380000e+04    1500.0   \n",
       "153         LetDa Hyper    9400000.0    142400.0  7.400000e+03     510.0   \n",
       "313  Troom Troom SELECT    9300000.0    254800.0  2.900000e+03      52.0   \n",
       "304          Thơ Nguyễn    9300000.0    185500.0  2.400000e+03     106.0   \n",
       "339        brunoberti10    9300000.0     90900.0  6.000000e+03     249.0   \n",
       "\n",
       "     views_ratio  likes_ratio  comments_ratio  \n",
       "195     0.512438     0.023066    7.725011e-04  \n",
       "197     0.519864     0.033915    1.057655e-03  \n",
       "412     0.118012     0.000423             NaN  \n",
       "394     0.000581     0.000010    2.496533e-07  \n",
       "274     0.000861     0.000013    2.510460e-07  \n",
       "..           ...          ...             ...  \n",
       "135     0.033096     0.002532    1.595745e-04  \n",
       "153     0.015149     0.000787    5.425532e-05  \n",
       "313     0.027398     0.000312    5.591398e-06  \n",
       "304     0.019946     0.000258    1.139785e-05  \n",
       "339     0.009774     0.000645    2.677419e-05  \n",
       "\n",
       "[415 rows x 8 columns]"
      ]
     },
     "execution_count": 13,
     "metadata": {},
     "output_type": "execute_result"
    }
   ],
   "source": [
    "y_means"
   ]
  },
  {
   "cell_type": "markdown",
   "metadata": {},
   "source": [
    "## 4. Histograma del número de cuentas que inicien por cada letra del alfabeto"
   ]
  },
  {
   "cell_type": "markdown",
   "metadata": {},
   "source": [
    "### Gráficas"
   ]
  },
  {
   "cell_type": "code",
   "execution_count": 14,
   "metadata": {
    "tags": []
   },
   "outputs": [
    {
     "data": {
      "image/png": "[encoded data removed]",
      "text/plain": [
       "<Figure size 900x500 with 1 Axes>"
      ]
     },
     "metadata": {},
     "output_type": "display_data"
    }
   ],
   "source": [
    "def get_inicial(name: str) -> str:\n",
    "    name = str(name)\n",
    "    first_is_letter = re.search(r'^[a-zA-Z]', name)\n",
    "    if first_is_letter:\n",
    "        return name[0].upper()\n",
    "    else:\n",
    "        return 'other'\n",
    "\n",
    "initials = (\n",
    "    y_months.name\n",
    "    .map(get_inicial)\n",
    "    .value_counts()\n",
    "    .reset_index(name='frequency')\n",
    "    .rename(columns={\n",
    "        'index': 'letter',\n",
    "        'name': 'letter'\n",
    "    })\n",
    ")\n",
    "plt.figure(figsize=(9, 5)) \n",
    "plt.bar(initials.letter, initials.frequency, color = 'crimson')\n",
    "plt.show()"
   ]
  },
  {
   "cell_type": "markdown",
   "metadata": {},
   "source": [
    "## 5. Cuántas cuentas tienen ya sea en su username o name las letras de las iniciales de cada uno de lo sintegrantes?"
   ]
  },
  {
   "cell_type": "code",
   "execution_count": 15,
   "metadata": {
    "tags": []
   },
   "outputs": [
    {
     "data": {
      "text/plain": [
       "692"
      ]
     },
     "execution_count": 15,
     "metadata": {},
     "output_type": "execute_result"
    }
   ],
   "source": [
    "(y_months.name.str.contains(r'[GgIiMm]') | y_months.name.str.contains(r'[GgIiMm]')).sum()"
   ]
  },
  {
   "cell_type": "markdown",
   "metadata": {},
   "source": [
    "## 6. Defina una métrica que identifique las 10 cuentas más importantes de youtube"
   ]
  },
  {
   "cell_type": "code",
   "execution_count": 16,
   "metadata": {
    "tags": []
   },
   "outputs": [
    {
     "data": {
      "text/html": [
       "<div>\n",
       "<style scoped>\n",
       "    .dataframe tbody tr th:only-of-type {\n",
       "        vertical-align: middle;\n",
       "    }\n",
       "\n",
       "    .dataframe tbody tr th {\n",
       "        vertical-align: top;\n",
       "    }\n",
       "\n",
       "    .dataframe thead th {\n",
       "        text-align: right;\n",
       "    }\n",
       "</style>\n",
       "<table border=\"1\" class=\"dataframe\">\n",
       "  <thead>\n",
       "    <tr style=\"text-align: right;\">\n",
       "      <th></th>\n",
       "      <th>username</th>\n",
       "      <th>views</th>\n",
       "    </tr>\n",
       "  </thead>\n",
       "  <tbody>\n",
       "    <tr>\n",
       "      <th>30</th>\n",
       "      <td>Bad Bunny</td>\n",
       "      <td>6.940000e+07</td>\n",
       "    </tr>\n",
       "    <tr>\n",
       "      <th>195</th>\n",
       "      <td>MrBeast</td>\n",
       "      <td>5.665000e+07</td>\n",
       "    </tr>\n",
       "    <tr>\n",
       "      <th>197</th>\n",
       "      <td>MrBeast6000</td>\n",
       "      <td>5.365000e+07</td>\n",
       "    </tr>\n",
       "    <tr>\n",
       "      <th>36</th>\n",
       "      <td>Bizarrap</td>\n",
       "      <td>3.320000e+07</td>\n",
       "    </tr>\n",
       "    <tr>\n",
       "      <th>49</th>\n",
       "      <td>CarryMinati</td>\n",
       "      <td>2.470000e+07</td>\n",
       "    </tr>\n",
       "    <tr>\n",
       "      <th>20</th>\n",
       "      <td>Anuel AA</td>\n",
       "      <td>1.633333e+07</td>\n",
       "    </tr>\n",
       "    <tr>\n",
       "      <th>118</th>\n",
       "      <td>Harsh Beniwal</td>\n",
       "      <td>1.475000e+07</td>\n",
       "    </tr>\n",
       "    <tr>\n",
       "      <th>10</th>\n",
       "      <td>AddictedA1</td>\n",
       "      <td>1.470000e+07</td>\n",
       "    </tr>\n",
       "    <tr>\n",
       "      <th>276</th>\n",
       "      <td>Stokes Twins</td>\n",
       "      <td>1.190000e+07</td>\n",
       "    </tr>\n",
       "    <tr>\n",
       "      <th>412</th>\n",
       "      <td>✿ Kids Diana Show</td>\n",
       "      <td>1.140000e+07</td>\n",
       "    </tr>\n",
       "  </tbody>\n",
       "</table>\n",
       "</div>"
      ],
      "text/plain": [
       "              username         views\n",
       "30           Bad Bunny  6.940000e+07\n",
       "195            MrBeast  5.665000e+07\n",
       "197        MrBeast6000  5.365000e+07\n",
       "36            Bizarrap  3.320000e+07\n",
       "49         CarryMinati  2.470000e+07\n",
       "20            Anuel AA  1.633333e+07\n",
       "118      Harsh Beniwal  1.475000e+07\n",
       "10          AddictedA1  1.470000e+07\n",
       "276       Stokes Twins  1.190000e+07\n",
       "412  ✿ Kids Diana Show  1.140000e+07"
      ]
     },
     "execution_count": 16,
     "metadata": {},
     "output_type": "execute_result"
    }
   ],
   "source": [
    "y_means = (\n",
    "    y_means\n",
    "    .assign(\n",
    "        engagement_size = (y_means.views / y_means.subs) * (y_means.subs / max(y_means.subs))\n",
    "    )\n",
    "    .sort_values(['views'], ascending=False)\n",
    ")\n",
    "y_means[['username', 'views']].head(10)"
   ]
  },
  {
   "cell_type": "markdown",
   "metadata": {},
   "source": [
    "## 7. Grafique un histograma del número de seguidores por país"
   ]
  },
  {
   "cell_type": "code",
   "execution_count": 17,
   "metadata": {},
   "outputs": [
    {
     "data": {
      "text/plain": [
       "Index(['username', 'subs', 'views', 'likes', 'comments', 'views_ratio',\n",
       "       'likes_ratio', 'comments_ratio', 'engagement_size'],\n",
       "      dtype='object')"
      ]
     },
     "execution_count": 17,
     "metadata": {},
     "output_type": "execute_result"
    }
   ],
   "source": [
    "y_means.columns"
   ]
  },
  {
   "cell_type": "code",
   "execution_count": 18,
   "metadata": {},
   "outputs": [
    {
     "name": "stdout",
     "output_type": "stream",
     "text": [
      "y_means columns: Index(['username', 'subs', 'views', 'likes', 'comments', 'views_ratio',\n",
      "       'likes_ratio', 'comments_ratio', 'engagement_size'],\n",
      "      dtype='object')\n",
      "y_months columns: Index(['username', 'name', 'category1', 'category2', 'subs', 'country',\n",
      "       'views', 'likes', 'comments', 'month', 'category3'],\n",
      "      dtype='object')\n",
      "After merge columns: Index(['username', 'subs_x', 'views_x', 'likes_x', 'comments_x', 'views_ratio',\n",
      "       'likes_ratio', 'comments_ratio', 'engagement_size', 'name', 'category1',\n",
      "       'category2', 'subs_y', 'country', 'views_y', 'likes_y', 'comments_y',\n",
      "       'month', 'category3'],\n",
      "      dtype='object')\n",
      "After groupby and aggregate columns: Index(['country', 'subs_x'], dtype='object')\n",
      "After rename and sort_values columns: Index(['country', 'mean_subs'], dtype='object')\n"
     ]
    },
    {
     "data": {
      "image/png": "[encoded data removed]",
      "text/plain": [
       "<Figure size 1000x600 with 1 Axes>"
      ]
     },
     "metadata": {},
     "output_type": "display_data"
    }
   ],
   "source": [
    "print(\"y_means columns:\", y_means.columns)\n",
    "print(\"y_months columns:\", y_months.columns)\n",
    "\n",
    "y_country_means = (\n",
    "    y_means\n",
    "    .merge(y_months, on='username', how='left')\n",
    ")\n",
    "\n",
    "print(\"After merge columns:\", y_country_means.columns)\n",
    "\n",
    "y_country_means = y_country_means[['username', 'country', 'subs_x']].groupby('country').aggregate({'subs_x': 'mean'}).reset_index()\n",
    "\n",
    "print(\"After groupby and aggregate columns:\", y_country_means.columns)\n",
    "\n",
    "y_country_means = y_country_means.rename(columns={'subs_x': 'mean_subs'}).sort_values('mean_subs', ascending=False)\n",
    "\n",
    "print(\"After rename and sort_values columns:\", y_country_means.columns)\n",
    "\n",
    "# Set the figure size\n",
    "plt.figure(figsize=(10, 6))\n",
    "\n",
    "plt.bar(y_country_means['country'], y_country_means['mean_subs'])\n",
    "plt.xticks(rotation=90)  # Rotate x-axis labels for better visibility\n",
    "plt.xlabel('Country')\n",
    "plt.ylabel('Mean Subscribers')\n",
    "plt.title('Mean Subscribers by Country')\n",
    "\n",
    "plt.show()"
   ]
  },
  {
   "cell_type": "code",
   "execution_count": 28,
   "metadata": {},
   "outputs": [
    {
     "data": {
      "text/html": [
       "<div>\n",
       "<style scoped>\n",
       "    .dataframe tbody tr th:only-of-type {\n",
       "        vertical-align: middle;\n",
       "    }\n",
       "\n",
       "    .dataframe tbody tr th {\n",
       "        vertical-align: top;\n",
       "    }\n",
       "\n",
       "    .dataframe thead th {\n",
       "        text-align: right;\n",
       "    }\n",
       "</style>\n",
       "<table border=\"1\" class=\"dataframe\">\n",
       "  <thead>\n",
       "    <tr style=\"text-align: right;\">\n",
       "      <th></th>\n",
       "      <th>username</th>\n",
       "      <th>subs</th>\n",
       "      <th>views</th>\n",
       "      <th>likes</th>\n",
       "      <th>comments</th>\n",
       "      <th>views_ratio</th>\n",
       "      <th>likes_ratio</th>\n",
       "      <th>comments_ratio</th>\n",
       "      <th>engagement_size</th>\n",
       "    </tr>\n",
       "  </thead>\n",
       "  <tbody>\n",
       "    <tr>\n",
       "      <th>30</th>\n",
       "      <td>Bad Bunny</td>\n",
       "      <td>42150000.0</td>\n",
       "      <td>69400000.0</td>\n",
       "      <td>1700000.0</td>\n",
       "      <td>58400.0</td>\n",
       "      <td>1.646501</td>\n",
       "      <td>0.040332</td>\n",
       "      <td>0.001386</td>\n",
       "      <td>0.62777</td>\n",
       "    </tr>\n",
       "  </tbody>\n",
       "</table>\n",
       "</div>"
      ],
      "text/plain": [
       "     username        subs       views      likes  comments  views_ratio  \\\n",
       "30  Bad Bunny  42150000.0  69400000.0  1700000.0   58400.0     1.646501   \n",
       "\n",
       "    likes_ratio  comments_ratio  engagement_size  \n",
       "30     0.040332        0.001386          0.62777  "
      ]
     },
     "execution_count": 28,
     "metadata": {},
     "output_type": "execute_result"
    }
   ],
   "source": [
    "y_means.head(1)"
   ]
  },
  {
   "cell_type": "code",
   "execution_count": 30,
   "metadata": {},
   "outputs": [
    {
     "name": "stdout",
     "output_type": "stream",
     "text": [
      "y_means columns: Index(['username', 'subs', 'views', 'likes', 'comments', 'views_ratio',\n",
      "       'likes_ratio', 'comments_ratio', 'engagement_size'],\n",
      "      dtype='object')\n",
      "y_months columns: Index(['username', 'name', 'category1', 'category2', 'subs', 'country',\n",
      "       'views', 'likes', 'comments', 'month', 'category3'],\n",
      "      dtype='object')\n",
      "After merge columns: Index(['username', 'subs_x', 'views_x', 'likes_x', 'comments_x', 'views_ratio',\n",
      "       'likes_ratio', 'comments_ratio', 'engagement_size', 'name', 'category1',\n",
      "       'category2', 'subs_y', 'country', 'views_y', 'likes_y', 'comments_y',\n",
      "       'month', 'category3'],\n",
      "      dtype='object')\n",
      "After groupby and aggregate columns: Index(['country', 'subs_x'], dtype='object')\n",
      "After rename and sort_values columns: Index(['country', 'mean_subs'], dtype='object')\n"
     ]
    },
    {
     "data": {
      "image/png": "[encoded data removed]",
      "text/plain": [
       "<Figure size 1000x600 with 1 Axes>"
      ]
     },
     "metadata": {},
     "output_type": "display_data"
    }
   ],
   "source": [
    "print(\"y_means columns:\", y_means.columns)\n",
    "print(\"y_months columns:\", y_months.columns)\n",
    "\n",
    "y_country_means = (\n",
    "    y_means\n",
    "    .merge(y_months, on='username', how='left')\n",
    ")\n",
    "\n",
    "print(\"After merge columns:\", y_country_means.columns)\n",
    "\n",
    "y_country_means = y_country_means[['username', 'country', 'subs_x']].groupby('country').aggregate({'subs_x': 'mean'}).reset_index()\n",
    "\n",
    "print(\"After groupby and aggregate columns:\", y_country_means.columns)\n",
    "\n",
    "y_country_means = y_country_means.rename(columns={'subs_x': 'mean_subs'}).sort_values('mean_subs', ascending=False)\n",
    "\n",
    "print(\"After rename and sort_values columns:\", y_country_means.columns)\n",
    "\n",
    "# Set the figure size\n",
    "plt.figure(figsize=(10, 6))\n",
    "\n",
    "plt.bar(y_country_means['country'], y_country_means['mean_subs'])\n",
    "plt.xticks(rotation=90)  # Rotate x-axis labels for better visibility\n",
    "plt.xlabel('Country')\n",
    "plt.ylabel('Mean Subscribers')\n",
    "plt.title('Mean Subscribers by Country')\n",
    "\n",
    "plt.show()"
   ]
  },
  {
   "cell_type": "markdown",
   "metadata": {},
   "source": [
    "## 8. Crea una serie con todas las categorías existentes en todos los archivos de youtube"
   ]
  },
  {
   "cell_type": "code",
   "execution_count": null,
   "metadata": {
    "tags": []
   },
   "outputs": [],
   "source": [
    "y_categories = (y_months.category1 + y_months.category2).dropna().drop_duplicates().reset_index(name='category')\n",
    "y_categories = list(y_categories.category)"
   ]
  },
  {
   "cell_type": "code",
   "execution_count": null,
   "metadata": {
    "tags": []
   },
   "outputs": [
    {
     "data": {
      "text/plain": [
       "0         Mystery\n",
       "1           Hacks\n",
       "2            Toys\n",
       "3         Fitness\n",
       "4      Technology\n",
       "5          Beauty\n",
       "6       Education\n",
       "7        Vehicles\n",
       "8        Politics\n",
       "9            Help\n",
       "10        Fashion\n",
       "11          Humor\n",
       "12         Movies\n",
       "13    Video games\n",
       "14         Drinks\n",
       "15      Animation\n",
       "dtype: object"
      ]
     },
     "execution_count": 25,
     "metadata": {},
     "output_type": "execute_result"
    }
   ],
   "source": [
    "category_re = r'[A-Z][a-z\\s]+[a-z]$'\n",
    "res = set()\n",
    "for element in y_categories:\n",
    "    has_categories = re.findall(category_re, str(element))\n",
    "    if has_categories:\n",
    "        res = res.union(set(has_categories))\n",
    "\n",
    "y_categories = pd.Series(list(res))\n",
    "y_categories"
   ]
  },
  {
   "cell_type": "markdown",
   "metadata": {},
   "source": [
    "## 9. Crea una serie con todos los países existente en todos los archivos de youtube"
   ]
  },
  {
   "cell_type": "code",
   "execution_count": null,
   "metadata": {
    "tags": []
   },
   "outputs": [],
   "source": [
    "all_countries = y_months.country.dropna().drop_duplicates()\n",
    "all_countries"
   ]
  },
  {
   "attachments": {},
   "cell_type": "markdown",
   "metadata": {},
   "source": [
    "## 10. Grafique en un histograma el número de seguidores por categoría"
   ]
  },
  {
   "cell_type": "code",
   "execution_count": 26,
   "metadata": {},
   "outputs": [
    {
     "data": {
      "image/png": "[encoded data removed]",
      "text/plain": [
       "<Figure size 1000x600 with 1 Axes>"
      ]
     },
     "metadata": {},
     "output_type": "display_data"
    }
   ],
   "source": [
    "# Combina las dos columnas de categorías en una sola columna\n",
    "combined_categories = pd.concat([y_months['category1'], y_months['category2']])\n",
    "\n",
    "# Obtiene el recuento de cada categoría combinada\n",
    "category_counts = combined_categories.value_counts()\n",
    "\n",
    "# Crea el histograma\n",
    "plt.figure(figsize=(10, 6))\n",
    "plt.bar(category_counts.index, category_counts.values)\n",
    "\n",
    "# Personaliza el gráfico\n",
    "plt.xlabel('Categoría')\n",
    "plt.ylabel('Número de Seguidores')\n",
    "plt.title('Histograma del Número de Seguidores por Categoría')\n",
    "\n",
    "# Ajusta la rotación de las etiquetas del eje x si es necesario\n",
    "plt.xticks(rotation=90)\n",
    "\n",
    "# Muestra el gráfico\n",
    "plt.show()"
   ]
  },
  {
   "cell_type": "code",
   "execution_count": null,
   "metadata": {},
   "outputs": [],
   "source": []
  }
 ],
 "metadata": {
  "kernelspec": {
   "display_name": "Python 3 (ipykernel)",
   "language": "python",
   "name": "python3"
  },
  "language_info": {
   "codemirror_mode": {
    "name": "ipython",
    "version": 3
   },
   "file_extension": ".py",
   "mimetype": "text/x-python",
   "name": "python",
   "nbconvert_exporter": "python",
   "pygments_lexer": "ipython3",
   "version": "3.10.9"
  }
 },
 "nbformat": 4,
 "nbformat_minor": 4
}
