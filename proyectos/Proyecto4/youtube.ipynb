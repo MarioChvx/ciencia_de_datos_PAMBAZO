{
 "cells": [
  {
   "cell_type": "code",
   "execution_count": null,
   "metadata": {},
   "outputs": [],
   "source": [
    "import numpy as np\n",
    "import pandas as pd\n",
    "import matplotlib.pyplot as plt\n",
    "import seaborn as sns\n",
    "import pathlib\n",
    "import re\n",
    "from difflib import SequenceMatcher"
   ]
  },
  {
   "cell_type": "code",
   "execution_count": null,
   "metadata": {},
   "outputs": [],
   "source": [
    "y_june = (\n",
    "    pd.read_csv('DATA/youtubejune2022.csv')\n",
    "    .assign(Month='June')\n",
    "    .rename(columns={\n",
    "        \"channel name\": \"username\",\n",
    "        \"youTuber\":\"name\",\n",
    "        \"Category\": \"category1\",\n",
    "        \"Category_2\": \"category2\",\n",
    "        \"Subscribers count\": \"subs\",\n",
    "        \"Country\": \"country\",\n",
    "        \"Views avg.\": \"views\",\n",
    "        \"Likes avg\": \"likes\",\n",
    "        \"Comments avg.\": \"comments\",\n",
    "        \"Month\": \"month\"\n",
    "    })\n",
    "    .dropna()\n",
    ")\n",
    "y_june.head(1)"
   ]
  },
  {
   "cell_type": "code",
   "execution_count": null,
   "metadata": {},
   "outputs": [],
   "source": [
    "y_sep = (\n",
    "    pd.read_csv('DATA/Youtubesep2022.csv')\n",
    "    .assign(Month='September')\n",
    "    .rename(columns={\n",
    "        \"Name\": \"username\",\n",
    "        \"Youtuber\":\"name\",\n",
    "        \"Category_2\": \"category2\",\n",
    "        \" Subscribers\": \"subs\",\n",
    "        \"Country\": \"country\",\n",
    "        \"Avg. views\\r\\n\": \"views\",\n",
    "        \"Avg. likes\": \"likes\",\n",
    "        \"Avg Comments\": \"comments\",\n",
    "        \"Category_3\": \"category3\",\n",
    "        \"Month\": \"month\"\n",
    "    })\n",
    "    .drop(\"S.no\", axis=1)\n",
    "    .dropna()\n",
    ")\n",
    "y_sep.head(1)"
   ]
  },
  {
   "cell_type": "code",
   "execution_count": null,
   "metadata": {},
   "outputs": [],
   "source": [
    "y_nov = (\n",
    "    pd.read_csv('DATA/youtubenov2022.csv')\n",
    "    .assign(Month='November')\n",
    "    .rename(columns={\n",
    "        \"Youtube channel\": \"username\",\n",
    "        \"youtuber name\":\"name\",\n",
    "        \"Category\": \"category1\",\n",
    "        \"Followers\": \"subs\",\n",
    "        \"Country\": \"country\",\n",
    "        \"\\nViews (Avg.)\": \"views\",\n",
    "        \"Likes (Avg.)\": \"likes\",\n",
    "        \"Comments (Avg.)\": \"comments\",\n",
    "        \"Category-2\": \"category2\",\n",
    "        \"Month\": \"month\"\n",
    "    })\n",
    "    .drop(\"s.no\", axis=1)\n",
    "    .dropna()\n",
    ")\n",
    "y_nov.head(1)"
   ]
  },
  {
   "cell_type": "code",
   "execution_count": null,
   "metadata": {},
   "outputs": [],
   "source": [
    "y_dec= pd.read_csv('DATA/YOUTUBEDEC2022.csv')\n",
    "y_dec = (\n",
    "    pd.read_csv('DATA/YOUTUBEDEC2022.csv')\n",
    "    .assign(Month='December')\n",
    "    .rename(columns={\n",
    "        \"Youtube channel\": \"username\",\n",
    "        \"youtuber name\":\"name\",\n",
    "        \"Category\": \"category1\",\n",
    "        \"Followers\": \"subs\",\n",
    "        \"Country\": \"country\",\n",
    "        \"\\nViews (Avg.)\": \"views\",\n",
    "        \"Likes (Avg.)\": \"likes\",\n",
    "        \"Comments (Avg.)\": \"comments\",\n",
    "        \"Category-2\": \"category2\",\n",
    "        \"Month\": \"month\"\n",
    "    })\n",
    "    .drop(\"s.no\", axis=1)\n",
    "    .dropna()\n",
    ")\n",
    "y_dec.head(1)"
   ]
  },
  {
   "cell_type": "code",
   "execution_count": null,
   "metadata": {},
   "outputs": [],
   "source": [
    "numeric_text_cols = ['subs', 'views', 'likes', 'comments']\n",
    "\n",
    "def delete_rows_with_value(df, value):\n",
    "    df.replace(value, np.nan, inplace=True)\n",
    "    return df\n",
    "\n",
    "y_june = delete_rows_with_value(y_june, \"N/A'\")\n",
    "y_june.head(1)"
   ]
  },
  {
   "cell_type": "code",
   "execution_count": null,
   "metadata": {},
   "outputs": [],
   "source": [
    "def cientific_int(column: pd.Series) -> pd.Series:\n",
    "    return (\n",
    "        column\n",
    "        .fillna('0')\n",
    "        .replace({'K': '*1e3', 'M': '*1e6', 'G':'*1e9'}, regex=True)\n",
    "        .map(pd.eval)\n",
    "        .astype(int)\n",
    "        .replace(0, np.nan)\n",
    "    )\n",
    "\n",
    "y_june.loc[:, numeric_text_cols] = y_june[numeric_text_cols].apply(cientific_int)\n",
    "y_sep.loc[:, numeric_text_cols] = y_sep[numeric_text_cols].apply(cientific_int)\n",
    "y_nov.loc[:, numeric_text_cols] = y_nov[numeric_text_cols].apply(cientific_int)\n",
    "y_dec.loc[:, numeric_text_cols] = y_dec[numeric_text_cols].apply(cientific_int)"
   ]
  },
  {
   "cell_type": "code",
   "execution_count": null,
   "metadata": {},
   "outputs": [],
   "source": [
    "y_months = (\n",
    "    pd.concat([y_june, y_sep, y_nov, y_dec], ignore_index=True)\n",
    "    .drop_duplicates()\n",
    ")\n",
    "\n",
    "y_months"
   ]
  },
  {
   "cell_type": "markdown",
   "metadata": {},
   "source": [
    "# Análisis"
   ]
  },
  {
   "cell_type": "markdown",
   "metadata": {},
   "source": [
    "## 1. Número total de cuentas distintas"
   ]
  },
  {
   "cell_type": "code",
   "execution_count": null,
   "metadata": {},
   "outputs": [],
   "source": [
    "y_months.username.drop_duplicates().size"
   ]
  },
  {
   "cell_type": "markdown",
   "metadata": {},
   "source": [
    "## 2. Promedio de seguidores, views, likes y comments"
   ]
  },
  {
   "cell_type": "code",
   "execution_count": null,
   "metadata": {},
   "outputs": [],
   "source": [
    "y_means = (\n",
    "    y_months\n",
    "    .groupby('username')\n",
    "     # aggregate functiosn skips nan by deffault\n",
    "    .aggregate({\n",
    "        'subs': 'mean',\n",
    "        'views': 'mean',\n",
    "        'likes': 'mean',\n",
    "        'comments': 'mean'\n",
    "    })    \n",
    "    .reset_index()\n",
    "    .sort_values('subs', ascending=False)\n",
    ")"
   ]
  },
  {
   "cell_type": "code",
   "execution_count": null,
   "metadata": {},
   "outputs": [],
   "source": [
    "y_means"
   ]
  },
  {
   "cell_type": "markdown",
   "metadata": {},
   "source": [
    "## 3. Métricas de valor de cada cuenta"
   ]
  },
  {
   "cell_type": "markdown",
   "metadata": {},
   "source": [
    "### Métricas de valor"
   ]
  },
  {
   "cell_type": "code",
   "execution_count": null,
   "metadata": {},
   "outputs": [],
   "source": [
    "y_means['views_ratio'] = y_means.views / y_means.subs\n",
    "y_means['likes_ratio'] = y_means.likes / y_means.subs\n",
    "y_means['comments_ratio'] = y_means.comments / y_means.subs"
   ]
  },
  {
   "cell_type": "code",
   "execution_count": null,
   "metadata": {},
   "outputs": [],
   "source": [
    "y_means"
   ]
  },
  {
   "cell_type": "markdown",
   "metadata": {},
   "source": [
    "## 4. Histograma del número de cuentas que inicien por cada letra del alfabeto"
   ]
  },
  {
   "cell_type": "markdown",
   "metadata": {},
   "source": [
    "### Gráficas"
   ]
  },
  {
   "cell_type": "code",
   "execution_count": null,
   "metadata": {},
   "outputs": [],
   "source": [
    "def get_inicial(name: str) -> str:\n",
    "    name = str(name)\n",
    "    first_is_letter = re.search(r'^[a-zA-Z]', name)\n",
    "    if first_is_letter:\n",
    "        return name[0].upper()\n",
    "    else:\n",
    "        return 'other'\n",
    "\n",
    "initials = (\n",
    "    y_months.name\n",
    "    .map(get_inicial)\n",
    "    .value_counts()\n",
    "    .reset_index(name='frequency')\n",
    "    .rename(columns={\n",
    "        'index': 'letter',\n",
    "        'name': 'letter'\n",
    "    })\n",
    ")\n",
    "plt.bar(initials.letter, initials.frequency)\n",
    "plt.show()"
   ]
  },
  {
   "cell_type": "markdown",
   "metadata": {},
   "source": [
    "## 5. Cuántas cuentas tienen ya sea en su username o name las letras de las iniciales de cada uno de lo sintegrantes?"
   ]
  },
  {
   "cell_type": "code",
   "execution_count": null,
   "metadata": {},
   "outputs": [],
   "source": [
    "(y_months.name.str.contains(r'[GgIiMm]') | y_months.name.str.contains(r'[GgIiMm]')).sum()"
   ]
  },
  {
   "cell_type": "markdown",
   "metadata": {},
   "source": [
    "## 6. Defina una métrica que identifique las 10 cuentas más importantes de youtube"
   ]
  },
  {
   "cell_type": "code",
   "execution_count": null,
   "metadata": {},
   "outputs": [],
   "source": [
    "y_means = (\n",
    "    y_means\n",
    "    .assign(\n",
    "        engagement_size = (y_means.views / y_means.subs) * (y_means.subs / max(y_means.subs))\n",
    "    )\n",
    "    .sort_values(['views'], ascending=False)\n",
    ")\n",
    "y_means[['username', 'views']].head(10)"
   ]
  },
  {
   "cell_type": "markdown",
   "metadata": {},
   "source": [
    "## 7. Grafique un histograma del número de seguidores por país"
   ]
  },
  {
   "cell_type": "code",
   "execution_count": null,
   "metadata": {},
   "outputs": [],
   "source": [
    "y_means.columns"
   ]
  },
  {
   "cell_type": "code",
   "execution_count": null,
   "metadata": {},
   "outputs": [],
   "source": [
    "print(\"y_means columns:\", y_means.columns)\n",
    "print(\"y_months columns:\", y_months.columns)\n",
    "\n",
    "y_country_means = (\n",
    "    y_means\n",
    "    .merge(y_months, on='username', how='left')\n",
    ")\n",
    "\n",
    "print(\"After merge columns:\", y_country_means.columns)\n",
    "\n",
    "y_country_means = y_country_means[['username', 'country', 'subs_x']].groupby('country').aggregate({'subs_x': 'mean'}).reset_index()\n",
    "\n",
    "print(\"After groupby and aggregate columns:\", y_country_means.columns)\n",
    "\n",
    "y_country_means = y_country_means.rename(columns={'subs_x': 'mean_subs'}).sort_values('mean_subs', ascending=False)\n",
    "\n",
    "print(\"After rename and sort_values columns:\", y_country_means.columns)\n",
    "\n",
    "# Set the figure size\n",
    "plt.figure(figsize=(10, 6))\n",
    "\n",
    "plt.bar(y_country_means['country'], y_country_means['mean_subs'])\n",
    "plt.xticks(rotation=90)  # Rotate x-axis labels for better visibility\n",
    "plt.xlabel('Country')\n",
    "plt.ylabel('Mean Subscribers')\n",
    "plt.title('Mean Subscribers by Country')\n",
    "\n",
    "plt.show()"
   ]
  },
  {
   "cell_type": "markdown",
   "metadata": {},
   "source": [
    "## 8. Crea una serie con todas las categorías existentes en todos los archivos de youtube"
   ]
  },
  {
   "cell_type": "code",
   "execution_count": null,
   "metadata": {},
   "outputs": [],
   "source": [
    "y_categories = (y_months.category1 + y_months.category2).dropna().drop_duplicates().reset_index(name='category')\n",
    "y_categories = list(y_categories.category)"
   ]
  },
  {
   "cell_type": "code",
   "execution_count": null,
   "metadata": {},
   "outputs": [],
   "source": [
    "category_re = r'[A-Z][a-z\\s]+[a-z]$'\n",
    "res = set()\n",
    "for element in y_categories:\n",
    "    has_categories = re.findall(category_re, str(element))\n",
    "    if has_categories:\n",
    "        res = res.union(set(has_categories))\n",
    "\n",
    "y_categories = pd.Series(list(res))\n",
    "y_categories"
   ]
  },
  {
   "cell_type": "markdown",
   "metadata": {},
   "source": [
    "## 9. Crea una serie con todos los países existente en todos los archivos de youtube"
   ]
  },
  {
   "cell_type": "code",
   "execution_count": null,
   "metadata": {},
   "outputs": [],
   "source": [
    "all_countries = y_months.country.dropna().drop_duplicates()\n",
    "all_countries"
   ]
  },
  {
   "cell_type": "code",
   "execution_count": null,
   "metadata": {},
   "outputs": [],
   "source": []
  }
 ],
 "metadata": {
  "kernelspec": {
   "display_name": "Python 3 (ipykernel)",
   "language": "python",
   "name": "python3"
  },
  "language_info": {
   "codemirror_mode": {
    "name": "ipython",
    "version": 3
   },
   "file_extension": ".py",
   "mimetype": "text/x-python",
   "name": "python",
   "nbconvert_exporter": "python",
   "pygments_lexer": "ipython3",
   "version": "3.10.9"
  }
 },
 "nbformat": 4,
 "nbformat_minor": 4
}
