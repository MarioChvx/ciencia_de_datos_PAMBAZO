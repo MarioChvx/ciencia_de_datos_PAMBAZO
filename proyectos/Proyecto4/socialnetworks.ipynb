{
 "cells": [
  {
   "attachments": {},
   "cell_type": "markdown",
   "id": "66684af0-a3d5-4983-910e-a8b0c1983dec",
   "metadata": {},
   "source": [
    "# <b><center> Social Networks EDA </b></center>\n"
   ]
  },
  {
   "attachments": {},
   "cell_type": "markdown",
   "id": "def6abdb-e041-45ff-a7f7-d90875ff1c72",
   "metadata": {},
   "source": [
    "## Entendimiento de los Datos:"
   ]
  },
  {
   "cell_type": "code",
   "execution_count": 156,
   "id": "391350a2-08cd-4be2-ab7e-265b382a1fbe",
   "metadata": {
    "tags": []
   },
   "outputs": [],
   "source": [
    "import numpy as np\n",
    "import pandas as pd\n",
    "import matplotlib.pyplot as plt\n",
    "import seaborn as sns\n",
    "import pathlib\n",
    "import re\n",
    "from difflib import SequenceMatcher"
   ]
  },
  {
   "attachments": {},
   "cell_type": "markdown",
   "id": "59959fc2-385c-47b7-92e0-e639e7ff5a5b",
   "metadata": {},
   "source": [
    "## <u>Leer los datos que en el nombre contienen un mes:</u></br>\n",
    "### <b>Instagram:</b>"
   ]
  },
  {
   "attachments": {},
   "cell_type": "markdown",
   "id": "854e6951-f2cd-4dce-a728-44383b357b46",
   "metadata": {},
   "source": [
    "Cargar los 12 archivos que en el nombre tienen un mes, en 3  DataFrames, uno de cada red social, donde cada uno de los cuales debe contener las siguientes columnas:\n",
    "\n",
    "Instagram:\n",
    "* Username\n",
    "* Name\n",
    "* Subscribers o Followers\n",
    "* Country\n",
    "* Authentic\n",
    "* Engagement\n",
    "* Category1\n",
    "* Category2\n",
    "* Month"
   ]
  },
  {
   "cell_type": "code",
   "execution_count": 157,
   "id": "b01a8202-3571-4623-8939-fd3b98205298",
   "metadata": {
    "tags": []
   },
   "outputs": [],
   "source": [
    "ig_june = (\n",
    "    pd.read_csv('DATA/instagramjune2022.csv')\n",
    "    .assign(Month='June')\n",
    "    .rename(columns={\n",
    "        \"instagram name\": \"username\",\n",
    "        \"influencer name \":\"name\",\n",
    "        \"Category_1\": \"category1\",\n",
    "        \"Category_2\": \"category2\",\n",
    "        \"Subscribers count\": \"followers\",\n",
    "        \"Views avg.\": \"country\",\n",
    "        \"Likes avg\": \"authentic\",\n",
    "        \"Comments avg.\": \"average\",\n",
    "        \"Month\": \"month\"})\n",
    ")\n",
    "ig_june.country = ig_june.country.apply(lambda x: np.nan if re.search(r'\\d', str(x)) else str(x))"
   ]
  },
  {
   "cell_type": "code",
   "execution_count": 158,
   "id": "a46059c1-ae44-4e3c-88d8-2ac7c6d1e878",
   "metadata": {
    "tags": []
   },
   "outputs": [],
   "source": [
    "ig_sep = (\n",
    "    pd.read_csv('DATA/instagramsep2022.csv')\n",
    "    .assign(Month='September')\n",
    "    .rename(columns={\n",
    "        \"Instagram name\": \"username\",\n",
    "        \" Name\": \"name\",\n",
    "        \"Subscribers\": \"followers\",\n",
    "        \"Audience country\": \"country\",\n",
    "        \"Authentic engagement\\n\": \"authentic\",\n",
    "        \"Engagement average\\r\\n\": \"average\",\n",
    "        \"Category_1\": \"category1\",\n",
    "        \"Category_2\": \"category2\",\n",
    "        \"Month\": \"month\"})\n",
    "    .drop('S.no', axis=1)\n",
    ")"
   ]
  },
  {
   "cell_type": "code",
   "execution_count": 159,
   "id": "6f796886-ac38-428e-8591-3ae0871da635",
   "metadata": {
    "tags": []
   },
   "outputs": [],
   "source": [
    "ig_nov = (\n",
    "    pd.read_csv('DATA/instagramNov2022.csv')\n",
    "    .assign(Month='November')\n",
    "    .drop('s.no', axis=1)\n",
    "    .rename(columns={\n",
    "        \"Name\": \"username\",\n",
    "        \"Instagram Name\": \"name\",\n",
    "        \"Category-1\": \"category1\",\n",
    "        \"Followers\": \"followers\",\n",
    "        \"\\nCountry\": \"country\",\n",
    "        \"Eng. (Auth.)\": \"authentic\",\n",
    "        \"Eng. (Avg.)\": \"average\",\n",
    "        \"Category-2\": \"category2\",\n",
    "        \"Month\": \"month\"})\n",
    ")"
   ]
  },
  {
   "cell_type": "code",
   "execution_count": 160,
   "id": "f9ef5b5a-18c0-4a1a-ad7a-3375600fcb88",
   "metadata": {
    "tags": []
   },
   "outputs": [],
   "source": [
    "ig_dec = (\n",
    "    pd.read_csv('DATA/INSTAGRAMDEC2022.csv')\n",
    "    .assign(Month='December')\n",
    "    .rename(columns={\n",
    "        \"name\": \"username\",\n",
    "        \"instagram name\": \"name\",\n",
    "        \"Category_1\": \"category1\",\n",
    "        \"Category_2\": \"category2\",\n",
    "        \"Eng. (Auth.)\": \"authentic\",\n",
    "        \"Eng. (Avg.)\": \"average\",\n",
    "        \"Month\": \"month\"})\n",
    ")"
   ]
  },
  {
   "cell_type": "code",
   "execution_count": 52,
   "id": "399139e6",
   "metadata": {},
   "outputs": [
    {
     "data": {
      "text/plain": [
       "username       0\n",
       "name          26\n",
       "category1     95\n",
       "category2    724\n",
       "followers      0\n",
       "country        0\n",
       "authentic      0\n",
       "average       16\n",
       "month          0\n",
       "dtype: int64"
      ]
     },
     "execution_count": 52,
     "metadata": {},
     "output_type": "execute_result"
    }
   ],
   "source": [
    "ig_june.isna().sum()"
   ]
  },
  {
   "attachments": {},
   "cell_type": "markdown",
   "id": "a75614f5",
   "metadata": {},
   "source": [
    "Definiendo una función que transforma los números de texto a int en todo una columna"
   ]
  },
  {
   "cell_type": "code",
   "execution_count": 161,
   "id": "7c3f05f7",
   "metadata": {},
   "outputs": [],
   "source": [
    "def cientific_int(column: pd.Series) -> pd.Series:\n",
    "    return (\n",
    "        column\n",
    "        .fillna('0')\n",
    "        .replace({'K': '*1e3', 'M': '*1e6', 'G':'*1e9'}, regex=True)\n",
    "        .map(pd.eval)\n",
    "        .astype(int)\n",
    "        .replace(0, np.nan)\n",
    "    )\n",
    "\n",
    "numeric_text_cols = ['followers', 'average', 'authentic']"
   ]
  },
  {
   "cell_type": "code",
   "execution_count": 162,
   "id": "2547a2d1",
   "metadata": {},
   "outputs": [
    {
     "name": "stderr",
     "output_type": "stream",
     "text": [
      "/tmp/ipykernel_2465/3766823224.py:4: DeprecationWarning: In a future version, `df.iloc[:, i] = newvals` will attempt to set the values inplace instead of always setting a new array. To retain the old behavior, use either `df[df.columns[i]] = newvals` or, if columns are non-unique, `df.isetitem(i, newvals)`\n",
      "  ig_dec.loc[:, numeric_text_cols] = ig_dec[numeric_text_cols].apply(cientific_int)\n"
     ]
    }
   ],
   "source": [
    "ig_june.loc[:, numeric_text_cols] = ig_june[numeric_text_cols].apply(cientific_int)\n",
    "ig_sep.loc[:, numeric_text_cols] = ig_sep[numeric_text_cols].apply(cientific_int)\n",
    "ig_nov.loc[:, numeric_text_cols] = ig_nov[numeric_text_cols].apply(cientific_int)\n",
    "ig_dec.loc[:, numeric_text_cols] = ig_dec[numeric_text_cols].apply(cientific_int)"
   ]
  },
  {
   "attachments": {},
   "cell_type": "markdown",
   "id": "29763cf5",
   "metadata": {},
   "source": [
    "ig_months es la combinación de todos los meses, eliminando aquellos registros duplicados.\n",
    "Tener cuidado con los datos numéricos, ya que son datos incompletos. Para sacar promedios se tiene que considerar los df por separado"
   ]
  },
  {
   "cell_type": "code",
   "execution_count": 163,
   "id": "cf891871-ae26-4e14-acc5-1df9334f8a83",
   "metadata": {
    "tags": []
   },
   "outputs": [],
   "source": [
    "ig_months = (\n",
    "    pd.concat([ig_june, ig_sep, ig_nov, ig_dec], ignore_index=True)\n",
    "    .drop(\"Rank\", axis=1)\n",
    "    .drop_duplicates()\n",
    ")"
   ]
  },
  {
   "attachments": {},
   "cell_type": "markdown",
   "id": "1a9aa8bf",
   "metadata": {},
   "source": [
    "Verificando duplicados"
   ]
  },
  {
   "cell_type": "code",
   "execution_count": 164,
   "id": "28691020-7605-4e5c-8e0b-adf96493b9f6",
   "metadata": {
    "tags": []
   },
   "outputs": [
    {
     "data": {
      "text/plain": [
       "0"
      ]
     },
     "execution_count": 164,
     "metadata": {},
     "output_type": "execute_result"
    }
   ],
   "source": [
    "ig_months.duplicated().sum()"
   ]
  },
  {
   "attachments": {},
   "cell_type": "markdown",
   "id": "6c50ac8e-db7b-4016-9e25-5cc8c635b25c",
   "metadata": {
    "tags": []
   },
   "source": [
    "### TikTok:"
   ]
  },
  {
   "cell_type": "code",
   "execution_count": 165,
   "id": "279cae98-3616-4bbb-80c8-55f36d38ab01",
   "metadata": {
    "tags": []
   },
   "outputs": [
    {
     "data": {
      "text/html": [
       "<div>\n",
       "<style scoped>\n",
       "    .dataframe tbody tr th:only-of-type {\n",
       "        vertical-align: middle;\n",
       "    }\n",
       "\n",
       "    .dataframe tbody tr th {\n",
       "        vertical-align: top;\n",
       "    }\n",
       "\n",
       "    .dataframe thead th {\n",
       "        text-align: right;\n",
       "    }\n",
       "</style>\n",
       "<table border=\"1\" class=\"dataframe\">\n",
       "  <thead>\n",
       "    <tr style=\"text-align: right;\">\n",
       "      <th></th>\n",
       "      <th>Tiktoker</th>\n",
       "      <th>influencer name</th>\n",
       "      <th>Subscribers count</th>\n",
       "      <th>Views avg.</th>\n",
       "      <th>Likes avg</th>\n",
       "      <th>Comments avg.</th>\n",
       "      <th>Shares avg</th>\n",
       "      <th>Month</th>\n",
       "    </tr>\n",
       "  </thead>\n",
       "  <tbody>\n",
       "    <tr>\n",
       "      <th>0</th>\n",
       "      <td>___nicoichi___</td>\n",
       "      <td>NICO【平成フラミンゴ】</td>\n",
       "      <td>1.3M</td>\n",
       "      <td>1.9M</td>\n",
       "      <td>225.3K</td>\n",
       "      <td>1.7K</td>\n",
       "      <td>1.1K</td>\n",
       "      <td>June</td>\n",
       "    </tr>\n",
       "  </tbody>\n",
       "</table>\n",
       "</div>"
      ],
      "text/plain": [
       "         Tiktoker influencer name Subscribers count Views avg. Likes avg  \\\n",
       "0  ___nicoichi___   NICO【平成フラミンゴ】              1.3M       1.9M    225.3K   \n",
       "\n",
       "  Comments avg. Shares avg Month  \n",
       "0          1.7K       1.1K  June  "
      ]
     },
     "execution_count": 165,
     "metadata": {},
     "output_type": "execute_result"
    }
   ],
   "source": [
    "tt_june = pd.read_csv('DATA/tiktokjune2022.csv')\n",
    "tt_june = tt_june.assign(Month='June')\n",
    "tt_june.head(1)"
   ]
  },
  {
   "cell_type": "code",
   "execution_count": 166,
   "id": "ca8e5cc5-0680-4e87-870c-8a808cbbf6c1",
   "metadata": {
    "jupyter": {
     "source_hidden": true
    },
    "tags": []
   },
   "outputs": [
    {
     "data": {
      "text/html": [
       "<div>\n",
       "<style scoped>\n",
       "    .dataframe tbody tr th:only-of-type {\n",
       "        vertical-align: middle;\n",
       "    }\n",
       "\n",
       "    .dataframe tbody tr th {\n",
       "        vertical-align: top;\n",
       "    }\n",
       "\n",
       "    .dataframe thead th {\n",
       "        text-align: right;\n",
       "    }\n",
       "</style>\n",
       "<table border=\"1\" class=\"dataframe\">\n",
       "  <thead>\n",
       "    <tr style=\"text-align: right;\">\n",
       "      <th></th>\n",
       "      <th>S.no</th>\n",
       "      <th>Tiktoker name</th>\n",
       "      <th>Tiktok name</th>\n",
       "      <th>Subscribers</th>\n",
       "      <th>Views avg.</th>\n",
       "      <th>Likes avg.</th>\n",
       "      <th>Comments avg.</th>\n",
       "      <th>Shares avg.</th>\n",
       "      <th>Month</th>\n",
       "    </tr>\n",
       "  </thead>\n",
       "  <tbody>\n",
       "    <tr>\n",
       "      <th>0</th>\n",
       "      <td>1</td>\n",
       "      <td>jypestraykids</td>\n",
       "      <td>Stray Kids</td>\n",
       "      <td>13.8M</td>\n",
       "      <td>6.4M</td>\n",
       "      <td>2.3M</td>\n",
       "      <td>50.2K</td>\n",
       "      <td>34.2K</td>\n",
       "      <td>September</td>\n",
       "    </tr>\n",
       "  </tbody>\n",
       "</table>\n",
       "</div>"
      ],
      "text/plain": [
       "   S.no  Tiktoker name Tiktok name Subscribers Views avg. Likes avg.  \\\n",
       "0     1  jypestraykids  Stray Kids       13.8M       6.4M       2.3M   \n",
       "\n",
       "  Comments avg. Shares avg.      Month  \n",
       "0         50.2K       34.2K  September  "
      ]
     },
     "execution_count": 166,
     "metadata": {},
     "output_type": "execute_result"
    }
   ],
   "source": [
    "tt_sep= pd.read_csv('DATA/Tiktoksep2022.csv')\n",
    "tt_sep = tt_sep.assign(Month='September')\n",
    "tt_sep.head(1)"
   ]
  },
  {
   "cell_type": "code",
   "execution_count": 167,
   "id": "cc17ebc8-1d3c-4d15-be1d-fbb81dfb6030",
   "metadata": {
    "jupyter": {
     "source_hidden": true
    },
    "tags": []
   },
   "outputs": [
    {
     "data": {
      "text/html": [
       "<div>\n",
       "<style scoped>\n",
       "    .dataframe tbody tr th:only-of-type {\n",
       "        vertical-align: middle;\n",
       "    }\n",
       "\n",
       "    .dataframe tbody tr th {\n",
       "        vertical-align: top;\n",
       "    }\n",
       "\n",
       "    .dataframe thead th {\n",
       "        text-align: right;\n",
       "    }\n",
       "</style>\n",
       "<table border=\"1\" class=\"dataframe\">\n",
       "  <thead>\n",
       "    <tr style=\"text-align: right;\">\n",
       "      <th></th>\n",
       "      <th>row-cell</th>\n",
       "      <th>Tiktoker name</th>\n",
       "      <th>Tiktok name</th>\n",
       "      <th>\\nFollowers</th>\n",
       "      <th>Views (Avg.)</th>\n",
       "      <th>Likes (Avg.)</th>\n",
       "      <th>Comments (Avg.)</th>\n",
       "      <th>Shares (Avg.)</th>\n",
       "      <th>Month</th>\n",
       "    </tr>\n",
       "  </thead>\n",
       "  <tbody>\n",
       "    <tr>\n",
       "      <th>0</th>\n",
       "      <td>NaN</td>\n",
       "      <td>NaN</td>\n",
       "      <td>NaN</td>\n",
       "      <td>NaN</td>\n",
       "      <td>NaN</td>\n",
       "      <td>NaN</td>\n",
       "      <td>NaN</td>\n",
       "      <td>NaN</td>\n",
       "      <td>November</td>\n",
       "    </tr>\n",
       "  </tbody>\n",
       "</table>\n",
       "</div>"
      ],
      "text/plain": [
       "   row-cell Tiktoker name Tiktok name \\nFollowers Views (Avg.) Likes (Avg.)  \\\n",
       "0       NaN           NaN         NaN         NaN          NaN          NaN   \n",
       "\n",
       "  Comments (Avg.) Shares (Avg.)     Month  \n",
       "0             NaN           NaN  November  "
      ]
     },
     "execution_count": 167,
     "metadata": {},
     "output_type": "execute_result"
    }
   ],
   "source": [
    "tt_nov= pd.read_csv('DATA/tiktoknov2022.csv')\n",
    "tt_nov = tt_nov.assign(Month='November')\n",
    "tt_nov.head(1)"
   ]
  },
  {
   "cell_type": "code",
   "execution_count": 168,
   "id": "ae345dbf-ae50-46cf-8c58-4858e560769a",
   "metadata": {
    "jupyter": {
     "source_hidden": true
    },
    "tags": []
   },
   "outputs": [
    {
     "data": {
      "text/html": [
       "<div>\n",
       "<style scoped>\n",
       "    .dataframe tbody tr th:only-of-type {\n",
       "        vertical-align: middle;\n",
       "    }\n",
       "\n",
       "    .dataframe tbody tr th {\n",
       "        vertical-align: top;\n",
       "    }\n",
       "\n",
       "    .dataframe thead th {\n",
       "        text-align: right;\n",
       "    }\n",
       "</style>\n",
       "<table border=\"1\" class=\"dataframe\">\n",
       "  <thead>\n",
       "    <tr style=\"text-align: right;\">\n",
       "      <th></th>\n",
       "      <th>Rank</th>\n",
       "      <th>Tiktoker name</th>\n",
       "      <th>Tiktok name</th>\n",
       "      <th>followers</th>\n",
       "      <th>views(avg)</th>\n",
       "      <th>likes(avg.)</th>\n",
       "      <th>comments(avg.)</th>\n",
       "      <th>shares(avg.)</th>\n",
       "      <th>Month</th>\n",
       "    </tr>\n",
       "  </thead>\n",
       "  <tbody>\n",
       "    <tr>\n",
       "      <th>0</th>\n",
       "      <td>1</td>\n",
       "      <td>mrbeast</td>\n",
       "      <td>MrBeast</td>\n",
       "      <td>60.3M</td>\n",
       "      <td>29.2M</td>\n",
       "      <td>3.5M</td>\n",
       "      <td>30.8K</td>\n",
       "      <td>7.2K</td>\n",
       "      <td>December</td>\n",
       "    </tr>\n",
       "  </tbody>\n",
       "</table>\n",
       "</div>"
      ],
      "text/plain": [
       "   Rank Tiktoker name Tiktok name followers views(avg) likes(avg.)  \\\n",
       "0     1       mrbeast     MrBeast     60.3M      29.2M        3.5M   \n",
       "\n",
       "  comments(avg.) shares(avg.)     Month  \n",
       "0          30.8K         7.2K  December  "
      ]
     },
     "execution_count": 168,
     "metadata": {},
     "output_type": "execute_result"
    }
   ],
   "source": [
    "tt_dec= pd.read_csv('DATA/TIKTOKDEC2022.csv')\n",
    "tt_dec = tt_dec.assign(Month='December')\n",
    "tt_dec.head(1)"
   ]
  },
  {
   "attachments": {},
   "cell_type": "markdown",
   "id": "123616c8-3fa2-4070-9cda-9cbd3fbb57ec",
   "metadata": {
    "tags": []
   },
   "source": [
    "### Youtube:"
   ]
  },
  {
   "cell_type": "code",
   "execution_count": 169,
   "id": "1c34839f-745c-44cd-93d7-b5d1b5a971ed",
   "metadata": {
    "tags": []
   },
   "outputs": [
    {
     "data": {
      "text/html": [
       "<div>\n",
       "<style scoped>\n",
       "    .dataframe tbody tr th:only-of-type {\n",
       "        vertical-align: middle;\n",
       "    }\n",
       "\n",
       "    .dataframe tbody tr th {\n",
       "        vertical-align: top;\n",
       "    }\n",
       "\n",
       "    .dataframe thead th {\n",
       "        text-align: right;\n",
       "    }\n",
       "</style>\n",
       "<table border=\"1\" class=\"dataframe\">\n",
       "  <thead>\n",
       "    <tr style=\"text-align: right;\">\n",
       "      <th></th>\n",
       "      <th>channel name</th>\n",
       "      <th>youTuber</th>\n",
       "      <th>Category</th>\n",
       "      <th>Category_2</th>\n",
       "      <th>Subscribers count</th>\n",
       "      <th>Country</th>\n",
       "      <th>Views avg.</th>\n",
       "      <th>Likes avg</th>\n",
       "      <th>Comments avg.</th>\n",
       "      <th>Month</th>\n",
       "    </tr>\n",
       "  </thead>\n",
       "  <tbody>\n",
       "    <tr>\n",
       "      <th>0</th>\n",
       "      <td>juptube</td>\n",
       "      <td>Galinha Pintadinha</td>\n",
       "      <td>Music &amp; Dance</td>\n",
       "      <td>NaN</td>\n",
       "      <td>30.5M</td>\n",
       "      <td>-</td>\n",
       "      <td>0</td>\n",
       "      <td>N/A'</td>\n",
       "      <td>N/A'</td>\n",
       "      <td>June</td>\n",
       "    </tr>\n",
       "  </tbody>\n",
       "</table>\n",
       "</div>"
      ],
      "text/plain": [
       "  channel name            youTuber       Category Category_2  \\\n",
       "0      juptube  Galinha Pintadinha  Music & Dance        NaN   \n",
       "\n",
       "  Subscribers count Country Views avg. Likes avg Comments avg. Month  \n",
       "0             30.5M       -          0      N/A'          N/A'  June  "
      ]
     },
     "execution_count": 169,
     "metadata": {},
     "output_type": "execute_result"
    }
   ],
   "source": [
    "y_june= pd.read_csv('DATA/youtubejune2022.csv')\n",
    "y_june = y_june.assign(Month='June')\n",
    "y_june.head(1)"
   ]
  },
  {
   "cell_type": "code",
   "execution_count": 170,
   "id": "202b0355-e1b0-4a63-9ba6-99eb21ab5683",
   "metadata": {
    "tags": []
   },
   "outputs": [
    {
     "data": {
      "text/html": [
       "<div>\n",
       "<style scoped>\n",
       "    .dataframe tbody tr th:only-of-type {\n",
       "        vertical-align: middle;\n",
       "    }\n",
       "\n",
       "    .dataframe tbody tr th {\n",
       "        vertical-align: top;\n",
       "    }\n",
       "\n",
       "    .dataframe thead th {\n",
       "        text-align: right;\n",
       "    }\n",
       "</style>\n",
       "<table border=\"1\" class=\"dataframe\">\n",
       "  <thead>\n",
       "    <tr style=\"text-align: right;\">\n",
       "      <th></th>\n",
       "      <th>S.no</th>\n",
       "      <th>Name</th>\n",
       "      <th>Youtuber</th>\n",
       "      <th>Country</th>\n",
       "      <th>Subscribers</th>\n",
       "      <th>Category_2</th>\n",
       "      <th>Avg. views\\r\\n</th>\n",
       "      <th>Avg. likes</th>\n",
       "      <th>Avg Comments</th>\n",
       "      <th>Category_3</th>\n",
       "      <th>Month</th>\n",
       "    </tr>\n",
       "  </thead>\n",
       "  <tbody>\n",
       "    <tr>\n",
       "      <th>0</th>\n",
       "      <td>1</td>\n",
       "      <td>T-Series</td>\n",
       "      <td>tseries</td>\n",
       "      <td>India</td>\n",
       "      <td>224.4M</td>\n",
       "      <td>Music &amp; Dance</td>\n",
       "      <td>141.5K</td>\n",
       "      <td>4.6K</td>\n",
       "      <td>125</td>\n",
       "      <td>NaN</td>\n",
       "      <td>September</td>\n",
       "    </tr>\n",
       "  </tbody>\n",
       "</table>\n",
       "</div>"
      ],
      "text/plain": [
       "   S.no      Name Youtuber Country  Subscribers     Category_2 Avg. views\\r\\n  \\\n",
       "0     1  T-Series  tseries   India       224.4M  Music & Dance         141.5K   \n",
       "\n",
       "  Avg. likes Avg Comments Category_3      Month  \n",
       "0       4.6K          125        NaN  September  "
      ]
     },
     "execution_count": 170,
     "metadata": {},
     "output_type": "execute_result"
    }
   ],
   "source": [
    "y_sep= pd.read_csv('DATA/Youtubesep2022.csv')\n",
    "y_sep = y_sep.assign(Month='September')\n",
    "y_sep.head(1)"
   ]
  },
  {
   "cell_type": "code",
   "execution_count": 171,
   "id": "6c509b12-600a-4f17-ade4-1034cac73bfb",
   "metadata": {
    "tags": []
   },
   "outputs": [
    {
     "data": {
      "text/html": [
       "<div>\n",
       "<style scoped>\n",
       "    .dataframe tbody tr th:only-of-type {\n",
       "        vertical-align: middle;\n",
       "    }\n",
       "\n",
       "    .dataframe tbody tr th {\n",
       "        vertical-align: top;\n",
       "    }\n",
       "\n",
       "    .dataframe thead th {\n",
       "        text-align: right;\n",
       "    }\n",
       "</style>\n",
       "<table border=\"1\" class=\"dataframe\">\n",
       "  <thead>\n",
       "    <tr style=\"text-align: right;\">\n",
       "      <th></th>\n",
       "      <th>s.no</th>\n",
       "      <th>Youtube channel</th>\n",
       "      <th>youtuber name</th>\n",
       "      <th>Category</th>\n",
       "      <th>Followers</th>\n",
       "      <th>Country</th>\n",
       "      <th>\\nViews (Avg.)</th>\n",
       "      <th>Likes (Avg.)</th>\n",
       "      <th>Comments (Avg.)</th>\n",
       "      <th>Category-2</th>\n",
       "      <th>Month</th>\n",
       "    </tr>\n",
       "  </thead>\n",
       "  <tbody>\n",
       "    <tr>\n",
       "      <th>0</th>\n",
       "      <td>1</td>\n",
       "      <td>tseries</td>\n",
       "      <td>T-Series</td>\n",
       "      <td>Music &amp; Dance</td>\n",
       "      <td>229.5M</td>\n",
       "      <td>India</td>\n",
       "      <td>103.8K</td>\n",
       "      <td>2.8K</td>\n",
       "      <td>158</td>\n",
       "      <td>NaN</td>\n",
       "      <td>November</td>\n",
       "    </tr>\n",
       "  </tbody>\n",
       "</table>\n",
       "</div>"
      ],
      "text/plain": [
       "   s.no Youtube channel youtuber name       Category Followers Country  \\\n",
       "0     1         tseries      T-Series  Music & Dance    229.5M   India   \n",
       "\n",
       "  \\nViews (Avg.) Likes (Avg.) Comments (Avg.) Category-2     Month  \n",
       "0         103.8K         2.8K             158        NaN  November  "
      ]
     },
     "execution_count": 171,
     "metadata": {},
     "output_type": "execute_result"
    }
   ],
   "source": [
    "y_nov= pd.read_csv('DATA/youtubenov2022.csv')\n",
    "y_nov = y_nov.assign(Month='November')\n",
    "y_nov.head(1)"
   ]
  },
  {
   "cell_type": "code",
   "execution_count": 172,
   "id": "d74e87da-c4cf-4d76-bb7e-6cbce17bbe30",
   "metadata": {
    "tags": []
   },
   "outputs": [
    {
     "data": {
      "text/html": [
       "<div>\n",
       "<style scoped>\n",
       "    .dataframe tbody tr th:only-of-type {\n",
       "        vertical-align: middle;\n",
       "    }\n",
       "\n",
       "    .dataframe tbody tr th {\n",
       "        vertical-align: top;\n",
       "    }\n",
       "\n",
       "    .dataframe thead th {\n",
       "        text-align: right;\n",
       "    }\n",
       "</style>\n",
       "<table border=\"1\" class=\"dataframe\">\n",
       "  <thead>\n",
       "    <tr style=\"text-align: right;\">\n",
       "      <th></th>\n",
       "      <th>s.no</th>\n",
       "      <th>Youtube channel</th>\n",
       "      <th>youtuber name</th>\n",
       "      <th>Category</th>\n",
       "      <th>Followers</th>\n",
       "      <th>Country</th>\n",
       "      <th>\\nViews (Avg.)</th>\n",
       "      <th>Likes (Avg.)</th>\n",
       "      <th>Comments (Avg.)</th>\n",
       "      <th>Category-2</th>\n",
       "      <th>Month</th>\n",
       "    </tr>\n",
       "  </thead>\n",
       "  <tbody>\n",
       "    <tr>\n",
       "      <th>0</th>\n",
       "      <td>1</td>\n",
       "      <td>tseries</td>\n",
       "      <td>T-Series</td>\n",
       "      <td>Music &amp; Dance</td>\n",
       "      <td>229.5M</td>\n",
       "      <td>India</td>\n",
       "      <td>103.8K</td>\n",
       "      <td>2.8K</td>\n",
       "      <td>158</td>\n",
       "      <td>NaN</td>\n",
       "      <td>December</td>\n",
       "    </tr>\n",
       "  </tbody>\n",
       "</table>\n",
       "</div>"
      ],
      "text/plain": [
       "   s.no Youtube channel youtuber name       Category Followers Country  \\\n",
       "0     1         tseries      T-Series  Music & Dance    229.5M   India   \n",
       "\n",
       "  \\nViews (Avg.) Likes (Avg.) Comments (Avg.) Category-2     Month  \n",
       "0         103.8K         2.8K             158        NaN  December  "
      ]
     },
     "execution_count": 172,
     "metadata": {},
     "output_type": "execute_result"
    }
   ],
   "source": [
    "y_dec= pd.read_csv('DATA/YOUTUBEDEC2022.csv')\n",
    "y_dec = y_dec.assign(Month='December')\n",
    "y_dec.head(1)"
   ]
  },
  {
   "attachments": {},
   "cell_type": "markdown",
   "id": "2df5bc4e-e340-450d-9bff-87c55ed3379a",
   "metadata": {},
   "source": [
    "TikTok:\n",
    "* Username\n",
    "* Name\n",
    "* Followers o Suscribers\n",
    "* Views\n",
    "* Likes\n",
    "* Comments\n",
    "* Shares\n",
    "* Month"
   ]
  },
  {
   "attachments": {},
   "cell_type": "markdown",
   "id": "3810a5de-1511-42b0-bb68-87d2c0e8c8cc",
   "metadata": {},
   "source": [
    "Youtube:\n",
    "* Username\n",
    "* Name\n",
    "* Country\n",
    "* Suscribers o Folowers\n",
    "* Views\n",
    "* Likes\n",
    "* Comments\n",
    "* Category1\n",
    "* Category2\n",
    "* Month"
   ]
  },
  {
   "attachments": {},
   "cell_type": "markdown",
   "id": "79cda8b0",
   "metadata": {
    "tags": []
   },
   "source": [
    "# Análisis instagram"
   ]
  },
  {
   "attachments": {},
   "cell_type": "markdown",
   "id": "2878c4fe",
   "metadata": {},
   "source": [
    "### Número total de cuentas distintas en instagram: 2409"
   ]
  },
  {
   "cell_type": "code",
   "execution_count": 173,
   "id": "415d8331-23c3-4831-b126-fb6d463152b6",
   "metadata": {
    "tags": []
   },
   "outputs": [
    {
     "data": {
      "text/plain": [
       "1384"
      ]
     },
     "execution_count": 173,
     "metadata": {},
     "output_type": "execute_result"
    }
   ],
   "source": [
    "ig_months.username.drop_duplicates().size"
   ]
  },
  {
   "attachments": {},
   "cell_type": "markdown",
   "id": "5877afed-6d8d-459f-8635-6b45a5cf915c",
   "metadata": {},
   "source": [
    "### Media de seguidores\n",
    "Calcular el promedio de seguidores, authentic, engagement, de cada cuenta. Es decir, cada red social cuenta con 4 archivos de 4 meses distintos, si una cuenta aparece en los 4 meses, debera calcular el promedio de esos 4 meses, si una cuenta solo aparece 2 meses, se hara el promedio de esos dos meses y asi sucesivamente. SI el valor es nulo, vacio, N/A, o 0 no se debe promediar."
   ]
  },
  {
   "cell_type": "code",
   "execution_count": 174,
   "id": "4e8fd805",
   "metadata": {},
   "outputs": [],
   "source": [
    "ig_means = (\n",
    "    ig_months\n",
    "    .groupby('username')\n",
    "     # aggregate functiosn skips nan by deffault\n",
    "    .aggregate({\n",
    "        'followers': 'mean',\n",
    "        'authentic': 'mean',\n",
    "        'average': 'mean'\n",
    "    })    \n",
    "    .reset_index()\n",
    "    .sort_values('followers', ascending=False)\n",
    ")"
   ]
  },
  {
   "attachments": {},
   "cell_type": "markdown",
   "id": "366fe346",
   "metadata": {},
   "source": [
    "### Metricas de Valor\n",
    "\n",
    "Metricas de Valor de cada cuenta. Para este punto debe utilizar los promedios del punto anterior: Promedio Engagement/Promedio Followers."
   ]
  },
  {
   "cell_type": "code",
   "execution_count": 175,
   "id": "5e2527b2",
   "metadata": {},
   "outputs": [],
   "source": [
    "ig_means['engagement_ratio'] = ig_means.average / ig_means.followers"
   ]
  },
  {
   "cell_type": "code",
   "execution_count": 176,
   "id": "44a4ce3d",
   "metadata": {},
   "outputs": [
    {
     "data": {
      "text/html": [
       "<div>\n",
       "<style scoped>\n",
       "    .dataframe tbody tr th:only-of-type {\n",
       "        vertical-align: middle;\n",
       "    }\n",
       "\n",
       "    .dataframe tbody tr th {\n",
       "        vertical-align: top;\n",
       "    }\n",
       "\n",
       "    .dataframe thead th {\n",
       "        text-align: right;\n",
       "    }\n",
       "</style>\n",
       "<table border=\"1\" class=\"dataframe\">\n",
       "  <thead>\n",
       "    <tr style=\"text-align: right;\">\n",
       "      <th></th>\n",
       "      <th>username</th>\n",
       "      <th>followers</th>\n",
       "      <th>authentic</th>\n",
       "      <th>average</th>\n",
       "      <th>engagement_ratio</th>\n",
       "    </tr>\n",
       "  </thead>\n",
       "  <tbody>\n",
       "    <tr>\n",
       "      <th>536</th>\n",
       "      <td>instagram</td>\n",
       "      <td>5.497500e+08</td>\n",
       "      <td>310825.0</td>\n",
       "      <td>3.849750e+05</td>\n",
       "      <td>0.000700</td>\n",
       "    </tr>\n",
       "    <tr>\n",
       "      <th>270</th>\n",
       "      <td>cristiano</td>\n",
       "      <td>4.858000e+08</td>\n",
       "      <td>6575000.0</td>\n",
       "      <td>8.175000e+06</td>\n",
       "      <td>0.016828</td>\n",
       "    </tr>\n",
       "    <tr>\n",
       "      <th>740</th>\n",
       "      <td>leomessi</td>\n",
       "      <td>3.669750e+08</td>\n",
       "      <td>7100000.0</td>\n",
       "      <td>9.325000e+06</td>\n",
       "      <td>0.025410</td>\n",
       "    </tr>\n",
       "    <tr>\n",
       "      <th>709</th>\n",
       "      <td>kyliejenner</td>\n",
       "      <td>3.667750e+08</td>\n",
       "      <td>2950000.0</td>\n",
       "      <td>4.700000e+06</td>\n",
       "      <td>0.012814</td>\n",
       "    </tr>\n",
       "    <tr>\n",
       "      <th>1130</th>\n",
       "      <td>selenagomez</td>\n",
       "      <td>3.469500e+08</td>\n",
       "      <td>1750000.0</td>\n",
       "      <td>2.300000e+06</td>\n",
       "      <td>0.006629</td>\n",
       "    </tr>\n",
       "    <tr>\n",
       "      <th>...</th>\n",
       "      <td>...</td>\n",
       "      <td>...</td>\n",
       "      <td>...</td>\n",
       "      <td>...</td>\n",
       "      <td>...</td>\n",
       "    </tr>\n",
       "    <tr>\n",
       "      <th>394</th>\n",
       "      <td>feat.dino</td>\n",
       "      <td>2.700000e+06</td>\n",
       "      <td>716600.0</td>\n",
       "      <td>8.764000e+05</td>\n",
       "      <td>0.324593</td>\n",
       "    </tr>\n",
       "    <tr>\n",
       "      <th>718</th>\n",
       "      <td>lalala_lfamily</td>\n",
       "      <td>2.350000e+06</td>\n",
       "      <td>777300.0</td>\n",
       "      <td>9.299000e+05</td>\n",
       "      <td>0.395702</td>\n",
       "    </tr>\n",
       "    <tr>\n",
       "      <th>713</th>\n",
       "      <td>labels.hybe</td>\n",
       "      <td>2.300000e+06</td>\n",
       "      <td>891100.0</td>\n",
       "      <td>1.000000e+06</td>\n",
       "      <td>0.434783</td>\n",
       "    </tr>\n",
       "    <tr>\n",
       "      <th>681</th>\n",
       "      <td>kh1000le</td>\n",
       "      <td>2.266667e+06</td>\n",
       "      <td>980800.0</td>\n",
       "      <td>1.233333e+06</td>\n",
       "      <td>0.544118</td>\n",
       "    </tr>\n",
       "    <tr>\n",
       "      <th>1045</th>\n",
       "      <td>rampage_thedancer</td>\n",
       "      <td>2.200000e+06</td>\n",
       "      <td>1100000.0</td>\n",
       "      <td>1.300000e+06</td>\n",
       "      <td>0.590909</td>\n",
       "    </tr>\n",
       "  </tbody>\n",
       "</table>\n",
       "<p>1384 rows × 5 columns</p>\n",
       "</div>"
      ],
      "text/plain": [
       "               username     followers  authentic       average  \\\n",
       "536           instagram  5.497500e+08   310825.0  3.849750e+05   \n",
       "270           cristiano  4.858000e+08  6575000.0  8.175000e+06   \n",
       "740            leomessi  3.669750e+08  7100000.0  9.325000e+06   \n",
       "709         kyliejenner  3.667750e+08  2950000.0  4.700000e+06   \n",
       "1130        selenagomez  3.469500e+08  1750000.0  2.300000e+06   \n",
       "...                 ...           ...        ...           ...   \n",
       "394           feat.dino  2.700000e+06   716600.0  8.764000e+05   \n",
       "718      lalala_lfamily  2.350000e+06   777300.0  9.299000e+05   \n",
       "713         labels.hybe  2.300000e+06   891100.0  1.000000e+06   \n",
       "681            kh1000le  2.266667e+06   980800.0  1.233333e+06   \n",
       "1045  rampage_thedancer  2.200000e+06  1100000.0  1.300000e+06   \n",
       "\n",
       "      engagement_ratio  \n",
       "536           0.000700  \n",
       "270           0.016828  \n",
       "740           0.025410  \n",
       "709           0.012814  \n",
       "1130          0.006629  \n",
       "...                ...  \n",
       "394           0.324593  \n",
       "718           0.395702  \n",
       "713           0.434783  \n",
       "681           0.544118  \n",
       "1045          0.590909  \n",
       "\n",
       "[1384 rows x 5 columns]"
      ]
     },
     "execution_count": 176,
     "metadata": {},
     "output_type": "execute_result"
    }
   ],
   "source": [
    "ig_means"
   ]
  },
  {
   "attachments": {},
   "cell_type": "markdown",
   "id": "f36700b3",
   "metadata": {},
   "source": [
    "### Graficar iniciales\n",
    "\n",
    "Graficar en un histograma el numero de cuentas que inicien por cada letra del alfabeto (Mayusculas y minusculas son tomadas de igual forma) y agrupar en una sola categoria todos los que no comiencen con una letra del alfabeto."
   ]
  },
  {
   "cell_type": "code",
   "execution_count": 177,
   "id": "1fe4be3a",
   "metadata": {},
   "outputs": [],
   "source": [
    "def get_inicial(name: str) -> str:\n",
    "    name = str(name)\n",
    "    first_is_letter = re.search(r'^[a-zA-Z]', name)\n",
    "    if first_is_letter:\n",
    "        return name[0].upper()\n",
    "    else:\n",
    "        return 'other'"
   ]
  },
  {
   "cell_type": "code",
   "execution_count": 178,
   "id": "c99f7b4a",
   "metadata": {},
   "outputs": [
    {
     "data": {
      "image/png": "[encoded data removed]",
      "text/plain": [
       "<Figure size 640x480 with 1 Axes>"
      ]
     },
     "metadata": {},
     "output_type": "display_data"
    }
   ],
   "source": [
    "initials = (\n",
    "    ig_months.name\n",
    "    .map(get_inicial)\n",
    "    .value_counts()\n",
    "    .reset_index(name='frequency')\n",
    "    .rename(columns={\n",
    "        'index': 'letter',\n",
    "        'name': 'letter'\n",
    "    })\n",
    ")\n",
    "plt.bar(initials.letter, initials.frequency)\n",
    "plt.show()"
   ]
  },
  {
   "attachments": {},
   "cell_type": "markdown",
   "id": "ec156ed6",
   "metadata": {},
   "source": [
    "### ¿Cual es la cuenta de IG con mas caracteres en su nombre?"
   ]
  },
  {
   "cell_type": "code",
   "execution_count": 179,
   "id": "417242f0",
   "metadata": {},
   "outputs": [],
   "source": [
    "name_len = (\n",
    "    ig_months[['name', 'username']]\n",
    "    .assign(len_name = ig_months.name.map(lambda x: len(str(x))))\n",
    "    .assign(len_username = ig_months.username.map(lambda x: len(str(x))))\n",
    ")\n",
    "ids1 = name_len.loc[name_len.len_name.idxmax()]\n",
    "ids2 = name_len.loc[name_len.len_username.idxmax()]"
   ]
  },
  {
   "attachments": {},
   "cell_type": "markdown",
   "id": "33f07d13",
   "metadata": {},
   "source": [
    "**username**"
   ]
  },
  {
   "cell_type": "code",
   "execution_count": 180,
   "id": "39453869",
   "metadata": {},
   "outputs": [
    {
     "data": {
      "text/plain": [
       "name                  JUNGKOOK (전정국) Updates\n",
       "username        jungkook_bighitentertainment\n",
       "len_name                                  22\n",
       "len_username                              28\n",
       "Name: 465, dtype: object"
      ]
     },
     "execution_count": 180,
     "metadata": {},
     "output_type": "execute_result"
    }
   ],
   "source": [
    "ids2"
   ]
  },
  {
   "attachments": {},
   "cell_type": "markdown",
   "id": "168d5770",
   "metadata": {},
   "source": [
    "**name**"
   ]
  },
  {
   "cell_type": "code",
   "execution_count": 181,
   "id": "d99d2928",
   "metadata": {},
   "outputs": [
    {
     "data": {
      "text/plain": [
       "name            💓배우 이준기 LEE JOON GI , a.k.a Actor JG 李準基 💓\n",
       "username                                          actor_jg\n",
       "len_name                                                42\n",
       "len_username                                             8\n",
       "Name: 22, dtype: object"
      ]
     },
     "execution_count": 181,
     "metadata": {},
     "output_type": "execute_result"
    }
   ],
   "source": [
    "ids1"
   ]
  },
  {
   "attachments": {},
   "cell_type": "markdown",
   "id": "5f718498",
   "metadata": {},
   "source": [
    "### ¿Cuantas cuentas de Instagram tienen ya sea en su username o name las letras de las iniciales del primer nombre de cada uno de los integrantes de tu equipo?"
   ]
  },
  {
   "cell_type": "code",
   "execution_count": 182,
   "id": "e40c7a07",
   "metadata": {},
   "outputs": [
    {
     "data": {
      "text/plain": [
       "2836"
      ]
     },
     "execution_count": 182,
     "metadata": {},
     "output_type": "execute_result"
    }
   ],
   "source": [
    "(ig_months.name.str.contains(r'[GgIiMm]') | ig_months.name.str.contains(r'[GgIiMm]')).sum()"
   ]
  },
  {
   "attachments": {},
   "cell_type": "markdown",
   "id": "57a714fa",
   "metadata": {},
   "source": [
    "### Defina una métrica que identifique las 10 cuentas mas importantes de Instagram"
   ]
  },
  {
   "cell_type": "code",
   "execution_count": 67,
   "id": "4cfd2903",
   "metadata": {},
   "outputs": [
    {
     "data": {
      "text/html": [
       "<div>\n",
       "<style scoped>\n",
       "    .dataframe tbody tr th:only-of-type {\n",
       "        vertical-align: middle;\n",
       "    }\n",
       "\n",
       "    .dataframe tbody tr th {\n",
       "        vertical-align: top;\n",
       "    }\n",
       "\n",
       "    .dataframe thead th {\n",
       "        text-align: right;\n",
       "    }\n",
       "</style>\n",
       "<table border=\"1\" class=\"dataframe\">\n",
       "  <thead>\n",
       "    <tr style=\"text-align: right;\">\n",
       "      <th></th>\n",
       "      <th>username</th>\n",
       "      <th>followers_jun</th>\n",
       "      <th>authentic_jun</th>\n",
       "      <th>followers_sep</th>\n",
       "      <th>authentic_sep</th>\n",
       "      <th>followers_nov</th>\n",
       "      <th>authentic_nov</th>\n",
       "      <th>followers_dec</th>\n",
       "      <th>authentic_dec</th>\n",
       "    </tr>\n",
       "  </thead>\n",
       "  <tbody>\n",
       "    <tr>\n",
       "      <th>0</th>\n",
       "      <td>433</td>\n",
       "      <td>50700000.0</td>\n",
       "      <td>274900.0</td>\n",
       "      <td>51600000.0</td>\n",
       "      <td>339400.0</td>\n",
       "      <td>51800000.0</td>\n",
       "      <td>402800.0</td>\n",
       "      <td>58200000.0</td>\n",
       "      <td>404800.0</td>\n",
       "    </tr>\n",
       "    <tr>\n",
       "      <th>1</th>\n",
       "      <td>____kimwoobin</td>\n",
       "      <td>3600000.0</td>\n",
       "      <td>449400.0</td>\n",
       "      <td>NaN</td>\n",
       "      <td>NaN</td>\n",
       "      <td>3900000.0</td>\n",
       "      <td>452800.0</td>\n",
       "      <td>NaN</td>\n",
       "      <td>NaN</td>\n",
       "    </tr>\n",
       "    <tr>\n",
       "      <th>2</th>\n",
       "      <td>__youngbae__</td>\n",
       "      <td>13400000.0</td>\n",
       "      <td>269600.0</td>\n",
       "      <td>13600000.0</td>\n",
       "      <td>331000.0</td>\n",
       "      <td>13800000.0</td>\n",
       "      <td>340200.0</td>\n",
       "      <td>NaN</td>\n",
       "      <td>NaN</td>\n",
       "    </tr>\n",
       "    <tr>\n",
       "      <th>3</th>\n",
       "      <td>_agentgirl_</td>\n",
       "      <td>18600000.0</td>\n",
       "      <td>164400.0</td>\n",
       "      <td>NaN</td>\n",
       "      <td>NaN</td>\n",
       "      <td>NaN</td>\n",
       "      <td>NaN</td>\n",
       "      <td>18200000.0</td>\n",
       "      <td>128199.0</td>\n",
       "    </tr>\n",
       "    <tr>\n",
       "      <th>4</th>\n",
       "      <td>_hakkencoser_</td>\n",
       "      <td>3500000.0</td>\n",
       "      <td>525100.0</td>\n",
       "      <td>3700000.0</td>\n",
       "      <td>511800.0</td>\n",
       "      <td>3700000.0</td>\n",
       "      <td>500200.0</td>\n",
       "      <td>3900000.0</td>\n",
       "      <td>604800.0</td>\n",
       "    </tr>\n",
       "    <tr>\n",
       "      <th>...</th>\n",
       "      <td>...</td>\n",
       "      <td>...</td>\n",
       "      <td>...</td>\n",
       "      <td>...</td>\n",
       "      <td>...</td>\n",
       "      <td>...</td>\n",
       "      <td>...</td>\n",
       "      <td>...</td>\n",
       "      <td>...</td>\n",
       "    </tr>\n",
       "    <tr>\n",
       "      <th>1503</th>\n",
       "      <td>viavallen</td>\n",
       "      <td>NaN</td>\n",
       "      <td>NaN</td>\n",
       "      <td>NaN</td>\n",
       "      <td>NaN</td>\n",
       "      <td>NaN</td>\n",
       "      <td>NaN</td>\n",
       "      <td>27800000.0</td>\n",
       "      <td>67900.0</td>\n",
       "    </tr>\n",
       "    <tr>\n",
       "      <th>1504</th>\n",
       "      <td>labels.hybe</td>\n",
       "      <td>NaN</td>\n",
       "      <td>NaN</td>\n",
       "      <td>NaN</td>\n",
       "      <td>NaN</td>\n",
       "      <td>NaN</td>\n",
       "      <td>NaN</td>\n",
       "      <td>2300000.0</td>\n",
       "      <td>891100.0</td>\n",
       "    </tr>\n",
       "    <tr>\n",
       "      <th>1505</th>\n",
       "      <td>torylanez</td>\n",
       "      <td>NaN</td>\n",
       "      <td>NaN</td>\n",
       "      <td>NaN</td>\n",
       "      <td>NaN</td>\n",
       "      <td>NaN</td>\n",
       "      <td>NaN</td>\n",
       "      <td>11900000.0</td>\n",
       "      <td>85100.0</td>\n",
       "    </tr>\n",
       "    <tr>\n",
       "      <th>1506</th>\n",
       "      <td>feat.dino</td>\n",
       "      <td>NaN</td>\n",
       "      <td>NaN</td>\n",
       "      <td>NaN</td>\n",
       "      <td>NaN</td>\n",
       "      <td>NaN</td>\n",
       "      <td>NaN</td>\n",
       "      <td>2700000.0</td>\n",
       "      <td>716600.0</td>\n",
       "    </tr>\n",
       "    <tr>\n",
       "      <th>1507</th>\n",
       "      <td>ravindra.jadeja</td>\n",
       "      <td>NaN</td>\n",
       "      <td>NaN</td>\n",
       "      <td>NaN</td>\n",
       "      <td>NaN</td>\n",
       "      <td>NaN</td>\n",
       "      <td>NaN</td>\n",
       "      <td>4800000.0</td>\n",
       "      <td>388900.0</td>\n",
       "    </tr>\n",
       "  </tbody>\n",
       "</table>\n",
       "<p>1405 rows × 9 columns</p>\n",
       "</div>"
      ],
      "text/plain": [
       "             username followers_jun authentic_jun followers_sep authentic_sep  \\\n",
       "0                 433    50700000.0      274900.0    51600000.0      339400.0   \n",
       "1       ____kimwoobin     3600000.0      449400.0           NaN           NaN   \n",
       "2        __youngbae__    13400000.0      269600.0    13600000.0      331000.0   \n",
       "3         _agentgirl_    18600000.0      164400.0           NaN           NaN   \n",
       "4       _hakkencoser_     3500000.0      525100.0     3700000.0      511800.0   \n",
       "...               ...           ...           ...           ...           ...   \n",
       "1503        viavallen           NaN           NaN           NaN           NaN   \n",
       "1504      labels.hybe           NaN           NaN           NaN           NaN   \n",
       "1505        torylanez           NaN           NaN           NaN           NaN   \n",
       "1506        feat.dino           NaN           NaN           NaN           NaN   \n",
       "1507  ravindra.jadeja           NaN           NaN           NaN           NaN   \n",
       "\n",
       "     followers_nov authentic_nov  followers_dec  authentic_dec  \n",
       "0       51800000.0      402800.0     58200000.0       404800.0  \n",
       "1        3900000.0      452800.0            NaN            NaN  \n",
       "2       13800000.0      340200.0            NaN            NaN  \n",
       "3              NaN           NaN     18200000.0       128199.0  \n",
       "4        3700000.0      500200.0      3900000.0       604800.0  \n",
       "...            ...           ...            ...            ...  \n",
       "1503           NaN           NaN     27800000.0        67900.0  \n",
       "1504           NaN           NaN      2300000.0       891100.0  \n",
       "1505           NaN           NaN     11900000.0        85100.0  \n",
       "1506           NaN           NaN      2700000.0       716600.0  \n",
       "1507           NaN           NaN      4800000.0       388900.0  \n",
       "\n",
       "[1405 rows x 9 columns]"
      ]
     },
     "execution_count": 67,
     "metadata": {},
     "output_type": "execute_result"
    }
   ],
   "source": [
    "`engagement_size` es una metrica que toma en cuenta el engagement autentico y la cantidad de followers"
   ]
  },
  {
   "cell_type": "code",
   "execution_count": 183,
   "id": "0f737587",
   "metadata": {},
   "outputs": [
    {
     "ename": "AttributeError",
     "evalue": "'DataFrame' object has no attribute 'followers_rate'",
     "output_type": "error",
     "traceback": [
      "\u001b[0;31m---------------------------------------------------------------------------\u001b[0m",
      "\u001b[0;31mAttributeError\u001b[0m                            Traceback (most recent call last)",
      "Cell \u001b[0;32mIn[68], line 5\u001b[0m\n\u001b[1;32m      1\u001b[0m ig_means \u001b[39m=\u001b[39m (\n\u001b[1;32m      2\u001b[0m     ig_means\n\u001b[1;32m      3\u001b[0m     \u001b[39m.\u001b[39massign(authentic_engagement_ratio \u001b[39m=\u001b[39m ig_means\u001b[39m.\u001b[39mauthentic \u001b[39m/\u001b[39m ig_means\u001b[39m.\u001b[39mfollowers)\n\u001b[1;32m      4\u001b[0m     \u001b[39m.\u001b[39massign(followers_rate \u001b[39m=\u001b[39m ig_means\u001b[39m.\u001b[39mfollowers \u001b[39m/\u001b[39m \u001b[39mmax\u001b[39m(ig_means\u001b[39m.\u001b[39mfollowers))\n\u001b[0;32m----> 5\u001b[0m     \u001b[39m.\u001b[39massign(engagement_size \u001b[39m=\u001b[39m ig_means\u001b[39m.\u001b[39;49mfollowers_rate \u001b[39m*\u001b[39m ig_means\u001b[39m.\u001b[39mauthentic_engagement_ratio)\n\u001b[1;32m      6\u001b[0m     \u001b[39m.\u001b[39msort_values([\u001b[39m'\u001b[39m\u001b[39mengagement_size\u001b[39m\u001b[39m'\u001b[39m], ascending\u001b[39m=\u001b[39m\u001b[39mFalse\u001b[39;00m)\n\u001b[1;32m      7\u001b[0m )\n\u001b[1;32m      8\u001b[0m ig_means\n",
      "File \u001b[0;32m~/anaconda3/lib/python3.10/site-packages/pandas/core/generic.py:5902\u001b[0m, in \u001b[0;36mNDFrame.__getattr__\u001b[0;34m(self, name)\u001b[0m\n\u001b[1;32m   5895\u001b[0m \u001b[39mif\u001b[39;00m (\n\u001b[1;32m   5896\u001b[0m     name \u001b[39mnot\u001b[39;00m \u001b[39min\u001b[39;00m \u001b[39mself\u001b[39m\u001b[39m.\u001b[39m_internal_names_set\n\u001b[1;32m   5897\u001b[0m     \u001b[39mand\u001b[39;00m name \u001b[39mnot\u001b[39;00m \u001b[39min\u001b[39;00m \u001b[39mself\u001b[39m\u001b[39m.\u001b[39m_metadata\n\u001b[1;32m   5898\u001b[0m     \u001b[39mand\u001b[39;00m name \u001b[39mnot\u001b[39;00m \u001b[39min\u001b[39;00m \u001b[39mself\u001b[39m\u001b[39m.\u001b[39m_accessors\n\u001b[1;32m   5899\u001b[0m     \u001b[39mand\u001b[39;00m \u001b[39mself\u001b[39m\u001b[39m.\u001b[39m_info_axis\u001b[39m.\u001b[39m_can_hold_identifiers_and_holds_name(name)\n\u001b[1;32m   5900\u001b[0m ):\n\u001b[1;32m   5901\u001b[0m     \u001b[39mreturn\u001b[39;00m \u001b[39mself\u001b[39m[name]\n\u001b[0;32m-> 5902\u001b[0m \u001b[39mreturn\u001b[39;00m \u001b[39mobject\u001b[39;49m\u001b[39m.\u001b[39;49m\u001b[39m__getattribute__\u001b[39;49m(\u001b[39mself\u001b[39;49m, name)\n",
      "\u001b[0;31mAttributeError\u001b[0m: 'DataFrame' object has no attribute 'followers_rate'"
     ]
    }
   ],
   "source": [
    "ig_means = (\n",
    "    ig_means\n",
    "    .assign(\n",
    "        engagement_size = (ig_means.authentic / ig_means.followers) * (ig_means.followers / max(ig_means.followers))\n",
    "    )\n",
    "    .sort_values(['engagement_size'], ascending=False)\n",
    ")\n",
    "ig_means[['username', 'engagement_size']].head(10)"
   ]
  },
  {
   "attachments": {},
   "cell_type": "markdown",
   "id": "cd29e2ba",
   "metadata": {},
   "source": [
    "### Grafique un histograma del numero de seguidores promedio por pais."
   ]
  },
  {
   "cell_type": "code",
   "execution_count": 184,
   "id": "d35bdc4e",
   "metadata": {},
   "outputs": [
    {
     "data": {
      "image/png": "[encoded data removed]",
      "text/plain": [
       "<Figure size 640x480 with 1 Axes>"
      ]
     },
     "metadata": {},
     "output_type": "display_data"
    }
   ],
   "source": [
    "ig_country_means = (\n",
    "    ig_means\n",
    "    .merge(ig_months, on='username', how='left')\n",
    "    [['username', 'country', 'followers_x']]\n",
    "    .groupby('country')\n",
    "    .mean('followers_x')\n",
    "    .reset_index()\n",
    "    .rename(columns={\n",
    "        'followers_x': 'mean_followers'\n",
    "    })\n",
    "    .sort_values('mean_followers', ascending=False)\n",
    ")\n",
    "plt.bar(ig_country_means.country, ig_country_means.mean_followers)\n",
    "plt.show()"
   ]
  },
  {
   "attachments": {},
   "cell_type": "markdown",
   "id": "36a61520",
   "metadata": {},
   "source": [
    "### Cree una serie con todas las categorias existentes en todos los archivos de Instagram."
   ]
  },
  {
   "cell_type": "code",
   "execution_count": 185,
   "id": "bf3a301f",
   "metadata": {},
   "outputs": [],
   "source": [
    "ig_categories = (ig_months.category1 + ig_months.category2).dropna().drop_duplicates().reset_index(name='category')\n",
    "ig_categories = list(ig_categories.category)"
   ]
  },
  {
   "cell_type": "code",
   "execution_count": 186,
   "id": "4c589324",
   "metadata": {},
   "outputs": [
    {
     "data": {
      "text/plain": [
       "0          Adult content\n",
       "1                Gadgets\n",
       "2                 Luxury\n",
       "3                 Retail\n",
       "4              Lifestyle\n",
       "5                Coaches\n",
       "6                 Beauty\n",
       "7                 Family\n",
       "8     Sports with a ball\n",
       "9                  Shows\n",
       "10           Photography\n",
       "11             Happiness\n",
       "12            Motorbikes\n",
       "13               Artists\n",
       "14               Fashion\n",
       "15            Journalism\n",
       "16               Outfits\n",
       "17             Economics\n",
       "18                  Toys\n",
       "19              Modeling\n",
       "20                Gaming\n",
       "21                Travel\n",
       "22         Winter sports\n",
       "23                Sports\n",
       "24                   Gym\n",
       "25          Technologies\n",
       "26             Marketing\n",
       "27               Science\n",
       "28              Politics\n",
       "29               Careers\n",
       "30                 Music\n",
       "dtype: object"
      ]
     },
     "execution_count": 186,
     "metadata": {},
     "output_type": "execute_result"
    }
   ],
   "source": [
    "category_re = r'[A-Z][a-z\\s]+[a-z]$'\n",
    "res = set()\n",
    "for element in ig_categories:\n",
    "    has_categories = re.findall(category_re, str(element))\n",
    "    if has_categories:\n",
    "        res = res.union(set(has_categories))\n",
    "\n",
    "ig_categories = pd.Series(list(res))\n",
    "ig_categories"
   ]
  },
  {
   "attachments": {},
   "cell_type": "markdown",
   "id": "51f2cc4f",
   "metadata": {},
   "source": [
    "### Cree una serie con todos los paises que encuentre en los archivos."
   ]
  },
  {
   "cell_type": "code",
   "execution_count": 187,
   "id": "3120f750",
   "metadata": {},
   "outputs": [
    {
     "data": {
      "text/plain": [
       "0                      Spain\n",
       "1                  Indonesia\n",
       "3                     Russia\n",
       "4              United States\n",
       "8                     Brazil\n",
       "9                     Poland\n",
       "10               South Korea\n",
       "20                     India\n",
       "21                   Morocco\n",
       "25                    Turkey\n",
       "33                     Egypt\n",
       "40                     Chile\n",
       "45                      Iran\n",
       "49                     Italy\n",
       "53                    Mexico\n",
       "64                  Colombia\n",
       "67                 Argentina\n",
       "88                     Japan\n",
       "96                      Iraq\n",
       "103           United Kingdom\n",
       "123              Philippines\n",
       "128                  Germany\n",
       "217                  Nigeria\n",
       "237                   Serbia\n",
       "263                  Albania\n",
       "288     United Arab Emirates\n",
       "409                    China\n",
       "470                   France\n",
       "504               Kazakhstan\n",
       "530                 Thailand\n",
       "668                    Syria\n",
       "786                  Algeria\n",
       "819                 Pakistan\n",
       "1250                   Yemen\n",
       "1960                 Romania\n",
       "3102                Ethiopia\n",
       "3313               Australia\n",
       "3686                Portugal\n",
       "Name: country, dtype: object"
      ]
     },
     "execution_count": 187,
     "metadata": {},
     "output_type": "execute_result"
    }
   ],
   "source": [
    "all_countries = ig_months.country.dropna().drop_duplicates()\n",
    "all_countries"
   ]
  },
  {
   "attachments": {},
   "cell_type": "markdown",
   "id": "1683ac79",
   "metadata": {},
   "source": [
    "### Grafique en un histograma el numero de seguidores por categoria."
   ]
  },
  {
   "cell_type": "code",
   "execution_count": 188,
   "id": "8d9ea084",
   "metadata": {},
   "outputs": [],
   "source": [
    "# ig_category_followers = (\n",
    "#     all_categories\n",
    "#     .merge(ig_months, on='categorie', how='left')\n",
    "#     [['username', 'country', 'followers_x']]\n",
    "#     .groupby('country')\n",
    "#     .mean('followers_x')\n",
    "#     .reset_index()\n",
    "#     .rename(columns={\n",
    "#         'followers_x': 'mean_followers'\n",
    "#     })\n",
    "#     .sort_values('mean_followers', ascending=False)\n",
    "# )\n",
    "# plt.bar(ig_country_means.country, ig_country_means.mean_followers)\n",
    "# plt.show()"
   ]
  },
  {
   "attachments": {},
   "cell_type": "markdown",
   "id": "41a67423-d750-400b-b0dc-86198d0bb2fe",
   "metadata": {},
   "source": [
    "## <u>Leer los datos que en el nombre no contienen mes (resumen):</u></br>"
   ]
  },
  {
   "cell_type": "code",
   "execution_count": 189,
   "id": "708f29aa-0d6c-468f-9396-4849bcd63680",
   "metadata": {
    "tags": []
   },
   "outputs": [
    {
     "data": {
      "text/html": [
       "<div>\n",
       "<style scoped>\n",
       "    .dataframe tbody tr th:only-of-type {\n",
       "        vertical-align: middle;\n",
       "    }\n",
       "\n",
       "    .dataframe tbody tr th {\n",
       "        vertical-align: top;\n",
       "    }\n",
       "\n",
       "    .dataframe thead th {\n",
       "        text-align: right;\n",
       "    }\n",
       "</style>\n",
       "<table border=\"1\" class=\"dataframe\">\n",
       "  <thead>\n",
       "    <tr style=\"text-align: right;\">\n",
       "      <th></th>\n",
       "      <th>Influencer insta name</th>\n",
       "      <th>instagram name</th>\n",
       "      <th>category_1</th>\n",
       "      <th>category_2</th>\n",
       "      <th>Followers</th>\n",
       "      <th>Audience country(mostly)</th>\n",
       "      <th>Authentic engagement\\r\\n</th>\n",
       "      <th>Engagement avg\\r\\n</th>\n",
       "    </tr>\n",
       "  </thead>\n",
       "  <tbody>\n",
       "    <tr>\n",
       "      <th>0</th>\n",
       "      <td>433</td>\n",
       "      <td>433</td>\n",
       "      <td>Sports with a ball</td>\n",
       "      <td>NaN</td>\n",
       "      <td>48.5M</td>\n",
       "      <td>Spain</td>\n",
       "      <td>383.1K</td>\n",
       "      <td>637K</td>\n",
       "    </tr>\n",
       "    <tr>\n",
       "      <th>1</th>\n",
       "      <td>__youngbae__</td>\n",
       "      <td>TAEYANG</td>\n",
       "      <td>Music</td>\n",
       "      <td>NaN</td>\n",
       "      <td>12.7M</td>\n",
       "      <td>Indonesia</td>\n",
       "      <td>478K</td>\n",
       "      <td>542.3K</td>\n",
       "    </tr>\n",
       "    <tr>\n",
       "      <th>2</th>\n",
       "      <td>_agentgirl_</td>\n",
       "      <td>НАСТЯ ИВЛЕЕВА</td>\n",
       "      <td>Shows</td>\n",
       "      <td>NaN</td>\n",
       "      <td>18.8M</td>\n",
       "      <td>Russia</td>\n",
       "      <td>310.8K</td>\n",
       "      <td>377.9K</td>\n",
       "    </tr>\n",
       "    <tr>\n",
       "      <th>3</th>\n",
       "      <td>_imyour_joy</td>\n",
       "      <td>Joy</td>\n",
       "      <td>Lifestyle</td>\n",
       "      <td>NaN</td>\n",
       "      <td>13.5M</td>\n",
       "      <td>Indonesia</td>\n",
       "      <td>1.1M</td>\n",
       "      <td>1.4M</td>\n",
       "    </tr>\n",
       "    <tr>\n",
       "      <th>4</th>\n",
       "      <td>_jeongjaehyun</td>\n",
       "      <td>Jaehyun</td>\n",
       "      <td>NaN</td>\n",
       "      <td>NaN</td>\n",
       "      <td>11.1M</td>\n",
       "      <td>Indonesia</td>\n",
       "      <td>2.5M</td>\n",
       "      <td>3.1M</td>\n",
       "    </tr>\n",
       "    <tr>\n",
       "      <th>...</th>\n",
       "      <td>...</td>\n",
       "      <td>...</td>\n",
       "      <td>...</td>\n",
       "      <td>...</td>\n",
       "      <td>...</td>\n",
       "      <td>...</td>\n",
       "      <td>...</td>\n",
       "      <td>...</td>\n",
       "    </tr>\n",
       "    <tr>\n",
       "      <th>995</th>\n",
       "      <td>zendaya</td>\n",
       "      <td>Zendaya</td>\n",
       "      <td>Cinema &amp; Actors/actresses</td>\n",
       "      <td>Fashion</td>\n",
       "      <td>136.1M</td>\n",
       "      <td>United States</td>\n",
       "      <td>6.4M</td>\n",
       "      <td>8.6M</td>\n",
       "    </tr>\n",
       "    <tr>\n",
       "      <th>996</th>\n",
       "      <td>zidane</td>\n",
       "      <td>zidane</td>\n",
       "      <td>Sports with a ball</td>\n",
       "      <td>NaN</td>\n",
       "      <td>31.2M</td>\n",
       "      <td>Spain</td>\n",
       "      <td>546K</td>\n",
       "      <td>744.1K</td>\n",
       "    </tr>\n",
       "    <tr>\n",
       "      <th>997</th>\n",
       "      <td>zkdlin</td>\n",
       "      <td>KAI</td>\n",
       "      <td>Music</td>\n",
       "      <td>NaN</td>\n",
       "      <td>13.9M</td>\n",
       "      <td>Indonesia</td>\n",
       "      <td>1.3M</td>\n",
       "      <td>1.6M</td>\n",
       "    </tr>\n",
       "    <tr>\n",
       "      <th>998</th>\n",
       "      <td>zoeisabellakravitz</td>\n",
       "      <td>Zoë Kravitz</td>\n",
       "      <td>Cinema &amp; Actors/actresses</td>\n",
       "      <td>NaN</td>\n",
       "      <td>8.2M</td>\n",
       "      <td>United States</td>\n",
       "      <td>583K</td>\n",
       "      <td>885.5K</td>\n",
       "    </tr>\n",
       "    <tr>\n",
       "      <th>999</th>\n",
       "      <td>zoesugg</td>\n",
       "      <td>Zoë Sugg</td>\n",
       "      <td>Lifestyle</td>\n",
       "      <td>Business &amp; Careers</td>\n",
       "      <td>9.4M</td>\n",
       "      <td>United Kingdom</td>\n",
       "      <td>208.7K</td>\n",
       "      <td>289.3K</td>\n",
       "    </tr>\n",
       "  </tbody>\n",
       "</table>\n",
       "<p>1000 rows × 8 columns</p>\n",
       "</div>"
      ],
      "text/plain": [
       "    Influencer insta name instagram name                 category_1  \\\n",
       "0                     433            433         Sports with a ball   \n",
       "1            __youngbae__        TAEYANG                      Music   \n",
       "2             _agentgirl_  НАСТЯ ИВЛЕЕВА                      Shows   \n",
       "3             _imyour_joy            Joy                  Lifestyle   \n",
       "4           _jeongjaehyun        Jaehyun                        NaN   \n",
       "..                    ...            ...                        ...   \n",
       "995               zendaya        Zendaya  Cinema & Actors/actresses   \n",
       "996                zidane         zidane         Sports with a ball   \n",
       "997                zkdlin            KAI                      Music   \n",
       "998    zoeisabellakravitz   Zoë Kravitz  Cinema & Actors/actresses   \n",
       "999               zoesugg      Zoë Sugg                  Lifestyle   \n",
       "\n",
       "             category_2 Followers Audience country(mostly)  \\\n",
       "0                   NaN     48.5M                    Spain   \n",
       "1                   NaN     12.7M                Indonesia   \n",
       "2                   NaN     18.8M                   Russia   \n",
       "3                   NaN     13.5M                Indonesia   \n",
       "4                   NaN     11.1M                Indonesia   \n",
       "..                  ...       ...                      ...   \n",
       "995             Fashion    136.1M            United States   \n",
       "996                 NaN     31.2M                    Spain   \n",
       "997                 NaN     13.9M                Indonesia   \n",
       "998                 NaN      8.2M            United States   \n",
       "999  Business & Careers      9.4M           United Kingdom   \n",
       "\n",
       "    Authentic engagement\\r\\n Engagement avg\\r\\n  \n",
       "0                     383.1K               637K  \n",
       "1                       478K             542.3K  \n",
       "2                     310.8K             377.9K  \n",
       "3                       1.1M               1.4M  \n",
       "4                       2.5M               3.1M  \n",
       "..                       ...                ...  \n",
       "995                     6.4M               8.6M  \n",
       "996                     546K             744.1K  \n",
       "997                     1.3M               1.6M  \n",
       "998                     583K             885.5K  \n",
       "999                   208.7K             289.3K  \n",
       "\n",
       "[1000 rows x 8 columns]"
      ]
     },
     "execution_count": 189,
     "metadata": {},
     "output_type": "execute_result"
    }
   ],
   "source": [
    "ig_resumen = pd.read_csv('DATA/instagram.csv')\n",
    "ig_resumen"
   ]
  },
  {
   "cell_type": "code",
   "execution_count": 190,
   "id": "9d3719b2-c060-4f4d-9970-5ac50b388fff",
   "metadata": {
    "tags": []
   },
   "outputs": [
    {
     "data": {
      "text/html": [
       "<div>\n",
       "<style scoped>\n",
       "    .dataframe tbody tr th:only-of-type {\n",
       "        vertical-align: middle;\n",
       "    }\n",
       "\n",
       "    .dataframe tbody tr th {\n",
       "        vertical-align: top;\n",
       "    }\n",
       "\n",
       "    .dataframe thead th {\n",
       "        text-align: right;\n",
       "    }\n",
       "</style>\n",
       "<table border=\"1\" class=\"dataframe\">\n",
       "  <thead>\n",
       "    <tr style=\"text-align: right;\">\n",
       "      <th></th>\n",
       "      <th>Tiktoker name</th>\n",
       "      <th>Tiktok name</th>\n",
       "      <th>Subscribers count</th>\n",
       "      <th>Views avg.</th>\n",
       "      <th>Likes avg</th>\n",
       "      <th>Comments avg.</th>\n",
       "      <th>Shares avg</th>\n",
       "    </tr>\n",
       "  </thead>\n",
       "  <tbody>\n",
       "    <tr>\n",
       "      <th>0</th>\n",
       "      <td>ekin.721</td>\n",
       "      <td>MOMO’s</td>\n",
       "      <td>221.7K</td>\n",
       "      <td>26M</td>\n",
       "      <td>2.8M</td>\n",
       "      <td>29.4K</td>\n",
       "      <td>116.4K</td>\n",
       "    </tr>\n",
       "    <tr>\n",
       "      <th>1</th>\n",
       "      <td>dojacat</td>\n",
       "      <td>Doja Cat</td>\n",
       "      <td>22.2M</td>\n",
       "      <td>25.4M</td>\n",
       "      <td>5M</td>\n",
       "      <td>36.7K</td>\n",
       "      <td>46.8K</td>\n",
       "    </tr>\n",
       "    <tr>\n",
       "      <th>2</th>\n",
       "      <td>kiet.ac.quy</td>\n",
       "      <td>Kiệt Ắk Wỷ</td>\n",
       "      <td>2.1M</td>\n",
       "      <td>20.7M</td>\n",
       "      <td>3.5M</td>\n",
       "      <td>38.8K</td>\n",
       "      <td>33.9K</td>\n",
       "    </tr>\n",
       "    <tr>\n",
       "      <th>3</th>\n",
       "      <td>charlidamelio</td>\n",
       "      <td>charli d’amelio</td>\n",
       "      <td>135.4M</td>\n",
       "      <td>18.7M</td>\n",
       "      <td>2.6M</td>\n",
       "      <td>54.7K</td>\n",
       "      <td>35.2K</td>\n",
       "    </tr>\n",
       "    <tr>\n",
       "      <th>4</th>\n",
       "      <td>luvadepedreiro</td>\n",
       "      <td>Iran Ferreira (Lai)</td>\n",
       "      <td>11.4M</td>\n",
       "      <td>24.8M</td>\n",
       "      <td>2.6M</td>\n",
       "      <td>32.7K</td>\n",
       "      <td>26.8K</td>\n",
       "    </tr>\n",
       "    <tr>\n",
       "      <th>...</th>\n",
       "      <td>...</td>\n",
       "      <td>...</td>\n",
       "      <td>...</td>\n",
       "      <td>...</td>\n",
       "      <td>...</td>\n",
       "      <td>...</td>\n",
       "      <td>...</td>\n",
       "    </tr>\n",
       "    <tr>\n",
       "      <th>995</th>\n",
       "      <td>nicolebernaal</td>\n",
       "      <td>nicolebernaal</td>\n",
       "      <td>4M</td>\n",
       "      <td>2.2M</td>\n",
       "      <td>351.3K</td>\n",
       "      <td>957</td>\n",
       "      <td>195</td>\n",
       "    </tr>\n",
       "    <tr>\n",
       "      <th>996</th>\n",
       "      <td>bellaretamosa</td>\n",
       "      <td>bella</td>\n",
       "      <td>5.1M</td>\n",
       "      <td>2.5M</td>\n",
       "      <td>340.4K</td>\n",
       "      <td>901</td>\n",
       "      <td>145</td>\n",
       "    </tr>\n",
       "    <tr>\n",
       "      <th>997</th>\n",
       "      <td>tunico80</td>\n",
       "      <td>🌠Antonio Tonon🌠</td>\n",
       "      <td>5.8M</td>\n",
       "      <td>1M</td>\n",
       "      <td>206.8K</td>\n",
       "      <td>2K</td>\n",
       "      <td>2.1K</td>\n",
       "    </tr>\n",
       "    <tr>\n",
       "      <th>998</th>\n",
       "      <td>armon.warren</td>\n",
       "      <td>Armoney</td>\n",
       "      <td>1.2M</td>\n",
       "      <td>1.9M</td>\n",
       "      <td>300.8K</td>\n",
       "      <td>904</td>\n",
       "      <td>630</td>\n",
       "    </tr>\n",
       "    <tr>\n",
       "      <th>999</th>\n",
       "      <td>soanhvadiephihi</td>\n",
       "      <td>Soanh x Diệp 💎</td>\n",
       "      <td>1.6M</td>\n",
       "      <td>2.6M</td>\n",
       "      <td>273.2K</td>\n",
       "      <td>720</td>\n",
       "      <td>530</td>\n",
       "    </tr>\n",
       "  </tbody>\n",
       "</table>\n",
       "<p>1000 rows × 7 columns</p>\n",
       "</div>"
      ],
      "text/plain": [
       "       Tiktoker name          Tiktok name Subscribers count Views avg.  \\\n",
       "0           ekin.721               MOMO’s            221.7K        26M   \n",
       "1            dojacat             Doja Cat             22.2M      25.4M   \n",
       "2        kiet.ac.quy           Kiệt Ắk Wỷ              2.1M      20.7M   \n",
       "3      charlidamelio      charli d’amelio            135.4M      18.7M   \n",
       "4     luvadepedreiro  Iran Ferreira (Lai)             11.4M      24.8M   \n",
       "..               ...                  ...               ...        ...   \n",
       "995    nicolebernaal        nicolebernaal                4M       2.2M   \n",
       "996    bellaretamosa                bella              5.1M       2.5M   \n",
       "997         tunico80      🌠Antonio Tonon🌠              5.8M         1M   \n",
       "998     armon.warren              Armoney              1.2M       1.9M   \n",
       "999  soanhvadiephihi       Soanh x Diệp 💎              1.6M       2.6M   \n",
       "\n",
       "    Likes avg Comments avg. Shares avg  \n",
       "0        2.8M         29.4K     116.4K  \n",
       "1          5M         36.7K      46.8K  \n",
       "2        3.5M         38.8K      33.9K  \n",
       "3        2.6M         54.7K      35.2K  \n",
       "4        2.6M         32.7K      26.8K  \n",
       "..        ...           ...        ...  \n",
       "995    351.3K           957        195  \n",
       "996    340.4K           901        145  \n",
       "997    206.8K            2K       2.1K  \n",
       "998    300.8K           904        630  \n",
       "999    273.2K           720        530  \n",
       "\n",
       "[1000 rows x 7 columns]"
      ]
     },
     "execution_count": 190,
     "metadata": {},
     "output_type": "execute_result"
    }
   ],
   "source": [
    "tiktok_resumen = pd.read_csv('DATA/tiktok.csv')\n",
    "tiktok_resumen"
   ]
  },
  {
   "cell_type": "code",
   "execution_count": 191,
   "id": "9908bb8c-0b4b-4839-a055-cb903b94b988",
   "metadata": {
    "tags": []
   },
   "outputs": [
    {
     "data": {
      "text/html": [
       "<div>\n",
       "<style scoped>\n",
       "    .dataframe tbody tr th:only-of-type {\n",
       "        vertical-align: middle;\n",
       "    }\n",
       "\n",
       "    .dataframe tbody tr th {\n",
       "        vertical-align: top;\n",
       "    }\n",
       "\n",
       "    .dataframe thead th {\n",
       "        text-align: right;\n",
       "    }\n",
       "</style>\n",
       "<table border=\"1\" class=\"dataframe\">\n",
       "  <thead>\n",
       "    <tr style=\"text-align: right;\">\n",
       "      <th></th>\n",
       "      <th>youtuber name</th>\n",
       "      <th>channel name</th>\n",
       "      <th>Category</th>\n",
       "      <th>Subscribers</th>\n",
       "      <th>Audience Country</th>\n",
       "      <th>avg views</th>\n",
       "      <th>avg likes</th>\n",
       "      <th>avg comments</th>\n",
       "    </tr>\n",
       "  </thead>\n",
       "  <tbody>\n",
       "    <tr>\n",
       "      <th>0</th>\n",
       "      <td>tseries</td>\n",
       "      <td>T-Series</td>\n",
       "      <td>Music &amp; Dance</td>\n",
       "      <td>212.1M</td>\n",
       "      <td>India</td>\n",
       "      <td>323.7K</td>\n",
       "      <td>9.8K</td>\n",
       "      <td>290</td>\n",
       "    </tr>\n",
       "    <tr>\n",
       "      <th>1</th>\n",
       "      <td>checkgate</td>\n",
       "      <td>Cocomelon - Nursery Rhymes</td>\n",
       "      <td>Education</td>\n",
       "      <td>132.1M</td>\n",
       "      <td>NaN</td>\n",
       "      <td>13.8M</td>\n",
       "      <td>80.9K</td>\n",
       "      <td>NaN</td>\n",
       "    </tr>\n",
       "    <tr>\n",
       "      <th>2</th>\n",
       "      <td>setindia</td>\n",
       "      <td>SET India</td>\n",
       "      <td>NaN</td>\n",
       "      <td>130.4M</td>\n",
       "      <td>India</td>\n",
       "      <td>23.6K</td>\n",
       "      <td>314</td>\n",
       "      <td>21</td>\n",
       "    </tr>\n",
       "    <tr>\n",
       "      <th>3</th>\n",
       "      <td>PewDiePie</td>\n",
       "      <td>PewDiePie</td>\n",
       "      <td>Animation</td>\n",
       "      <td>111.4M</td>\n",
       "      <td>United States</td>\n",
       "      <td>1.4M</td>\n",
       "      <td>80.8K</td>\n",
       "      <td>4.6K</td>\n",
       "    </tr>\n",
       "    <tr>\n",
       "      <th>4</th>\n",
       "      <td>MrBeast6000</td>\n",
       "      <td>MrBeast</td>\n",
       "      <td>Video games</td>\n",
       "      <td>92.5M</td>\n",
       "      <td>United States</td>\n",
       "      <td>30.6M</td>\n",
       "      <td>1.7M</td>\n",
       "      <td>67.7K</td>\n",
       "    </tr>\n",
       "    <tr>\n",
       "      <th>...</th>\n",
       "      <td>...</td>\n",
       "      <td>...</td>\n",
       "      <td>...</td>\n",
       "      <td>...</td>\n",
       "      <td>...</td>\n",
       "      <td>...</td>\n",
       "      <td>...</td>\n",
       "      <td>...</td>\n",
       "    </tr>\n",
       "    <tr>\n",
       "      <th>995</th>\n",
       "      <td>FutParódias</td>\n",
       "      <td>FutParódias</td>\n",
       "      <td>Music &amp; Dance</td>\n",
       "      <td>9.2M</td>\n",
       "      <td>Brazil</td>\n",
       "      <td>1.4M</td>\n",
       "      <td>110.1K</td>\n",
       "      <td>2.5K</td>\n",
       "    </tr>\n",
       "    <tr>\n",
       "      <th>996</th>\n",
       "      <td>EL GATO</td>\n",
       "      <td>EL GATO</td>\n",
       "      <td>Toys</td>\n",
       "      <td>9.2M</td>\n",
       "      <td>Brazil</td>\n",
       "      <td>243.8K</td>\n",
       "      <td>30.7K</td>\n",
       "      <td>636</td>\n",
       "    </tr>\n",
       "    <tr>\n",
       "      <th>997</th>\n",
       "      <td>CinemaSins</td>\n",
       "      <td>CinemaSins</td>\n",
       "      <td>Movies</td>\n",
       "      <td>9.2M</td>\n",
       "      <td>United States</td>\n",
       "      <td>296K</td>\n",
       "      <td>10.2K</td>\n",
       "      <td>874</td>\n",
       "    </tr>\n",
       "    <tr>\n",
       "      <th>998</th>\n",
       "      <td>CricketICC</td>\n",
       "      <td>ICC</td>\n",
       "      <td>Sports</td>\n",
       "      <td>9.2M</td>\n",
       "      <td>India</td>\n",
       "      <td>15.2K</td>\n",
       "      <td>854</td>\n",
       "      <td>58</td>\n",
       "    </tr>\n",
       "    <tr>\n",
       "      <th>999</th>\n",
       "      <td>BRKsEDU</td>\n",
       "      <td>BRKsEDU</td>\n",
       "      <td>Animation</td>\n",
       "      <td>9.2M</td>\n",
       "      <td>Brazil</td>\n",
       "      <td>112.3K</td>\n",
       "      <td>9.8K</td>\n",
       "      <td>246</td>\n",
       "    </tr>\n",
       "  </tbody>\n",
       "</table>\n",
       "<p>1000 rows × 8 columns</p>\n",
       "</div>"
      ],
      "text/plain": [
       "    youtuber name                channel name       Category Subscribers  \\\n",
       "0         tseries                    T-Series  Music & Dance      212.1M   \n",
       "1       checkgate  Cocomelon - Nursery Rhymes      Education      132.1M   \n",
       "2        setindia                   SET India            NaN      130.4M   \n",
       "3       PewDiePie                   PewDiePie      Animation      111.4M   \n",
       "4     MrBeast6000                     MrBeast    Video games       92.5M   \n",
       "..            ...                         ...            ...         ...   \n",
       "995   FutParódias                 FutParódias  Music & Dance        9.2M   \n",
       "996       EL GATO                     EL GATO           Toys        9.2M   \n",
       "997    CinemaSins                  CinemaSins         Movies        9.2M   \n",
       "998    CricketICC                         ICC         Sports        9.2M   \n",
       "999       BRKsEDU                     BRKsEDU      Animation        9.2M   \n",
       "\n",
       "    Audience Country avg views avg likes avg comments  \n",
       "0              India    323.7K      9.8K          290  \n",
       "1                NaN     13.8M     80.9K          NaN  \n",
       "2              India     23.6K       314           21  \n",
       "3      United States      1.4M     80.8K         4.6K  \n",
       "4      United States     30.6M      1.7M        67.7K  \n",
       "..               ...       ...       ...          ...  \n",
       "995           Brazil      1.4M    110.1K         2.5K  \n",
       "996           Brazil    243.8K     30.7K          636  \n",
       "997    United States      296K     10.2K          874  \n",
       "998            India     15.2K       854           58  \n",
       "999           Brazil    112.3K      9.8K          246  \n",
       "\n",
       "[1000 rows x 8 columns]"
      ]
     },
     "execution_count": 191,
     "metadata": {},
     "output_type": "execute_result"
    }
   ],
   "source": [
    "youtube_resumen = pd.read_csv('DATA/youtube.csv')\n",
    "youtube_resumen"
   ]
  },
  {
   "cell_type": "code",
   "execution_count": null,
   "id": "77c71d3a",
   "metadata": {},
   "outputs": [],
   "source": [
    "#hola "
   ]
  }
 ],
 "metadata": {
  "kernelspec": {
   "display_name": "Python 3 (ipykernel)",
   "language": "python",
   "name": "python3"
  },
  "language_info": {
   "codemirror_mode": {
    "name": "ipython",
    "version": 3
   },
   "file_extension": ".py",
   "mimetype": "text/x-python",
   "name": "python",
   "nbconvert_exporter": "python",
   "pygments_lexer": "ipython3",
   "version": "3.10.9"
  }
 },
 "nbformat": 4,
 "nbformat_minor": 5
}
