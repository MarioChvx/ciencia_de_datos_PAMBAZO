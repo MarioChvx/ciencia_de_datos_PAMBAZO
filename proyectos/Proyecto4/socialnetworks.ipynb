{
 "cells": [
  {
   "cell_type": "markdown",
   "id": "66684af0-a3d5-4983-910e-a8b0c1983dec",
   "metadata": {},
   "source": [
    "# <b><center> Social Networks EDA </b></center>\n"
   ]
  },
  {
   "cell_type": "markdown",
   "id": "def6abdb-e041-45ff-a7f7-d90875ff1c72",
   "metadata": {
    "jp-MarkdownHeadingCollapsed": true,
    "tags": []
   },
   "source": [
    "## Entendimiento de los Datos:"
   ]
  },
  {
   "cell_type": "code",
   "execution_count": null,
   "id": "391350a2-08cd-4be2-ab7e-265b382a1fbe",
   "metadata": {
    "tags": []
   },
   "outputs": [],
   "source": [
    "import numpy as np\n",
    "import pandas as pd\n",
    "import matplotlib.pyplot as plt\n",
    "import seaborn as sns\n",
    "import pathlib\n",
    "import re\n",
    "from difflib import SequenceMatcher"
   ]
  },
  {
   "cell_type": "markdown",
   "id": "59959fc2-385c-47b7-92e0-e639e7ff5a5b",
   "metadata": {
    "tags": []
   },
   "source": [
    "## <u>Leer los datos que en el nombre contienen un mes:</u></br>"
   ]
  },
  {
   "cell_type": "markdown",
   "id": "a885eebf-582e-497c-8b53-bf8a1dc11621",
   "metadata": {
    "tags": []
   },
   "source": [
    "### <b>Instagram:</b>"
   ]
  },
  {
   "cell_type": "markdown",
   "id": "854e6951-f2cd-4dce-a728-44383b357b46",
   "metadata": {},
   "source": [
    "Cargar los 12 archivos que en el nombre tienen un mes, en 3  DataFrames, uno de cada red social, donde cada uno de los cuales debe contener las siguientes columnas:\n",
    "\n",
    "Instagram:\n",
    "* Username\n",
    "* Name\n",
    "* Subscribers o Followers\n",
    "* Country\n",
    "* Authentic\n",
    "* Engagement\n",
    "* Category1\n",
    "* Category2\n",
    "* Month"
   ]
  },
  {
   "cell_type": "code",
<<<<<<< HEAD
   "execution_count": null,
=======
   "execution_count": 32,
>>>>>>> eb40377 (arreglar nan de cantidades)
   "id": "b01a8202-3571-4623-8939-fd3b98205298",
   "metadata": {
    "tags": []
   },
   "outputs": [],
   "source": [
    "ig_june = (\n",
    "    pd.read_csv('DATA/instagramjune2022.csv')\n",
    "    .assign(Month='June')\n",
    "    .rename(columns={\n",
    "        \"instagram name\": \"username\",\n",
    "        \"influencer name \":\"name\",\n",
    "        \"Category_1\": \"category1\",\n",
    "        \"Category_2\": \"category2\",\n",
    "        \"Subscribers count\": \"followers\",\n",
    "        \"Views avg.\": \"country\",\n",
    "        \"Likes avg\": \"authentic\",\n",
    "        \"Comments avg.\": \"average\",\n",
    "        \"Month\": \"month\"})\n",
    ")"
   ]
  },
  {
   "cell_type": "code",
<<<<<<< HEAD
   "execution_count": null,
=======
   "execution_count": 33,
>>>>>>> eb40377 (arreglar nan de cantidades)
   "id": "a46059c1-ae44-4e3c-88d8-2ac7c6d1e878",
   "metadata": {
    "tags": []
   },
   "outputs": [],
   "source": [
    "ig_sep = (\n",
    "    pd.read_csv('DATA/instagramsep2022.csv')\n",
    "    .assign(Month='September')\n",
    "    .rename(columns={\n",
    "        \"Instagram name\": \"username\",\n",
    "        \" Name\": \"name\",\n",
    "        \"Subscribers\": \"followers\",\n",
    "        \"Audience country\": \"country\",\n",
    "        \"Authentic engagement\\n\": \"authentic\",\n",
    "        \"Engagement average\\r\\n\": \"average\",\n",
    "        \"Category_1\": \"category1\",\n",
    "        \"Category_2\": \"category2\",\n",
    "        \"Month\": \"month\"})\n",
    "    .drop('S.no', axis=1)\n",
    ")"
   ]
  },
  {
   "cell_type": "code",
<<<<<<< HEAD
   "execution_count": null,
=======
   "execution_count": 34,
>>>>>>> eb40377 (arreglar nan de cantidades)
   "id": "6f796886-ac38-428e-8591-3ae0871da635",
   "metadata": {
    "tags": []
   },
   "outputs": [],
   "source": [
    "ig_nov = (\n",
    "    pd.read_csv('DATA/instagramNov2022.csv')\n",
    "    .assign(Month='November')\n",
    "    .drop('s.no', axis=1)\n",
    "    .rename(columns={\n",
    "        \"Name\": \"username\",\n",
    "        \"Instagram Name\": \"name\",\n",
    "        \"Category-1\": \"category1\",\n",
    "        \"Followers\": \"followers\",\n",
    "        \"\\nCountry\": \"country\",\n",
    "        \"Eng. (Auth.)\": \"authentic\",\n",
    "        \"Eng. (Avg.)\": \"average\",\n",
    "        \"Category-2\": \"category2\",\n",
    "        \"Month\": \"month\"})\n",
    ")"
   ]
  },
  {
   "cell_type": "code",
<<<<<<< HEAD
   "execution_count": null,
=======
   "execution_count": 35,
>>>>>>> eb40377 (arreglar nan de cantidades)
   "id": "f9ef5b5a-18c0-4a1a-ad7a-3375600fcb88",
   "metadata": {
    "tags": []
   },
   "outputs": [],
   "source": [
    "ig_dec = (\n",
    "    pd.read_csv('DATA/INSTAGRAMDEC2022.csv')\n",
    "    .assign(Month='December')\n",
    "    .rename(columns={\n",
    "        \"name\": \"username\",\n",
    "        \"instagram name\": \"name\",\n",
    "        \"Category_1\": \"category1\",\n",
    "        \"Category_2\": \"category2\",\n",
    "        \"Eng. (Auth.)\": \"authentic\",\n",
    "        \"Eng. (Avg.)\": \"average\",\n",
    "        \"Month\": \"month\"})\n",
    ")"
   ]
  },
  {
<<<<<<< HEAD
=======
   "cell_type": "code",
   "execution_count": 36,
   "id": "399139e6",
   "metadata": {},
   "outputs": [
    {
     "data": {
      "text/plain": [
       "username       0\n",
       "name          26\n",
       "category1     95\n",
       "category2    724\n",
       "followers      0\n",
       "country        0\n",
       "authentic      0\n",
       "average       16\n",
       "month          0\n",
       "dtype: int64"
      ]
     },
     "execution_count": 36,
     "metadata": {},
     "output_type": "execute_result"
    }
   ],
   "source": [
    "ig_june.isna().sum()"
   ]
  },
  {
   "attachments": {},
>>>>>>> eb40377 (arreglar nan de cantidades)
   "cell_type": "markdown",
   "id": "a75614f5",
   "metadata": {},
   "source": [
    "Definiendo una función que transforma los números de texto a int en todo una columna"
   ]
  },
  {
   "cell_type": "code",
<<<<<<< HEAD
   "execution_count": null,
=======
   "execution_count": 37,
>>>>>>> eb40377 (arreglar nan de cantidades)
   "id": "7c3f05f7",
   "metadata": {},
   "outputs": [],
   "source": [
    "def cientific_int(column: pd.Series) -> pd.Series:\n",
    "    return (\n",
    "        column\n",
    "        .fillna('0')\n",
    "        .replace({'K': '*1e3', 'M': '*1e6', 'G':'*1e9'}, regex=True)\n",
    "        .map(pd.eval)\n",
    "        .astype(int)\n",
    "        .replace(0, np.nan)\n",
    "    )\n",
    "\n",
    "numeric_text_cols = ['followers', 'average', 'authentic']"
   ]
  },
  {
   "cell_type": "code",
<<<<<<< HEAD
   "execution_count": null,
=======
   "execution_count": 38,
>>>>>>> eb40377 (arreglar nan de cantidades)
   "id": "2547a2d1",
   "metadata": {},
   "outputs": [
    {
     "name": "stderr",
     "output_type": "stream",
     "text": [
<<<<<<< HEAD
      "<<<<<<< local\n",
      "/tmp/ipykernel_1128/3133020300.py:5: DeprecationWarning: In a future version, `df.iloc[:, i] = newvals` will attempt to set the values inplace instead of always setting a new array. To retain the old behavior, use either `df[df.columns[i]] = newvals` or, if columns are non-unique, `df.isetitem(i, newvals)`\n",
      "  ig_dec.loc[:, numeric_text_cols] = ig_dec[numeric_text_cols].apply(text_int)\n",
      "=======\n",
      "/tmp/ipykernel_23331/3713638186.py:5: DeprecationWarning: In a future version, `df.iloc[:, i] = newvals` will attempt to set the values inplace instead of always setting a new array. To retain the old behavior, use either `df[df.columns[i]] = newvals` or, if columns are non-unique, `df.isetitem(i, newvals)`\n",
      "  ig_dec.loc[:, numeric_text_cols] = ig_dec[numeric_text_cols].apply(cientific_int)\n",
      ">>>>>>> remote\n"
=======
      "/tmp/ipykernel_34492/3766823224.py:4: DeprecationWarning: In a future version, `df.iloc[:, i] = newvals` will attempt to set the values inplace instead of always setting a new array. To retain the old behavior, use either `df[df.columns[i]] = newvals` or, if columns are non-unique, `df.isetitem(i, newvals)`\n",
      "  ig_dec.loc[:, numeric_text_cols] = ig_dec[numeric_text_cols].apply(cientific_int)\n"
>>>>>>> eb40377 (arreglar nan de cantidades)
     ]
    }
   ],
   "source": [
<<<<<<< HEAD
    "ig_june = ig_june.dropna()\n",
    "ig_june.loc[:, numeric_text_cols] = ig_june[numeric_text_cols].apply(text_int)\n",
    "ig_sep.loc[:, numeric_text_cols] = ig_sep[numeric_text_cols].apply(text_int)\n",
    "ig_nov.loc[:, numeric_text_cols] = ig_nov[numeric_text_cols].apply(text_int)\n",
    "ig_dec.loc[:, numeric_text_cols] = ig_dec[numeric_text_cols].apply(text_int)"
=======
    "ig_june.loc[:, numeric_text_cols] = ig_june[numeric_text_cols].apply(cientific_int)\n",
    "ig_sep.loc[:, numeric_text_cols] = ig_sep[numeric_text_cols].apply(cientific_int)\n",
    "ig_nov.loc[:, numeric_text_cols] = ig_nov[numeric_text_cols].apply(cientific_int)\n",
    "ig_dec.loc[:, numeric_text_cols] = ig_dec[numeric_text_cols].apply(cientific_int)"
>>>>>>> eb40377 (arreglar nan de cantidades)
   ]
  },
  {
   "cell_type": "markdown",
   "id": "29763cf5",
   "metadata": {},
   "source": [
    "ig_months es la combinación de todos los meses, eliminando aquellos registros duplicados.\n",
    "Tener cuidado con los datos numéricos, ya que son datos incompletos. Para sacar promedios se tiene que considerar los df por separado"
   ]
  },
  {
   "cell_type": "code",
<<<<<<< HEAD
   "execution_count": null,
=======
   "execution_count": 39,
>>>>>>> eb40377 (arreglar nan de cantidades)
   "id": "cf891871-ae26-4e14-acc5-1df9334f8a83",
   "metadata": {
    "tags": []
   },
   "outputs": [],
   "source": [
    "ig_months = (\n",
    "    pd.concat([ig_june, ig_sep, ig_nov, ig_dec], ignore_index=True)\n",
    "    .drop(\"Rank\", axis=1)\n",
    "    .drop_duplicates()\n",
    ")"
   ]
  },
  {
   "cell_type": "markdown",
   "id": "1a9aa8bf",
   "metadata": {},
   "source": [
    "Verificando duplicados"
   ]
  },
  {
   "cell_type": "code",
<<<<<<< HEAD
   "execution_count": null,
=======
   "execution_count": 40,
>>>>>>> eb40377 (arreglar nan de cantidades)
   "id": "28691020-7605-4e5c-8e0b-adf96493b9f6",
   "metadata": {
    "tags": []
   },
   "outputs": [
    {
     "data": {
      "text/plain": [
       "0"
      ]
     },
<<<<<<< HEAD
     "execution_count": null,
=======
     "execution_count": 40,
>>>>>>> eb40377 (arreglar nan de cantidades)
     "metadata": {},
     "output_type": "execute_result"
    }
   ],
   "source": [
    "ig_months.duplicated().sum()"
   ]
  },
  {
   "cell_type": "markdown",
   "id": "6c50ac8e-db7b-4016-9e25-5cc8c635b25c",
   "metadata": {
    "jp-MarkdownHeadingCollapsed": true,
    "tags": []
   },
   "source": [
    "### TikTok:"
   ]
  },
  {
   "cell_type": "code",
<<<<<<< HEAD
   "execution_count": 10,
=======
   "execution_count": 41,
>>>>>>> eb40377 (arreglar nan de cantidades)
   "id": "279cae98-3616-4bbb-80c8-55f36d38ab01",
   "metadata": {
    "tags": []
   },
   "outputs": [
    {
     "data": {
      "text/html": [
       "<div>\n",
       "<style scoped>\n",
       "    .dataframe tbody tr th:only-of-type {\n",
       "        vertical-align: middle;\n",
       "    }\n",
       "\n",
       "    .dataframe tbody tr th {\n",
       "        vertical-align: top;\n",
       "    }\n",
       "\n",
       "    .dataframe thead th {\n",
       "        text-align: right;\n",
       "    }\n",
       "</style>\n",
       "<table border=\"1\" class=\"dataframe\">\n",
       "  <thead>\n",
       "    <tr style=\"text-align: right;\">\n",
       "      <th></th>\n",
       "      <th>username</th>\n",
       "      <th>name</th>\n",
       "      <th>subs</th>\n",
       "      <th>views</th>\n",
       "      <th>likes</th>\n",
       "      <th>comments</th>\n",
       "      <th>shares</th>\n",
       "      <th>month</th>\n",
       "    </tr>\n",
       "  </thead>\n",
       "  <tbody>\n",
       "    <tr>\n",
       "      <th>0</th>\n",
       "      <td>___nicoichi___</td>\n",
       "      <td>NICO【平成フラミンゴ】</td>\n",
       "      <td>1.3M</td>\n",
       "      <td>1.9M</td>\n",
       "      <td>225.3K</td>\n",
       "      <td>1.7K</td>\n",
       "      <td>1.1K</td>\n",
       "      <td>June</td>\n",
       "    </tr>\n",
       "  </tbody>\n",
       "</table>\n",
       "</div>"
      ],
      "text/plain": [
       "         username           name  subs views   likes comments shares month\n",
       "0  ___nicoichi___  NICO【平成フラミンゴ】  1.3M  1.9M  225.3K     1.7K   1.1K  June"
      ]
     },
<<<<<<< HEAD
     "execution_count": 10,
=======
     "execution_count": 41,
>>>>>>> eb40377 (arreglar nan de cantidades)
     "metadata": {},
     "output_type": "execute_result"
    }
   ],
   "source": [
    "tt_june = (\n",
    "    pd.read_csv('DATA/tiktokjune2022.csv')\n",
    "    .assign(Month='June')\n",
    "    .rename(columns={\n",
    "        \"Tiktoker\": \"username\",\n",
    "        \"influencer name\":\"name\",\n",
    "        \"Subscribers count\": \"subs\",\n",
    "        \"Views avg.\": \"views\",\n",
    "        \"Likes avg\": \"likes\",\n",
    "        \"Comments avg.\": \"comments\",\n",
    "        \"Shares avg\": \"shares\",\n",
    "        \"Month\": \"month\"\n",
    "    })\n",
    ")\n",
    "tt_june.head(1)"
   ]
  },
  {
   "cell_type": "code",
<<<<<<< HEAD
   "execution_count": 11,
=======
   "execution_count": 42,
>>>>>>> eb40377 (arreglar nan de cantidades)
   "id": "ca8e5cc5-0680-4e87-870c-8a808cbbf6c1",
   "metadata": {
    "tags": []
   },
   "outputs": [
    {
     "data": {
      "text/html": [
       "<div>\n",
       "<style scoped>\n",
       "    .dataframe tbody tr th:only-of-type {\n",
       "        vertical-align: middle;\n",
       "    }\n",
       "\n",
       "    .dataframe tbody tr th {\n",
       "        vertical-align: top;\n",
       "    }\n",
       "\n",
       "    .dataframe thead th {\n",
       "        text-align: right;\n",
       "    }\n",
       "</style>\n",
       "<table border=\"1\" class=\"dataframe\">\n",
       "  <thead>\n",
       "    <tr style=\"text-align: right;\">\n",
       "      <th></th>\n",
       "      <th>name</th>\n",
       "      <th>username</th>\n",
       "      <th>subs</th>\n",
       "      <th>views</th>\n",
       "      <th>likes</th>\n",
       "      <th>comments</th>\n",
       "      <th>shares</th>\n",
       "      <th>month</th>\n",
       "    </tr>\n",
       "  </thead>\n",
       "  <tbody>\n",
       "    <tr>\n",
       "      <th>0</th>\n",
       "      <td>jypestraykids</td>\n",
       "      <td>Stray Kids</td>\n",
       "      <td>13.8M</td>\n",
       "      <td>6.4M</td>\n",
       "      <td>2.3M</td>\n",
       "      <td>50.2K</td>\n",
       "      <td>34.2K</td>\n",
       "      <td>September</td>\n",
       "    </tr>\n",
       "  </tbody>\n",
       "</table>\n",
       "</div>"
      ],
      "text/plain": [
       "            name    username   subs views likes comments shares      month\n",
       "0  jypestraykids  Stray Kids  13.8M  6.4M  2.3M    50.2K  34.2K  September"
      ]
     },
<<<<<<< HEAD
     "execution_count": 11,
=======
     "execution_count": 42,
>>>>>>> eb40377 (arreglar nan de cantidades)
     "metadata": {},
     "output_type": "execute_result"
    }
   ],
   "source": [
    "tt_sep = (\n",
    "    pd.read_csv('DATA/Tiktoksep2022.csv')\n",
    "    .assign(Month='September')\n",
    "    .rename(columns={\n",
    "        \"Tiktoker name\": \"name\",\n",
    "        \"Tiktok name\":\"username\",\n",
    "        \"Subscribers\": \"subs\",\n",
    "        \"Views avg.\": \"views\",\n",
    "        \"Likes avg.\": \"likes\",\n",
    "        \"Comments avg.\": \"comments\",\n",
    "        \"Shares avg.\": \"shares\",\n",
    "        \"Month\": \"month\"\n",
    "    })\n",
    "    .drop(\"S.no\", axis=1)\n",
    ")\n",
    "tt_sep.head(1)"
   ]
  },
  {
   "cell_type": "code",
<<<<<<< HEAD
   "execution_count": 12,
=======
   "execution_count": 43,
>>>>>>> eb40377 (arreglar nan de cantidades)
   "id": "cc17ebc8-1d3c-4d15-be1d-fbb81dfb6030",
   "metadata": {
    "tags": []
   },
   "outputs": [
    {
     "data": {
      "text/html": [
       "<div>\n",
       "<style scoped>\n",
       "    .dataframe tbody tr th:only-of-type {\n",
       "        vertical-align: middle;\n",
       "    }\n",
       "\n",
       "    .dataframe tbody tr th {\n",
       "        vertical-align: top;\n",
       "    }\n",
       "\n",
       "    .dataframe thead th {\n",
       "        text-align: right;\n",
       "    }\n",
       "</style>\n",
       "<table border=\"1\" class=\"dataframe\">\n",
       "  <thead>\n",
       "    <tr style=\"text-align: right;\">\n",
       "      <th></th>\n",
       "      <th>name</th>\n",
       "      <th>username</th>\n",
       "      <th>subs</th>\n",
       "      <th>views</th>\n",
       "      <th>likes</th>\n",
       "      <th>comments</th>\n",
       "      <th>shares</th>\n",
       "      <th>month</th>\n",
       "    </tr>\n",
       "  </thead>\n",
       "  <tbody>\n",
       "    <tr>\n",
       "      <th>1</th>\n",
       "      <td>yossikramer</td>\n",
       "      <td>Yossi</td>\n",
       "      <td>145.6K</td>\n",
       "      <td>26.8M</td>\n",
       "      <td>2.2M</td>\n",
       "      <td>30.1K</td>\n",
       "      <td>71.2K</td>\n",
       "      <td>November</td>\n",
       "    </tr>\n",
       "  </tbody>\n",
       "</table>\n",
       "</div>"
      ],
      "text/plain": [
       "          name username    subs  views likes comments shares     month\n",
       "1  yossikramer    Yossi  145.6K  26.8M  2.2M    30.1K  71.2K  November"
      ]
     },
<<<<<<< HEAD
     "execution_count": 12,
=======
     "execution_count": 43,
>>>>>>> eb40377 (arreglar nan de cantidades)
     "metadata": {},
     "output_type": "execute_result"
    }
   ],
   "source": [
    "tt_nov = (\n",
    "    pd.read_csv('DATA/tiktoknov2022.csv')\n",
    "    .assign(Month='November')\n",
    "    .rename(columns={\n",
    "        \"Tiktoker name\": \"name\",\n",
    "        \"Tiktok name\":\"username\",\n",
    "        \"\\nFollowers\": \"subs\",\n",
    "        \"Views (Avg.)\": \"views\",\n",
    "        \"Likes (Avg.)\": \"likes\",\n",
    "        \"Comments (Avg.)\": \"comments\",\n",
    "        \"Shares (Avg.)\": \"shares\",\n",
    "        \"Month\": \"month\"\n",
    "    })\n",
    "    .drop(\"row-cell\", axis=1)\n",
    "    .drop(0)\n",
    ")\n",
    "tt_nov.head(1)"
   ]
  },
  {
   "cell_type": "code",
<<<<<<< HEAD
   "execution_count": 13,
=======
   "execution_count": 44,
>>>>>>> eb40377 (arreglar nan de cantidades)
   "id": "ae345dbf-ae50-46cf-8c58-4858e560769a",
   "metadata": {
    "tags": []
   },
   "outputs": [
    {
     "data": {
      "text/html": [
       "<div>\n",
       "<style scoped>\n",
       "    .dataframe tbody tr th:only-of-type {\n",
       "        vertical-align: middle;\n",
       "    }\n",
       "\n",
       "    .dataframe tbody tr th {\n",
       "        vertical-align: top;\n",
       "    }\n",
       "\n",
       "    .dataframe thead th {\n",
       "        text-align: right;\n",
       "    }\n",
       "</style>\n",
       "<table border=\"1\" class=\"dataframe\">\n",
       "  <thead>\n",
       "    <tr style=\"text-align: right;\">\n",
       "      <th></th>\n",
       "      <th>name</th>\n",
       "      <th>username</th>\n",
       "      <th>subs</th>\n",
       "      <th>views</th>\n",
       "      <th>likes</th>\n",
       "      <th>comments</th>\n",
       "      <th>shares</th>\n",
       "      <th>month</th>\n",
       "    </tr>\n",
       "  </thead>\n",
       "  <tbody>\n",
       "    <tr>\n",
       "      <th>0</th>\n",
       "      <td>mrbeast</td>\n",
       "      <td>MrBeast</td>\n",
       "      <td>60.3M</td>\n",
       "      <td>29.2M</td>\n",
       "      <td>3.5M</td>\n",
       "      <td>30.8K</td>\n",
       "      <td>7.2K</td>\n",
       "      <td>December</td>\n",
       "    </tr>\n",
       "  </tbody>\n",
       "</table>\n",
       "</div>"
      ],
      "text/plain": [
       "      name username   subs  views likes comments shares     month\n",
       "0  mrbeast  MrBeast  60.3M  29.2M  3.5M    30.8K   7.2K  December"
      ]
     },
<<<<<<< HEAD
     "execution_count": 13,
=======
     "execution_count": 44,
>>>>>>> eb40377 (arreglar nan de cantidades)
     "metadata": {},
     "output_type": "execute_result"
    }
   ],
   "source": [
    "tt_dec = (\n",
    "    pd.read_csv('DATA/TIKTOKDEC2022.csv')\n",
    "    .assign(Month='December')\n",
    "    .rename(columns={\n",
    "        \"Tiktoker name\": \"name\",\n",
    "        \"Tiktok name\":\"username\",\n",
    "        \"followers\": \"subs\",\n",
    "        \"views(avg)\": \"views\",\n",
    "        \"likes(avg.)\": \"likes\",\n",
    "        \"comments(avg.)\": \"comments\",\n",
    "        \"shares(avg.)\": \"shares\",\n",
    "        \"Month\": \"month\"\n",
    "    })\n",
    "    .drop(\"Rank\", axis=1)\n",
    ")\n",
    "tt_dec.head(1)"
   ]
  },
  {
   "cell_type": "code",
   "execution_count": 14,
   "id": "52ba6749-a9b2-42b4-ad2b-e346466c6c44",
   "metadata": {},
   "outputs": [],
   "source": [
    "numeric_text_cols = ['subs', 'views', 'likes', 'comments', 'shares']"
   ]
  },
  {
   "cell_type": "code",
   "execution_count": 15,
   "id": "c6a08387-ef52-4a10-92e7-64975d9b8835",
   "metadata": {},
   "outputs": [],
   "source": [
    "tt_june = tt_june.dropna()\n",
    "tt_june.loc[:, numeric_text_cols] = tt_june[numeric_text_cols].apply(text_int)\n",
    "tt_sep.loc[:, numeric_text_cols] = tt_sep[numeric_text_cols].apply(text_int)\n",
    "tt_nov.loc[:, numeric_text_cols] = tt_nov[numeric_text_cols].apply(text_int)\n",
    "tt_dec.loc[:, numeric_text_cols] = tt_dec[numeric_text_cols].apply(text_int)"
   ]
  },
  {
   "cell_type": "code",
   "execution_count": 16,
   "id": "319af7e5-c4b2-4c7a-a68b-747150100784",
   "metadata": {},
   "outputs": [
    {
     "data": {
      "text/html": [
       "<div>\n",
       "<style scoped>\n",
       "    .dataframe tbody tr th:only-of-type {\n",
       "        vertical-align: middle;\n",
       "    }\n",
       "\n",
       "    .dataframe tbody tr th {\n",
       "        vertical-align: top;\n",
       "    }\n",
       "\n",
       "    .dataframe thead th {\n",
       "        text-align: right;\n",
       "    }\n",
       "</style>\n",
       "<table border=\"1\" class=\"dataframe\">\n",
       "  <thead>\n",
       "    <tr style=\"text-align: right;\">\n",
       "      <th></th>\n",
       "      <th>username</th>\n",
       "      <th>name</th>\n",
       "      <th>subs</th>\n",
       "      <th>views</th>\n",
       "      <th>likes</th>\n",
       "      <th>comments</th>\n",
       "      <th>shares</th>\n",
       "      <th>month</th>\n",
       "    </tr>\n",
       "  </thead>\n",
       "  <tbody>\n",
       "    <tr>\n",
       "      <th>0</th>\n",
       "      <td>___nicoichi___</td>\n",
       "      <td>NICO【平成フラミンゴ】</td>\n",
       "      <td>1300000</td>\n",
       "      <td>1900000</td>\n",
       "      <td>225300</td>\n",
       "      <td>1700</td>\n",
       "      <td>1100</td>\n",
       "      <td>June</td>\n",
       "    </tr>\n",
       "    <tr>\n",
       "      <th>1</th>\n",
       "      <td>_.anime.edits_0</td>\n",
       "      <td>video</td>\n",
       "      <td>97000</td>\n",
       "      <td>1700000</td>\n",
       "      <td>75600</td>\n",
       "      <td>1500</td>\n",
       "      <td>8700</td>\n",
       "      <td>June</td>\n",
       "    </tr>\n",
       "    <tr>\n",
       "      <th>2</th>\n",
       "      <td>_.respect.boss._</td>\n",
       "      <td>Respect compilation 🤝🥶</td>\n",
       "      <td>1500000</td>\n",
       "      <td>4400000</td>\n",
       "      <td>241900</td>\n",
       "      <td>249</td>\n",
       "      <td>797</td>\n",
       "      <td>June</td>\n",
       "    </tr>\n",
       "  </tbody>\n",
       "</table>\n",
       "</div>"
      ],
      "text/plain": [
       "           username                    name     subs    views   likes  \\\n",
       "0    ___nicoichi___           NICO【平成フラミンゴ】  1300000  1900000  225300   \n",
       "1   _.anime.edits_0                   video    97000  1700000   75600   \n",
       "2  _.respect.boss._  Respect compilation 🤝🥶  1500000  4400000  241900   \n",
       "\n",
       "  comments shares month  \n",
       "0     1700   1100  June  \n",
       "1     1500   8700  June  \n",
       "2      249    797  June  "
      ]
     },
     "execution_count": 16,
     "metadata": {},
     "output_type": "execute_result"
    }
   ],
   "source": [
    "tt_months = (\n",
    "    pd.concat([tt_june, tt_sep, tt_nov, tt_dec], ignore_index=True)\n",
    "    .drop_duplicates()\n",
    ")\n",
    "\n",
    "tt_months.head(3)"
   ]
  },
  {
   "cell_type": "markdown",
   "id": "123616c8-3fa2-4070-9cda-9cbd3fbb57ec",
   "metadata": {
    "jp-MarkdownHeadingCollapsed": true,
    "tags": []
   },
   "source": [
    "### Youtube:"
   ]
  },
  {
   "cell_type": "code",
<<<<<<< HEAD
   "execution_count": 17,
=======
   "execution_count": 45,
>>>>>>> eb40377 (arreglar nan de cantidades)
   "id": "1c34839f-745c-44cd-93d7-b5d1b5a971ed",
   "metadata": {
    "tags": []
   },
   "outputs": [
    {
     "data": {
      "text/html": [
       "<div>\n",
       "<style scoped>\n",
       "    .dataframe tbody tr th:only-of-type {\n",
       "        vertical-align: middle;\n",
       "    }\n",
       "\n",
       "    .dataframe tbody tr th {\n",
       "        vertical-align: top;\n",
       "    }\n",
       "\n",
       "    .dataframe thead th {\n",
       "        text-align: right;\n",
       "    }\n",
       "</style>\n",
       "<table border=\"1\" class=\"dataframe\">\n",
       "  <thead>\n",
       "    <tr style=\"text-align: right;\">\n",
       "      <th></th>\n",
       "      <th>username</th>\n",
       "      <th>name</th>\n",
       "      <th>category1</th>\n",
       "      <th>category2</th>\n",
       "      <th>subs</th>\n",
       "      <th>country</th>\n",
       "      <th>views</th>\n",
       "      <th>likes</th>\n",
       "      <th>comments</th>\n",
       "      <th>month</th>\n",
       "    </tr>\n",
       "  </thead>\n",
       "  <tbody>\n",
       "    <tr>\n",
       "      <th>1</th>\n",
       "      <td>Baby Big Mouth Kids - Sing, Dance, Explore</td>\n",
       "      <td>Baby Big Mouth Kids - Sing, Dance, Explore</td>\n",
       "      <td>Animation</td>\n",
       "      <td>Toys</td>\n",
       "      <td>10.6M</td>\n",
       "      <td>-</td>\n",
       "      <td>348.5</td>\n",
       "      <td>3</td>\n",
       "      <td>N/A'</td>\n",
       "      <td>June</td>\n",
       "    </tr>\n",
       "  </tbody>\n",
       "</table>\n",
       "</div>"
      ],
      "text/plain": [
       "                                     username  \\\n",
       "1  Baby Big Mouth Kids - Sing, Dance, Explore   \n",
       "\n",
       "                                         name  category1 category2   subs  \\\n",
       "1  Baby Big Mouth Kids - Sing, Dance, Explore  Animation      Toys  10.6M   \n",
       "\n",
       "  country  views likes comments month  \n",
       "1       -  348.5     3     N/A'  June  "
      ]
     },
<<<<<<< HEAD
     "execution_count": 17,
=======
     "execution_count": 45,
>>>>>>> eb40377 (arreglar nan de cantidades)
     "metadata": {},
     "output_type": "execute_result"
    }
   ],
   "source": [
    "y_june = (\n",
    "    pd.read_csv('DATA/youtubejune2022.csv')\n",
    "    .assign(Month='June')\n",
    "    .rename(columns={\n",
    "        \"channel name\": \"username\",\n",
    "        \"youTuber\":\"name\",\n",
    "        \"Category\": \"category1\",\n",
    "        \"Category_2\": \"category2\",\n",
    "        \"Subscribers count\": \"subs\",\n",
    "        \"Country\": \"country\",\n",
    "        \"Views avg.\": \"views\",\n",
    "        \"Likes avg\": \"likes\",\n",
    "        \"Comments avg.\": \"comments\",\n",
    "        \"Month\": \"month\"\n",
    "    })\n",
    "    .dropna()\n",
    ")\n",
    "y_june.head(1)"
   ]
  },
  {
   "cell_type": "code",
<<<<<<< HEAD
   "execution_count": 18,
=======
   "execution_count": 46,
>>>>>>> eb40377 (arreglar nan de cantidades)
   "id": "202b0355-e1b0-4a63-9ba6-99eb21ab5683",
   "metadata": {
    "tags": []
   },
   "outputs": [
    {
     "data": {
      "text/html": [
       "<div>\n",
       "<style scoped>\n",
       "    .dataframe tbody tr th:only-of-type {\n",
       "        vertical-align: middle;\n",
       "    }\n",
       "\n",
       "    .dataframe tbody tr th {\n",
       "        vertical-align: top;\n",
       "    }\n",
       "\n",
       "    .dataframe thead th {\n",
       "        text-align: right;\n",
       "    }\n",
       "</style>\n",
       "<table border=\"1\" class=\"dataframe\">\n",
       "  <thead>\n",
       "    <tr style=\"text-align: right;\">\n",
       "      <th></th>\n",
       "      <th>username</th>\n",
       "      <th>name</th>\n",
       "      <th>country</th>\n",
       "      <th>subs</th>\n",
       "      <th>category2</th>\n",
       "      <th>views</th>\n",
       "      <th>likes</th>\n",
       "      <th>comments</th>\n",
       "      <th>category3</th>\n",
       "      <th>month</th>\n",
       "    </tr>\n",
       "  </thead>\n",
       "  <tbody>\n",
       "    <tr>\n",
       "      <th>3</th>\n",
       "      <td>MrBeast</td>\n",
       "      <td>MrBeast6000</td>\n",
       "      <td>United States</td>\n",
       "      <td>104.1M</td>\n",
       "      <td>Video games</td>\n",
       "      <td>44.8M</td>\n",
       "      <td>2.2M</td>\n",
       "      <td>70.9K</td>\n",
       "      <td>Humor</td>\n",
       "      <td>September</td>\n",
       "    </tr>\n",
       "  </tbody>\n",
       "</table>\n",
       "</div>"
      ],
      "text/plain": [
       "  username         name        country    subs    category2  views likes  \\\n",
       "3  MrBeast  MrBeast6000  United States  104.1M  Video games  44.8M  2.2M   \n",
       "\n",
       "  comments category3      month  \n",
       "3    70.9K     Humor  September  "
      ]
     },
<<<<<<< HEAD
     "execution_count": 18,
=======
     "execution_count": 46,
>>>>>>> eb40377 (arreglar nan de cantidades)
     "metadata": {},
     "output_type": "execute_result"
    }
   ],
   "source": [
    "y_sep = (\n",
    "    pd.read_csv('DATA/Youtubesep2022.csv')\n",
    "    .assign(Month='September')\n",
    "    .rename(columns={\n",
    "        \"Name\": \"username\",\n",
    "        \"Youtuber\":\"name\",\n",
    "        \"Category_2\": \"category2\",\n",
    "        \" Subscribers\": \"subs\",\n",
    "        \"Country\": \"country\",\n",
    "        \"Avg. views\\r\\n\": \"views\",\n",
    "        \"Avg. likes\": \"likes\",\n",
    "        \"Avg Comments\": \"comments\",\n",
    "        \"Category_3\": \"category3\",\n",
    "        \"Month\": \"month\"\n",
    "    })\n",
    "    .drop(\"S.no\", axis=1)\n",
    "    .dropna()\n",
    ")\n",
    "y_sep.head(1)"
   ]
  },
  {
   "cell_type": "code",
<<<<<<< HEAD
   "execution_count": 19,
=======
   "execution_count": 47,
>>>>>>> eb40377 (arreglar nan de cantidades)
   "id": "6c509b12-600a-4f17-ade4-1034cac73bfb",
   "metadata": {
    "tags": []
   },
   "outputs": [
    {
     "data": {
      "text/html": [
       "<div>\n",
       "<style scoped>\n",
       "    .dataframe tbody tr th:only-of-type {\n",
       "        vertical-align: middle;\n",
       "    }\n",
       "\n",
       "    .dataframe tbody tr th {\n",
       "        vertical-align: top;\n",
       "    }\n",
       "\n",
       "    .dataframe thead th {\n",
       "        text-align: right;\n",
       "    }\n",
       "</style>\n",
       "<table border=\"1\" class=\"dataframe\">\n",
       "  <thead>\n",
       "    <tr style=\"text-align: right;\">\n",
       "      <th></th>\n",
       "      <th>username</th>\n",
       "      <th>name</th>\n",
       "      <th>category1</th>\n",
       "      <th>subs</th>\n",
       "      <th>country</th>\n",
       "      <th>views</th>\n",
       "      <th>likes</th>\n",
       "      <th>comments</th>\n",
       "      <th>category2</th>\n",
       "      <th>month</th>\n",
       "    </tr>\n",
       "  </thead>\n",
       "  <tbody>\n",
       "    <tr>\n",
       "      <th>3</th>\n",
       "      <td>MrBeast6000</td>\n",
       "      <td>MrBeast</td>\n",
       "      <td>Video games</td>\n",
       "      <td>109.1M</td>\n",
       "      <td>United States</td>\n",
       "      <td>38.4M</td>\n",
       "      <td>3.1M</td>\n",
       "      <td>56.7K</td>\n",
       "      <td>Humor</td>\n",
       "      <td>November</td>\n",
       "    </tr>\n",
       "  </tbody>\n",
       "</table>\n",
       "</div>"
      ],
      "text/plain": [
       "      username     name    category1    subs        country  views likes  \\\n",
       "3  MrBeast6000  MrBeast  Video games  109.1M  United States  38.4M  3.1M   \n",
       "\n",
       "  comments category2     month  \n",
       "3    56.7K     Humor  November  "
      ]
     },
<<<<<<< HEAD
     "execution_count": 19,
=======
     "execution_count": 47,
>>>>>>> eb40377 (arreglar nan de cantidades)
     "metadata": {},
     "output_type": "execute_result"
    }
   ],
   "source": [
    "y_nov = (\n",
    "    pd.read_csv('DATA/youtubenov2022.csv')\n",
    "    .assign(Month='November')\n",
    "    .rename(columns={\n",
    "        \"Youtube channel\": \"username\",\n",
    "        \"youtuber name\":\"name\",\n",
    "        \"Category\": \"category1\",\n",
    "        \"Followers\": \"subs\",\n",
    "        \"Country\": \"country\",\n",
    "        \"\\nViews (Avg.)\": \"views\",\n",
    "        \"Likes (Avg.)\": \"likes\",\n",
    "        \"Comments (Avg.)\": \"comments\",\n",
    "        \"Category-2\": \"category2\",\n",
    "        \"Month\": \"month\"\n",
    "    })\n",
    "    .drop(\"s.no\", axis=1)\n",
    "    .dropna()\n",
    ")\n",
    "y_nov.head(1)"
   ]
  },
  {
   "cell_type": "code",
<<<<<<< HEAD
   "execution_count": 20,
=======
   "execution_count": 48,
>>>>>>> eb40377 (arreglar nan de cantidades)
   "id": "d74e87da-c4cf-4d76-bb7e-6cbce17bbe30",
   "metadata": {
    "tags": []
   },
   "outputs": [
    {
     "data": {
      "text/html": [
       "<div>\n",
       "<style scoped>\n",
       "    .dataframe tbody tr th:only-of-type {\n",
       "        vertical-align: middle;\n",
       "    }\n",
       "\n",
       "    .dataframe tbody tr th {\n",
       "        vertical-align: top;\n",
       "    }\n",
       "\n",
       "    .dataframe thead th {\n",
       "        text-align: right;\n",
       "    }\n",
       "</style>\n",
       "<table border=\"1\" class=\"dataframe\">\n",
       "  <thead>\n",
       "    <tr style=\"text-align: right;\">\n",
       "      <th></th>\n",
       "      <th>username</th>\n",
       "      <th>name</th>\n",
       "      <th>category1</th>\n",
       "      <th>subs</th>\n",
       "      <th>country</th>\n",
       "      <th>views</th>\n",
       "      <th>likes</th>\n",
       "      <th>comments</th>\n",
       "      <th>category2</th>\n",
       "      <th>month</th>\n",
       "    </tr>\n",
       "  </thead>\n",
       "  <tbody>\n",
       "    <tr>\n",
       "      <th>3</th>\n",
       "      <td>MrBeast</td>\n",
       "      <td>MrBeast</td>\n",
       "      <td>Video games</td>\n",
       "      <td>117M</td>\n",
       "      <td>United States</td>\n",
       "      <td>68.5M</td>\n",
       "      <td>2.9M</td>\n",
       "      <td>99.9K</td>\n",
       "      <td>Humor</td>\n",
       "      <td>December</td>\n",
       "    </tr>\n",
       "  </tbody>\n",
       "</table>\n",
       "</div>"
      ],
      "text/plain": [
       "  username     name    category1  subs        country  views likes comments  \\\n",
       "3  MrBeast  MrBeast  Video games  117M  United States  68.5M  2.9M    99.9K   \n",
       "\n",
       "  category2     month  \n",
       "3     Humor  December  "
      ]
     },
<<<<<<< HEAD
     "execution_count": 20,
=======
     "execution_count": 48,
>>>>>>> eb40377 (arreglar nan de cantidades)
     "metadata": {},
     "output_type": "execute_result"
    }
   ],
   "source": [
    "y_dec= pd.read_csv('DATA/YOUTUBEDEC2022.csv')\n",
    "y_dec = (\n",
    "    pd.read_csv('DATA/YOUTUBEDEC2022.csv')\n",
    "    .assign(Month='December')\n",
    "    .rename(columns={\n",
    "        \"Youtube channel\": \"username\",\n",
    "        \"youtuber name\":\"name\",\n",
    "        \"Category\": \"category1\",\n",
    "        \"Followers\": \"subs\",\n",
    "        \"Country\": \"country\",\n",
    "        \"\\nViews (Avg.)\": \"views\",\n",
    "        \"Likes (Avg.)\": \"likes\",\n",
    "        \"Comments (Avg.)\": \"comments\",\n",
    "        \"Category-2\": \"category2\",\n",
    "        \"Month\": \"month\"\n",
    "    })\n",
    "    .drop(\"s.no\", axis=1)\n",
    "    .dropna()\n",
    ")\n",
    "y_dec.head(1)"
   ]
  },
  {
   "cell_type": "code",
   "execution_count": 21,
   "id": "3649e425-64e9-4750-9101-5d5d329a91e9",
   "metadata": {},
   "outputs": [],
   "source": [
    "numeric_text_cols = ['subs', 'views', 'likes', 'comments']"
   ]
  },
  {
   "cell_type": "code",
   "execution_count": 22,
   "id": "2afa834f-2c81-4f63-ab9a-790b0d2f0604",
   "metadata": {},
   "outputs": [],
   "source": [
    "def delete_rows_with_value(df, value):\n",
    "    rows_with_value = df[df.eq(value).any(axis=1)].index\n",
    "    updated_df = df.drop(rows_with_value)\n",
    "    return updated_df"
   ]
  },
  {
   "cell_type": "code",
   "execution_count": 23,
   "id": "d4bc2afa-3ec8-4e50-bd68-86059eeaf8e5",
   "metadata": {},
   "outputs": [
    {
     "data": {
      "text/html": [
       "<div>\n",
       "<style scoped>\n",
       "    .dataframe tbody tr th:only-of-type {\n",
       "        vertical-align: middle;\n",
       "    }\n",
       "\n",
       "    .dataframe tbody tr th {\n",
       "        vertical-align: top;\n",
       "    }\n",
       "\n",
       "    .dataframe thead th {\n",
       "        text-align: right;\n",
       "    }\n",
       "</style>\n",
       "<table border=\"1\" class=\"dataframe\">\n",
       "  <thead>\n",
       "    <tr style=\"text-align: right;\">\n",
       "      <th></th>\n",
       "      <th>username</th>\n",
       "      <th>name</th>\n",
       "      <th>category1</th>\n",
       "      <th>category2</th>\n",
       "      <th>subs</th>\n",
       "      <th>country</th>\n",
       "      <th>views</th>\n",
       "      <th>likes</th>\n",
       "      <th>comments</th>\n",
       "      <th>month</th>\n",
       "    </tr>\n",
       "  </thead>\n",
       "  <tbody>\n",
       "    <tr>\n",
       "      <th>14</th>\n",
       "      <td>Трум Трум</td>\n",
       "      <td>Трум Трум</td>\n",
       "      <td>Humor</td>\n",
       "      <td>Toys</td>\n",
       "      <td>13.7M</td>\n",
       "      <td>-</td>\n",
       "      <td>103.2K</td>\n",
       "      <td>1.8K</td>\n",
       "      <td>83</td>\n",
       "      <td>June</td>\n",
       "    </tr>\n",
       "  </tbody>\n",
       "</table>\n",
       "</div>"
      ],
      "text/plain": [
       "     username       name category1 category2   subs country   views likes  \\\n",
       "14  Трум Трум  Трум Трум     Humor      Toys  13.7M       -  103.2K  1.8K   \n",
       "\n",
       "   comments month  \n",
       "14       83  June  "
      ]
     },
     "execution_count": 23,
     "metadata": {},
     "output_type": "execute_result"
    }
   ],
   "source": [
    "y_june = delete_rows_with_value(y_june, \"N/A'\")\n",
    "y_june.head(1)"
   ]
  },
  {
   "cell_type": "code",
   "execution_count": 24,
   "id": "a83ed53f-f2b9-4c63-a308-fc9e51fce602",
   "metadata": {},
   "outputs": [],
   "source": [
    "y_june = y_june.dropna()\n",
    "y_june.loc[:, numeric_text_cols] = y_june[numeric_text_cols].apply(text_int)\n",
    "y_sep.loc[:, numeric_text_cols] = y_sep[numeric_text_cols].apply(text_int)\n",
    "y_nov.loc[:, numeric_text_cols] = y_nov[numeric_text_cols].apply(text_int)\n",
    "y_dec.loc[:, numeric_text_cols] = y_dec[numeric_text_cols].apply(text_int)"
   ]
  },
  {
   "cell_type": "code",
   "execution_count": 25,
   "id": "9ae4ce1d-80dc-49d4-8cb3-8c929c8968ea",
   "metadata": {},
   "outputs": [
    {
     "data": {
      "text/html": [
       "<div>\n",
       "<style scoped>\n",
       "    .dataframe tbody tr th:only-of-type {\n",
       "        vertical-align: middle;\n",
       "    }\n",
       "\n",
       "    .dataframe tbody tr th {\n",
       "        vertical-align: top;\n",
       "    }\n",
       "\n",
       "    .dataframe thead th {\n",
       "        text-align: right;\n",
       "    }\n",
       "</style>\n",
       "<table border=\"1\" class=\"dataframe\">\n",
       "  <thead>\n",
       "    <tr style=\"text-align: right;\">\n",
       "      <th></th>\n",
       "      <th>username</th>\n",
       "      <th>name</th>\n",
       "      <th>category1</th>\n",
       "      <th>category2</th>\n",
       "      <th>subs</th>\n",
       "      <th>country</th>\n",
       "      <th>views</th>\n",
       "      <th>likes</th>\n",
       "      <th>comments</th>\n",
       "      <th>month</th>\n",
       "      <th>category3</th>\n",
       "    </tr>\n",
       "  </thead>\n",
       "  <tbody>\n",
       "    <tr>\n",
       "      <th>0</th>\n",
       "      <td>Трум Трум</td>\n",
       "      <td>Трум Трум</td>\n",
       "      <td>Humor</td>\n",
       "      <td>Toys</td>\n",
       "      <td>13700000</td>\n",
       "      <td>-</td>\n",
       "      <td>103200</td>\n",
       "      <td>1800</td>\n",
       "      <td>83</td>\n",
       "      <td>June</td>\n",
       "      <td>NaN</td>\n",
       "    </tr>\n",
       "    <tr>\n",
       "      <th>1</th>\n",
       "      <td>dangmattsmith</td>\n",
       "      <td>Dang Matt Smith</td>\n",
       "      <td>Animation</td>\n",
       "      <td>Humor</td>\n",
       "      <td>13700000</td>\n",
       "      <td>-</td>\n",
       "      <td>103500</td>\n",
       "      <td>4400</td>\n",
       "      <td>332</td>\n",
       "      <td>June</td>\n",
       "      <td>NaN</td>\n",
       "    </tr>\n",
       "    <tr>\n",
       "      <th>2</th>\n",
       "      <td>FrontaL Gaming</td>\n",
       "      <td>FrontaL Gaming</td>\n",
       "      <td>Movies</td>\n",
       "      <td>Animation</td>\n",
       "      <td>11700000</td>\n",
       "      <td>-</td>\n",
       "      <td>253700</td>\n",
       "      <td>19000</td>\n",
       "      <td>1300</td>\n",
       "      <td>June</td>\n",
       "      <td>NaN</td>\n",
       "    </tr>\n",
       "  </tbody>\n",
       "</table>\n",
       "</div>"
      ],
      "text/plain": [
       "         username             name  category1  category2      subs country  \\\n",
       "0       Трум Трум        Трум Трум      Humor       Toys  13700000       -   \n",
       "1   dangmattsmith  Dang Matt Smith  Animation      Humor  13700000       -   \n",
       "2  FrontaL Gaming   FrontaL Gaming     Movies  Animation  11700000       -   \n",
       "\n",
       "    views  likes comments month category3  \n",
       "0  103200   1800       83  June       NaN  \n",
       "1  103500   4400      332  June       NaN  \n",
       "2  253700  19000     1300  June       NaN  "
      ]
     },
     "execution_count": 25,
     "metadata": {},
     "output_type": "execute_result"
    }
   ],
   "source": [
    "y_months = (\n",
    "    pd.concat([y_june, y_sep, y_nov, y_dec], ignore_index=True)\n",
    "    .drop_duplicates()\n",
    ")\n",
    "\n",
    "y_months.head(3)"
   ]
  },
  {
   "cell_type": "markdown",
   "id": "3810a5de-1511-42b0-bb68-87d2c0e8c8cc",
   "metadata": {},
   "source": [
    "Youtube:\n",
    "* Username\n",
    "* Name\n",
    "* Country\n",
    "* Suscribers o Folowers\n",
    "* Views\n",
    "* Likes\n",
    "* Comments\n",
    "* Category1\n",
    "* Category2\n",
    "* Month"
   ]
  },
  {
   "cell_type": "markdown",
   "id": "79cda8b0",
   "metadata": {
    "jp-MarkdownHeadingCollapsed": true,
    "tags": []
   },
   "source": [
    "# Análisis instagram"
   ]
  },
  {
   "cell_type": "markdown",
   "id": "2878c4fe",
   "metadata": {},
   "source": [
    "### Número total de cuentas distintas en instagram: 1313"
   ]
  },
  {
   "cell_type": "code",
<<<<<<< HEAD
   "execution_count": null,
=======
   "execution_count": 49,
>>>>>>> eb40377 (arreglar nan de cantidades)
   "id": "415d8331-23c3-4831-b126-fb6d463152b6",
   "metadata": {
    "tags": []
   },
   "outputs": [
    {
     "data": {
      "text/plain": [
       "1384"
      ]
     },
<<<<<<< HEAD
     "execution_count": null,
=======
     "execution_count": 49,
>>>>>>> eb40377 (arreglar nan de cantidades)
     "metadata": {},
     "output_type": "execute_result"
    }
   ],
   "source": [
    "ig_months.username.drop_duplicates().size"
   ]
  },
  {
   "cell_type": "markdown",
   "id": "5877afed-6d8d-459f-8635-6b45a5cf915c",
   "metadata": {
    "tags": []
   },
   "source": [
    "### Media de seguidores\n",
    "Calcular el promedio de seguidores, authentic, engagement, de cada cuenta. Es decir, cada red social cuenta con 4 archivos de 4 meses distintos, si una cuenta aparece en los 4 meses, debera calcular el promedio de esos 4 meses, si una cuenta solo aparece 2 meses, se hara el promedio de esos dos meses y asi sucesivamente. SI el valor es nulo, vacio, N/A, o 0 no se debe promediar."
   ]
  },
  {
   "cell_type": "code",
<<<<<<< HEAD
   "execution_count": null,
=======
   "execution_count": 50,
>>>>>>> eb40377 (arreglar nan de cantidades)
   "id": "4e8fd805",
   "metadata": {},
   "outputs": [],
   "source": [
    "ig_means = (\n",
    "    ig_months\n",
    "    .groupby('username')\n",
    "     # aggregate functiosn skips nan by deffault\n",
    "    .aggregate({\n",
    "        'followers': 'mean',\n",
    "        'authentic': 'mean',\n",
    "        'average': 'mean'\n",
    "    })    \n",
    "    .reset_index()\n",
    "    .sort_values('followers', ascending=False)\n",
    ")"
   ]
  },
  {
   "cell_type": "markdown",
   "id": "366fe346",
   "metadata": {},
   "source": [
    "### Metricas de Valor\n",
    "\n",
    "Metricas de Valor de cada cuenta. Para este punto debe utilizar los promedios del punto anterior: Promedio Engagement/Promedio Followers."
   ]
  },
  {
   "cell_type": "code",
<<<<<<< HEAD
   "execution_count": null,
=======
   "execution_count": 51,
>>>>>>> eb40377 (arreglar nan de cantidades)
   "id": "5e2527b2",
   "metadata": {},
   "outputs": [],
   "source": [
    "ig_means['engagement_ratio'] = ig_means.average / ig_means.followers"
   ]
  },
  {
   "cell_type": "code",
<<<<<<< HEAD
   "execution_count": null,
=======
   "execution_count": 52,
>>>>>>> eb40377 (arreglar nan de cantidades)
   "id": "44a4ce3d",
   "metadata": {},
   "outputs": [],
   "source": []
  },
  {
   "cell_type": "code",
   "execution_count": 680,
   "id": "f573905f",
   "metadata": {},
   "outputs": [
    {
     "data": {
      "text/html": [
       "<div>\n",
       "<style scoped>\n",
       "    .dataframe tbody tr th:only-of-type {\n",
       "        vertical-align: middle;\n",
       "    }\n",
       "\n",
       "    .dataframe tbody tr th {\n",
       "        vertical-align: top;\n",
       "    }\n",
       "\n",
       "    .dataframe thead th {\n",
       "        text-align: right;\n",
       "    }\n",
       "</style>\n",
       "<table border=\"1\" class=\"dataframe\">\n",
       "  <thead>\n",
       "    <tr style=\"text-align: right;\">\n",
       "      <th></th>\n",
       "      <th>username</th>\n",
       "      <th>followers</th>\n",
       "      <th>authentic</th>\n",
       "      <th>average</th>\n",
       "      <th>engagement_ratio</th>\n",
       "    </tr>\n",
       "  </thead>\n",
       "  <tbody>\n",
       "    <tr>\n",
       "      <th>536</th>\n",
       "      <td>instagram</td>\n",
<<<<<<< HEAD
       "      <td>558566666.666667</td>\n",
       "      <td>316333.333333</td>\n",
       "      <td>394466.666667</td>\n",
       "      <td>0.000706</td>\n",
=======
       "      <td>5.497500e+08</td>\n",
       "      <td>310825.0</td>\n",
       "      <td>3.849750e+05</td>\n",
       "      <td>0.000700</td>\n",
>>>>>>> eb40377 (arreglar nan de cantidades)
       "    </tr>\n",
       "    <tr>\n",
       "      <th>270</th>\n",
       "      <td>cristiano</td>\n",
<<<<<<< HEAD
       "      <td>494666666.666667</td>\n",
       "      <td>7066666.666667</td>\n",
       "      <td>8833333.333333</td>\n",
       "      <td>0.017857</td>\n",
=======
       "      <td>4.858000e+08</td>\n",
       "      <td>6575000.0</td>\n",
       "      <td>8.175000e+06</td>\n",
       "      <td>0.016828</td>\n",
>>>>>>> eb40377 (arreglar nan de cantidades)
       "    </tr>\n",
       "    <tr>\n",
       "      <th>740</th>\n",
       "      <td>leomessi</td>\n",
<<<<<<< HEAD
       "      <td>366975000.0</td>\n",
       "      <td>7100000.0</td>\n",
       "      <td>9324999.75</td>\n",
       "      <td>0.02541</td>\n",
=======
       "      <td>3.669750e+08</td>\n",
       "      <td>7100000.0</td>\n",
       "      <td>9.325000e+06</td>\n",
       "      <td>0.025410</td>\n",
>>>>>>> eb40377 (arreglar nan de cantidades)
       "    </tr>\n",
       "    <tr>\n",
       "      <th>709</th>\n",
       "      <td>kyliejenner</td>\n",
<<<<<<< HEAD
       "      <td>366775000.0</td>\n",
       "      <td>2950000.0</td>\n",
       "      <td>4700000.0</td>\n",
=======
       "      <td>3.667750e+08</td>\n",
       "      <td>2950000.0</td>\n",
       "      <td>4.700000e+06</td>\n",
>>>>>>> eb40377 (arreglar nan de cantidades)
       "      <td>0.012814</td>\n",
       "    </tr>\n",
       "    <tr>\n",
       "      <th>1130</th>\n",
       "      <td>selenagomez</td>\n",
<<<<<<< HEAD
       "      <td>346950000.0</td>\n",
       "      <td>1750000.0</td>\n",
       "      <td>2300000.0</td>\n",
=======
       "      <td>3.469500e+08</td>\n",
       "      <td>1750000.0</td>\n",
       "      <td>2.300000e+06</td>\n",
>>>>>>> eb40377 (arreglar nan de cantidades)
       "      <td>0.006629</td>\n",
       "    </tr>\n",
       "    <tr>\n",
       "      <th>...</th>\n",
       "      <td>...</td>\n",
       "      <td>...</td>\n",
       "      <td>...</td>\n",
       "      <td>...</td>\n",
       "      <td>...</td>\n",
       "    </tr>\n",
       "    <tr>\n",
       "      <th>394</th>\n",
       "      <td>feat.dino</td>\n",
<<<<<<< HEAD
       "      <td>2700000.0</td>\n",
       "      <td>716600.0</td>\n",
       "      <td>876400.0</td>\n",
=======
       "      <td>2.700000e+06</td>\n",
       "      <td>716600.0</td>\n",
       "      <td>8.764000e+05</td>\n",
>>>>>>> eb40377 (arreglar nan de cantidades)
       "      <td>0.324593</td>\n",
       "    </tr>\n",
       "    <tr>\n",
       "      <th>718</th>\n",
       "      <td>lalala_lfamily</td>\n",
<<<<<<< HEAD
       "      <td>2500000.0</td>\n",
       "      <td>752900.0</td>\n",
       "      <td>900400.0</td>\n",
       "      <td>0.36016</td>\n",
=======
       "      <td>2.350000e+06</td>\n",
       "      <td>777300.0</td>\n",
       "      <td>9.299000e+05</td>\n",
       "      <td>0.395702</td>\n",
>>>>>>> eb40377 (arreglar nan de cantidades)
       "    </tr>\n",
       "    <tr>\n",
       "      <th>713</th>\n",
       "      <td>labels.hybe</td>\n",
<<<<<<< HEAD
       "      <td>2300000.0</td>\n",
       "      <td>891100.0</td>\n",
       "      <td>1000000.0</td>\n",
=======
       "      <td>2.300000e+06</td>\n",
       "      <td>891100.0</td>\n",
       "      <td>1.000000e+06</td>\n",
>>>>>>> eb40377 (arreglar nan de cantidades)
       "      <td>0.434783</td>\n",
       "    </tr>\n",
       "    <tr>\n",
       "      <th>681</th>\n",
       "      <td>kh1000le</td>\n",
<<<<<<< HEAD
       "      <td>2266666.666667</td>\n",
       "      <td>326933.333333</td>\n",
       "      <td>1233333.333333</td>\n",
=======
       "      <td>2.266667e+06</td>\n",
       "      <td>980800.0</td>\n",
       "      <td>1.233333e+06</td>\n",
>>>>>>> eb40377 (arreglar nan de cantidades)
       "      <td>0.544118</td>\n",
       "    </tr>\n",
       "    <tr>\n",
       "      <th>1045</th>\n",
       "      <td>rampage_thedancer</td>\n",
<<<<<<< HEAD
       "      <td>2200000.0</td>\n",
       "      <td>1100000.0</td>\n",
       "      <td>1300000.0</td>\n",
=======
       "      <td>2.200000e+06</td>\n",
       "      <td>1100000.0</td>\n",
       "      <td>1.300000e+06</td>\n",
>>>>>>> eb40377 (arreglar nan de cantidades)
       "      <td>0.590909</td>\n",
       "    </tr>\n",
       "  </tbody>\n",
       "</table>\n",
       "<p>1384 rows × 5 columns</p>\n",
       "</div>"
      ],
      "text/plain": [
<<<<<<< HEAD
       "               username         followers       authentic         average  \\\n",
       "510           instagram  558566666.666667   316333.333333   394466.666667   \n",
       "259           cristiano  494666666.666667  7066666.666667  8833333.333333   \n",
       "702            leomessi       366975000.0       7100000.0      9324999.75   \n",
       "674         kyliejenner       366775000.0       2950000.0       4700000.0   \n",
       "1075        selenagomez       346950000.0       1750000.0       2300000.0   \n",
       "...                 ...               ...             ...             ...   \n",
       "378           feat.dino         2700000.0        716600.0        876400.0   \n",
       "683      lalala_lfamily         2500000.0        752900.0        900400.0   \n",
       "678         labels.hybe         2300000.0        891100.0       1000000.0   \n",
       "647            kh1000le    2266666.666667   326933.333333  1233333.333333   \n",
       "995   rampage_thedancer         2200000.0       1100000.0       1300000.0   \n",
       "\n",
       "     engagement_ratio  \n",
       "510          0.000706  \n",
       "259          0.017857  \n",
       "702           0.02541  \n",
       "674          0.012814  \n",
       "1075         0.006629  \n",
       "...               ...  \n",
       "378          0.324593  \n",
       "683           0.36016  \n",
       "678          0.434783  \n",
       "647          0.544118  \n",
       "995          0.590909  \n",
=======
       "               username     followers  authentic       average  \\\n",
       "536           instagram  5.497500e+08   310825.0  3.849750e+05   \n",
       "270           cristiano  4.858000e+08  6575000.0  8.175000e+06   \n",
       "740            leomessi  3.669750e+08  7100000.0  9.325000e+06   \n",
       "709         kyliejenner  3.667750e+08  2950000.0  4.700000e+06   \n",
       "1130        selenagomez  3.469500e+08  1750000.0  2.300000e+06   \n",
       "...                 ...           ...        ...           ...   \n",
       "394           feat.dino  2.700000e+06   716600.0  8.764000e+05   \n",
       "718      lalala_lfamily  2.350000e+06   777300.0  9.299000e+05   \n",
       "713         labels.hybe  2.300000e+06   891100.0  1.000000e+06   \n",
       "681            kh1000le  2.266667e+06   980800.0  1.233333e+06   \n",
       "1045  rampage_thedancer  2.200000e+06  1100000.0  1.300000e+06   \n",
       "\n",
       "      engagement_ratio  \n",
       "536           0.000700  \n",
       "270           0.016828  \n",
       "740           0.025410  \n",
       "709           0.012814  \n",
       "1130          0.006629  \n",
       "...                ...  \n",
       "394           0.324593  \n",
       "718           0.395702  \n",
       "713           0.434783  \n",
       "681           0.544118  \n",
       "1045          0.590909  \n",
>>>>>>> eb40377 (arreglar nan de cantidades)
       "\n",
       "[1384 rows x 5 columns]"
      ]
     },
<<<<<<< HEAD
     "execution_count": 680,
=======
     "execution_count": 52,
>>>>>>> eb40377 (arreglar nan de cantidades)
     "metadata": {},
     "output_type": "execute_result"
    }
   ],
   "source": [
    "ig_means"
   ]
  },
  {
   "cell_type": "markdown",
   "id": "f36700b3",
   "metadata": {},
   "source": [
    "### Graficar iniciales\n",
    "\n",
    "Graficar en un histograma el numero de cuentas que inicien por cada letra del alfabeto (Mayusculas y minusculas son tomadas de igual forma) y agrupar en una sola categoria todos los que no comiencen con una letra del alfabeto."
   ]
  },
  {
   "cell_type": "code",
   "execution_count": 53,
   "id": "1fe4be3a",
   "metadata": {},
   "outputs": [],
   "source": [
    "def get_inicial(name: str) -> str:\n",
    "    name = str(name)\n",
    "    first_is_letter = re.search(r'^[a-zA-Z]', name)\n",
    "    if first_is_letter:\n",
    "        return name[0].upper()\n",
    "    else:\n",
    "        return 'other'\n"
   ]
  },
  {
   "cell_type": "code",
<<<<<<< HEAD
   "execution_count": null,
=======
   "execution_count": 54,
>>>>>>> eb40377 (arreglar nan de cantidades)
   "id": "c99f7b4a",
   "metadata": {},
   "outputs": [
    {
     "name": "stderr",
     "output_type": "stream",
     "text": [
      "<<<<<<< local\n"
     ]
    },
    {
     "data": {
      "image/png": "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\n",
      "text/plain": [
       "<Figure size 640x480 with 1 Axes>"
      ]
     },
     "metadata": {},
     "output_type": "display_data"
    },
    {
     "name": "stderr",
     "output_type": "stream",
     "text": [
      "=======\n"
     ]
    },
    {
     "data": {
      "image/png": "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",
      "text/plain": [
       "<Figure size 640x480 with 1 Axes>"
      ]
     },
     "metadata": {},
     "output_type": "display_data"
    },
    {
     "name": "stderr",
     "output_type": "stream",
     "text": [
      ">>>>>>> remote\n"
     ]
    }
   ],
   "source": [
    "initials = (\n",
    "    ig_months.name\n",
    "    .map(get_inicial)\n",
    "    .value_counts()\n",
    "    .reset_index(name='frequency')\n",
    "    .rename(columns={\n",
    "        'index': 'letter',\n",
    "        'name': 'letter'\n",
    "    })\n",
    ")\n",
    "plt.bar(initials.letter, initials.frequency)\n",
    "plt.show()"
   ]
  },
  {
   "cell_type": "markdown",
   "id": "ec156ed6",
   "metadata": {},
   "source": [
    "### ¿Cual es la cuenta de IG con mas caracteres en su nombre?"
   ]
  },
  {
   "cell_type": "code",
<<<<<<< HEAD
   "execution_count": null,
=======
   "execution_count": 55,
>>>>>>> eb40377 (arreglar nan de cantidades)
   "id": "417242f0",
   "metadata": {},
   "outputs": [],
   "source": [
    "name_len = (\n",
    "    ig_months[['name', 'username']]\n",
    "    .assign(len_name = ig_months.name.map(lambda x: len(str(x))))\n",
    "    .assign(len_username = ig_months.username.map(lambda x: len(str(x))))\n",
    ")\n",
    "ids1 = name_len.loc[name_len.len_name.idxmax()]\n",
    "ids2 = name_len.loc[name_len.len_username.idxmax()]"
   ]
  },
  {
   "cell_type": "markdown",
   "id": "33f07d13",
   "metadata": {},
   "source": [
    "**username**"
   ]
  },
  {
   "cell_type": "code",
<<<<<<< HEAD
   "execution_count": null,
=======
   "execution_count": 56,
>>>>>>> eb40377 (arreglar nan de cantidades)
   "id": "39453869",
   "metadata": {},
   "outputs": [
    {
     "data": {
      "text/plain": [
       "name                  JUNGKOOK (전정국) Updates\n",
       "username        jungkook_bighitentertainment\n",
       "len_name                                  22\n",
       "len_username                              28\n",
       "Name: 465, dtype: object"
      ]
     },
<<<<<<< HEAD
     "execution_count": null,
=======
     "execution_count": 56,
>>>>>>> eb40377 (arreglar nan de cantidades)
     "metadata": {},
     "output_type": "execute_result"
    }
   ],
   "source": [
    "ids2"
   ]
  },
  {
   "cell_type": "markdown",
   "id": "168d5770",
   "metadata": {},
   "source": [
    "**name**"
   ]
  },
  {
   "cell_type": "code",
<<<<<<< HEAD
   "execution_count": null,
=======
   "execution_count": 57,
>>>>>>> eb40377 (arreglar nan de cantidades)
   "id": "d99d2928",
   "metadata": {},
   "outputs": [
    {
     "data": {
      "text/plain": [
       "name            💓배우 이준기 LEE JOON GI , a.k.a Actor JG 李準基 💓\n",
       "username                                          actor_jg\n",
       "len_name                                                42\n",
       "len_username                                             8\n",
       "Name: 22, dtype: object"
      ]
     },
<<<<<<< HEAD
     "execution_count": null,
=======
     "execution_count": 57,
>>>>>>> eb40377 (arreglar nan de cantidades)
     "metadata": {},
     "output_type": "execute_result"
    }
   ],
   "source": [
    "ids1"
   ]
  },
  {
   "cell_type": "markdown",
   "id": "5f718498",
   "metadata": {},
   "source": [
    "### ¿Cuantas cuentas de Instagram tienen ya sea en su username o name las letras de las iniciales del primer nombre de cada uno de los integrantes de tu equipo?"
   ]
  },
  {
   "cell_type": "code",
<<<<<<< HEAD
   "execution_count": null,
=======
   "execution_count": 58,
>>>>>>> eb40377 (arreglar nan de cantidades)
   "id": "e40c7a07",
   "metadata": {},
   "outputs": [
    {
     "data": {
      "text/plain": [
       "2836"
      ]
     },
<<<<<<< HEAD
     "execution_count": null,
=======
     "execution_count": 58,
>>>>>>> eb40377 (arreglar nan de cantidades)
     "metadata": {},
     "output_type": "execute_result"
    }
   ],
   "source": [
    "(ig_months.name.str.contains(r'[GgIiMm]') | ig_months.name.str.contains(r'[GgIiMm]')).sum()"
   ]
  },
  {
   "cell_type": "markdown",
   "id": "57a714fa",
   "metadata": {},
   "source": [
    "### Defina una métrica que identifique las 10 cuentas mas importantes de Instagram"
   ]
  },
  {
   "cell_type": "code",
   "execution_count": 62,
   "id": "4cfd2903",
   "metadata": {},
   "outputs": [
    {
     "data": {
      "text/html": [
       "<div>\n",
       "<style scoped>\n",
       "    .dataframe tbody tr th:only-of-type {\n",
       "        vertical-align: middle;\n",
       "    }\n",
       "\n",
       "    .dataframe tbody tr th {\n",
       "        vertical-align: top;\n",
       "    }\n",
       "\n",
       "    .dataframe thead th {\n",
       "        text-align: right;\n",
       "    }\n",
       "</style>\n",
       "<table border=\"1\" class=\"dataframe\">\n",
       "  <thead>\n",
       "    <tr style=\"text-align: right;\">\n",
       "      <th></th>\n",
       "      <th>username</th>\n",
       "      <th>followers_jun</th>\n",
       "      <th>authentic_jun</th>\n",
       "      <th>followers_sep</th>\n",
       "      <th>authentic_sep</th>\n",
       "      <th>followers_nov</th>\n",
       "      <th>authentic_nov</th>\n",
       "      <th>followers_dec</th>\n",
       "      <th>authentic_dec</th>\n",
       "    </tr>\n",
       "  </thead>\n",
       "  <tbody>\n",
       "    <tr>\n",
       "      <th>0</th>\n",
       "      <td>433</td>\n",
       "      <td>50700000.0</td>\n",
       "      <td>274900.0</td>\n",
       "      <td>51600000.0</td>\n",
       "      <td>339400.0</td>\n",
       "      <td>51800000.0</td>\n",
       "      <td>402800.0</td>\n",
       "      <td>58200000.0</td>\n",
       "      <td>404800.0</td>\n",
       "    </tr>\n",
       "    <tr>\n",
       "      <th>1</th>\n",
       "      <td>____kimwoobin</td>\n",
       "      <td>3600000.0</td>\n",
       "      <td>449400.0</td>\n",
       "      <td>NaN</td>\n",
       "      <td>NaN</td>\n",
       "      <td>3900000.0</td>\n",
       "      <td>452800.0</td>\n",
       "      <td>NaN</td>\n",
       "      <td>NaN</td>\n",
       "    </tr>\n",
       "    <tr>\n",
       "      <th>2</th>\n",
       "      <td>__youngbae__</td>\n",
       "      <td>13400000.0</td>\n",
       "      <td>269600.0</td>\n",
       "      <td>13600000.0</td>\n",
       "      <td>331000.0</td>\n",
       "      <td>13800000.0</td>\n",
       "      <td>340200.0</td>\n",
       "      <td>NaN</td>\n",
       "      <td>NaN</td>\n",
       "    </tr>\n",
       "    <tr>\n",
       "      <th>3</th>\n",
       "      <td>_agentgirl_</td>\n",
       "      <td>18600000.0</td>\n",
       "      <td>164400.0</td>\n",
       "      <td>NaN</td>\n",
       "      <td>NaN</td>\n",
       "      <td>NaN</td>\n",
       "      <td>NaN</td>\n",
       "      <td>18200000.0</td>\n",
       "      <td>128199.0</td>\n",
       "    </tr>\n",
       "    <tr>\n",
       "      <th>4</th>\n",
       "      <td>_hakkencoser_</td>\n",
       "      <td>3500000.0</td>\n",
       "      <td>525100.0</td>\n",
       "      <td>3700000.0</td>\n",
       "      <td>511800.0</td>\n",
       "      <td>3700000.0</td>\n",
       "      <td>500200.0</td>\n",
       "      <td>3900000.0</td>\n",
       "      <td>604800.0</td>\n",
       "    </tr>\n",
       "    <tr>\n",
       "      <th>...</th>\n",
       "      <td>...</td>\n",
       "      <td>...</td>\n",
       "      <td>...</td>\n",
       "      <td>...</td>\n",
       "      <td>...</td>\n",
       "      <td>...</td>\n",
       "      <td>...</td>\n",
       "      <td>...</td>\n",
       "      <td>...</td>\n",
       "    </tr>\n",
       "    <tr>\n",
       "      <th>1503</th>\n",
       "      <td>viavallen</td>\n",
       "      <td>NaN</td>\n",
       "      <td>NaN</td>\n",
       "      <td>NaN</td>\n",
       "      <td>NaN</td>\n",
       "      <td>NaN</td>\n",
       "      <td>NaN</td>\n",
       "      <td>27800000.0</td>\n",
       "      <td>67900.0</td>\n",
       "    </tr>\n",
       "    <tr>\n",
       "      <th>1504</th>\n",
       "      <td>labels.hybe</td>\n",
       "      <td>NaN</td>\n",
       "      <td>NaN</td>\n",
       "      <td>NaN</td>\n",
       "      <td>NaN</td>\n",
       "      <td>NaN</td>\n",
       "      <td>NaN</td>\n",
       "      <td>2300000.0</td>\n",
       "      <td>891100.0</td>\n",
       "    </tr>\n",
       "    <tr>\n",
       "      <th>1505</th>\n",
       "      <td>torylanez</td>\n",
       "      <td>NaN</td>\n",
       "      <td>NaN</td>\n",
       "      <td>NaN</td>\n",
       "      <td>NaN</td>\n",
       "      <td>NaN</td>\n",
       "      <td>NaN</td>\n",
       "      <td>11900000.0</td>\n",
       "      <td>85100.0</td>\n",
       "    </tr>\n",
       "    <tr>\n",
       "      <th>1506</th>\n",
       "      <td>feat.dino</td>\n",
       "      <td>NaN</td>\n",
       "      <td>NaN</td>\n",
       "      <td>NaN</td>\n",
       "      <td>NaN</td>\n",
       "      <td>NaN</td>\n",
       "      <td>NaN</td>\n",
       "      <td>2700000.0</td>\n",
       "      <td>716600.0</td>\n",
       "    </tr>\n",
       "    <tr>\n",
       "      <th>1507</th>\n",
       "      <td>ravindra.jadeja</td>\n",
       "      <td>NaN</td>\n",
       "      <td>NaN</td>\n",
       "      <td>NaN</td>\n",
       "      <td>NaN</td>\n",
       "      <td>NaN</td>\n",
       "      <td>NaN</td>\n",
       "      <td>4800000.0</td>\n",
       "      <td>388900.0</td>\n",
       "    </tr>\n",
       "  </tbody>\n",
       "</table>\n",
       "<p>1405 rows × 9 columns</p>\n",
       "</div>"
      ],
      "text/plain": [
       "             username followers_jun authentic_jun followers_sep authentic_sep  \\\n",
       "0                 433    50700000.0      274900.0    51600000.0      339400.0   \n",
       "1       ____kimwoobin     3600000.0      449400.0           NaN           NaN   \n",
       "2        __youngbae__    13400000.0      269600.0    13600000.0      331000.0   \n",
       "3         _agentgirl_    18600000.0      164400.0           NaN           NaN   \n",
       "4       _hakkencoser_     3500000.0      525100.0     3700000.0      511800.0   \n",
       "...               ...           ...           ...           ...           ...   \n",
       "1503        viavallen           NaN           NaN           NaN           NaN   \n",
       "1504      labels.hybe           NaN           NaN           NaN           NaN   \n",
       "1505        torylanez           NaN           NaN           NaN           NaN   \n",
       "1506        feat.dino           NaN           NaN           NaN           NaN   \n",
       "1507  ravindra.jadeja           NaN           NaN           NaN           NaN   \n",
       "\n",
       "     followers_nov authentic_nov  followers_dec  authentic_dec  \n",
       "0       51800000.0      402800.0     58200000.0       404800.0  \n",
       "1        3900000.0      452800.0            NaN            NaN  \n",
       "2       13800000.0      340200.0            NaN            NaN  \n",
       "3              NaN           NaN     18200000.0       128199.0  \n",
       "4        3700000.0      500200.0      3900000.0       604800.0  \n",
       "...            ...           ...            ...            ...  \n",
       "1503           NaN           NaN     27800000.0        67900.0  \n",
       "1504           NaN           NaN      2300000.0       891100.0  \n",
       "1505           NaN           NaN     11900000.0        85100.0  \n",
       "1506           NaN           NaN      2700000.0       716600.0  \n",
       "1507           NaN           NaN      4800000.0       388900.0  \n",
       "\n",
       "[1405 rows x 9 columns]"
      ]
     },
     "execution_count": 62,
     "metadata": {},
     "output_type": "execute_result"
    }
   ],
   "source": [
    "grow_rate = (\n",
    "    ig_june[['username', 'followers', 'authentic']]\n",
    "    .merge(ig_sep[['username', 'followers', 'authentic']], suffixes=('_jun', ''), on='username', how='outer')\n",
    "    .merge(ig_nov[['username', 'followers', 'authentic']], suffixes=('_sep', ''),  on='username', how='outer')\n",
    "    .merge(ig_dec[['username', 'followers', 'authentic']], suffixes=('_nov', '_dec'),  on='username', how='outer')\n",
    "    .drop_duplicates()\n",
    "    # .dropna()\n",
    ")\n",
    "grow_rate"
   ]
  },
  {
   "cell_type": "code",
   "execution_count": 75,
   "id": "0f737587",
   "metadata": {},
   "outputs": [
    {
     "data": {
      "text/html": [
       "<div>\n",
       "<style scoped>\n",
       "    .dataframe tbody tr th:only-of-type {\n",
       "        vertical-align: middle;\n",
       "    }\n",
       "\n",
       "    .dataframe tbody tr th {\n",
       "        vertical-align: top;\n",
       "    }\n",
       "\n",
       "    .dataframe thead th {\n",
       "        text-align: right;\n",
       "    }\n",
       "</style>\n",
       "<table border=\"1\" class=\"dataframe\">\n",
       "  <thead>\n",
       "    <tr style=\"text-align: right;\">\n",
       "      <th></th>\n",
       "      <th>username</th>\n",
       "      <th>followers</th>\n",
       "      <th>authentic</th>\n",
       "      <th>average</th>\n",
       "      <th>engagement_ratio</th>\n",
       "      <th>authentic_engagement_ratio</th>\n",
       "      <th>followers_rate</th>\n",
       "      <th>engagement_size</th>\n",
       "    </tr>\n",
       "  </thead>\n",
       "  <tbody>\n",
       "    <tr>\n",
       "      <th>1258</th>\n",
       "      <td>thv</td>\n",
       "      <td>5.017500e+07</td>\n",
       "      <td>1.275000e+07</td>\n",
       "      <td>1.275000e+07</td>\n",
       "      <td>0.254111</td>\n",
       "      <td>0.254111</td>\n",
       "      <td>0.091269</td>\n",
       "      <td>0.023192</td>\n",
       "    </tr>\n",
       "    <tr>\n",
       "      <th>547</th>\n",
       "      <td>j.m</td>\n",
       "      <td>4.025000e+07</td>\n",
       "      <td>1.170000e+07</td>\n",
       "      <td>1.160000e+07</td>\n",
       "      <td>0.288199</td>\n",
       "      <td>0.290683</td>\n",
       "      <td>0.073215</td>\n",
       "      <td>0.021282</td>\n",
       "    </tr>\n",
       "    <tr>\n",
       "      <th>48</th>\n",
       "      <td>agustd</td>\n",
       "      <td>3.857500e+07</td>\n",
       "      <td>9.700000e+06</td>\n",
       "      <td>9.533333e+06</td>\n",
       "      <td>0.247138</td>\n",
       "      <td>0.251458</td>\n",
       "      <td>0.070168</td>\n",
       "      <td>0.017644</td>\n",
       "    </tr>\n",
       "    <tr>\n",
       "      <th>598</th>\n",
       "      <td>jin</td>\n",
       "      <td>3.957500e+07</td>\n",
       "      <td>8.400000e+06</td>\n",
       "      <td>8.400000e+06</td>\n",
       "      <td>0.212255</td>\n",
       "      <td>0.212255</td>\n",
       "      <td>0.071987</td>\n",
       "      <td>0.015280</td>\n",
       "    </tr>\n",
       "    <tr>\n",
       "      <th>1287</th>\n",
       "      <td>uarmyhope</td>\n",
       "      <td>3.950000e+07</td>\n",
       "      <td>7.750000e+06</td>\n",
       "      <td>7.750000e+06</td>\n",
       "      <td>0.196203</td>\n",
       "      <td>0.196203</td>\n",
       "      <td>0.071851</td>\n",
       "      <td>0.014097</td>\n",
       "    </tr>\n",
       "    <tr>\n",
       "      <th>...</th>\n",
       "      <td>...</td>\n",
       "      <td>...</td>\n",
       "      <td>...</td>\n",
       "      <td>...</td>\n",
       "      <td>...</td>\n",
       "      <td>...</td>\n",
       "      <td>...</td>\n",
       "      <td>...</td>\n",
       "    </tr>\n",
       "    <tr>\n",
       "      <th>1318</th>\n",
       "      <td>voguemagazine</td>\n",
       "      <td>4.105000e+07</td>\n",
       "      <td>4.625000e+04</td>\n",
       "      <td>6.975000e+04</td>\n",
       "      <td>0.001699</td>\n",
       "      <td>0.001127</td>\n",
       "      <td>0.074670</td>\n",
       "      <td>0.000084</td>\n",
       "    </tr>\n",
       "    <tr>\n",
       "      <th>1043</th>\n",
       "      <td>raisa6690</td>\n",
       "      <td>3.255000e+07</td>\n",
       "      <td>4.595000e+04</td>\n",
       "      <td>7.100000e+04</td>\n",
       "      <td>0.002181</td>\n",
       "      <td>0.001412</td>\n",
       "      <td>0.059209</td>\n",
       "      <td>0.000084</td>\n",
       "    </tr>\n",
       "    <tr>\n",
       "      <th>454</th>\n",
       "      <td>gucci</td>\n",
       "      <td>4.890000e+07</td>\n",
       "      <td>3.743333e+04</td>\n",
       "      <td>5.003333e+04</td>\n",
       "      <td>0.001023</td>\n",
       "      <td>0.000766</td>\n",
       "      <td>0.088950</td>\n",
       "      <td>0.000068</td>\n",
       "    </tr>\n",
       "    <tr>\n",
       "      <th>1239</th>\n",
       "      <td>theellenshow</td>\n",
       "      <td>1.240333e+08</td>\n",
       "      <td>3.083333e+04</td>\n",
       "      <td>3.866667e+04</td>\n",
       "      <td>0.000312</td>\n",
       "      <td>0.000249</td>\n",
       "      <td>0.225618</td>\n",
       "      <td>0.000056</td>\n",
       "    </tr>\n",
       "    <tr>\n",
       "      <th>1164</th>\n",
       "      <td>snoopdogg</td>\n",
       "      <td>7.627500e+07</td>\n",
       "      <td>2.690000e+04</td>\n",
       "      <td>3.785000e+04</td>\n",
       "      <td>0.000496</td>\n",
       "      <td>0.000353</td>\n",
       "      <td>0.138745</td>\n",
       "      <td>0.000049</td>\n",
       "    </tr>\n",
       "  </tbody>\n",
       "</table>\n",
       "<p>1384 rows × 8 columns</p>\n",
       "</div>"
      ],
      "text/plain": [
       "           username     followers     authentic       average  \\\n",
       "1258            thv  5.017500e+07  1.275000e+07  1.275000e+07   \n",
       "547             j.m  4.025000e+07  1.170000e+07  1.160000e+07   \n",
       "48           agustd  3.857500e+07  9.700000e+06  9.533333e+06   \n",
       "598             jin  3.957500e+07  8.400000e+06  8.400000e+06   \n",
       "1287      uarmyhope  3.950000e+07  7.750000e+06  7.750000e+06   \n",
       "...             ...           ...           ...           ...   \n",
       "1318  voguemagazine  4.105000e+07  4.625000e+04  6.975000e+04   \n",
       "1043      raisa6690  3.255000e+07  4.595000e+04  7.100000e+04   \n",
       "454           gucci  4.890000e+07  3.743333e+04  5.003333e+04   \n",
       "1239   theellenshow  1.240333e+08  3.083333e+04  3.866667e+04   \n",
       "1164      snoopdogg  7.627500e+07  2.690000e+04  3.785000e+04   \n",
       "\n",
       "      engagement_ratio  authentic_engagement_ratio  followers_rate  \\\n",
       "1258          0.254111                    0.254111        0.091269   \n",
       "547           0.288199                    0.290683        0.073215   \n",
       "48            0.247138                    0.251458        0.070168   \n",
       "598           0.212255                    0.212255        0.071987   \n",
       "1287          0.196203                    0.196203        0.071851   \n",
       "...                ...                         ...             ...   \n",
       "1318          0.001699                    0.001127        0.074670   \n",
       "1043          0.002181                    0.001412        0.059209   \n",
       "454           0.001023                    0.000766        0.088950   \n",
       "1239          0.000312                    0.000249        0.225618   \n",
       "1164          0.000496                    0.000353        0.138745   \n",
       "\n",
       "      engagement_size  \n",
       "1258         0.023192  \n",
       "547          0.021282  \n",
       "48           0.017644  \n",
       "598          0.015280  \n",
       "1287         0.014097  \n",
       "...               ...  \n",
       "1318         0.000084  \n",
       "1043         0.000084  \n",
       "454          0.000068  \n",
       "1239         0.000056  \n",
       "1164         0.000049  \n",
       "\n",
       "[1384 rows x 8 columns]"
      ]
     },
     "execution_count": 75,
     "metadata": {},
     "output_type": "execute_result"
    }
   ],
   "source": [
    "ig_means = (\n",
    "    ig_means\n",
    "    .assign(authentic_engagement_ratio = ig_means.authentic / ig_means.followers)\n",
    "    .assign(followers_rate = ig_means.followers / max(ig_means.followers))\n",
    "    .assign(engagement_size = ig_means.followers_rate * ig_means.authentic_engagement_ratio)\n",
    "    .sort_values(['engagement_size'], ascending=False)\n",
    ")\n",
    "ig_means"
   ]
  },
  {
   "attachments": {},
   "cell_type": "markdown",
   "id": "41a67423-d750-400b-b0dc-86198d0bb2fe",
   "metadata": {},
   "source": [
    "## <u>Leer los datos que en el nombre no contienen mes (resumen):</u></br>"
   ]
  },
  {
   "cell_type": "code",
<<<<<<< HEAD
   "execution_count": null,
=======
   "execution_count": 71,
>>>>>>> eb40377 (arreglar nan de cantidades)
   "id": "708f29aa-0d6c-468f-9396-4849bcd63680",
   "metadata": {
    "tags": []
   },
   "outputs": [
    {
     "name": "stderr",
     "output_type": "stream",
     "text": [
      "<<<<<<< local\n"
     ]
    },
    {
     "data": {
      "text/html": [
       "<div>\n",
       "<style scoped>\n",
       "    .dataframe tbody tr th:only-of-type {\n",
       "        vertical-align: middle;\n",
       "    }\n",
       "\n",
       "    .dataframe tbody tr th {\n",
       "        vertical-align: top;\n",
       "    }\n",
       "\n",
       "    .dataframe thead th {\n",
       "        text-align: right;\n",
       "    }\n",
       "</style>\n",
       "<table border=\"1\" class=\"dataframe\">\n",
       "  <thead>\n",
       "    <tr style=\"text-align: right;\">\n",
       "      <th></th>\n",
       "      <th>Influencer insta name</th>\n",
       "      <th>instagram name</th>\n",
       "      <th>category_1</th>\n",
       "      <th>category_2</th>\n",
       "      <th>Followers</th>\n",
       "      <th>Audience country(mostly)</th>\n",
       "      <th>Authentic engagement\\r\\n</th>\n",
       "      <th>Engagement avg\\r\\n</th>\n",
       "    </tr>\n",
       "  </thead>\n",
       "  <tbody>\n",
       "    <tr>\n",
       "      <th>0</th>\n",
       "      <td>433</td>\n",
       "      <td>433</td>\n",
       "      <td>Sports with a ball</td>\n",
       "      <td>NaN</td>\n",
       "      <td>48.5M</td>\n",
       "      <td>Spain</td>\n",
       "      <td>383.1K</td>\n",
       "      <td>637K</td>\n",
       "    </tr>\n",
       "    <tr>\n",
       "      <th>1</th>\n",
       "      <td>__youngbae__</td>\n",
       "      <td>TAEYANG</td>\n",
       "      <td>Music</td>\n",
       "      <td>NaN</td>\n",
       "      <td>12.7M</td>\n",
       "      <td>Indonesia</td>\n",
       "      <td>478K</td>\n",
       "      <td>542.3K</td>\n",
       "    </tr>\n",
       "    <tr>\n",
       "      <th>2</th>\n",
       "      <td>_agentgirl_</td>\n",
       "      <td>НАСТЯ ИВЛЕЕВА</td>\n",
       "      <td>Shows</td>\n",
       "      <td>NaN</td>\n",
       "      <td>18.8M</td>\n",
       "      <td>Russia</td>\n",
       "      <td>310.8K</td>\n",
       "      <td>377.9K</td>\n",
       "    </tr>\n",
       "    <tr>\n",
       "      <th>3</th>\n",
       "      <td>_imyour_joy</td>\n",
       "      <td>Joy</td>\n",
       "      <td>Lifestyle</td>\n",
       "      <td>NaN</td>\n",
       "      <td>13.5M</td>\n",
       "      <td>Indonesia</td>\n",
       "      <td>1.1M</td>\n",
       "      <td>1.4M</td>\n",
       "    </tr>\n",
       "    <tr>\n",
       "      <th>4</th>\n",
       "      <td>_jeongjaehyun</td>\n",
       "      <td>Jaehyun</td>\n",
       "      <td>NaN</td>\n",
       "      <td>NaN</td>\n",
       "      <td>11.1M</td>\n",
       "      <td>Indonesia</td>\n",
       "      <td>2.5M</td>\n",
       "      <td>3.1M</td>\n",
       "    </tr>\n",
       "    <tr>\n",
       "      <th>...</th>\n",
       "      <td>...</td>\n",
       "      <td>...</td>\n",
       "      <td>...</td>\n",
       "      <td>...</td>\n",
       "      <td>...</td>\n",
       "      <td>...</td>\n",
       "      <td>...</td>\n",
       "      <td>...</td>\n",
       "    </tr>\n",
       "    <tr>\n",
       "      <th>995</th>\n",
       "      <td>zendaya</td>\n",
       "      <td>Zendaya</td>\n",
       "      <td>Cinema &amp; Actors/actresses</td>\n",
       "      <td>Fashion</td>\n",
       "      <td>136.1M</td>\n",
       "      <td>United States</td>\n",
       "      <td>6.4M</td>\n",
       "      <td>8.6M</td>\n",
       "    </tr>\n",
       "    <tr>\n",
       "      <th>996</th>\n",
       "      <td>zidane</td>\n",
       "      <td>zidane</td>\n",
       "      <td>Sports with a ball</td>\n",
       "      <td>NaN</td>\n",
       "      <td>31.2M</td>\n",
       "      <td>Spain</td>\n",
       "      <td>546K</td>\n",
       "      <td>744.1K</td>\n",
       "    </tr>\n",
       "    <tr>\n",
       "      <th>997</th>\n",
       "      <td>zkdlin</td>\n",
       "      <td>KAI</td>\n",
       "      <td>Music</td>\n",
       "      <td>NaN</td>\n",
       "      <td>13.9M</td>\n",
       "      <td>Indonesia</td>\n",
       "      <td>1.3M</td>\n",
       "      <td>1.6M</td>\n",
       "    </tr>\n",
       "    <tr>\n",
       "      <th>998</th>\n",
       "      <td>zoeisabellakravitz</td>\n",
       "      <td>Zoë Kravitz</td>\n",
       "      <td>Cinema &amp; Actors/actresses</td>\n",
       "      <td>NaN</td>\n",
       "      <td>8.2M</td>\n",
       "      <td>United States</td>\n",
       "      <td>583K</td>\n",
       "      <td>885.5K</td>\n",
       "    </tr>\n",
       "    <tr>\n",
       "      <th>999</th>\n",
       "      <td>zoesugg</td>\n",
       "      <td>Zoë Sugg</td>\n",
       "      <td>Lifestyle</td>\n",
       "      <td>Business &amp; Careers</td>\n",
       "      <td>9.4M</td>\n",
       "      <td>United Kingdom</td>\n",
       "      <td>208.7K</td>\n",
       "      <td>289.3K</td>\n",
       "    </tr>\n",
       "  </tbody>\n",
       "</table>\n",
       "<p>1000 rows × 8 columns</p>\n",
       "</div>"
      ],
      "text/plain": [
       "    Influencer insta name instagram name                 category_1  \\\n",
       "0                     433            433         Sports with a ball   \n",
       "1            __youngbae__        TAEYANG                      Music   \n",
       "2             _agentgirl_  НАСТЯ ИВЛЕЕВА                      Shows   \n",
       "3             _imyour_joy            Joy                  Lifestyle   \n",
       "4           _jeongjaehyun        Jaehyun                        NaN   \n",
       "..                    ...            ...                        ...   \n",
       "995               zendaya        Zendaya  Cinema & Actors/actresses   \n",
       "996                zidane         zidane         Sports with a ball   \n",
       "997                zkdlin            KAI                      Music   \n",
       "998    zoeisabellakravitz   Zoë Kravitz  Cinema & Actors/actresses   \n",
       "999               zoesugg      Zoë Sugg                  Lifestyle   \n",
       "\n",
       "             category_2 Followers Audience country(mostly)  \\\n",
       "0                   NaN     48.5M                    Spain   \n",
       "1                   NaN     12.7M                Indonesia   \n",
       "2                   NaN     18.8M                   Russia   \n",
       "3                   NaN     13.5M                Indonesia   \n",
       "4                   NaN     11.1M                Indonesia   \n",
       "..                  ...       ...                      ...   \n",
       "995             Fashion    136.1M            United States   \n",
       "996                 NaN     31.2M                    Spain   \n",
       "997                 NaN     13.9M                Indonesia   \n",
       "998                 NaN      8.2M            United States   \n",
       "999  Business & Careers      9.4M           United Kingdom   \n",
       "\n",
       "    Authentic engagement\\r\\n Engagement avg\\r\\n  \n",
       "0                     383.1K               637K  \n",
       "1                       478K             542.3K  \n",
       "2                     310.8K             377.9K  \n",
       "3                       1.1M               1.4M  \n",
       "4                       2.5M               3.1M  \n",
       "..                       ...                ...  \n",
       "995                     6.4M               8.6M  \n",
       "996                     546K             744.1K  \n",
       "997                     1.3M               1.6M  \n",
       "998                     583K             885.5K  \n",
       "999                   208.7K             289.3K  \n",
       "\n",
       "[1000 rows x 8 columns]"
      ]
     },
     "execution_count": 35,
     "metadata": {},
     "output_type": "execute_result"
    },
    {
     "name": "stderr",
     "output_type": "stream",
     "text": [
      "=======\n"
     ]
    },
    {
     "data": {
      "text/html": [
       "<div>\n",
       "<style scoped>\n",
       "    .dataframe tbody tr th:only-of-type {\n",
       "        vertical-align: middle;\n",
       "    }\n",
       "\n",
       "    .dataframe tbody tr th {\n",
       "        vertical-align: top;\n",
       "    }\n",
       "\n",
       "    .dataframe thead th {\n",
       "        text-align: right;\n",
       "    }\n",
       "</style>\n",
       "<table border=\"1\" class=\"dataframe\">\n",
       "  <thead>\n",
       "    <tr style=\"text-align: right;\">\n",
       "      <th></th>\n",
       "      <th>Influencer insta name</th>\n",
       "      <th>instagram name</th>\n",
       "      <th>category_1</th>\n",
       "      <th>category_2</th>\n",
       "      <th>Followers</th>\n",
       "      <th>Audience country(mostly)</th>\n",
       "      <th>Authentic engagement\\r\\n</th>\n",
       "      <th>Engagement avg\\r\\n</th>\n",
       "    </tr>\n",
       "  </thead>\n",
       "  <tbody>\n",
       "    <tr>\n",
       "      <th>0</th>\n",
       "      <td>433</td>\n",
       "      <td>433</td>\n",
       "      <td>Sports with a ball</td>\n",
       "      <td>NaN</td>\n",
       "      <td>48.5M</td>\n",
       "      <td>Spain</td>\n",
       "      <td>383.1K</td>\n",
       "      <td>637K</td>\n",
       "    </tr>\n",
       "    <tr>\n",
       "      <th>1</th>\n",
       "      <td>__youngbae__</td>\n",
       "      <td>TAEYANG</td>\n",
       "      <td>Music</td>\n",
       "      <td>NaN</td>\n",
       "      <td>12.7M</td>\n",
       "      <td>Indonesia</td>\n",
       "      <td>478K</td>\n",
       "      <td>542.3K</td>\n",
       "    </tr>\n",
       "    <tr>\n",
       "      <th>2</th>\n",
       "      <td>_agentgirl_</td>\n",
       "      <td>НАСТЯ ИВЛЕЕВА</td>\n",
       "      <td>Shows</td>\n",
       "      <td>NaN</td>\n",
       "      <td>18.8M</td>\n",
       "      <td>Russia</td>\n",
       "      <td>310.8K</td>\n",
       "      <td>377.9K</td>\n",
       "    </tr>\n",
       "    <tr>\n",
       "      <th>3</th>\n",
       "      <td>_imyour_joy</td>\n",
       "      <td>Joy</td>\n",
       "      <td>Lifestyle</td>\n",
       "      <td>NaN</td>\n",
       "      <td>13.5M</td>\n",
       "      <td>Indonesia</td>\n",
       "      <td>1.1M</td>\n",
       "      <td>1.4M</td>\n",
       "    </tr>\n",
       "    <tr>\n",
       "      <th>4</th>\n",
       "      <td>_jeongjaehyun</td>\n",
       "      <td>Jaehyun</td>\n",
       "      <td>NaN</td>\n",
       "      <td>NaN</td>\n",
       "      <td>11.1M</td>\n",
       "      <td>Indonesia</td>\n",
       "      <td>2.5M</td>\n",
       "      <td>3.1M</td>\n",
       "    </tr>\n",
       "    <tr>\n",
       "      <th>...</th>\n",
       "      <td>...</td>\n",
       "      <td>...</td>\n",
       "      <td>...</td>\n",
       "      <td>...</td>\n",
       "      <td>...</td>\n",
       "      <td>...</td>\n",
       "      <td>...</td>\n",
       "      <td>...</td>\n",
       "    </tr>\n",
       "    <tr>\n",
       "      <th>995</th>\n",
       "      <td>zendaya</td>\n",
       "      <td>Zendaya</td>\n",
       "      <td>Cinema &amp; Actors/actresses</td>\n",
       "      <td>Fashion</td>\n",
       "      <td>136.1M</td>\n",
       "      <td>United States</td>\n",
       "      <td>6.4M</td>\n",
       "      <td>8.6M</td>\n",
       "    </tr>\n",
       "    <tr>\n",
       "      <th>996</th>\n",
       "      <td>zidane</td>\n",
       "      <td>zidane</td>\n",
       "      <td>Sports with a ball</td>\n",
       "      <td>NaN</td>\n",
       "      <td>31.2M</td>\n",
       "      <td>Spain</td>\n",
       "      <td>546K</td>\n",
       "      <td>744.1K</td>\n",
       "    </tr>\n",
       "    <tr>\n",
       "      <th>997</th>\n",
       "      <td>zkdlin</td>\n",
       "      <td>KAI</td>\n",
       "      <td>Music</td>\n",
       "      <td>NaN</td>\n",
       "      <td>13.9M</td>\n",
       "      <td>Indonesia</td>\n",
       "      <td>1.3M</td>\n",
       "      <td>1.6M</td>\n",
       "    </tr>\n",
       "    <tr>\n",
       "      <th>998</th>\n",
       "      <td>zoeisabellakravitz</td>\n",
       "      <td>Zoë Kravitz</td>\n",
       "      <td>Cinema &amp; Actors/actresses</td>\n",
       "      <td>NaN</td>\n",
       "      <td>8.2M</td>\n",
       "      <td>United States</td>\n",
       "      <td>583K</td>\n",
       "      <td>885.5K</td>\n",
       "    </tr>\n",
       "    <tr>\n",
       "      <th>999</th>\n",
       "      <td>zoesugg</td>\n",
       "      <td>Zoë Sugg</td>\n",
       "      <td>Lifestyle</td>\n",
       "      <td>Business &amp; Careers</td>\n",
       "      <td>9.4M</td>\n",
       "      <td>United Kingdom</td>\n",
       "      <td>208.7K</td>\n",
       "      <td>289.3K</td>\n",
       "    </tr>\n",
       "  </tbody>\n",
       "</table>\n",
       "<p>1000 rows × 8 columns</p>\n",
       "</div>"
      ],
      "text/plain": [
       "    Influencer insta name instagram name                 category_1  \\\n",
       "0                     433            433         Sports with a ball   \n",
       "1            __youngbae__        TAEYANG                      Music   \n",
       "2             _agentgirl_  НАСТЯ ИВЛЕЕВА                      Shows   \n",
       "3             _imyour_joy            Joy                  Lifestyle   \n",
       "4           _jeongjaehyun        Jaehyun                        NaN   \n",
       "..                    ...            ...                        ...   \n",
       "995               zendaya        Zendaya  Cinema & Actors/actresses   \n",
       "996                zidane         zidane         Sports with a ball   \n",
       "997                zkdlin            KAI                      Music   \n",
       "998    zoeisabellakravitz   Zoë Kravitz  Cinema & Actors/actresses   \n",
       "999               zoesugg      Zoë Sugg                  Lifestyle   \n",
       "\n",
       "             category_2 Followers Audience country(mostly)  \\\n",
       "0                   NaN     48.5M                    Spain   \n",
       "1                   NaN     12.7M                Indonesia   \n",
       "2                   NaN     18.8M                   Russia   \n",
       "3                   NaN     13.5M                Indonesia   \n",
       "4                   NaN     11.1M                Indonesia   \n",
       "..                  ...       ...                      ...   \n",
       "995             Fashion    136.1M            United States   \n",
       "996                 NaN     31.2M                    Spain   \n",
       "997                 NaN     13.9M                Indonesia   \n",
       "998                 NaN      8.2M            United States   \n",
       "999  Business & Careers      9.4M           United Kingdom   \n",
       "\n",
       "    Authentic engagement\\r\\n Engagement avg\\r\\n  \n",
       "0                     383.1K               637K  \n",
       "1                       478K             542.3K  \n",
       "2                     310.8K             377.9K  \n",
       "3                       1.1M               1.4M  \n",
       "4                       2.5M               3.1M  \n",
       "..                       ...                ...  \n",
       "995                     6.4M               8.6M  \n",
       "996                     546K             744.1K  \n",
       "997                     1.3M               1.6M  \n",
       "998                     583K             885.5K  \n",
       "999                   208.7K             289.3K  \n",
       "\n",
       "[1000 rows x 8 columns]"
      ]
     },
     "execution_count": 71,
     "metadata": {},
     "output_type": "execute_result"
    },
    {
     "name": "stderr",
     "output_type": "stream",
     "text": [
      ">>>>>>> remote\n"
     ]
    }
   ],
   "source": [
    "ig_resumen = pd.read_csv('DATA/instagram.csv')\n",
    "ig_resumen"
   ]
  },
  {
   "cell_type": "code",
   "execution_count": 36,
   "id": "9d3719b2-c060-4f4d-9970-5ac50b388fff",
   "metadata": {
    "tags": []
   },
   "outputs": [
    {
     "data": {
      "text/html": [
       "<div>\n",
       "<style scoped>\n",
       "    .dataframe tbody tr th:only-of-type {\n",
       "        vertical-align: middle;\n",
       "    }\n",
       "\n",
       "    .dataframe tbody tr th {\n",
       "        vertical-align: top;\n",
       "    }\n",
       "\n",
       "    .dataframe thead th {\n",
       "        text-align: right;\n",
       "    }\n",
       "</style>\n",
       "<table border=\"1\" class=\"dataframe\">\n",
       "  <thead>\n",
       "    <tr style=\"text-align: right;\">\n",
       "      <th></th>\n",
       "      <th>Tiktoker name</th>\n",
       "      <th>Tiktok name</th>\n",
       "      <th>Subscribers count</th>\n",
       "      <th>Views avg.</th>\n",
       "      <th>Likes avg</th>\n",
       "      <th>Comments avg.</th>\n",
       "      <th>Shares avg</th>\n",
       "    </tr>\n",
       "  </thead>\n",
       "  <tbody>\n",
       "    <tr>\n",
       "      <th>0</th>\n",
       "      <td>ekin.721</td>\n",
       "      <td>MOMO’s</td>\n",
       "      <td>221.7K</td>\n",
       "      <td>26M</td>\n",
       "      <td>2.8M</td>\n",
       "      <td>29.4K</td>\n",
       "      <td>116.4K</td>\n",
       "    </tr>\n",
       "    <tr>\n",
       "      <th>1</th>\n",
       "      <td>dojacat</td>\n",
       "      <td>Doja Cat</td>\n",
       "      <td>22.2M</td>\n",
       "      <td>25.4M</td>\n",
       "      <td>5M</td>\n",
       "      <td>36.7K</td>\n",
       "      <td>46.8K</td>\n",
       "    </tr>\n",
       "    <tr>\n",
       "      <th>2</th>\n",
       "      <td>kiet.ac.quy</td>\n",
       "      <td>Kiệt Ắk Wỷ</td>\n",
       "      <td>2.1M</td>\n",
       "      <td>20.7M</td>\n",
       "      <td>3.5M</td>\n",
       "      <td>38.8K</td>\n",
       "      <td>33.9K</td>\n",
       "    </tr>\n",
       "    <tr>\n",
       "      <th>3</th>\n",
       "      <td>charlidamelio</td>\n",
       "      <td>charli d’amelio</td>\n",
       "      <td>135.4M</td>\n",
       "      <td>18.7M</td>\n",
       "      <td>2.6M</td>\n",
       "      <td>54.7K</td>\n",
       "      <td>35.2K</td>\n",
       "    </tr>\n",
       "    <tr>\n",
       "      <th>4</th>\n",
       "      <td>luvadepedreiro</td>\n",
       "      <td>Iran Ferreira (Lai)</td>\n",
       "      <td>11.4M</td>\n",
       "      <td>24.8M</td>\n",
       "      <td>2.6M</td>\n",
       "      <td>32.7K</td>\n",
       "      <td>26.8K</td>\n",
       "    </tr>\n",
       "    <tr>\n",
       "      <th>...</th>\n",
       "      <td>...</td>\n",
       "      <td>...</td>\n",
       "      <td>...</td>\n",
       "      <td>...</td>\n",
       "      <td>...</td>\n",
       "      <td>...</td>\n",
       "      <td>...</td>\n",
       "    </tr>\n",
       "    <tr>\n",
       "      <th>995</th>\n",
       "      <td>nicolebernaal</td>\n",
       "      <td>nicolebernaal</td>\n",
       "      <td>4M</td>\n",
       "      <td>2.2M</td>\n",
       "      <td>351.3K</td>\n",
       "      <td>957</td>\n",
       "      <td>195</td>\n",
       "    </tr>\n",
       "    <tr>\n",
       "      <th>996</th>\n",
       "      <td>bellaretamosa</td>\n",
       "      <td>bella</td>\n",
       "      <td>5.1M</td>\n",
       "      <td>2.5M</td>\n",
       "      <td>340.4K</td>\n",
       "      <td>901</td>\n",
       "      <td>145</td>\n",
       "    </tr>\n",
       "    <tr>\n",
       "      <th>997</th>\n",
       "      <td>tunico80</td>\n",
       "      <td>🌠Antonio Tonon🌠</td>\n",
       "      <td>5.8M</td>\n",
       "      <td>1M</td>\n",
       "      <td>206.8K</td>\n",
       "      <td>2K</td>\n",
       "      <td>2.1K</td>\n",
       "    </tr>\n",
       "    <tr>\n",
       "      <th>998</th>\n",
       "      <td>armon.warren</td>\n",
       "      <td>Armoney</td>\n",
       "      <td>1.2M</td>\n",
       "      <td>1.9M</td>\n",
       "      <td>300.8K</td>\n",
       "      <td>904</td>\n",
       "      <td>630</td>\n",
       "    </tr>\n",
       "    <tr>\n",
       "      <th>999</th>\n",
       "      <td>soanhvadiephihi</td>\n",
       "      <td>Soanh x Diệp 💎</td>\n",
       "      <td>1.6M</td>\n",
       "      <td>2.6M</td>\n",
       "      <td>273.2K</td>\n",
       "      <td>720</td>\n",
       "      <td>530</td>\n",
       "    </tr>\n",
       "  </tbody>\n",
       "</table>\n",
       "<p>1000 rows × 7 columns</p>\n",
       "</div>"
      ],
      "text/plain": [
       "       Tiktoker name          Tiktok name Subscribers count Views avg.  \\\n",
       "0           ekin.721               MOMO’s            221.7K        26M   \n",
       "1            dojacat             Doja Cat             22.2M      25.4M   \n",
       "2        kiet.ac.quy           Kiệt Ắk Wỷ              2.1M      20.7M   \n",
       "3      charlidamelio      charli d’amelio            135.4M      18.7M   \n",
       "4     luvadepedreiro  Iran Ferreira (Lai)             11.4M      24.8M   \n",
       "..               ...                  ...               ...        ...   \n",
       "995    nicolebernaal        nicolebernaal                4M       2.2M   \n",
       "996    bellaretamosa                bella              5.1M       2.5M   \n",
       "997         tunico80      🌠Antonio Tonon🌠              5.8M         1M   \n",
       "998     armon.warren              Armoney              1.2M       1.9M   \n",
       "999  soanhvadiephihi       Soanh x Diệp 💎              1.6M       2.6M   \n",
       "\n",
       "    Likes avg Comments avg. Shares avg  \n",
       "0        2.8M         29.4K     116.4K  \n",
       "1          5M         36.7K      46.8K  \n",
       "2        3.5M         38.8K      33.9K  \n",
       "3        2.6M         54.7K      35.2K  \n",
       "4        2.6M         32.7K      26.8K  \n",
       "..        ...           ...        ...  \n",
       "995    351.3K           957        195  \n",
       "996    340.4K           901        145  \n",
       "997    206.8K            2K       2.1K  \n",
       "998    300.8K           904        630  \n",
       "999    273.2K           720        530  \n",
       "\n",
       "[1000 rows x 7 columns]"
      ]
     },
     "execution_count": 36,
     "metadata": {},
     "output_type": "execute_result"
    }
   ],
   "source": [
    "tiktok_resumen = pd.read_csv('DATA/tiktok.csv')\n",
    "tiktok_resumen"
   ]
  },
  {
   "cell_type": "code",
   "execution_count": 37,
   "id": "99c3b290-90bc-4ea5-a362-eca697b58f15",
   "metadata": {
    "tags": []
   },
   "outputs": [
    {
     "data": {
      "text/html": [
       "<div>\n",
       "<style scoped>\n",
       "    .dataframe tbody tr th:only-of-type {\n",
       "        vertical-align: middle;\n",
       "    }\n",
       "\n",
       "    .dataframe tbody tr th {\n",
       "        vertical-align: top;\n",
       "    }\n",
       "\n",
       "    .dataframe thead th {\n",
       "        text-align: right;\n",
       "    }\n",
       "</style>\n",
       "<table border=\"1\" class=\"dataframe\">\n",
       "  <thead>\n",
       "    <tr style=\"text-align: right;\">\n",
       "      <th></th>\n",
       "      <th>youtuber name</th>\n",
       "      <th>channel name</th>\n",
       "      <th>Category</th>\n",
       "      <th>Subscribers</th>\n",
       "      <th>Audience Country</th>\n",
       "      <th>avg views</th>\n",
       "      <th>avg likes</th>\n",
       "      <th>avg comments</th>\n",
       "    </tr>\n",
       "  </thead>\n",
       "  <tbody>\n",
       "    <tr>\n",
       "      <th>0</th>\n",
       "      <td>tseries</td>\n",
       "      <td>T-Series</td>\n",
       "      <td>Music &amp; Dance</td>\n",
       "      <td>212.1M</td>\n",
       "      <td>India</td>\n",
       "      <td>323.7K</td>\n",
       "      <td>9.8K</td>\n",
       "      <td>290</td>\n",
       "    </tr>\n",
       "    <tr>\n",
       "      <th>1</th>\n",
       "      <td>checkgate</td>\n",
       "      <td>Cocomelon - Nursery Rhymes</td>\n",
       "      <td>Education</td>\n",
       "      <td>132.1M</td>\n",
       "      <td>NaN</td>\n",
       "      <td>13.8M</td>\n",
       "      <td>80.9K</td>\n",
       "      <td>NaN</td>\n",
       "    </tr>\n",
       "    <tr>\n",
       "      <th>2</th>\n",
       "      <td>setindia</td>\n",
       "      <td>SET India</td>\n",
       "      <td>NaN</td>\n",
       "      <td>130.4M</td>\n",
       "      <td>India</td>\n",
       "      <td>23.6K</td>\n",
       "      <td>314</td>\n",
       "      <td>21</td>\n",
       "    </tr>\n",
       "    <tr>\n",
       "      <th>3</th>\n",
       "      <td>PewDiePie</td>\n",
       "      <td>PewDiePie</td>\n",
       "      <td>Animation</td>\n",
       "      <td>111.4M</td>\n",
       "      <td>United States</td>\n",
       "      <td>1.4M</td>\n",
       "      <td>80.8K</td>\n",
       "      <td>4.6K</td>\n",
       "    </tr>\n",
       "    <tr>\n",
       "      <th>4</th>\n",
       "      <td>MrBeast6000</td>\n",
       "      <td>MrBeast</td>\n",
       "      <td>Video games</td>\n",
       "      <td>92.5M</td>\n",
       "      <td>United States</td>\n",
       "      <td>30.6M</td>\n",
       "      <td>1.7M</td>\n",
       "      <td>67.7K</td>\n",
       "    </tr>\n",
       "    <tr>\n",
       "      <th>...</th>\n",
       "      <td>...</td>\n",
       "      <td>...</td>\n",
       "      <td>...</td>\n",
       "      <td>...</td>\n",
       "      <td>...</td>\n",
       "      <td>...</td>\n",
       "      <td>...</td>\n",
       "      <td>...</td>\n",
       "    </tr>\n",
       "    <tr>\n",
       "      <th>995</th>\n",
       "      <td>FutParódias</td>\n",
       "      <td>FutParódias</td>\n",
       "      <td>Music &amp; Dance</td>\n",
       "      <td>9.2M</td>\n",
       "      <td>Brazil</td>\n",
       "      <td>1.4M</td>\n",
       "      <td>110.1K</td>\n",
       "      <td>2.5K</td>\n",
       "    </tr>\n",
       "    <tr>\n",
       "      <th>996</th>\n",
       "      <td>EL GATO</td>\n",
       "      <td>EL GATO</td>\n",
       "      <td>Toys</td>\n",
       "      <td>9.2M</td>\n",
       "      <td>Brazil</td>\n",
       "      <td>243.8K</td>\n",
       "      <td>30.7K</td>\n",
       "      <td>636</td>\n",
       "    </tr>\n",
       "    <tr>\n",
       "      <th>997</th>\n",
       "      <td>CinemaSins</td>\n",
       "      <td>CinemaSins</td>\n",
       "      <td>Movies</td>\n",
       "      <td>9.2M</td>\n",
       "      <td>United States</td>\n",
       "      <td>296K</td>\n",
       "      <td>10.2K</td>\n",
       "      <td>874</td>\n",
       "    </tr>\n",
       "    <tr>\n",
       "      <th>998</th>\n",
       "      <td>CricketICC</td>\n",
       "      <td>ICC</td>\n",
       "      <td>Sports</td>\n",
       "      <td>9.2M</td>\n",
       "      <td>India</td>\n",
       "      <td>15.2K</td>\n",
       "      <td>854</td>\n",
       "      <td>58</td>\n",
       "    </tr>\n",
       "    <tr>\n",
       "      <th>999</th>\n",
       "      <td>BRKsEDU</td>\n",
       "      <td>BRKsEDU</td>\n",
       "      <td>Animation</td>\n",
       "      <td>9.2M</td>\n",
       "      <td>Brazil</td>\n",
       "      <td>112.3K</td>\n",
       "      <td>9.8K</td>\n",
       "      <td>246</td>\n",
       "    </tr>\n",
       "  </tbody>\n",
       "</table>\n",
       "<p>1000 rows × 8 columns</p>\n",
       "</div>"
      ],
      "text/plain": [
       "    youtuber name                channel name       Category Subscribers  \\\n",
       "0         tseries                    T-Series  Music & Dance      212.1M   \n",
       "1       checkgate  Cocomelon - Nursery Rhymes      Education      132.1M   \n",
       "2        setindia                   SET India            NaN      130.4M   \n",
       "3       PewDiePie                   PewDiePie      Animation      111.4M   \n",
       "4     MrBeast6000                     MrBeast    Video games       92.5M   \n",
       "..            ...                         ...            ...         ...   \n",
       "995   FutParódias                 FutParódias  Music & Dance        9.2M   \n",
       "996       EL GATO                     EL GATO           Toys        9.2M   \n",
       "997    CinemaSins                  CinemaSins         Movies        9.2M   \n",
       "998    CricketICC                         ICC         Sports        9.2M   \n",
       "999       BRKsEDU                     BRKsEDU      Animation        9.2M   \n",
       "\n",
       "    Audience Country avg views avg likes avg comments  \n",
       "0              India    323.7K      9.8K          290  \n",
       "1                NaN     13.8M     80.9K          NaN  \n",
       "2              India     23.6K       314           21  \n",
       "3      United States      1.4M     80.8K         4.6K  \n",
       "4      United States     30.6M      1.7M        67.7K  \n",
       "..               ...       ...       ...          ...  \n",
       "995           Brazil      1.4M    110.1K         2.5K  \n",
       "996           Brazil    243.8K     30.7K          636  \n",
       "997    United States      296K     10.2K          874  \n",
       "998            India     15.2K       854           58  \n",
       "999           Brazil    112.3K      9.8K          246  \n",
       "\n",
       "[1000 rows x 8 columns]"
      ]
     },
     "execution_count": 37,
     "metadata": {},
     "output_type": "execute_result"
    }
   ],
   "source": [
    "youtube_resumen = pd.read_csv('DATA/youtube.csv')\n",
    "youtube_resumen"
   ]
  },
  {
   "cell_type": "markdown",
   "id": "19ce68cc-003f-4bf7-81e7-6b7e7e1c6b85",
   "metadata": {
    "jp-MarkdownHeadingCollapsed": true,
    "tags": []
   },
   "source": [
    "# Análisis tiktok"
   ]
  },
  {
   "cell_type": "code",
   "execution_count": 38,
   "id": "72f17643-860b-4bd0-b12a-a6e30b3caaf7",
   "metadata": {},
   "outputs": [
    {
     "data": {
      "text/plain": [
       "3054"
      ]
     },
     "execution_count": 38,
     "metadata": {},
     "output_type": "execute_result"
    }
   ],
   "source": [
    "tt_months.username.drop_duplicates().size"
   ]
  },
  {
   "cell_type": "markdown",
   "id": "dba01771-1d28-4bf4-9d56-df1cbc484766",
   "metadata": {},
   "source": [
    "### Tenemos 3055 cuentas únicas en nuestros registros de tiktok"
   ]
  },
  {
   "cell_type": "markdown",
   "id": "1116262b-ee67-4eb0-806b-a16af4b9c404",
   "metadata": {},
   "source": [
    "### Medias de followers, views, likes, comments y shares de cada cuenta"
   ]
  },
  {
   "cell_type": "code",
   "execution_count": 39,
   "id": "7feec1aa-9fa3-4df3-91e9-5c01fac06c38",
   "metadata": {},
   "outputs": [],
   "source": [
    "tt_means = (\n",
    "    tt_months\n",
    "    .groupby('username')\n",
    "     # aggregate functiosn skips nan by deffault\n",
    "    .aggregate({\n",
    "        'subs': 'mean',\n",
    "        'views': 'mean',\n",
    "        'likes': 'mean',\n",
    "        'comments': 'mean',\n",
    "        'shares': 'mean'\n",
    "    })    \n",
    "    .reset_index()\n",
    "    .sort_values('subs', ascending=False)\n",
    ")"
   ]
  },
  {
   "cell_type": "markdown",
   "id": "f9111cb3-60e1-4d94-bef0-5130112643b7",
   "metadata": {},
   "source": [
    "### Métricas de valor"
   ]
  },
  {
   "cell_type": "code",
   "execution_count": 40,
   "id": "fef1a193-9e6f-443e-8f48-97b45b7b5d37",
   "metadata": {},
   "outputs": [],
   "source": [
    "tt_means['views_ratio'] = tt_means.views / tt_means.subs\n",
    "tt_means['likes_ratio'] = tt_means.likes / tt_means.subs\n",
    "tt_means['comments_ratio'] = tt_means.comments / tt_means.subs\n",
    "tt_means['share_ratio'] = tt_means.shares / tt_means.subs"
   ]
  },
  {
   "cell_type": "code",
   "execution_count": 41,
   "id": "e8577857-79ce-408f-94c5-ef33e2cf4a68",
   "metadata": {},
   "outputs": [
    {
     "data": {
      "text/html": [
       "<div>\n",
       "<style scoped>\n",
       "    .dataframe tbody tr th:only-of-type {\n",
       "        vertical-align: middle;\n",
       "    }\n",
       "\n",
       "    .dataframe tbody tr th {\n",
       "        vertical-align: top;\n",
       "    }\n",
       "\n",
       "    .dataframe thead th {\n",
       "        text-align: right;\n",
       "    }\n",
       "</style>\n",
       "<table border=\"1\" class=\"dataframe\">\n",
       "  <thead>\n",
       "    <tr style=\"text-align: right;\">\n",
       "      <th></th>\n",
       "      <th>username</th>\n",
       "      <th>subs</th>\n",
       "      <th>views</th>\n",
       "      <th>likes</th>\n",
       "      <th>comments</th>\n",
       "      <th>shares</th>\n",
       "      <th>views_ratio</th>\n",
       "      <th>likes_ratio</th>\n",
       "      <th>comments_ratio</th>\n",
       "      <th>share_ratio</th>\n",
       "    </tr>\n",
       "  </thead>\n",
       "  <tbody>\n",
       "    <tr>\n",
       "      <th>815</th>\n",
       "      <td>Khabane lame</td>\n",
       "      <td>1.514333e+08</td>\n",
       "      <td>1.430000e+07</td>\n",
       "      <td>1.766667e+06</td>\n",
       "      <td>14166.666667</td>\n",
       "      <td>4733.333333</td>\n",
       "      <td>0.094431</td>\n",
       "      <td>0.011666</td>\n",
       "      <td>0.000094</td>\n",
       "      <td>0.000031</td>\n",
       "    </tr>\n",
       "    <tr>\n",
       "      <th>1803</th>\n",
       "      <td>charli d’amelio</td>\n",
       "      <td>1.478667e+08</td>\n",
       "      <td>1.053333e+07</td>\n",
       "      <td>7.970667e+05</td>\n",
       "      <td>12466.666667</td>\n",
       "      <td>3366.666667</td>\n",
       "      <td>0.071235</td>\n",
       "      <td>0.005390</td>\n",
       "      <td>0.000084</td>\n",
       "      <td>0.000023</td>\n",
       "    </tr>\n",
       "    <tr>\n",
       "      <th>2215</th>\n",
       "      <td>khaby.lame</td>\n",
       "      <td>1.432000e+08</td>\n",
       "      <td>2.530000e+07</td>\n",
       "      <td>2.900000e+06</td>\n",
       "      <td>23500.000000</td>\n",
       "      <td>16300.000000</td>\n",
       "      <td>0.176676</td>\n",
       "      <td>0.020251</td>\n",
       "      <td>0.000164</td>\n",
       "      <td>0.000114</td>\n",
       "    </tr>\n",
       "    <tr>\n",
       "      <th>187</th>\n",
       "      <td>Bella Poarch</td>\n",
       "      <td>9.200000e+07</td>\n",
       "      <td>6.700000e+06</td>\n",
       "      <td>5.797500e+05</td>\n",
       "      <td>4850.000000</td>\n",
       "      <td>1300.000000</td>\n",
       "      <td>0.072826</td>\n",
       "      <td>0.006302</td>\n",
       "      <td>0.000053</td>\n",
       "      <td>0.000014</td>\n",
       "    </tr>\n",
       "    <tr>\n",
       "      <th>1716</th>\n",
       "      <td>bellapoarch</td>\n",
       "      <td>9.020000e+07</td>\n",
       "      <td>6.800000e+06</td>\n",
       "      <td>9.219000e+05</td>\n",
       "      <td>9500.000000</td>\n",
       "      <td>1200.000000</td>\n",
       "      <td>0.075388</td>\n",
       "      <td>0.010221</td>\n",
       "      <td>0.000105</td>\n",
       "      <td>0.000013</td>\n",
       "    </tr>\n",
       "    <tr>\n",
       "      <th>...</th>\n",
       "      <td>...</td>\n",
       "      <td>...</td>\n",
       "      <td>...</td>\n",
       "      <td>...</td>\n",
       "      <td>...</td>\n",
       "      <td>...</td>\n",
       "      <td>...</td>\n",
       "      <td>...</td>\n",
       "      <td>...</td>\n",
       "      <td>...</td>\n",
       "    </tr>\n",
       "    <tr>\n",
       "      <th>2735</th>\n",
       "      <td>tedwards</td>\n",
       "      <td>5.100000e+03</td>\n",
       "      <td>9.433000e+05</td>\n",
       "      <td>1.896000e+05</td>\n",
       "      <td>1900.000000</td>\n",
       "      <td>3100.000000</td>\n",
       "      <td>184.960784</td>\n",
       "      <td>37.176471</td>\n",
       "      <td>0.372549</td>\n",
       "      <td>0.607843</td>\n",
       "    </tr>\n",
       "    <tr>\n",
       "      <th>2177</th>\n",
       "      <td>juliaaliceaa</td>\n",
       "      <td>3.700000e+03</td>\n",
       "      <td>2.200000e+06</td>\n",
       "      <td>5.503000e+05</td>\n",
       "      <td>3100.000000</td>\n",
       "      <td>14300.000000</td>\n",
       "      <td>594.594595</td>\n",
       "      <td>148.729730</td>\n",
       "      <td>0.837838</td>\n",
       "      <td>3.864865</td>\n",
       "    </tr>\n",
       "    <tr>\n",
       "      <th>1634</th>\n",
       "      <td>alexbatistao</td>\n",
       "      <td>3.200000e+03</td>\n",
       "      <td>9.517000e+05</td>\n",
       "      <td>4.660000e+04</td>\n",
       "      <td>1700.000000</td>\n",
       "      <td>19400.000000</td>\n",
       "      <td>297.406250</td>\n",
       "      <td>14.562500</td>\n",
       "      <td>0.531250</td>\n",
       "      <td>6.062500</td>\n",
       "    </tr>\n",
       "    <tr>\n",
       "      <th>1671</th>\n",
       "      <td>apollolikesblu</td>\n",
       "      <td>3.000000e+03</td>\n",
       "      <td>7.023000e+05</td>\n",
       "      <td>1.245000e+05</td>\n",
       "      <td>9500.000000</td>\n",
       "      <td>2100.000000</td>\n",
       "      <td>234.100000</td>\n",
       "      <td>41.500000</td>\n",
       "      <td>3.166667</td>\n",
       "      <td>0.700000</td>\n",
       "    </tr>\n",
       "    <tr>\n",
       "      <th>2271</th>\n",
       "      <td>leonardzbant</td>\n",
       "      <td>3.000000e+03</td>\n",
       "      <td>1.700000e+06</td>\n",
       "      <td>1.312000e+05</td>\n",
       "      <td>486.000000</td>\n",
       "      <td>9600.000000</td>\n",
       "      <td>566.666667</td>\n",
       "      <td>43.733333</td>\n",
       "      <td>0.162000</td>\n",
       "      <td>3.200000</td>\n",
       "    </tr>\n",
       "  </tbody>\n",
       "</table>\n",
       "<p>3053 rows × 10 columns</p>\n",
       "</div>"
      ],
      "text/plain": [
       "             username          subs         views         likes      comments  \\\n",
       "815      Khabane lame  1.514333e+08  1.430000e+07  1.766667e+06  14166.666667   \n",
       "1803  charli d’amelio  1.478667e+08  1.053333e+07  7.970667e+05  12466.666667   \n",
       "2215       khaby.lame  1.432000e+08  2.530000e+07  2.900000e+06  23500.000000   \n",
       "187      Bella Poarch  9.200000e+07  6.700000e+06  5.797500e+05   4850.000000   \n",
       "1716      bellapoarch  9.020000e+07  6.800000e+06  9.219000e+05   9500.000000   \n",
       "...               ...           ...           ...           ...           ...   \n",
       "2735         tedwards  5.100000e+03  9.433000e+05  1.896000e+05   1900.000000   \n",
       "2177     juliaaliceaa  3.700000e+03  2.200000e+06  5.503000e+05   3100.000000   \n",
       "1634     alexbatistao  3.200000e+03  9.517000e+05  4.660000e+04   1700.000000   \n",
       "1671   apollolikesblu  3.000000e+03  7.023000e+05  1.245000e+05   9500.000000   \n",
       "2271     leonardzbant  3.000000e+03  1.700000e+06  1.312000e+05    486.000000   \n",
       "\n",
       "            shares  views_ratio  likes_ratio  comments_ratio  share_ratio  \n",
       "815    4733.333333     0.094431     0.011666        0.000094     0.000031  \n",
       "1803   3366.666667     0.071235     0.005390        0.000084     0.000023  \n",
       "2215  16300.000000     0.176676     0.020251        0.000164     0.000114  \n",
       "187    1300.000000     0.072826     0.006302        0.000053     0.000014  \n",
       "1716   1200.000000     0.075388     0.010221        0.000105     0.000013  \n",
       "...            ...          ...          ...             ...          ...  \n",
       "2735   3100.000000   184.960784    37.176471        0.372549     0.607843  \n",
       "2177  14300.000000   594.594595   148.729730        0.837838     3.864865  \n",
       "1634  19400.000000   297.406250    14.562500        0.531250     6.062500  \n",
       "1671   2100.000000   234.100000    41.500000        3.166667     0.700000  \n",
       "2271   9600.000000   566.666667    43.733333        0.162000     3.200000  \n",
       "\n",
       "[3053 rows x 10 columns]"
      ]
     },
     "execution_count": 41,
     "metadata": {},
     "output_type": "execute_result"
    }
   ],
   "source": [
    "tt_means"
   ]
  },
  {
   "cell_type": "markdown",
   "id": "ba3ebe8d-4194-42db-922b-6718a6f0e0bf",
   "metadata": {},
   "source": [
    "### Gráficas\n",
    "\n",
    "Grafica del numero de cuentas ue inicien por cada letra del alfabeto y agrupar en una categoría todos los que no comiencen con una letra del alfabeto"
   ]
  },
  {
   "cell_type": "code",
   "execution_count": 42,
   "id": "0d937e84-3831-455c-bac4-12673fa88fb1",
   "metadata": {},
   "outputs": [
    {
     "data": {
      "image/png": "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\n",
      "text/plain": [
       "<Figure size 640x480 with 1 Axes>"
      ]
     },
     "metadata": {},
     "output_type": "display_data"
    }
   ],
   "source": [
    "initials = (\n",
    "    tt_months.name\n",
    "    .map(get_inicial)\n",
    "    .value_counts()\n",
    "    .reset_index(name='frequency')\n",
    "    .rename(columns={\n",
    "        'index': 'letter',\n",
    "        'name': 'letter'\n",
    "    })\n",
    ")\n",
    "plt.bar(initials.letter, initials.frequency)\n",
    "plt.show()"
   ]
  },
  {
   "cell_type": "markdown",
   "id": "c28a71bd-5e41-46c8-921a-4895a1c6f89a",
   "metadata": {},
   "source": [
    "### Cuál es la cuenta de tiktok con más caracteres en su nombre?"
   ]
  },
  {
   "cell_type": "code",
   "execution_count": 43,
   "id": "66b33785-80b5-47e3-aaba-2b5d3585b2a7",
   "metadata": {},
   "outputs": [],
   "source": [
    "name_len = (\n",
    "    tt_months[['name', 'username']]\n",
    "    .assign(len_name = tt_months.name.map(lambda x: len(str(x))))\n",
    "    .assign(len_username = tt_months.username.map(lambda x: len(str(x))))\n",
    ")\n",
    "tds1 = name_len.loc[name_len.len_name.idxmax()]\n",
    "tds2 = name_len.loc[name_len.len_username.idxmax()]"
   ]
  },
  {
   "cell_type": "code",
   "execution_count": 44,
   "id": "7c7a06c5-5a4f-422d-94f4-5bc113b0e28e",
   "metadata": {},
   "outputs": [
    {
     "data": {
      "text/plain": [
       "name                               spriteder_spd\n",
       "username        Prite Netijen Netirattanapaiboon\n",
       "len_name                                      13\n",
       "len_username                                  32\n",
       "Name: 1499, dtype: object"
      ]
     },
     "execution_count": 44,
     "metadata": {},
     "output_type": "execute_result"
    }
   ],
   "source": [
    "tds2"
   ]
  },
  {
   "cell_type": "code",
   "execution_count": 45,
   "id": "4d9db309-7821-431c-a869-e04ae424e87a",
   "metadata": {},
   "outputs": [
    {
     "data": {
      "text/plain": [
       "name            بيسان اسماعيل - Bessan Ismail\n",
       "username                        bessan_esmail\n",
       "len_name                                   29\n",
       "len_username                               13\n",
       "Name: 116, dtype: object"
      ]
     },
     "execution_count": 45,
     "metadata": {},
     "output_type": "execute_result"
    }
   ],
   "source": [
    "tds1"
   ]
  },
  {
   "cell_type": "markdown",
   "id": "e6e5de0a-8a98-4d8b-a7c2-fd8f369edccd",
   "metadata": {},
   "source": [
    "### Cuántas cuentas de tiktok tienen le nombre del aguno de estos animales: perro, gato, leon tigre?"
   ]
  },
  {
   "cell_type": "code",
   "execution_count": 46,
   "id": "72497edd-dd28-42af-be45-5cc8f4101344",
   "metadata": {},
   "outputs": [
    {
     "name": "stderr",
     "output_type": "stream",
     "text": [
      "/tmp/ipykernel_1128/3064001155.py:1: UserWarning: This pattern is interpreted as a regular expression, and has match groups. To actually get the groups, use str.extract.\n",
      "  (tt_months.username.str.contains(r'^(perro|gato|leon|tigre)$') | tt_months.username.str.contains(r'^(perro|gato|leon|tigre)$')).sum()\n"
     ]
    },
    {
     "data": {
      "text/plain": [
       "0"
      ]
     },
     "execution_count": 46,
     "metadata": {},
     "output_type": "execute_result"
    }
   ],
   "source": [
    "(tt_months.username.str.contains(r'^(perro|gato|leon|tigre)$') | tt_months.username.str.contains(r'^(perro|gato|leon|tigre)$')).sum()"
   ]
  },
  {
   "cell_type": "markdown",
   "id": "62cb402d-8562-4765-a668-0244c02dc8fa",
   "metadata": {
    "jp-MarkdownHeadingCollapsed": true,
    "tags": []
   },
   "source": [
    "# Análisis youtube"
   ]
  },
  {
   "cell_type": "code",
   "execution_count": 47,
   "id": "4e4c17a7-2231-4faf-831d-f0b793912c05",
   "metadata": {},
   "outputs": [
    {
     "data": {
      "text/plain": [
       "377"
      ]
     },
     "execution_count": 47,
     "metadata": {},
     "output_type": "execute_result"
    }
   ],
   "source": [
    "y_months.username.drop_duplicates().size"
   ]
  },
  {
   "cell_type": "code",
   "execution_count": 48,
   "id": "0b1e90aa-ec01-4876-b7e7-7cc7046bae91",
   "metadata": {},
   "outputs": [
    {
     "data": {
      "text/plain": [
       "Index(['username', 'name', 'category1', 'category2', 'subs', 'country',\n",
       "       'views', 'likes', 'comments', 'month', 'category3'],\n",
       "      dtype='object')"
      ]
     },
     "execution_count": 48,
     "metadata": {},
     "output_type": "execute_result"
    }
   ],
   "source": [
    "y_months.columns"
   ]
  },
  {
   "cell_type": "markdown",
   "id": "f90544ac-a1c2-484f-a678-3bb8cee46bba",
   "metadata": {},
   "source": [
    "### Existen 377 cuentas válidas distintas en youtube"
   ]
  },
  {
   "cell_type": "markdown",
   "id": "ef92d09c-7cd5-47c0-af21-e2883af6686a",
   "metadata": {},
   "source": [
    "Calcular el promedio de seguidores, views, likes, comments de cada cuenta. Es decir, cada red social cuenta con 4 archivos de 4 meses distintos, si una cuenta aparece en los 4 meses, debera calcular el promedio de esos 4 meses, si una cuenta solo aparece 2 meses, se hara el promedio de esos dos meses y asi sucesivamente. SI el valor es nulo, vacio, N/A, o 0 no se debe promediar."
   ]
  },
  {
   "cell_type": "code",
   "execution_count": 49,
   "id": "a1449cc6-8e71-427c-82de-4df020680131",
   "metadata": {},
   "outputs": [],
   "source": [
    "y_means = (\n",
    "    y_months\n",
    "    .groupby('username')\n",
    "     # aggregate functiosn skips nan by deffault\n",
    "    .aggregate({\n",
    "        'subs': 'mean',\n",
    "        'views': 'mean',\n",
    "        'likes': 'mean',\n",
    "        'comments': 'mean'\n",
    "    })    \n",
    "    .reset_index()\n",
    "    .sort_values('subs', ascending=False)\n",
    ")"
   ]
  },
  {
   "cell_type": "code",
   "execution_count": 50,
   "id": "aac700a8-cf01-4cb2-bdae-7e4cd95c1ddd",
   "metadata": {},
   "outputs": [
    {
     "data": {
      "text/html": [
       "<div>\n",
       "<style scoped>\n",
       "    .dataframe tbody tr th:only-of-type {\n",
       "        vertical-align: middle;\n",
       "    }\n",
       "\n",
       "    .dataframe tbody tr th {\n",
       "        vertical-align: top;\n",
       "    }\n",
       "\n",
       "    .dataframe thead th {\n",
       "        text-align: right;\n",
       "    }\n",
       "</style>\n",
       "<table border=\"1\" class=\"dataframe\">\n",
       "  <thead>\n",
       "    <tr style=\"text-align: right;\">\n",
       "      <th></th>\n",
       "      <th>username</th>\n",
       "      <th>subs</th>\n",
       "      <th>views</th>\n",
       "      <th>likes</th>\n",
       "      <th>comments</th>\n",
       "    </tr>\n",
       "  </thead>\n",
       "  <tbody>\n",
       "    <tr>\n",
       "      <th>175</th>\n",
       "      <td>MrBeast</td>\n",
       "      <td>110550000.0</td>\n",
       "      <td>5.665000e+07</td>\n",
       "      <td>2.550000e+06</td>\n",
       "      <td>85400.000000</td>\n",
       "    </tr>\n",
       "    <tr>\n",
       "      <th>177</th>\n",
       "      <td>MrBeast6000</td>\n",
       "      <td>103200000.0</td>\n",
       "      <td>5.365000e+07</td>\n",
       "      <td>3.500000e+06</td>\n",
       "      <td>109150.000000</td>\n",
       "    </tr>\n",
       "    <tr>\n",
       "      <th>359</th>\n",
       "      <td>sabtv</td>\n",
       "      <td>72100000.0</td>\n",
       "      <td>4.190000e+04</td>\n",
       "      <td>7.243333e+02</td>\n",
       "      <td>18.000000</td>\n",
       "    </tr>\n",
       "    <tr>\n",
       "      <th>250</th>\n",
       "      <td>Sony SAB</td>\n",
       "      <td>71700000.0</td>\n",
       "      <td>6.170000e+04</td>\n",
       "      <td>9.240000e+02</td>\n",
       "      <td>18.000000</td>\n",
       "    </tr>\n",
       "    <tr>\n",
       "      <th>347</th>\n",
       "      <td>movieclips</td>\n",
       "      <td>57800000.0</td>\n",
       "      <td>2.056667e+04</td>\n",
       "      <td>2.926667e+02</td>\n",
       "      <td>16.333333</td>\n",
       "    </tr>\n",
       "    <tr>\n",
       "      <th>...</th>\n",
       "      <td>...</td>\n",
       "      <td>...</td>\n",
       "      <td>...</td>\n",
       "      <td>...</td>\n",
       "      <td>...</td>\n",
       "    </tr>\n",
       "    <tr>\n",
       "      <th>40</th>\n",
       "      <td>CRACKS</td>\n",
       "      <td>9400000.0</td>\n",
       "      <td>2.270000e+04</td>\n",
       "      <td>1.600000e+03</td>\n",
       "      <td>97.000000</td>\n",
       "    </tr>\n",
       "    <tr>\n",
       "      <th>138</th>\n",
       "      <td>LetDa Hyper</td>\n",
       "      <td>9400000.0</td>\n",
       "      <td>1.424000e+05</td>\n",
       "      <td>7.400000e+03</td>\n",
       "      <td>510.000000</td>\n",
       "    </tr>\n",
       "    <tr>\n",
       "      <th>285</th>\n",
       "      <td>Troom Troom SELECT</td>\n",
       "      <td>9300000.0</td>\n",
       "      <td>2.548000e+05</td>\n",
       "      <td>2.900000e+03</td>\n",
       "      <td>52.000000</td>\n",
       "    </tr>\n",
       "    <tr>\n",
       "      <th>278</th>\n",
       "      <td>Thơ Nguyễn</td>\n",
       "      <td>9300000.0</td>\n",
       "      <td>1.855000e+05</td>\n",
       "      <td>2.400000e+03</td>\n",
       "      <td>106.000000</td>\n",
       "    </tr>\n",
       "    <tr>\n",
       "      <th>307</th>\n",
       "      <td>brunoberti10</td>\n",
       "      <td>9300000.0</td>\n",
       "      <td>9.090000e+04</td>\n",
       "      <td>6.000000e+03</td>\n",
       "      <td>249.000000</td>\n",
       "    </tr>\n",
       "  </tbody>\n",
       "</table>\n",
       "<p>377 rows × 5 columns</p>\n",
       "</div>"
      ],
      "text/plain": [
       "               username         subs         views         likes  \\\n",
       "175             MrBeast  110550000.0  5.665000e+07  2.550000e+06   \n",
       "177         MrBeast6000  103200000.0  5.365000e+07  3.500000e+06   \n",
       "359               sabtv   72100000.0  4.190000e+04  7.243333e+02   \n",
       "250            Sony SAB   71700000.0  6.170000e+04  9.240000e+02   \n",
       "347          movieclips   57800000.0  2.056667e+04  2.926667e+02   \n",
       "..                  ...          ...           ...           ...   \n",
       "40               CRACKS    9400000.0  2.270000e+04  1.600000e+03   \n",
       "138         LetDa Hyper    9400000.0  1.424000e+05  7.400000e+03   \n",
       "285  Troom Troom SELECT    9300000.0  2.548000e+05  2.900000e+03   \n",
       "278          Thơ Nguyễn    9300000.0  1.855000e+05  2.400000e+03   \n",
       "307        brunoberti10    9300000.0  9.090000e+04  6.000000e+03   \n",
       "\n",
       "          comments  \n",
       "175   85400.000000  \n",
       "177  109150.000000  \n",
       "359      18.000000  \n",
       "250      18.000000  \n",
       "347      16.333333  \n",
       "..             ...  \n",
       "40       97.000000  \n",
       "138     510.000000  \n",
       "285      52.000000  \n",
       "278     106.000000  \n",
       "307     249.000000  \n",
       "\n",
       "[377 rows x 5 columns]"
      ]
     },
     "execution_count": 50,
     "metadata": {},
     "output_type": "execute_result"
    }
   ],
   "source": [
    "y_means"
   ]
  },
  {
   "cell_type": "markdown",
   "id": "6611d8be-79c3-49ef-a850-d2b94214bdca",
   "metadata": {},
   "source": [
    "### Métricas de valor"
   ]
  },
  {
   "cell_type": "code",
   "execution_count": 51,
   "id": "1725b93a-5b75-44e8-acc0-32cbc96db391",
   "metadata": {},
   "outputs": [],
   "source": [
    "y_means['views_ratio'] = y_means.views / y_means.subs\n",
    "y_means['likes_ratio'] = y_means.likes / y_means.subs\n",
    "y_means['comments_ratio'] = y_means.comments / y_means.subs"
   ]
  },
  {
   "cell_type": "code",
   "execution_count": 52,
   "id": "a7943242-8337-4782-af9b-e25fc7805cee",
   "metadata": {},
   "outputs": [
    {
     "data": {
      "text/html": [
       "<div>\n",
       "<style scoped>\n",
       "    .dataframe tbody tr th:only-of-type {\n",
       "        vertical-align: middle;\n",
       "    }\n",
       "\n",
       "    .dataframe tbody tr th {\n",
       "        vertical-align: top;\n",
       "    }\n",
       "\n",
       "    .dataframe thead th {\n",
       "        text-align: right;\n",
       "    }\n",
       "</style>\n",
       "<table border=\"1\" class=\"dataframe\">\n",
       "  <thead>\n",
       "    <tr style=\"text-align: right;\">\n",
       "      <th></th>\n",
       "      <th>username</th>\n",
       "      <th>subs</th>\n",
       "      <th>views</th>\n",
       "      <th>likes</th>\n",
       "      <th>comments</th>\n",
       "      <th>views_ratio</th>\n",
       "      <th>likes_ratio</th>\n",
       "      <th>comments_ratio</th>\n",
       "    </tr>\n",
       "  </thead>\n",
       "  <tbody>\n",
       "    <tr>\n",
       "      <th>175</th>\n",
       "      <td>MrBeast</td>\n",
       "      <td>110550000.0</td>\n",
       "      <td>5.665000e+07</td>\n",
       "      <td>2.550000e+06</td>\n",
       "      <td>85400.000000</td>\n",
       "      <td>0.512438</td>\n",
       "      <td>0.023066</td>\n",
       "      <td>7.725011e-04</td>\n",
       "    </tr>\n",
       "    <tr>\n",
       "      <th>177</th>\n",
       "      <td>MrBeast6000</td>\n",
       "      <td>103200000.0</td>\n",
       "      <td>5.365000e+07</td>\n",
       "      <td>3.500000e+06</td>\n",
       "      <td>109150.000000</td>\n",
       "      <td>0.519864</td>\n",
       "      <td>0.033915</td>\n",
       "      <td>1.057655e-03</td>\n",
       "    </tr>\n",
       "    <tr>\n",
       "      <th>359</th>\n",
       "      <td>sabtv</td>\n",
       "      <td>72100000.0</td>\n",
       "      <td>4.190000e+04</td>\n",
       "      <td>7.243333e+02</td>\n",
       "      <td>18.000000</td>\n",
       "      <td>0.000581</td>\n",
       "      <td>0.000010</td>\n",
       "      <td>2.496533e-07</td>\n",
       "    </tr>\n",
       "    <tr>\n",
       "      <th>250</th>\n",
       "      <td>Sony SAB</td>\n",
       "      <td>71700000.0</td>\n",
       "      <td>6.170000e+04</td>\n",
       "      <td>9.240000e+02</td>\n",
       "      <td>18.000000</td>\n",
       "      <td>0.000861</td>\n",
       "      <td>0.000013</td>\n",
       "      <td>2.510460e-07</td>\n",
       "    </tr>\n",
       "    <tr>\n",
       "      <th>347</th>\n",
       "      <td>movieclips</td>\n",
       "      <td>57800000.0</td>\n",
       "      <td>2.056667e+04</td>\n",
       "      <td>2.926667e+02</td>\n",
       "      <td>16.333333</td>\n",
       "      <td>0.000356</td>\n",
       "      <td>0.000005</td>\n",
       "      <td>2.825836e-07</td>\n",
       "    </tr>\n",
       "    <tr>\n",
       "      <th>...</th>\n",
       "      <td>...</td>\n",
       "      <td>...</td>\n",
       "      <td>...</td>\n",
       "      <td>...</td>\n",
       "      <td>...</td>\n",
       "      <td>...</td>\n",
       "      <td>...</td>\n",
       "      <td>...</td>\n",
       "    </tr>\n",
       "    <tr>\n",
       "      <th>40</th>\n",
       "      <td>CRACKS</td>\n",
       "      <td>9400000.0</td>\n",
       "      <td>2.270000e+04</td>\n",
       "      <td>1.600000e+03</td>\n",
       "      <td>97.000000</td>\n",
       "      <td>0.002415</td>\n",
       "      <td>0.000170</td>\n",
       "      <td>1.031915e-05</td>\n",
       "    </tr>\n",
       "    <tr>\n",
       "      <th>138</th>\n",
       "      <td>LetDa Hyper</td>\n",
       "      <td>9400000.0</td>\n",
       "      <td>1.424000e+05</td>\n",
       "      <td>7.400000e+03</td>\n",
       "      <td>510.000000</td>\n",
       "      <td>0.015149</td>\n",
       "      <td>0.000787</td>\n",
       "      <td>5.425532e-05</td>\n",
       "    </tr>\n",
       "    <tr>\n",
       "      <th>285</th>\n",
       "      <td>Troom Troom SELECT</td>\n",
       "      <td>9300000.0</td>\n",
       "      <td>2.548000e+05</td>\n",
       "      <td>2.900000e+03</td>\n",
       "      <td>52.000000</td>\n",
       "      <td>0.027398</td>\n",
       "      <td>0.000312</td>\n",
       "      <td>5.591398e-06</td>\n",
       "    </tr>\n",
       "    <tr>\n",
       "      <th>278</th>\n",
       "      <td>Thơ Nguyễn</td>\n",
       "      <td>9300000.0</td>\n",
       "      <td>1.855000e+05</td>\n",
       "      <td>2.400000e+03</td>\n",
       "      <td>106.000000</td>\n",
       "      <td>0.019946</td>\n",
       "      <td>0.000258</td>\n",
       "      <td>1.139785e-05</td>\n",
       "    </tr>\n",
       "    <tr>\n",
       "      <th>307</th>\n",
       "      <td>brunoberti10</td>\n",
       "      <td>9300000.0</td>\n",
       "      <td>9.090000e+04</td>\n",
       "      <td>6.000000e+03</td>\n",
       "      <td>249.000000</td>\n",
       "      <td>0.009774</td>\n",
       "      <td>0.000645</td>\n",
       "      <td>2.677419e-05</td>\n",
       "    </tr>\n",
       "  </tbody>\n",
       "</table>\n",
       "<p>377 rows × 8 columns</p>\n",
       "</div>"
      ],
      "text/plain": [
       "               username         subs         views         likes  \\\n",
       "175             MrBeast  110550000.0  5.665000e+07  2.550000e+06   \n",
       "177         MrBeast6000  103200000.0  5.365000e+07  3.500000e+06   \n",
       "359               sabtv   72100000.0  4.190000e+04  7.243333e+02   \n",
       "250            Sony SAB   71700000.0  6.170000e+04  9.240000e+02   \n",
       "347          movieclips   57800000.0  2.056667e+04  2.926667e+02   \n",
       "..                  ...          ...           ...           ...   \n",
       "40               CRACKS    9400000.0  2.270000e+04  1.600000e+03   \n",
       "138         LetDa Hyper    9400000.0  1.424000e+05  7.400000e+03   \n",
       "285  Troom Troom SELECT    9300000.0  2.548000e+05  2.900000e+03   \n",
       "278          Thơ Nguyễn    9300000.0  1.855000e+05  2.400000e+03   \n",
       "307        brunoberti10    9300000.0  9.090000e+04  6.000000e+03   \n",
       "\n",
       "          comments  views_ratio  likes_ratio  comments_ratio  \n",
       "175   85400.000000     0.512438     0.023066    7.725011e-04  \n",
       "177  109150.000000     0.519864     0.033915    1.057655e-03  \n",
       "359      18.000000     0.000581     0.000010    2.496533e-07  \n",
       "250      18.000000     0.000861     0.000013    2.510460e-07  \n",
       "347      16.333333     0.000356     0.000005    2.825836e-07  \n",
       "..             ...          ...          ...             ...  \n",
       "40       97.000000     0.002415     0.000170    1.031915e-05  \n",
       "138     510.000000     0.015149     0.000787    5.425532e-05  \n",
       "285      52.000000     0.027398     0.000312    5.591398e-06  \n",
       "278     106.000000     0.019946     0.000258    1.139785e-05  \n",
       "307     249.000000     0.009774     0.000645    2.677419e-05  \n",
       "\n",
       "[377 rows x 8 columns]"
      ]
     },
     "execution_count": 52,
     "metadata": {},
     "output_type": "execute_result"
    }
   ],
   "source": [
    "y_means"
   ]
  },
  {
   "cell_type": "markdown",
   "id": "22bab263-1501-4941-b115-f43d5500de0c",
   "metadata": {},
   "source": [
    "### Gráficas\n",
    "Graficar en un histograma el numero de cuentas que inicien por cada letra del alfabeto (Mayusculas y minusculas son tomadas de igual forma) y agrupar en una sola categoria todos los que no comiencen con una letra del alfabeto."
   ]
  },
  {
   "cell_type": "code",
   "execution_count": 53,
   "id": "a2418d29-4b1b-405d-8723-2ececbaa0981",
   "metadata": {},
   "outputs": [
    {
     "data": {
      "image/png": "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\n",
      "text/plain": [
       "<Figure size 640x480 with 1 Axes>"
      ]
     },
     "metadata": {},
     "output_type": "display_data"
    }
   ],
   "source": [
    "initials = (\n",
    "    y_months.name\n",
    "    .map(get_inicial)\n",
    "    .value_counts()\n",
    "    .reset_index(name='frequency')\n",
    "    .rename(columns={\n",
    "        'index': 'letter',\n",
    "        'name': 'letter'\n",
    "    })\n",
    ")\n",
    "plt.bar(initials.letter, initials.frequency)\n",
    "plt.show()"
   ]
  },
  {
   "cell_type": "markdown",
   "id": "b731a30c-1eb6-4d25-b683-c27433afddb5",
   "metadata": {},
   "source": [
    "¿Cuantas cuentas de YouTube tienen ya sea en su username o name las letras de las iniciales del primer nombre de cada uno de los integrantes de tu equipo?"
   ]
  },
  {
   "cell_type": "code",
   "execution_count": 54,
   "id": "ff581f24-d50d-4102-9f60-d1923967b012",
   "metadata": {},
   "outputs": [],
   "source": [
    "name_len = (\n",
    "    y_months[['name', 'username']]\n",
    "    .assign(len_name = y_months.name.map(lambda x: len(str(x))))\n",
    "    .assign(len_username = y_months.username.map(lambda x: len(str(x))))\n",
    ")\n",
    "ids1 = name_len.loc[name_len.len_name.idxmax()]\n",
    "ids2 = name_len.loc[name_len.len_username.idxmax()]"
   ]
  },
  {
   "cell_type": "code",
   "execution_count": 55,
   "id": "9101a8a5-254b-4949-b3d2-57beacb5c350",
   "metadata": {},
   "outputs": [
    {
     "data": {
      "text/plain": [
       "name            DaniRep | +6 Vídeos Diarios De GTA 5 Online!\n",
       "username                                          TheDaniRep\n",
       "len_name                                                  44\n",
       "len_username                                              10\n",
       "Name: 77, dtype: object"
      ]
     },
     "execution_count": 55,
     "metadata": {},
     "output_type": "execute_result"
    }
   ],
   "source": [
    "ids1"
   ]
  },
  {
   "cell_type": "code",
   "execution_count": 56,
   "id": "3900fb87-f0b5-4459-9db2-63d4e4666c9e",
   "metadata": {},
   "outputs": [
    {
     "data": {
      "text/plain": [
       "name                                              TheDaniRep\n",
       "username        DaniRep | +6 Vídeos Diarios De GTA 5 Online!\n",
       "len_name                                                  10\n",
       "len_username                                              44\n",
       "Name: 322, dtype: object"
      ]
     },
     "execution_count": 56,
     "metadata": {},
     "output_type": "execute_result"
    }
   ],
   "source": [
    "ids2"
   ]
  },
  {
   "cell_type": "code",
   "execution_count": null,
   "id": "d4924c92-0dfa-4b0e-a5f9-822c0d456f72",
   "metadata": {},
   "outputs": [],
   "source": []
  }
 ],
 "metadata": {
  "kernelspec": {
   "display_name": "Python 3 (ipykernel)",
   "language": "python",
   "name": "python3"
  },
  "language_info": {
   "codemirror_mode": {
    "name": "ipython",
    "version": 3
   },
   "file_extension": ".py",
   "mimetype": "text/x-python",
   "name": "python",
   "nbconvert_exporter": "python",
   "pygments_lexer": "ipython3",
   "version": "3.10.9"
  },
  "nbdime-conflicts": {
   "local_diff": [
    {
     "diff": [
      {
       "diff": [
        {
         "key": 0,
         "length": 1,
         "op": "removerange"
        }
       ],
       "key": "version",
       "op": "patch"
      }
     ],
     "key": "language_info",
     "op": "patch"
    }
   ],
   "remote_diff": [
    {
     "diff": [
      {
       "diff": [
        {
         "diff": [
          {
           "key": 5,
           "op": "addrange",
           "valuelist": "2"
          },
          {
           "key": 5,
           "length": 1,
           "op": "removerange"
          }
         ],
         "key": 0,
         "op": "patch"
        }
       ],
       "key": "version",
       "op": "patch"
      }
     ],
     "key": "language_info",
     "op": "patch"
    }
   ]
  }
 },
 "nbformat": 4,
 "nbformat_minor": 5
}
