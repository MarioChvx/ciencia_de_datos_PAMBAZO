{
 "cells": [
  {
   "attachments": {},
   "cell_type": "markdown",
   "id": "66684af0-a3d5-4983-910e-a8b0c1983dec",
   "metadata": {},
   "source": [
    "# <b><center> Social Networks EDA </b></center>\n"
   ]
  },
  {
   "attachments": {},
   "cell_type": "markdown",
   "id": "def6abdb-e041-45ff-a7f7-d90875ff1c72",
   "metadata": {},
   "source": [
    "## Entendimiento de los Datos:"
   ]
  },
  {
   "cell_type": "code",
   "execution_count": 631,
   "id": "391350a2-08cd-4be2-ab7e-265b382a1fbe",
   "metadata": {
    "tags": []
   },
   "outputs": [],
   "source": [
    "import numpy as np\n",
    "import pandas as pd\n",
    "import matplotlib.pyplot as plt\n",
    "import seaborn as sns\n",
    "import pathlib\n",
    "import re\n",
    "from difflib import SequenceMatcher"
   ]
  },
  {
   "attachments": {},
   "cell_type": "markdown",
   "id": "59959fc2-385c-47b7-92e0-e639e7ff5a5b",
   "metadata": {},
   "source": [
    "## <u>Leer los datos que en el nombre contienen un mes:</u></br>\n",
    "### <b>Instagram:</b>"
   ]
  },
  {
   "attachments": {},
   "cell_type": "markdown",
   "id": "854e6951-f2cd-4dce-a728-44383b357b46",
   "metadata": {},
   "source": [
    "Cargar los 12 archivos que en el nombre tienen un mes, en 3  DataFrames, uno de cada red social, donde cada uno de los cuales debe contener las siguientes columnas:\n",
    "\n",
    "Instagram:\n",
    "* Username\n",
    "* Name\n",
    "* Subscribers o Followers\n",
    "* Country\n",
    "* Authentic\n",
    "* Engagement\n",
    "* Category1\n",
    "* Category2\n",
    "* Month"
   ]
  },
  {
   "cell_type": "code",
   "execution_count": 632,
   "id": "b01a8202-3571-4623-8939-fd3b98205298",
   "metadata": {
    "tags": []
   },
   "outputs": [],
   "source": [
    "ig_june = (\n",
    "    pd.read_csv('DATA/instagramjune2022.csv')\n",
    "    .assign(Month='June')\n",
    "    .rename(columns={\n",
    "        \"instagram name\": \"username\",\n",
    "        \"influencer name \":\"name\",\n",
    "        \"Category_1\": \"category1\",\n",
    "        \"Category_2\": \"category2\",\n",
    "        \"Subscribers count\": \"followers\",\n",
    "        \"Views avg.\": \"country\",\n",
    "        \"Likes avg\": \"authentic\",\n",
    "        \"Comments avg.\": \"average\",\n",
    "        \"Month\": \"month\"})\n",
    ")"
   ]
  },
  {
   "cell_type": "code",
   "execution_count": 633,
   "id": "a46059c1-ae44-4e3c-88d8-2ac7c6d1e878",
   "metadata": {
    "tags": []
   },
   "outputs": [],
   "source": [
    "ig_sep = (\n",
    "    pd.read_csv('DATA/instagramsep2022.csv')\n",
    "    .assign(Month='September')\n",
    "    .rename(columns={\n",
    "        \"Instagram name\": \"username\",\n",
    "        \" Name\": \"name\",\n",
    "        \"Subscribers\": \"followers\",\n",
    "        \"Audience country\": \"country\",\n",
    "        \"Authentic engagement\\n\": \"authentic\",\n",
    "        \"Engagement average\\r\\n\": \"average\",\n",
    "        \"Category_1\": \"category1\",\n",
    "        \"Category_2\": \"category2\",\n",
    "        \"Month\": \"month\"})\n",
    "    .drop('S.no', axis=1)\n",
    ")"
   ]
  },
  {
   "cell_type": "code",
   "execution_count": 634,
   "id": "6f796886-ac38-428e-8591-3ae0871da635",
   "metadata": {
    "tags": []
   },
   "outputs": [],
   "source": [
    "ig_nov = (\n",
    "    pd.read_csv('DATA/instagramNov2022.csv')\n",
    "    .assign(Month='November')\n",
    "    .drop('s.no', axis=1)\n",
    "    .rename(columns={\n",
    "        \"Name\": \"username\",\n",
    "        \"Instagram Name\": \"name\",\n",
    "        \"Category-1\": \"category1\",\n",
    "        \"Followers\": \"followers\",\n",
    "        \"\\nCountry\": \"country\",\n",
    "        \"Eng. (Auth.)\": \"authentic\",\n",
    "        \"Eng. (Avg.)\": \"average\",\n",
    "        \"Category-2\": \"category2\",\n",
    "        \"Month\": \"month\"})\n",
    ")"
   ]
  },
  {
   "cell_type": "code",
   "execution_count": 635,
   "id": "f9ef5b5a-18c0-4a1a-ad7a-3375600fcb88",
   "metadata": {
    "tags": []
   },
   "outputs": [],
   "source": [
    "ig_dec = (\n",
    "    pd.read_csv('DATA/INSTAGRAMDEC2022.csv')\n",
    "    .assign(Month='December')\n",
    "    .rename(columns={\n",
    "        \"name\": \"username\",\n",
    "        \"instagram name\": \"name\",\n",
    "        \"Category_1\": \"category1\",\n",
    "        \"Category_2\": \"category2\",\n",
    "        \"Eng. (Auth.)\": \"authentic\",\n",
    "        \"Eng. (Avg.)\": \"average\",\n",
    "        \"Month\": \"month\"})\n",
    ")"
   ]
  },
  {
   "attachments": {},
   "cell_type": "markdown",
   "id": "a75614f5",
   "metadata": {},
   "source": [
    "Definiendo una función que transforma los números de texto a int en todo una columna"
   ]
  },
  {
   "cell_type": "code",
   "execution_count": 636,
   "id": "7c3f05f7",
   "metadata": {},
   "outputs": [],
   "source": [
    "def text_int(column: pd.Series) -> pd.Series:\n",
    "    return column.replace({'K': '*1e3', 'M': '*1e6', 'G':'*1e9'}, regex=True).map(pd.eval).astype(int)\n",
    "\n",
    "numeric_text_cols = ['followers', 'average', 'authentic']"
   ]
  },
  {
   "cell_type": "code",
   "execution_count": 637,
   "id": "2547a2d1",
   "metadata": {},
   "outputs": [],
   "source": [
    "ig_june = ig_june.dropna()\n",
    "ig_june.loc[:, numeric_text_cols] = ig_june[numeric_text_cols].apply(cientific_int)\n",
    "ig_sep.loc[:, numeric_text_cols] = ig_sep[numeric_text_cols].apply(cientific_int)\n",
    "ig_nov.loc[:, numeric_text_cols] = ig_nov[numeric_text_cols].apply(cientific_int)\n",
    "ig_dec.loc[:, numeric_text_cols] = ig_dec[numeric_text_cols].apply(cientific_int)"
   ]
  },
  {
   "attachments": {},
   "cell_type": "markdown",
   "id": "29763cf5",
   "metadata": {},
   "source": [
    "ig_months es la combinación de todos los meses, eliminando aquellos registros duplicados.\n",
    "Tener cuidado con los datos numéricos, ya que son datos incompletos. Para sacar promedios se tiene que considerar los df por separado"
   ]
  },
  {
   "cell_type": "code",
   "execution_count": 639,
   "id": "cf891871-ae26-4e14-acc5-1df9334f8a83",
   "metadata": {
    "tags": []
   },
   "outputs": [
    {
     "data": {
      "text/html": [
       "<div>\n",
       "<style scoped>\n",
       "    .dataframe tbody tr th:only-of-type {\n",
       "        vertical-align: middle;\n",
       "    }\n",
       "\n",
       "    .dataframe tbody tr th {\n",
       "        vertical-align: top;\n",
       "    }\n",
       "\n",
       "    .dataframe thead th {\n",
       "        text-align: right;\n",
       "    }\n",
       "</style>\n",
       "<table border=\"1\" class=\"dataframe\">\n",
       "  <thead>\n",
       "    <tr style=\"text-align: right;\">\n",
       "      <th></th>\n",
       "      <th>username</th>\n",
       "      <th>name</th>\n",
       "      <th>category1</th>\n",
       "      <th>category2</th>\n",
       "      <th>followers</th>\n",
       "      <th>country</th>\n",
       "      <th>authentic</th>\n",
       "      <th>average</th>\n",
       "      <th>month</th>\n",
       "    </tr>\n",
       "  </thead>\n",
       "  <tbody>\n",
       "    <tr>\n",
       "      <th>2</th>\n",
       "      <td>_seorina</td>\n",
       "      <td>설인아 sᴇᴏʀɪɴᴀ</td>\n",
       "      <td>Lifestyle</td>\n",
       "      <td>Cinema &amp; Actors/actresses</td>\n",
       "      <td>5700000</td>\n",
       "      <td>South Korea</td>\n",
       "      <td>728000</td>\n",
       "      <td>903500</td>\n",
       "      <td>June</td>\n",
       "    </tr>\n",
       "    <tr>\n",
       "      <th>0</th>\n",
       "      <td>_hakkencoser_</td>\n",
       "      <td>Hakken 八犬</td>\n",
       "      <td>Lifestyle</td>\n",
       "      <td>Photography</td>\n",
       "      <td>3500000</td>\n",
       "      <td>United States</td>\n",
       "      <td>525100</td>\n",
       "      <td>643000</td>\n",
       "      <td>June</td>\n",
       "    </tr>\n",
       "  </tbody>\n",
       "</table>\n",
       "</div>"
      ],
      "text/plain": [
       "        username              name  category1                  category2  \\\n",
       "2       _seorina  설인아 sᴇᴏʀɪɴᴀ  Lifestyle  Cinema & Actors/actresses   \n",
       "0  _hakkencoser_         Hakken 八犬  Lifestyle                Photography   \n",
       "\n",
       "  followers        country authentic average month  \n",
       "2   5700000    South Korea    728000  903500  June  \n",
       "0   3500000  United States    525100  643000  June  "
      ]
     },
     "execution_count": 639,
     "metadata": {},
     "output_type": "execute_result"
    }
   ],
   "source": [
    "ig_months = (\n",
    "    pd.concat([ig_june, ig_sep, ig_nov, ig_dec], ignore_index=True)\n",
    "    .drop(\"Rank\", axis=1)\n",
    "    .drop_duplicates()\n",
    ")"
   ]
  },
  {
   "attachments": {},
   "cell_type": "markdown",
   "id": "1a9aa8bf",
   "metadata": {},
   "source": [
    "Verificando duplicados"
   ]
  },
  {
   "cell_type": "code",
   "execution_count": 640,
   "id": "28691020-7605-4e5c-8e0b-adf96493b9f6",
   "metadata": {
    "tags": []
   },
   "outputs": [
    {
     "data": {
      "text/plain": [
       "0"
      ]
     },
     "execution_count": 640,
     "metadata": {},
     "output_type": "execute_result"
    }
   ],
   "source": [
    "ig_months.duplicated().sum()"
   ]
  },
  {
   "attachments": {},
   "cell_type": "markdown",
   "id": "6c50ac8e-db7b-4016-9e25-5cc8c635b25c",
   "metadata": {
    "tags": []
   },
   "source": [
    "### TikTok:"
   ]
  },
  {
   "cell_type": "code",
   "execution_count": 641,
   "id": "279cae98-3616-4bbb-80c8-55f36d38ab01",
   "metadata": {
    "tags": []
   },
   "outputs": [
    {
     "data": {
      "text/html": [
       "<div>\n",
       "<style scoped>\n",
       "    .dataframe tbody tr th:only-of-type {\n",
       "        vertical-align: middle;\n",
       "    }\n",
       "\n",
       "    .dataframe tbody tr th {\n",
       "        vertical-align: top;\n",
       "    }\n",
       "\n",
       "    .dataframe thead th {\n",
       "        text-align: right;\n",
       "    }\n",
       "</style>\n",
       "<table border=\"1\" class=\"dataframe\">\n",
       "  <thead>\n",
       "    <tr style=\"text-align: right;\">\n",
       "      <th></th>\n",
       "      <th>Tiktoker</th>\n",
       "      <th>influencer name</th>\n",
       "      <th>Subscribers count</th>\n",
       "      <th>Views avg.</th>\n",
       "      <th>Likes avg</th>\n",
       "      <th>Comments avg.</th>\n",
       "      <th>Shares avg</th>\n",
       "      <th>Month</th>\n",
       "    </tr>\n",
       "  </thead>\n",
       "  <tbody>\n",
       "    <tr>\n",
       "      <th>0</th>\n",
       "      <td>___nicoichi___</td>\n",
       "      <td>NICO【平成フラミンゴ】</td>\n",
       "      <td>1.3M</td>\n",
       "      <td>1.9M</td>\n",
       "      <td>225.3K</td>\n",
       "      <td>1.7K</td>\n",
       "      <td>1.1K</td>\n",
       "      <td>June</td>\n",
       "    </tr>\n",
       "  </tbody>\n",
       "</table>\n",
       "</div>"
      ],
      "text/plain": [
       "         Tiktoker influencer name Subscribers count Views avg. Likes avg  \\\n",
       "0  ___nicoichi___   NICO【平成フラミンゴ】              1.3M       1.9M    225.3K   \n",
       "\n",
       "  Comments avg. Shares avg Month  \n",
       "0          1.7K       1.1K  June  "
      ]
     },
     "execution_count": 641,
     "metadata": {},
     "output_type": "execute_result"
    }
   ],
   "source": [
    "tt_june = pd.read_csv('DATA/tiktokjune2022.csv')\n",
    "tt_june = tt_june.assign(Month='June')\n",
    "tt_june.head(1)"
   ]
  },
  {
   "cell_type": "code",
   "execution_count": 642,
   "id": "ca8e5cc5-0680-4e87-870c-8a808cbbf6c1",
   "metadata": {
    "jupyter": {
     "source_hidden": true
    },
    "tags": []
   },
   "outputs": [
    {
     "data": {
      "text/html": [
       "<div>\n",
       "<style scoped>\n",
       "    .dataframe tbody tr th:only-of-type {\n",
       "        vertical-align: middle;\n",
       "    }\n",
       "\n",
       "    .dataframe tbody tr th {\n",
       "        vertical-align: top;\n",
       "    }\n",
       "\n",
       "    .dataframe thead th {\n",
       "        text-align: right;\n",
       "    }\n",
       "</style>\n",
       "<table border=\"1\" class=\"dataframe\">\n",
       "  <thead>\n",
       "    <tr style=\"text-align: right;\">\n",
       "      <th></th>\n",
       "      <th>S.no</th>\n",
       "      <th>Tiktoker name</th>\n",
       "      <th>Tiktok name</th>\n",
       "      <th>Subscribers</th>\n",
       "      <th>Views avg.</th>\n",
       "      <th>Likes avg.</th>\n",
       "      <th>Comments avg.</th>\n",
       "      <th>Shares avg.</th>\n",
       "      <th>Month</th>\n",
       "    </tr>\n",
       "  </thead>\n",
       "  <tbody>\n",
       "    <tr>\n",
       "      <th>0</th>\n",
       "      <td>1</td>\n",
       "      <td>jypestraykids</td>\n",
       "      <td>Stray Kids</td>\n",
       "      <td>13.8M</td>\n",
       "      <td>6.4M</td>\n",
       "      <td>2.3M</td>\n",
       "      <td>50.2K</td>\n",
       "      <td>34.2K</td>\n",
       "      <td>September</td>\n",
       "    </tr>\n",
       "  </tbody>\n",
       "</table>\n",
       "</div>"
      ],
      "text/plain": [
       "   S.no  Tiktoker name Tiktok name Subscribers Views avg. Likes avg.  \\\n",
       "0     1  jypestraykids  Stray Kids       13.8M       6.4M       2.3M   \n",
       "\n",
       "  Comments avg. Shares avg.      Month  \n",
       "0         50.2K       34.2K  September  "
      ]
     },
     "execution_count": 642,
     "metadata": {},
     "output_type": "execute_result"
    }
   ],
   "source": [
    "tt_sep= pd.read_csv('DATA/Tiktoksep2022.csv')\n",
    "tt_sep = tt_sep.assign(Month='September')\n",
    "tt_sep.head(1)"
   ]
  },
  {
   "cell_type": "code",
   "execution_count": 643,
   "id": "cc17ebc8-1d3c-4d15-be1d-fbb81dfb6030",
   "metadata": {
    "jupyter": {
     "source_hidden": true
    },
    "tags": []
   },
   "outputs": [
    {
     "data": {
      "text/html": [
       "<div>\n",
       "<style scoped>\n",
       "    .dataframe tbody tr th:only-of-type {\n",
       "        vertical-align: middle;\n",
       "    }\n",
       "\n",
       "    .dataframe tbody tr th {\n",
       "        vertical-align: top;\n",
       "    }\n",
       "\n",
       "    .dataframe thead th {\n",
       "        text-align: right;\n",
       "    }\n",
       "</style>\n",
       "<table border=\"1\" class=\"dataframe\">\n",
       "  <thead>\n",
       "    <tr style=\"text-align: right;\">\n",
       "      <th></th>\n",
       "      <th>row-cell</th>\n",
       "      <th>Tiktoker name</th>\n",
       "      <th>Tiktok name</th>\n",
       "      <th>\\nFollowers</th>\n",
       "      <th>Views (Avg.)</th>\n",
       "      <th>Likes (Avg.)</th>\n",
       "      <th>Comments (Avg.)</th>\n",
       "      <th>Shares (Avg.)</th>\n",
       "      <th>Month</th>\n",
       "    </tr>\n",
       "  </thead>\n",
       "  <tbody>\n",
       "    <tr>\n",
       "      <th>0</th>\n",
       "      <td>NaN</td>\n",
       "      <td>NaN</td>\n",
       "      <td>NaN</td>\n",
       "      <td>NaN</td>\n",
       "      <td>NaN</td>\n",
       "      <td>NaN</td>\n",
       "      <td>NaN</td>\n",
       "      <td>NaN</td>\n",
       "      <td>November</td>\n",
       "    </tr>\n",
       "  </tbody>\n",
       "</table>\n",
       "</div>"
      ],
      "text/plain": [
       "   row-cell Tiktoker name Tiktok name \\nFollowers Views (Avg.) Likes (Avg.)  \\\n",
       "0       NaN           NaN         NaN         NaN          NaN          NaN   \n",
       "\n",
       "  Comments (Avg.) Shares (Avg.)     Month  \n",
       "0             NaN           NaN  November  "
      ]
     },
     "execution_count": 643,
     "metadata": {},
     "output_type": "execute_result"
    }
   ],
   "source": [
    "tt_nov= pd.read_csv('DATA/tiktoknov2022.csv')\n",
    "tt_nov = tt_nov.assign(Month='November')\n",
    "tt_nov.head(1)"
   ]
  },
  {
   "cell_type": "code",
   "execution_count": 644,
   "id": "ae345dbf-ae50-46cf-8c58-4858e560769a",
   "metadata": {
    "jupyter": {
     "source_hidden": true
    },
    "tags": []
   },
   "outputs": [
    {
     "data": {
      "text/html": [
       "<div>\n",
       "<style scoped>\n",
       "    .dataframe tbody tr th:only-of-type {\n",
       "        vertical-align: middle;\n",
       "    }\n",
       "\n",
       "    .dataframe tbody tr th {\n",
       "        vertical-align: top;\n",
       "    }\n",
       "\n",
       "    .dataframe thead th {\n",
       "        text-align: right;\n",
       "    }\n",
       "</style>\n",
       "<table border=\"1\" class=\"dataframe\">\n",
       "  <thead>\n",
       "    <tr style=\"text-align: right;\">\n",
       "      <th></th>\n",
       "      <th>Rank</th>\n",
       "      <th>Tiktoker name</th>\n",
       "      <th>Tiktok name</th>\n",
       "      <th>followers</th>\n",
       "      <th>views(avg)</th>\n",
       "      <th>likes(avg.)</th>\n",
       "      <th>comments(avg.)</th>\n",
       "      <th>shares(avg.)</th>\n",
       "      <th>Month</th>\n",
       "    </tr>\n",
       "  </thead>\n",
       "  <tbody>\n",
       "    <tr>\n",
       "      <th>0</th>\n",
       "      <td>1</td>\n",
       "      <td>mrbeast</td>\n",
       "      <td>MrBeast</td>\n",
       "      <td>60.3M</td>\n",
       "      <td>29.2M</td>\n",
       "      <td>3.5M</td>\n",
       "      <td>30.8K</td>\n",
       "      <td>7.2K</td>\n",
       "      <td>December</td>\n",
       "    </tr>\n",
       "  </tbody>\n",
       "</table>\n",
       "</div>"
      ],
      "text/plain": [
       "   Rank Tiktoker name Tiktok name followers views(avg) likes(avg.)  \\\n",
       "0     1       mrbeast     MrBeast     60.3M      29.2M        3.5M   \n",
       "\n",
       "  comments(avg.) shares(avg.)     Month  \n",
       "0          30.8K         7.2K  December  "
      ]
     },
     "execution_count": 644,
     "metadata": {},
     "output_type": "execute_result"
    }
   ],
   "source": [
    "tt_dec= pd.read_csv('DATA/TIKTOKDEC2022.csv')\n",
    "tt_dec = tt_dec.assign(Month='December')\n",
    "tt_dec.head(1)"
   ]
  },
  {
   "attachments": {},
   "cell_type": "markdown",
   "id": "123616c8-3fa2-4070-9cda-9cbd3fbb57ec",
   "metadata": {
    "tags": []
   },
   "source": [
    "### Youtube:"
   ]
  },
  {
   "cell_type": "code",
   "execution_count": 645,
   "id": "1c34839f-745c-44cd-93d7-b5d1b5a971ed",
   "metadata": {
    "tags": []
   },
   "outputs": [
    {
     "data": {
      "text/html": [
       "<div>\n",
       "<style scoped>\n",
       "    .dataframe tbody tr th:only-of-type {\n",
       "        vertical-align: middle;\n",
       "    }\n",
       "\n",
       "    .dataframe tbody tr th {\n",
       "        vertical-align: top;\n",
       "    }\n",
       "\n",
       "    .dataframe thead th {\n",
       "        text-align: right;\n",
       "    }\n",
       "</style>\n",
       "<table border=\"1\" class=\"dataframe\">\n",
       "  <thead>\n",
       "    <tr style=\"text-align: right;\">\n",
       "      <th></th>\n",
       "      <th>channel name</th>\n",
       "      <th>youTuber</th>\n",
       "      <th>Category</th>\n",
       "      <th>Category_2</th>\n",
       "      <th>Subscribers count</th>\n",
       "      <th>Country</th>\n",
       "      <th>Views avg.</th>\n",
       "      <th>Likes avg</th>\n",
       "      <th>Comments avg.</th>\n",
       "      <th>Month</th>\n",
       "    </tr>\n",
       "  </thead>\n",
       "  <tbody>\n",
       "    <tr>\n",
       "      <th>0</th>\n",
       "      <td>juptube</td>\n",
       "      <td>Galinha Pintadinha</td>\n",
       "      <td>Music &amp; Dance</td>\n",
       "      <td>NaN</td>\n",
       "      <td>30.5M</td>\n",
       "      <td>-</td>\n",
       "      <td>0</td>\n",
       "      <td>N/A'</td>\n",
       "      <td>N/A'</td>\n",
       "      <td>June</td>\n",
       "    </tr>\n",
       "  </tbody>\n",
       "</table>\n",
       "</div>"
      ],
      "text/plain": [
       "  channel name            youTuber       Category Category_2  \\\n",
       "0      juptube  Galinha Pintadinha  Music & Dance        NaN   \n",
       "\n",
       "  Subscribers count Country Views avg. Likes avg Comments avg. Month  \n",
       "0             30.5M       -          0      N/A'          N/A'  June  "
      ]
     },
     "execution_count": 645,
     "metadata": {},
     "output_type": "execute_result"
    }
   ],
   "source": [
    "y_june= pd.read_csv('DATA/youtubejune2022.csv')\n",
    "y_june = y_june.assign(Month='June')\n",
    "y_june.head(1)"
   ]
  },
  {
   "cell_type": "code",
   "execution_count": 646,
   "id": "202b0355-e1b0-4a63-9ba6-99eb21ab5683",
   "metadata": {
    "tags": []
   },
   "outputs": [
    {
     "data": {
      "text/html": [
       "<div>\n",
       "<style scoped>\n",
       "    .dataframe tbody tr th:only-of-type {\n",
       "        vertical-align: middle;\n",
       "    }\n",
       "\n",
       "    .dataframe tbody tr th {\n",
       "        vertical-align: top;\n",
       "    }\n",
       "\n",
       "    .dataframe thead th {\n",
       "        text-align: right;\n",
       "    }\n",
       "</style>\n",
       "<table border=\"1\" class=\"dataframe\">\n",
       "  <thead>\n",
       "    <tr style=\"text-align: right;\">\n",
       "      <th></th>\n",
       "      <th>S.no</th>\n",
       "      <th>Name</th>\n",
       "      <th>Youtuber</th>\n",
       "      <th>Country</th>\n",
       "      <th>Subscribers</th>\n",
       "      <th>Category_2</th>\n",
       "      <th>Avg. views\\r\\n</th>\n",
       "      <th>Avg. likes</th>\n",
       "      <th>Avg Comments</th>\n",
       "      <th>Category_3</th>\n",
       "      <th>Month</th>\n",
       "    </tr>\n",
       "  </thead>\n",
       "  <tbody>\n",
       "    <tr>\n",
       "      <th>0</th>\n",
       "      <td>1</td>\n",
       "      <td>T-Series</td>\n",
       "      <td>tseries</td>\n",
       "      <td>India</td>\n",
       "      <td>224.4M</td>\n",
       "      <td>Music &amp; Dance</td>\n",
       "      <td>141.5K</td>\n",
       "      <td>4.6K</td>\n",
       "      <td>125</td>\n",
       "      <td>NaN</td>\n",
       "      <td>September</td>\n",
       "    </tr>\n",
       "  </tbody>\n",
       "</table>\n",
       "</div>"
      ],
      "text/plain": [
       "   S.no      Name Youtuber Country  Subscribers     Category_2 Avg. views\\r\\n  \\\n",
       "0     1  T-Series  tseries   India       224.4M  Music & Dance         141.5K   \n",
       "\n",
       "  Avg. likes Avg Comments Category_3      Month  \n",
       "0       4.6K          125        NaN  September  "
      ]
     },
     "execution_count": 646,
     "metadata": {},
     "output_type": "execute_result"
    }
   ],
   "source": [
    "y_sep= pd.read_csv('DATA/Youtubesep2022.csv')\n",
    "y_sep = y_sep.assign(Month='September')\n",
    "y_sep.head(1)"
   ]
  },
  {
   "cell_type": "code",
   "execution_count": 647,
   "id": "6c509b12-600a-4f17-ade4-1034cac73bfb",
   "metadata": {
    "tags": []
   },
   "outputs": [
    {
     "data": {
      "text/html": [
       "<div>\n",
       "<style scoped>\n",
       "    .dataframe tbody tr th:only-of-type {\n",
       "        vertical-align: middle;\n",
       "    }\n",
       "\n",
       "    .dataframe tbody tr th {\n",
       "        vertical-align: top;\n",
       "    }\n",
       "\n",
       "    .dataframe thead th {\n",
       "        text-align: right;\n",
       "    }\n",
       "</style>\n",
       "<table border=\"1\" class=\"dataframe\">\n",
       "  <thead>\n",
       "    <tr style=\"text-align: right;\">\n",
       "      <th></th>\n",
       "      <th>s.no</th>\n",
       "      <th>Youtube channel</th>\n",
       "      <th>youtuber name</th>\n",
       "      <th>Category</th>\n",
       "      <th>Followers</th>\n",
       "      <th>Country</th>\n",
       "      <th>\\nViews (Avg.)</th>\n",
       "      <th>Likes (Avg.)</th>\n",
       "      <th>Comments (Avg.)</th>\n",
       "      <th>Category-2</th>\n",
       "      <th>Month</th>\n",
       "    </tr>\n",
       "  </thead>\n",
       "  <tbody>\n",
       "    <tr>\n",
       "      <th>0</th>\n",
       "      <td>1</td>\n",
       "      <td>tseries</td>\n",
       "      <td>T-Series</td>\n",
       "      <td>Music &amp; Dance</td>\n",
       "      <td>229.5M</td>\n",
       "      <td>India</td>\n",
       "      <td>103.8K</td>\n",
       "      <td>2.8K</td>\n",
       "      <td>158</td>\n",
       "      <td>NaN</td>\n",
       "      <td>November</td>\n",
       "    </tr>\n",
       "  </tbody>\n",
       "</table>\n",
       "</div>"
      ],
      "text/plain": [
       "   s.no Youtube channel youtuber name       Category Followers Country  \\\n",
       "0     1         tseries      T-Series  Music & Dance    229.5M   India   \n",
       "\n",
       "  \\nViews (Avg.) Likes (Avg.) Comments (Avg.) Category-2     Month  \n",
       "0         103.8K         2.8K             158        NaN  November  "
      ]
     },
     "execution_count": 647,
     "metadata": {},
     "output_type": "execute_result"
    }
   ],
   "source": [
    "y_nov= pd.read_csv('DATA/youtubenov2022.csv')\n",
    "y_nov = y_nov.assign(Month='November')\n",
    "y_nov.head(1)"
   ]
  },
  {
   "cell_type": "code",
   "execution_count": 648,
   "id": "d74e87da-c4cf-4d76-bb7e-6cbce17bbe30",
   "metadata": {
    "tags": []
   },
   "outputs": [
    {
     "data": {
      "text/html": [
       "<div>\n",
       "<style scoped>\n",
       "    .dataframe tbody tr th:only-of-type {\n",
       "        vertical-align: middle;\n",
       "    }\n",
       "\n",
       "    .dataframe tbody tr th {\n",
       "        vertical-align: top;\n",
       "    }\n",
       "\n",
       "    .dataframe thead th {\n",
       "        text-align: right;\n",
       "    }\n",
       "</style>\n",
       "<table border=\"1\" class=\"dataframe\">\n",
       "  <thead>\n",
       "    <tr style=\"text-align: right;\">\n",
       "      <th></th>\n",
       "      <th>s.no</th>\n",
       "      <th>Youtube channel</th>\n",
       "      <th>youtuber name</th>\n",
       "      <th>Category</th>\n",
       "      <th>Followers</th>\n",
       "      <th>Country</th>\n",
       "      <th>\\nViews (Avg.)</th>\n",
       "      <th>Likes (Avg.)</th>\n",
       "      <th>Comments (Avg.)</th>\n",
       "      <th>Category-2</th>\n",
       "      <th>Month</th>\n",
       "    </tr>\n",
       "  </thead>\n",
       "  <tbody>\n",
       "    <tr>\n",
       "      <th>0</th>\n",
       "      <td>1</td>\n",
       "      <td>tseries</td>\n",
       "      <td>T-Series</td>\n",
       "      <td>Music &amp; Dance</td>\n",
       "      <td>229.5M</td>\n",
       "      <td>India</td>\n",
       "      <td>103.8K</td>\n",
       "      <td>2.8K</td>\n",
       "      <td>158</td>\n",
       "      <td>NaN</td>\n",
       "      <td>December</td>\n",
       "    </tr>\n",
       "  </tbody>\n",
       "</table>\n",
       "</div>"
      ],
      "text/plain": [
       "   s.no Youtube channel youtuber name       Category Followers Country  \\\n",
       "0     1         tseries      T-Series  Music & Dance    229.5M   India   \n",
       "\n",
       "  \\nViews (Avg.) Likes (Avg.) Comments (Avg.) Category-2     Month  \n",
       "0         103.8K         2.8K             158        NaN  December  "
      ]
     },
     "execution_count": 648,
     "metadata": {},
     "output_type": "execute_result"
    }
   ],
   "source": [
    "y_dec= pd.read_csv('DATA/YOUTUBEDEC2022.csv')\n",
    "y_dec = y_dec.assign(Month='December')\n",
    "y_dec.head(1)"
   ]
  },
  {
   "attachments": {},
   "cell_type": "markdown",
   "id": "2df5bc4e-e340-450d-9bff-87c55ed3379a",
   "metadata": {},
   "source": [
    "TikTok:\n",
    "* Username\n",
    "* Name\n",
    "* Followers o Suscribers\n",
    "* Views\n",
    "* Likes\n",
    "* Comments\n",
    "* Shares\n",
    "* Month"
   ]
  },
  {
   "attachments": {},
   "cell_type": "markdown",
   "id": "3810a5de-1511-42b0-bb68-87d2c0e8c8cc",
   "metadata": {},
   "source": [
    "Youtube:\n",
    "* Username\n",
    "* Name\n",
    "* Country\n",
    "* Suscribers o Folowers\n",
    "* Views\n",
    "* Likes\n",
    "* Comments\n",
    "* Category1\n",
    "* Category2\n",
    "* Month"
   ]
  },
  {
   "attachments": {},
   "cell_type": "markdown",
   "id": "79cda8b0",
   "metadata": {
    "tags": []
   },
   "source": [
    "# Análisis instagram"
   ]
  },
  {
   "attachments": {},
   "cell_type": "markdown",
   "id": "2878c4fe",
   "metadata": {},
   "source": [
    "### Número total de cuentas distintas en instagram: 2409"
   ]
  },
  {
   "cell_type": "code",
   "execution_count": 649,
   "id": "415d8331-23c3-4831-b126-fb6d463152b6",
   "metadata": {
    "tags": []
   },
   "outputs": [
    {
     "data": {
      "text/plain": [
       "1313"
      ]
     },
     "execution_count": 649,
     "metadata": {},
     "output_type": "execute_result"
    }
   ],
   "source": [
    "ig_months.username.drop_duplicates().size"
   ]
  },
  {
   "attachments": {},
   "cell_type": "markdown",
   "id": "5877afed-6d8d-459f-8635-6b45a5cf915c",
   "metadata": {},
   "source": [
    "### Media de seguidores\n",
    "Si un registro se encuentra en más de 1 mes, promediar todas las cantidades de seguidores de todos los df.\n",
    "\n",
    "Vamos a agarrar como pivote el username del dataframe combinado"
   ]
  },
  {
   "cell_type": "code",
   "execution_count": 655,
   "id": "c4a59f7b",
   "metadata": {},
   "outputs": [
    {
     "data": {
      "text/html": [
       "<div>\n",
       "<style scoped>\n",
       "    .dataframe tbody tr th:only-of-type {\n",
       "        vertical-align: middle;\n",
       "    }\n",
       "\n",
       "    .dataframe tbody tr th {\n",
       "        vertical-align: top;\n",
       "    }\n",
       "\n",
       "    .dataframe thead th {\n",
       "        text-align: right;\n",
       "    }\n",
       "</style>\n",
       "<table border=\"1\" class=\"dataframe\">\n",
       "  <thead>\n",
       "    <tr style=\"text-align: right;\">\n",
       "      <th></th>\n",
       "      <th>username</th>\n",
       "      <th>name</th>\n",
       "      <th>category1</th>\n",
       "      <th>category2</th>\n",
       "      <th>followers</th>\n",
       "      <th>country</th>\n",
       "      <th>authentic</th>\n",
       "      <th>average</th>\n",
       "      <th>month</th>\n",
       "    </tr>\n",
       "  </thead>\n",
       "  <tbody>\n",
       "    <tr>\n",
       "      <th>0</th>\n",
       "      <td>_hakkencoser_</td>\n",
       "      <td>Hakken 八犬</td>\n",
       "      <td>Lifestyle</td>\n",
       "      <td>Photography</td>\n",
       "      <td>3500000</td>\n",
       "      <td>United States</td>\n",
       "      <td>525100</td>\n",
       "      <td>643000</td>\n",
       "      <td>June</td>\n",
       "    </tr>\n",
       "  </tbody>\n",
       "</table>\n",
       "</div>"
      ],
      "text/plain": [
       "        username       name  category1    category2 followers        country  \\\n",
       "0  _hakkencoser_  Hakken 八犬  Lifestyle  Photography   3500000  United States   \n",
       "\n",
       "  authentic average month  \n",
       "0    525100  643000  June  "
      ]
     },
     "execution_count": 655,
     "metadata": {},
     "output_type": "execute_result"
    }
   ],
   "source": [
    "ig_months.head(1)"
   ]
  },
  {
   "cell_type": "code",
   "execution_count": 671,
   "id": "4e8fd805",
   "metadata": {},
   "outputs": [
    {
     "data": {
      "text/html": [
       "<div>\n",
       "<style scoped>\n",
       "    .dataframe tbody tr th:only-of-type {\n",
       "        vertical-align: middle;\n",
       "    }\n",
       "\n",
       "    .dataframe tbody tr th {\n",
       "        vertical-align: top;\n",
       "    }\n",
       "\n",
       "    .dataframe thead th {\n",
       "        text-align: right;\n",
       "    }\n",
       "</style>\n",
       "<table border=\"1\" class=\"dataframe\">\n",
       "  <thead>\n",
       "    <tr style=\"text-align: right;\">\n",
       "      <th></th>\n",
       "      <th>username</th>\n",
       "      <th>followers</th>\n",
       "      <th>authentic</th>\n",
       "      <th>average</th>\n",
       "    </tr>\n",
       "  </thead>\n",
       "  <tbody>\n",
       "    <tr>\n",
       "      <th>510</th>\n",
       "      <td>instagram</td>\n",
       "      <td>558566666.666667</td>\n",
       "      <td>316333.333333</td>\n",
       "      <td>394466.666667</td>\n",
       "    </tr>\n",
       "    <tr>\n",
       "      <th>259</th>\n",
       "      <td>cristiano</td>\n",
       "      <td>494666666.666667</td>\n",
       "      <td>7066666.666667</td>\n",
       "      <td>8833333.333333</td>\n",
       "    </tr>\n",
       "    <tr>\n",
       "      <th>702</th>\n",
       "      <td>leomessi</td>\n",
       "      <td>366975000.0</td>\n",
       "      <td>7100000.0</td>\n",
       "      <td>9324999.75</td>\n",
       "    </tr>\n",
       "    <tr>\n",
       "      <th>674</th>\n",
       "      <td>kyliejenner</td>\n",
       "      <td>366775000.0</td>\n",
       "      <td>2950000.0</td>\n",
       "      <td>4700000.0</td>\n",
       "    </tr>\n",
       "    <tr>\n",
       "      <th>1075</th>\n",
       "      <td>selenagomez</td>\n",
       "      <td>346950000.0</td>\n",
       "      <td>1750000.0</td>\n",
       "      <td>2300000.0</td>\n",
       "    </tr>\n",
       "    <tr>\n",
       "      <th>...</th>\n",
       "      <td>...</td>\n",
       "      <td>...</td>\n",
       "      <td>...</td>\n",
       "      <td>...</td>\n",
       "    </tr>\n",
       "    <tr>\n",
       "      <th>378</th>\n",
       "      <td>feat.dino</td>\n",
       "      <td>2700000.0</td>\n",
       "      <td>716600.0</td>\n",
       "      <td>876400.0</td>\n",
       "    </tr>\n",
       "    <tr>\n",
       "      <th>683</th>\n",
       "      <td>lalala_lfamily</td>\n",
       "      <td>2500000.0</td>\n",
       "      <td>752900.0</td>\n",
       "      <td>900400.0</td>\n",
       "    </tr>\n",
       "    <tr>\n",
       "      <th>678</th>\n",
       "      <td>labels.hybe</td>\n",
       "      <td>2300000.0</td>\n",
       "      <td>891100.0</td>\n",
       "      <td>1000000.0</td>\n",
       "    </tr>\n",
       "    <tr>\n",
       "      <th>647</th>\n",
       "      <td>kh1000le</td>\n",
       "      <td>2266666.666667</td>\n",
       "      <td>326933.333333</td>\n",
       "      <td>1233333.333333</td>\n",
       "    </tr>\n",
       "    <tr>\n",
       "      <th>995</th>\n",
       "      <td>rampage_thedancer</td>\n",
       "      <td>2200000.0</td>\n",
       "      <td>1100000.0</td>\n",
       "      <td>1300000.0</td>\n",
       "    </tr>\n",
       "  </tbody>\n",
       "</table>\n",
       "<p>1313 rows × 4 columns</p>\n",
       "</div>"
      ],
      "text/plain": [
       "               username         followers       authentic         average\n",
       "510           instagram  558566666.666667   316333.333333   394466.666667\n",
       "259           cristiano  494666666.666667  7066666.666667  8833333.333333\n",
       "702            leomessi       366975000.0       7100000.0      9324999.75\n",
       "674         kyliejenner       366775000.0       2950000.0       4700000.0\n",
       "1075        selenagomez       346950000.0       1750000.0       2300000.0\n",
       "...                 ...               ...             ...             ...\n",
       "378           feat.dino         2700000.0        716600.0        876400.0\n",
       "683      lalala_lfamily         2500000.0        752900.0        900400.0\n",
       "678         labels.hybe         2300000.0        891100.0       1000000.0\n",
       "647            kh1000le    2266666.666667   326933.333333  1233333.333333\n",
       "995   rampage_thedancer         2200000.0       1100000.0       1300000.0\n",
       "\n",
       "[1313 rows x 4 columns]"
      ]
     },
     "execution_count": 671,
     "metadata": {},
     "output_type": "execute_result"
    }
   ],
   "source": [
    "(\n",
    "    ig_months\n",
    "    .groupby('username')\n",
    "     # aggregate functiosn skips nan by deffault\n",
    "    .aggregate({\n",
    "        'followers': 'mean',\n",
    "        'authentic': 'mean',\n",
    "        'average': 'mean'\n",
    "    })    \n",
    "    .reset_index()\n",
    "    .sort_values('followers', ascending=False)\\\n",
    ")"
   ]
  },
  {
   "attachments": {},
   "cell_type": "markdown",
   "id": "41a67423-d750-400b-b0dc-86198d0bb2fe",
   "metadata": {},
   "source": [
    "## <u>Leer los datos que en el nombre no contienen mes (resumen):</u></br>"
   ]
  },
  {
   "cell_type": "code",
   "execution_count": null,
   "id": "708f29aa-0d6c-468f-9396-4849bcd63680",
   "metadata": {
    "tags": []
   },
   "outputs": [],
   "source": [
    "ig_resumen = pd.read_csv('DATA/instagram.csv')\n",
    "ig_resumen"
   ]
  },
  {
   "cell_type": "code",
   "execution_count": null,
   "id": "9d3719b2-c060-4f4d-9970-5ac50b388fff",
   "metadata": {
    "tags": []
   },
   "outputs": [],
   "source": [
    "tiktok_resumen = pd.read_csv('DATA/tiktok.csv')\n",
    "tiktok_resumen"
   ]
  },
  {
   "cell_type": "code",
   "execution_count": null,
   "id": "9908bb8c-0b4b-4839-a055-cb903b94b988",
   "metadata": {
    "tags": []
   },
   "outputs": [],
   "source": [
    "youtube_resumen = pd.read_csv('DATA/youtube.csv')\n",
    "youtube_resumen"
   ]
  },
  {
   "cell_type": "code",
   "execution_count": null,
   "id": "4b6b43c3-7d5f-42ae-93ea-d2943382ed50",
   "metadata": {},
   "outputs": [],
   "source": []
  }
 ],
 "metadata": {
  "kernelspec": {
   "display_name": "Python 3 (ipykernel)",
   "language": "python",
   "name": "python3"
  },
  "language_info": {
   "codemirror_mode": {
    "name": "ipython",
    "version": 3
   },
   "file_extension": ".py",
   "mimetype": "text/x-python",
   "name": "python",
   "nbconvert_exporter": "python",
   "pygments_lexer": "ipython3",
   "version": "3.11.3"
  }
 },
 "nbformat": 4,
 "nbformat_minor": 5
}
