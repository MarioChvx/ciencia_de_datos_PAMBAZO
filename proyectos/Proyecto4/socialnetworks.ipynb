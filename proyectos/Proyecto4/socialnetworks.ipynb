{
 "cells": [
  {
   "attachments": {},
   "cell_type": "markdown",
   "id": "66684af0-a3d5-4983-910e-a8b0c1983dec",
   "metadata": {},
   "source": [
    "# <b><center> Social Networks EDA </b></center>\n"
   ]
  },
  {
   "attachments": {},
   "cell_type": "markdown",
   "id": "def6abdb-e041-45ff-a7f7-d90875ff1c72",
   "metadata": {},
   "source": [
    "## Entendimiento de los Datos:"
   ]
  },
  {
   "cell_type": "code",
   "execution_count": 8,
   "id": "391350a2-08cd-4be2-ab7e-265b382a1fbe",
   "metadata": {
    "tags": []
   },
   "outputs": [],
   "source": [
    "import numpy as np\n",
    "import pandas as pd\n",
    "import matplotlib.pyplot as plt\n",
    "import seaborn as sns\n",
    "import pathlib\n",
    "import re\n",
    "from difflib import SequenceMatcher"
   ]
  },
  {
   "attachments": {},
   "cell_type": "markdown",
   "id": "59959fc2-385c-47b7-92e0-e639e7ff5a5b",
   "metadata": {},
   "source": [
    "## <u>Leer los datos que en el nombre contienen un mes:</u></br>\n",
    "### <b>Instagram:</b>"
   ]
  },
  {
   "attachments": {},
   "cell_type": "markdown",
   "id": "854e6951-f2cd-4dce-a728-44383b357b46",
   "metadata": {},
   "source": [
    "Cargar los 12 archivos que en el nombre tienen un mes, en 3  DataFrames, uno de cada red social, donde cada uno de los cuales debe contener las siguientes columnas:\n",
    "\n",
    "Instagram:\n",
    "* Username\n",
    "* Name\n",
    "* Subscribers o Followers\n",
    "* Country\n",
    "* Authentic\n",
    "* Engagement\n",
    "* Category1\n",
    "* Category2\n",
    "* Month"
   ]
  },
  {
   "cell_type": "code",
   "execution_count": 9,
   "id": "b01a8202-3571-4623-8939-fd3b98205298",
   "metadata": {
    "tags": []
   },
   "outputs": [],
   "source": [
    "ig_june = (\n",
    "    pd.read_csv('DATA/instagramjune2022.csv')\n",
    "    .assign(Month='June')\n",
    "    .rename(columns={\n",
    "        \"instagram name\": \"username\",\n",
    "        \"influencer name \":\"name\",\n",
    "        \"Category_1\": \"category1\",\n",
    "        \"Category_2\": \"category2\",\n",
    "        \"Subscribers count\": \"followers\",\n",
    "        \"Views avg.\": \"country\",\n",
    "        \"Likes avg\": \"authentic\",\n",
    "        \"Comments avg.\": \"average\",\n",
    "        \"Month\": \"month\"})\n",
    ")"
   ]
  },
  {
   "cell_type": "code",
   "execution_count": 10,
   "id": "a46059c1-ae44-4e3c-88d8-2ac7c6d1e878",
   "metadata": {
    "tags": []
   },
   "outputs": [],
   "source": [
    "ig_sep = (\n",
    "    pd.read_csv('DATA/instagramsep2022.csv')\n",
    "    .assign(Month='September')\n",
    "    .rename(columns={\n",
    "        \"Instagram name\": \"username\",\n",
    "        \" Name\": \"name\",\n",
    "        \"Subscribers\": \"followers\",\n",
    "        \"Audience country\": \"country\",\n",
    "        \"Authentic engagement\\n\": \"authentic\",\n",
    "        \"Engagement average\\r\\n\": \"average\",\n",
    "        \"Category_1\": \"category1\",\n",
    "        \"Category_2\": \"category2\",\n",
    "        \"Month\": \"month\"})\n",
    "    .drop('S.no', axis=1)\n",
    ")"
   ]
  },
  {
   "cell_type": "code",
   "execution_count": 11,
   "id": "6f796886-ac38-428e-8591-3ae0871da635",
   "metadata": {
    "tags": []
   },
   "outputs": [],
   "source": [
    "ig_nov = (\n",
    "    pd.read_csv('DATA/instagramNov2022.csv')\n",
    "    .assign(Month='November')\n",
    "    .drop('s.no', axis=1)\n",
    "    .rename(columns={\n",
    "        \"Name\": \"username\",\n",
    "        \"Instagram Name\": \"name\",\n",
    "        \"Category-1\": \"category1\",\n",
    "        \"Followers\": \"followers\",\n",
    "        \"\\nCountry\": \"country\",\n",
    "        \"Eng. (Auth.)\": \"authentic\",\n",
    "        \"Eng. (Avg.)\": \"average\",\n",
    "        \"Category-2\": \"category2\",\n",
    "        \"Month\": \"month\"})\n",
    ")"
   ]
  },
  {
   "cell_type": "code",
   "execution_count": 12,
   "id": "f9ef5b5a-18c0-4a1a-ad7a-3375600fcb88",
   "metadata": {
    "tags": []
   },
   "outputs": [],
   "source": [
    "ig_dec = (\n",
    "    pd.read_csv('DATA/INSTAGRAMDEC2022.csv')\n",
    "    .assign(Month='December')\n",
    "    .rename(columns={\n",
    "        \"name\": \"username\",\n",
    "        \"instagram name\": \"name\",\n",
    "        \"Category_1\": \"category1\",\n",
    "        \"Category_2\": \"category2\",\n",
    "        \"Eng. (Auth.)\": \"authentic\",\n",
    "        \"Eng. (Avg.)\": \"average\",\n",
    "        \"Month\": \"month\"})\n",
    ")"
   ]
  },
  {
   "attachments": {},
   "cell_type": "markdown",
   "id": "a75614f5",
   "metadata": {},
   "source": [
    "Definiendo una función que transforma los números de texto a int en todo una columna"
   ]
  },
  {
   "cell_type": "code",
   "execution_count": 13,
   "id": "7c3f05f7",
   "metadata": {},
   "outputs": [],
   "source": [
    "def cientific_int(column: pd.Series) -> pd.Series:\n",
    "    return column.replace({'K': '*1e3', 'M': '*1e6', 'G':'*1e9'}, regex=True).map(pd.eval).astype(int)\n",
    "\n",
    "numeric_text_cols = ['followers', 'average', 'authentic']"
   ]
  },
  {
   "cell_type": "code",
   "execution_count": 14,
   "id": "2547a2d1",
   "metadata": {},
   "outputs": [
    {
     "name": "stderr",
     "output_type": "stream",
     "text": [
      "/tmp/ipykernel_23331/3713638186.py:5: DeprecationWarning: In a future version, `df.iloc[:, i] = newvals` will attempt to set the values inplace instead of always setting a new array. To retain the old behavior, use either `df[df.columns[i]] = newvals` or, if columns are non-unique, `df.isetitem(i, newvals)`\n",
      "  ig_dec.loc[:, numeric_text_cols] = ig_dec[numeric_text_cols].apply(cientific_int)\n"
     ]
    }
   ],
   "source": [
    "ig_june = ig_june.dropna()\n",
    "ig_june.loc[:, numeric_text_cols] = ig_june[numeric_text_cols].apply(cientific_int)\n",
    "ig_sep.loc[:, numeric_text_cols] = ig_sep[numeric_text_cols].apply(cientific_int)\n",
    "ig_nov.loc[:, numeric_text_cols] = ig_nov[numeric_text_cols].apply(cientific_int)\n",
    "ig_dec.loc[:, numeric_text_cols] = ig_dec[numeric_text_cols].apply(cientific_int)"
   ]
  },
  {
   "attachments": {},
   "cell_type": "markdown",
   "id": "29763cf5",
   "metadata": {},
   "source": [
    "ig_months es la combinación de todos los meses, eliminando aquellos registros duplicados.\n",
    "Tener cuidado con los datos numéricos, ya que son datos incompletos. Para sacar promedios se tiene que considerar los df por separado"
   ]
  },
  {
   "cell_type": "code",
   "execution_count": 15,
   "id": "cf891871-ae26-4e14-acc5-1df9334f8a83",
   "metadata": {
    "tags": []
   },
   "outputs": [],
   "source": [
    "ig_months = (\n",
    "    pd.concat([ig_june, ig_sep, ig_nov, ig_dec], ignore_index=True)\n",
    "    .drop(\"Rank\", axis=1)\n",
    "    .drop_duplicates()\n",
    ")"
   ]
  },
  {
   "attachments": {},
   "cell_type": "markdown",
   "id": "1a9aa8bf",
   "metadata": {},
   "source": [
    "Verificando duplicados"
   ]
  },
  {
   "cell_type": "code",
   "execution_count": 16,
   "id": "28691020-7605-4e5c-8e0b-adf96493b9f6",
   "metadata": {
    "tags": []
   },
   "outputs": [
    {
     "data": {
      "text/plain": [
       "0"
      ]
     },
     "execution_count": 16,
     "metadata": {},
     "output_type": "execute_result"
    }
   ],
   "source": [
    "ig_months.duplicated().sum()"
   ]
  },
  {
   "attachments": {},
   "cell_type": "markdown",
   "id": "6c50ac8e-db7b-4016-9e25-5cc8c635b25c",
   "metadata": {
    "tags": []
   },
   "source": [
    "### TikTok:"
   ]
  },
  {
   "cell_type": "code",
   "execution_count": 17,
   "id": "279cae98-3616-4bbb-80c8-55f36d38ab01",
   "metadata": {
    "tags": []
   },
   "outputs": [
    {
     "data": {
      "text/html": [
       "<div>\n",
       "<style scoped>\n",
       "    .dataframe tbody tr th:only-of-type {\n",
       "        vertical-align: middle;\n",
       "    }\n",
       "\n",
       "    .dataframe tbody tr th {\n",
       "        vertical-align: top;\n",
       "    }\n",
       "\n",
       "    .dataframe thead th {\n",
       "        text-align: right;\n",
       "    }\n",
       "</style>\n",
       "<table border=\"1\" class=\"dataframe\">\n",
       "  <thead>\n",
       "    <tr style=\"text-align: right;\">\n",
       "      <th></th>\n",
       "      <th>Tiktoker</th>\n",
       "      <th>influencer name</th>\n",
       "      <th>Subscribers count</th>\n",
       "      <th>Views avg.</th>\n",
       "      <th>Likes avg</th>\n",
       "      <th>Comments avg.</th>\n",
       "      <th>Shares avg</th>\n",
       "      <th>Month</th>\n",
       "    </tr>\n",
       "  </thead>\n",
       "  <tbody>\n",
       "    <tr>\n",
       "      <th>0</th>\n",
       "      <td>___nicoichi___</td>\n",
       "      <td>NICO【平成フラミンゴ】</td>\n",
       "      <td>1.3M</td>\n",
       "      <td>1.9M</td>\n",
       "      <td>225.3K</td>\n",
       "      <td>1.7K</td>\n",
       "      <td>1.1K</td>\n",
       "      <td>June</td>\n",
       "    </tr>\n",
       "  </tbody>\n",
       "</table>\n",
       "</div>"
      ],
      "text/plain": [
       "         Tiktoker influencer name Subscribers count Views avg. Likes avg  \\\n",
       "0  ___nicoichi___   NICO【平成フラミンゴ】              1.3M       1.9M    225.3K   \n",
       "\n",
       "  Comments avg. Shares avg Month  \n",
       "0          1.7K       1.1K  June  "
      ]
     },
     "execution_count": 17,
     "metadata": {},
     "output_type": "execute_result"
    }
   ],
   "source": [
    "tt_june = pd.read_csv('DATA/tiktokjune2022.csv')\n",
    "tt_june = tt_june.assign(Month='June')\n",
    "tt_june.head(1)"
   ]
  },
  {
   "cell_type": "code",
   "execution_count": 18,
   "id": "ca8e5cc5-0680-4e87-870c-8a808cbbf6c1",
   "metadata": {
    "jupyter": {
     "source_hidden": true
    },
    "tags": []
   },
   "outputs": [
    {
     "data": {
      "text/html": [
       "<div>\n",
       "<style scoped>\n",
       "    .dataframe tbody tr th:only-of-type {\n",
       "        vertical-align: middle;\n",
       "    }\n",
       "\n",
       "    .dataframe tbody tr th {\n",
       "        vertical-align: top;\n",
       "    }\n",
       "\n",
       "    .dataframe thead th {\n",
       "        text-align: right;\n",
       "    }\n",
       "</style>\n",
       "<table border=\"1\" class=\"dataframe\">\n",
       "  <thead>\n",
       "    <tr style=\"text-align: right;\">\n",
       "      <th></th>\n",
       "      <th>S.no</th>\n",
       "      <th>Tiktoker name</th>\n",
       "      <th>Tiktok name</th>\n",
       "      <th>Subscribers</th>\n",
       "      <th>Views avg.</th>\n",
       "      <th>Likes avg.</th>\n",
       "      <th>Comments avg.</th>\n",
       "      <th>Shares avg.</th>\n",
       "      <th>Month</th>\n",
       "    </tr>\n",
       "  </thead>\n",
       "  <tbody>\n",
       "    <tr>\n",
       "      <th>0</th>\n",
       "      <td>1</td>\n",
       "      <td>jypestraykids</td>\n",
       "      <td>Stray Kids</td>\n",
       "      <td>13.8M</td>\n",
       "      <td>6.4M</td>\n",
       "      <td>2.3M</td>\n",
       "      <td>50.2K</td>\n",
       "      <td>34.2K</td>\n",
       "      <td>September</td>\n",
       "    </tr>\n",
       "  </tbody>\n",
       "</table>\n",
       "</div>"
      ],
      "text/plain": [
       "   S.no  Tiktoker name Tiktok name Subscribers Views avg. Likes avg.  \\\n",
       "0     1  jypestraykids  Stray Kids       13.8M       6.4M       2.3M   \n",
       "\n",
       "  Comments avg. Shares avg.      Month  \n",
       "0         50.2K       34.2K  September  "
      ]
     },
     "execution_count": 18,
     "metadata": {},
     "output_type": "execute_result"
    }
   ],
   "source": [
    "tt_sep= pd.read_csv('DATA/Tiktoksep2022.csv')\n",
    "tt_sep = tt_sep.assign(Month='September')\n",
    "tt_sep.head(1)"
   ]
  },
  {
   "cell_type": "code",
   "execution_count": 19,
   "id": "cc17ebc8-1d3c-4d15-be1d-fbb81dfb6030",
   "metadata": {
    "jupyter": {
     "source_hidden": true
    },
    "tags": []
   },
   "outputs": [
    {
     "data": {
      "text/html": [
       "<div>\n",
       "<style scoped>\n",
       "    .dataframe tbody tr th:only-of-type {\n",
       "        vertical-align: middle;\n",
       "    }\n",
       "\n",
       "    .dataframe tbody tr th {\n",
       "        vertical-align: top;\n",
       "    }\n",
       "\n",
       "    .dataframe thead th {\n",
       "        text-align: right;\n",
       "    }\n",
       "</style>\n",
       "<table border=\"1\" class=\"dataframe\">\n",
       "  <thead>\n",
       "    <tr style=\"text-align: right;\">\n",
       "      <th></th>\n",
       "      <th>row-cell</th>\n",
       "      <th>Tiktoker name</th>\n",
       "      <th>Tiktok name</th>\n",
       "      <th>\\nFollowers</th>\n",
       "      <th>Views (Avg.)</th>\n",
       "      <th>Likes (Avg.)</th>\n",
       "      <th>Comments (Avg.)</th>\n",
       "      <th>Shares (Avg.)</th>\n",
       "      <th>Month</th>\n",
       "    </tr>\n",
       "  </thead>\n",
       "  <tbody>\n",
       "    <tr>\n",
       "      <th>0</th>\n",
       "      <td>NaN</td>\n",
       "      <td>NaN</td>\n",
       "      <td>NaN</td>\n",
       "      <td>NaN</td>\n",
       "      <td>NaN</td>\n",
       "      <td>NaN</td>\n",
       "      <td>NaN</td>\n",
       "      <td>NaN</td>\n",
       "      <td>November</td>\n",
       "    </tr>\n",
       "  </tbody>\n",
       "</table>\n",
       "</div>"
      ],
      "text/plain": [
       "   row-cell Tiktoker name Tiktok name \\nFollowers Views (Avg.) Likes (Avg.)  \\\n",
       "0       NaN           NaN         NaN         NaN          NaN          NaN   \n",
       "\n",
       "  Comments (Avg.) Shares (Avg.)     Month  \n",
       "0             NaN           NaN  November  "
      ]
     },
     "execution_count": 19,
     "metadata": {},
     "output_type": "execute_result"
    }
   ],
   "source": [
    "tt_nov= pd.read_csv('DATA/tiktoknov2022.csv')\n",
    "tt_nov = tt_nov.assign(Month='November')\n",
    "tt_nov.head(1)"
   ]
  },
  {
   "cell_type": "code",
   "execution_count": 20,
   "id": "ae345dbf-ae50-46cf-8c58-4858e560769a",
   "metadata": {
    "jupyter": {
     "source_hidden": true
    },
    "tags": []
   },
   "outputs": [
    {
     "data": {
      "text/html": [
       "<div>\n",
       "<style scoped>\n",
       "    .dataframe tbody tr th:only-of-type {\n",
       "        vertical-align: middle;\n",
       "    }\n",
       "\n",
       "    .dataframe tbody tr th {\n",
       "        vertical-align: top;\n",
       "    }\n",
       "\n",
       "    .dataframe thead th {\n",
       "        text-align: right;\n",
       "    }\n",
       "</style>\n",
       "<table border=\"1\" class=\"dataframe\">\n",
       "  <thead>\n",
       "    <tr style=\"text-align: right;\">\n",
       "      <th></th>\n",
       "      <th>Rank</th>\n",
       "      <th>Tiktoker name</th>\n",
       "      <th>Tiktok name</th>\n",
       "      <th>followers</th>\n",
       "      <th>views(avg)</th>\n",
       "      <th>likes(avg.)</th>\n",
       "      <th>comments(avg.)</th>\n",
       "      <th>shares(avg.)</th>\n",
       "      <th>Month</th>\n",
       "    </tr>\n",
       "  </thead>\n",
       "  <tbody>\n",
       "    <tr>\n",
       "      <th>0</th>\n",
       "      <td>1</td>\n",
       "      <td>mrbeast</td>\n",
       "      <td>MrBeast</td>\n",
       "      <td>60.3M</td>\n",
       "      <td>29.2M</td>\n",
       "      <td>3.5M</td>\n",
       "      <td>30.8K</td>\n",
       "      <td>7.2K</td>\n",
       "      <td>December</td>\n",
       "    </tr>\n",
       "  </tbody>\n",
       "</table>\n",
       "</div>"
      ],
      "text/plain": [
       "   Rank Tiktoker name Tiktok name followers views(avg) likes(avg.)  \\\n",
       "0     1       mrbeast     MrBeast     60.3M      29.2M        3.5M   \n",
       "\n",
       "  comments(avg.) shares(avg.)     Month  \n",
       "0          30.8K         7.2K  December  "
      ]
     },
     "execution_count": 20,
     "metadata": {},
     "output_type": "execute_result"
    }
   ],
   "source": [
    "tt_dec= pd.read_csv('DATA/TIKTOKDEC2022.csv')\n",
    "tt_dec = tt_dec.assign(Month='December')\n",
    "tt_dec.head(1)"
   ]
  },
  {
   "attachments": {},
   "cell_type": "markdown",
   "id": "123616c8-3fa2-4070-9cda-9cbd3fbb57ec",
   "metadata": {
    "tags": []
   },
   "source": [
    "### Youtube:"
   ]
  },
  {
   "cell_type": "code",
   "execution_count": 21,
   "id": "1c34839f-745c-44cd-93d7-b5d1b5a971ed",
   "metadata": {
    "tags": []
   },
   "outputs": [
    {
     "data": {
      "text/html": [
       "<div>\n",
       "<style scoped>\n",
       "    .dataframe tbody tr th:only-of-type {\n",
       "        vertical-align: middle;\n",
       "    }\n",
       "\n",
       "    .dataframe tbody tr th {\n",
       "        vertical-align: top;\n",
       "    }\n",
       "\n",
       "    .dataframe thead th {\n",
       "        text-align: right;\n",
       "    }\n",
       "</style>\n",
       "<table border=\"1\" class=\"dataframe\">\n",
       "  <thead>\n",
       "    <tr style=\"text-align: right;\">\n",
       "      <th></th>\n",
       "      <th>channel name</th>\n",
       "      <th>youTuber</th>\n",
       "      <th>Category</th>\n",
       "      <th>Category_2</th>\n",
       "      <th>Subscribers count</th>\n",
       "      <th>Country</th>\n",
       "      <th>Views avg.</th>\n",
       "      <th>Likes avg</th>\n",
       "      <th>Comments avg.</th>\n",
       "      <th>Month</th>\n",
       "    </tr>\n",
       "  </thead>\n",
       "  <tbody>\n",
       "    <tr>\n",
       "      <th>0</th>\n",
       "      <td>juptube</td>\n",
       "      <td>Galinha Pintadinha</td>\n",
       "      <td>Music &amp; Dance</td>\n",
       "      <td>NaN</td>\n",
       "      <td>30.5M</td>\n",
       "      <td>-</td>\n",
       "      <td>0</td>\n",
       "      <td>N/A'</td>\n",
       "      <td>N/A'</td>\n",
       "      <td>June</td>\n",
       "    </tr>\n",
       "  </tbody>\n",
       "</table>\n",
       "</div>"
      ],
      "text/plain": [
       "  channel name            youTuber       Category Category_2  \\\n",
       "0      juptube  Galinha Pintadinha  Music & Dance        NaN   \n",
       "\n",
       "  Subscribers count Country Views avg. Likes avg Comments avg. Month  \n",
       "0             30.5M       -          0      N/A'          N/A'  June  "
      ]
     },
     "execution_count": 21,
     "metadata": {},
     "output_type": "execute_result"
    }
   ],
   "source": [
    "y_june= pd.read_csv('DATA/youtubejune2022.csv')\n",
    "y_june = y_june.assign(Month='June')\n",
    "y_june.head(1)"
   ]
  },
  {
   "cell_type": "code",
   "execution_count": 22,
   "id": "202b0355-e1b0-4a63-9ba6-99eb21ab5683",
   "metadata": {
    "tags": []
   },
   "outputs": [
    {
     "data": {
      "text/html": [
       "<div>\n",
       "<style scoped>\n",
       "    .dataframe tbody tr th:only-of-type {\n",
       "        vertical-align: middle;\n",
       "    }\n",
       "\n",
       "    .dataframe tbody tr th {\n",
       "        vertical-align: top;\n",
       "    }\n",
       "\n",
       "    .dataframe thead th {\n",
       "        text-align: right;\n",
       "    }\n",
       "</style>\n",
       "<table border=\"1\" class=\"dataframe\">\n",
       "  <thead>\n",
       "    <tr style=\"text-align: right;\">\n",
       "      <th></th>\n",
       "      <th>S.no</th>\n",
       "      <th>Name</th>\n",
       "      <th>Youtuber</th>\n",
       "      <th>Country</th>\n",
       "      <th>Subscribers</th>\n",
       "      <th>Category_2</th>\n",
       "      <th>Avg. views\\r\\n</th>\n",
       "      <th>Avg. likes</th>\n",
       "      <th>Avg Comments</th>\n",
       "      <th>Category_3</th>\n",
       "      <th>Month</th>\n",
       "    </tr>\n",
       "  </thead>\n",
       "  <tbody>\n",
       "    <tr>\n",
       "      <th>0</th>\n",
       "      <td>1</td>\n",
       "      <td>T-Series</td>\n",
       "      <td>tseries</td>\n",
       "      <td>India</td>\n",
       "      <td>224.4M</td>\n",
       "      <td>Music &amp; Dance</td>\n",
       "      <td>141.5K</td>\n",
       "      <td>4.6K</td>\n",
       "      <td>125</td>\n",
       "      <td>NaN</td>\n",
       "      <td>September</td>\n",
       "    </tr>\n",
       "  </tbody>\n",
       "</table>\n",
       "</div>"
      ],
      "text/plain": [
       "   S.no      Name Youtuber Country  Subscribers     Category_2 Avg. views\\r\\n  \\\n",
       "0     1  T-Series  tseries   India       224.4M  Music & Dance         141.5K   \n",
       "\n",
       "  Avg. likes Avg Comments Category_3      Month  \n",
       "0       4.6K          125        NaN  September  "
      ]
     },
     "execution_count": 22,
     "metadata": {},
     "output_type": "execute_result"
    }
   ],
   "source": [
    "y_sep= pd.read_csv('DATA/Youtubesep2022.csv')\n",
    "y_sep = y_sep.assign(Month='September')\n",
    "y_sep.head(1)"
   ]
  },
  {
   "cell_type": "code",
   "execution_count": 23,
   "id": "6c509b12-600a-4f17-ade4-1034cac73bfb",
   "metadata": {
    "tags": []
   },
   "outputs": [
    {
     "data": {
      "text/html": [
       "<div>\n",
       "<style scoped>\n",
       "    .dataframe tbody tr th:only-of-type {\n",
       "        vertical-align: middle;\n",
       "    }\n",
       "\n",
       "    .dataframe tbody tr th {\n",
       "        vertical-align: top;\n",
       "    }\n",
       "\n",
       "    .dataframe thead th {\n",
       "        text-align: right;\n",
       "    }\n",
       "</style>\n",
       "<table border=\"1\" class=\"dataframe\">\n",
       "  <thead>\n",
       "    <tr style=\"text-align: right;\">\n",
       "      <th></th>\n",
       "      <th>s.no</th>\n",
       "      <th>Youtube channel</th>\n",
       "      <th>youtuber name</th>\n",
       "      <th>Category</th>\n",
       "      <th>Followers</th>\n",
       "      <th>Country</th>\n",
       "      <th>\\nViews (Avg.)</th>\n",
       "      <th>Likes (Avg.)</th>\n",
       "      <th>Comments (Avg.)</th>\n",
       "      <th>Category-2</th>\n",
       "      <th>Month</th>\n",
       "    </tr>\n",
       "  </thead>\n",
       "  <tbody>\n",
       "    <tr>\n",
       "      <th>0</th>\n",
       "      <td>1</td>\n",
       "      <td>tseries</td>\n",
       "      <td>T-Series</td>\n",
       "      <td>Music &amp; Dance</td>\n",
       "      <td>229.5M</td>\n",
       "      <td>India</td>\n",
       "      <td>103.8K</td>\n",
       "      <td>2.8K</td>\n",
       "      <td>158</td>\n",
       "      <td>NaN</td>\n",
       "      <td>November</td>\n",
       "    </tr>\n",
       "  </tbody>\n",
       "</table>\n",
       "</div>"
      ],
      "text/plain": [
       "   s.no Youtube channel youtuber name       Category Followers Country  \\\n",
       "0     1         tseries      T-Series  Music & Dance    229.5M   India   \n",
       "\n",
       "  \\nViews (Avg.) Likes (Avg.) Comments (Avg.) Category-2     Month  \n",
       "0         103.8K         2.8K             158        NaN  November  "
      ]
     },
     "execution_count": 23,
     "metadata": {},
     "output_type": "execute_result"
    }
   ],
   "source": [
    "y_nov= pd.read_csv('DATA/youtubenov2022.csv')\n",
    "y_nov = y_nov.assign(Month='November')\n",
    "y_nov.head(1)"
   ]
  },
  {
   "cell_type": "code",
   "execution_count": 24,
   "id": "d74e87da-c4cf-4d76-bb7e-6cbce17bbe30",
   "metadata": {
    "tags": []
   },
   "outputs": [
    {
     "data": {
      "text/html": [
       "<div>\n",
       "<style scoped>\n",
       "    .dataframe tbody tr th:only-of-type {\n",
       "        vertical-align: middle;\n",
       "    }\n",
       "\n",
       "    .dataframe tbody tr th {\n",
       "        vertical-align: top;\n",
       "    }\n",
       "\n",
       "    .dataframe thead th {\n",
       "        text-align: right;\n",
       "    }\n",
       "</style>\n",
       "<table border=\"1\" class=\"dataframe\">\n",
       "  <thead>\n",
       "    <tr style=\"text-align: right;\">\n",
       "      <th></th>\n",
       "      <th>s.no</th>\n",
       "      <th>Youtube channel</th>\n",
       "      <th>youtuber name</th>\n",
       "      <th>Category</th>\n",
       "      <th>Followers</th>\n",
       "      <th>Country</th>\n",
       "      <th>\\nViews (Avg.)</th>\n",
       "      <th>Likes (Avg.)</th>\n",
       "      <th>Comments (Avg.)</th>\n",
       "      <th>Category-2</th>\n",
       "      <th>Month</th>\n",
       "    </tr>\n",
       "  </thead>\n",
       "  <tbody>\n",
       "    <tr>\n",
       "      <th>0</th>\n",
       "      <td>1</td>\n",
       "      <td>tseries</td>\n",
       "      <td>T-Series</td>\n",
       "      <td>Music &amp; Dance</td>\n",
       "      <td>229.5M</td>\n",
       "      <td>India</td>\n",
       "      <td>103.8K</td>\n",
       "      <td>2.8K</td>\n",
       "      <td>158</td>\n",
       "      <td>NaN</td>\n",
       "      <td>December</td>\n",
       "    </tr>\n",
       "  </tbody>\n",
       "</table>\n",
       "</div>"
      ],
      "text/plain": [
       "   s.no Youtube channel youtuber name       Category Followers Country  \\\n",
       "0     1         tseries      T-Series  Music & Dance    229.5M   India   \n",
       "\n",
       "  \\nViews (Avg.) Likes (Avg.) Comments (Avg.) Category-2     Month  \n",
       "0         103.8K         2.8K             158        NaN  December  "
      ]
     },
     "execution_count": 24,
     "metadata": {},
     "output_type": "execute_result"
    }
   ],
   "source": [
    "y_dec= pd.read_csv('DATA/YOUTUBEDEC2022.csv')\n",
    "y_dec = y_dec.assign(Month='December')\n",
    "y_dec.head(1)"
   ]
  },
  {
   "attachments": {},
   "cell_type": "markdown",
   "id": "2df5bc4e-e340-450d-9bff-87c55ed3379a",
   "metadata": {},
   "source": [
    "TikTok:\n",
    "* Username\n",
    "* Name\n",
    "* Followers o Suscribers\n",
    "* Views\n",
    "* Likes\n",
    "* Comments\n",
    "* Shares\n",
    "* Month"
   ]
  },
  {
   "attachments": {},
   "cell_type": "markdown",
   "id": "3810a5de-1511-42b0-bb68-87d2c0e8c8cc",
   "metadata": {},
   "source": [
    "Youtube:\n",
    "* Username\n",
    "* Name\n",
    "* Country\n",
    "* Suscribers o Folowers\n",
    "* Views\n",
    "* Likes\n",
    "* Comments\n",
    "* Category1\n",
    "* Category2\n",
    "* Month"
   ]
  },
  {
   "attachments": {},
   "cell_type": "markdown",
   "id": "79cda8b0",
   "metadata": {
    "tags": []
   },
   "source": [
    "# Análisis instagram"
   ]
  },
  {
   "attachments": {},
   "cell_type": "markdown",
   "id": "2878c4fe",
   "metadata": {},
   "source": [
    "### Número total de cuentas distintas en instagram: 2409"
   ]
  },
  {
   "cell_type": "code",
   "execution_count": 25,
   "id": "415d8331-23c3-4831-b126-fb6d463152b6",
   "metadata": {
    "tags": []
   },
   "outputs": [
    {
     "data": {
      "text/plain": [
       "1313"
      ]
     },
     "execution_count": 25,
     "metadata": {},
     "output_type": "execute_result"
    }
   ],
   "source": [
    "ig_months.username.drop_duplicates().size"
   ]
  },
  {
   "attachments": {},
   "cell_type": "markdown",
   "id": "5877afed-6d8d-459f-8635-6b45a5cf915c",
   "metadata": {},
   "source": [
    "### Media de seguidores\n",
    "Calcular el promedio de seguidores, authentic, engagement, de cada cuenta. Es decir, cada red social cuenta con 4 archivos de 4 meses distintos, si una cuenta aparece en los 4 meses, debera calcular el promedio de esos 4 meses, si una cuenta solo aparece 2 meses, se hara el promedio de esos dos meses y asi sucesivamente. SI el valor es nulo, vacio, N/A, o 0 no se debe promediar."
   ]
  },
  {
   "cell_type": "code",
   "execution_count": 26,
   "id": "4e8fd805",
   "metadata": {},
   "outputs": [],
   "source": [
    "ig_means = (\n",
    "    ig_months\n",
    "    .groupby('username')\n",
    "     # aggregate functiosn skips nan by deffault\n",
    "    .aggregate({\n",
    "        'followers': 'mean',\n",
    "        'authentic': 'mean',\n",
    "        'average': 'mean'\n",
    "    })    \n",
    "    .reset_index()\n",
    "    .sort_values('followers', ascending=False)\n",
    ")"
   ]
  },
  {
   "attachments": {},
   "cell_type": "markdown",
   "id": "366fe346",
   "metadata": {},
   "source": [
    "### Metricas de Valor\n",
    "\n",
    "Metricas de Valor de cada cuenta. Para este punto debe utilizar los promedios del punto anterior: Promedio Engagement/Promedio Followers."
   ]
  },
  {
   "cell_type": "code",
   "execution_count": 27,
   "id": "5e2527b2",
   "metadata": {},
   "outputs": [],
   "source": [
    "ig_means['engagement_ratio'] = ig_means.average / ig_means.followers"
   ]
  },
  {
   "cell_type": "code",
   "execution_count": 28,
   "id": "44a4ce3d",
   "metadata": {},
   "outputs": [
    {
     "data": {
      "text/html": [
       "<div>\n",
       "<style scoped>\n",
       "    .dataframe tbody tr th:only-of-type {\n",
       "        vertical-align: middle;\n",
       "    }\n",
       "\n",
       "    .dataframe tbody tr th {\n",
       "        vertical-align: top;\n",
       "    }\n",
       "\n",
       "    .dataframe thead th {\n",
       "        text-align: right;\n",
       "    }\n",
       "</style>\n",
       "<table border=\"1\" class=\"dataframe\">\n",
       "  <thead>\n",
       "    <tr style=\"text-align: right;\">\n",
       "      <th></th>\n",
       "      <th>username</th>\n",
       "      <th>followers</th>\n",
       "      <th>authentic</th>\n",
       "      <th>average</th>\n",
       "      <th>engagement_ratio</th>\n",
       "    </tr>\n",
       "  </thead>\n",
       "  <tbody>\n",
       "    <tr>\n",
       "      <th>510</th>\n",
       "      <td>instagram</td>\n",
       "      <td>5.585667e+08</td>\n",
       "      <td>3.163333e+05</td>\n",
       "      <td>3.944667e+05</td>\n",
       "      <td>0.000706</td>\n",
       "    </tr>\n",
       "    <tr>\n",
       "      <th>259</th>\n",
       "      <td>cristiano</td>\n",
       "      <td>4.946667e+08</td>\n",
       "      <td>7.066667e+06</td>\n",
       "      <td>8.833333e+06</td>\n",
       "      <td>0.017857</td>\n",
       "    </tr>\n",
       "    <tr>\n",
       "      <th>702</th>\n",
       "      <td>leomessi</td>\n",
       "      <td>3.669750e+08</td>\n",
       "      <td>7.100000e+06</td>\n",
       "      <td>9.325000e+06</td>\n",
       "      <td>0.025410</td>\n",
       "    </tr>\n",
       "    <tr>\n",
       "      <th>674</th>\n",
       "      <td>kyliejenner</td>\n",
       "      <td>3.667750e+08</td>\n",
       "      <td>2.950000e+06</td>\n",
       "      <td>4.700000e+06</td>\n",
       "      <td>0.012814</td>\n",
       "    </tr>\n",
       "    <tr>\n",
       "      <th>1075</th>\n",
       "      <td>selenagomez</td>\n",
       "      <td>3.469500e+08</td>\n",
       "      <td>1.750000e+06</td>\n",
       "      <td>2.300000e+06</td>\n",
       "      <td>0.006629</td>\n",
       "    </tr>\n",
       "    <tr>\n",
       "      <th>...</th>\n",
       "      <td>...</td>\n",
       "      <td>...</td>\n",
       "      <td>...</td>\n",
       "      <td>...</td>\n",
       "      <td>...</td>\n",
       "    </tr>\n",
       "    <tr>\n",
       "      <th>378</th>\n",
       "      <td>feat.dino</td>\n",
       "      <td>2.700000e+06</td>\n",
       "      <td>7.166000e+05</td>\n",
       "      <td>8.764000e+05</td>\n",
       "      <td>0.324593</td>\n",
       "    </tr>\n",
       "    <tr>\n",
       "      <th>683</th>\n",
       "      <td>lalala_lfamily</td>\n",
       "      <td>2.500000e+06</td>\n",
       "      <td>7.529000e+05</td>\n",
       "      <td>9.004000e+05</td>\n",
       "      <td>0.360160</td>\n",
       "    </tr>\n",
       "    <tr>\n",
       "      <th>678</th>\n",
       "      <td>labels.hybe</td>\n",
       "      <td>2.300000e+06</td>\n",
       "      <td>8.911000e+05</td>\n",
       "      <td>1.000000e+06</td>\n",
       "      <td>0.434783</td>\n",
       "    </tr>\n",
       "    <tr>\n",
       "      <th>647</th>\n",
       "      <td>kh1000le</td>\n",
       "      <td>2.266667e+06</td>\n",
       "      <td>3.269333e+05</td>\n",
       "      <td>1.233333e+06</td>\n",
       "      <td>0.544118</td>\n",
       "    </tr>\n",
       "    <tr>\n",
       "      <th>995</th>\n",
       "      <td>rampage_thedancer</td>\n",
       "      <td>2.200000e+06</td>\n",
       "      <td>1.100000e+06</td>\n",
       "      <td>1.300000e+06</td>\n",
       "      <td>0.590909</td>\n",
       "    </tr>\n",
       "  </tbody>\n",
       "</table>\n",
       "<p>1313 rows × 5 columns</p>\n",
       "</div>"
      ],
      "text/plain": [
       "               username     followers     authentic       average  \\\n",
       "510           instagram  5.585667e+08  3.163333e+05  3.944667e+05   \n",
       "259           cristiano  4.946667e+08  7.066667e+06  8.833333e+06   \n",
       "702            leomessi  3.669750e+08  7.100000e+06  9.325000e+06   \n",
       "674         kyliejenner  3.667750e+08  2.950000e+06  4.700000e+06   \n",
       "1075        selenagomez  3.469500e+08  1.750000e+06  2.300000e+06   \n",
       "...                 ...           ...           ...           ...   \n",
       "378           feat.dino  2.700000e+06  7.166000e+05  8.764000e+05   \n",
       "683      lalala_lfamily  2.500000e+06  7.529000e+05  9.004000e+05   \n",
       "678         labels.hybe  2.300000e+06  8.911000e+05  1.000000e+06   \n",
       "647            kh1000le  2.266667e+06  3.269333e+05  1.233333e+06   \n",
       "995   rampage_thedancer  2.200000e+06  1.100000e+06  1.300000e+06   \n",
       "\n",
       "      engagement_ratio  \n",
       "510           0.000706  \n",
       "259           0.017857  \n",
       "702           0.025410  \n",
       "674           0.012814  \n",
       "1075          0.006629  \n",
       "...                ...  \n",
       "378           0.324593  \n",
       "683           0.360160  \n",
       "678           0.434783  \n",
       "647           0.544118  \n",
       "995           0.590909  \n",
       "\n",
       "[1313 rows x 5 columns]"
      ]
     },
     "execution_count": 28,
     "metadata": {},
     "output_type": "execute_result"
    }
   ],
   "source": [
    "ig_means"
   ]
  },
  {
   "attachments": {},
   "cell_type": "markdown",
   "id": "f36700b3",
   "metadata": {},
   "source": [
    "### Graficar iniciales\n",
    "\n",
    "Graficar en un histograma el numero de cuentas que inicien por cada letra del alfabeto (Mayusculas y minusculas son tomadas de igual forma) y agrupar en una sola categoria todos los que no comiencen con una letra del alfabeto."
   ]
  },
  {
   "cell_type": "code",
   "execution_count": 29,
   "id": "1fe4be3a",
   "metadata": {},
   "outputs": [],
   "source": [
    "def get_inicial(name: str) -> str:\n",
    "    name = str(name)\n",
    "    first_is_letter = re.search(r'^[a-zA-Z]', name)\n",
    "    if first_is_letter:\n",
    "        return name[0].upper()\n",
    "    else:\n",
    "        return 'other'\n"
   ]
  },
  {
   "cell_type": "code",
   "execution_count": 39,
   "id": "c99f7b4a",
   "metadata": {},
   "outputs": [
    {
     "data": {
      "image/png": "[encoded data removed]",
      "text/plain": [
       "<Figure size 640x480 with 1 Axes>"
      ]
     },
     "metadata": {},
     "output_type": "display_data"
    }
   ],
   "source": [
    "initials = (\n",
    "    ig_months.name\n",
    "    .map(get_inicial)\n",
    "    .value_counts()\n",
    "    .reset_index(name='frequency')\n",
    "    .rename(columns={\n",
    "        'index': 'letter',\n",
    "        'name': 'letter'\n",
    "    })\n",
    ")\n",
    "plt.bar(initials.letter, initials.frequency)\n",
    "plt.show()"
   ]
  },
  {
   "attachments": {},
   "cell_type": "markdown",
   "id": "ec156ed6",
   "metadata": {},
   "source": [
    "### ¿Cual es la cuenta de IG con mas caracteres en su nombre?"
   ]
  },
  {
   "cell_type": "code",
   "execution_count": 32,
   "id": "417242f0",
   "metadata": {},
   "outputs": [],
   "source": [
    "name_len = (\n",
    "    ig_months[['name', 'username']]\n",
    "    .assign(len_name = ig_months.name.map(lambda x: len(str(x))))\n",
    "    .assign(len_username = ig_months.username.map(lambda x: len(str(x))))\n",
    ")\n",
    "ids1 = name_len.loc[name_len.len_name.idxmax()]\n",
    "ids2 = name_len.loc[name_len.len_username.idxmax()]"
   ]
  },
  {
   "attachments": {},
   "cell_type": "markdown",
   "id": "33f07d13",
   "metadata": {},
   "source": [
    "**username**"
   ]
  },
  {
   "cell_type": "code",
   "execution_count": 33,
   "id": "39453869",
   "metadata": {},
   "outputs": [
    {
     "data": {
      "text/plain": [
       "name                  JUNGKOOK (전정국) Updates\n",
       "username        jungkook_bighitentertainment\n",
       "len_name                                  22\n",
       "len_username                              28\n",
       "Name: 124, dtype: object"
      ]
     },
     "execution_count": 33,
     "metadata": {},
     "output_type": "execute_result"
    }
   ],
   "source": [
    "ids2"
   ]
  },
  {
   "attachments": {},
   "cell_type": "markdown",
   "id": "168d5770",
   "metadata": {},
   "source": [
    "**name**"
   ]
  },
  {
   "cell_type": "code",
   "execution_count": 34,
   "id": "d99d2928",
   "metadata": {},
   "outputs": [
    {
     "data": {
      "text/plain": [
       "name            ＡＲＡＩＫ  ＧＡＬＳＴＹＡＮ ＷＯＲＬＤ ＦＬＯＲＩＳＴ  ＤＥＳＩＧＮＥＲ\n",
       "username                      araikgalstyanmoscowschool\n",
       "len_name                                             39\n",
       "len_username                                         25\n",
       "Name: 3078, dtype: object"
      ]
     },
     "execution_count": 34,
     "metadata": {},
     "output_type": "execute_result"
    }
   ],
   "source": [
    "ids1"
   ]
  },
  {
   "attachments": {},
   "cell_type": "markdown",
   "id": "5f718498",
   "metadata": {},
   "source": [
    "### ¿Cuantas cuentas de Instagram tienen ya sea en su username o name las letras de las iniciales del primer nombre de cada uno de los integrantes de tu equipo?"
   ]
  },
  {
   "cell_type": "code",
   "execution_count": 35,
   "id": "e40c7a07",
   "metadata": {},
   "outputs": [
    {
     "data": {
      "text/plain": [
       "2336"
      ]
     },
     "execution_count": 35,
     "metadata": {},
     "output_type": "execute_result"
    }
   ],
   "source": [
    "(ig_months.name.str.contains(r'[GgIiMm]') | ig_months.name.str.contains(r'[GgIiMm]')).sum()"
   ]
  },
  {
   "attachments": {},
   "cell_type": "markdown",
   "id": "41a67423-d750-400b-b0dc-86198d0bb2fe",
   "metadata": {},
   "source": [
    "## <u>Leer los datos que en el nombre no contienen mes (resumen):</u></br>"
   ]
  },
  {
   "cell_type": "code",
   "execution_count": 36,
   "id": "708f29aa-0d6c-468f-9396-4849bcd63680",
   "metadata": {
    "tags": []
   },
   "outputs": [
    {
     "data": {
      "text/html": [
       "<div>\n",
       "<style scoped>\n",
       "    .dataframe tbody tr th:only-of-type {\n",
       "        vertical-align: middle;\n",
       "    }\n",
       "\n",
       "    .dataframe tbody tr th {\n",
       "        vertical-align: top;\n",
       "    }\n",
       "\n",
       "    .dataframe thead th {\n",
       "        text-align: right;\n",
       "    }\n",
       "</style>\n",
       "<table border=\"1\" class=\"dataframe\">\n",
       "  <thead>\n",
       "    <tr style=\"text-align: right;\">\n",
       "      <th></th>\n",
       "      <th>Influencer insta name</th>\n",
       "      <th>instagram name</th>\n",
       "      <th>category_1</th>\n",
       "      <th>category_2</th>\n",
       "      <th>Followers</th>\n",
       "      <th>Audience country(mostly)</th>\n",
       "      <th>Authentic engagement\\r\\n</th>\n",
       "      <th>Engagement avg\\r\\n</th>\n",
       "    </tr>\n",
       "  </thead>\n",
       "  <tbody>\n",
       "    <tr>\n",
       "      <th>0</th>\n",
       "      <td>433</td>\n",
       "      <td>433</td>\n",
       "      <td>Sports with a ball</td>\n",
       "      <td>NaN</td>\n",
       "      <td>48.5M</td>\n",
       "      <td>Spain</td>\n",
       "      <td>383.1K</td>\n",
       "      <td>637K</td>\n",
       "    </tr>\n",
       "    <tr>\n",
       "      <th>1</th>\n",
       "      <td>__youngbae__</td>\n",
       "      <td>TAEYANG</td>\n",
       "      <td>Music</td>\n",
       "      <td>NaN</td>\n",
       "      <td>12.7M</td>\n",
       "      <td>Indonesia</td>\n",
       "      <td>478K</td>\n",
       "      <td>542.3K</td>\n",
       "    </tr>\n",
       "    <tr>\n",
       "      <th>2</th>\n",
       "      <td>_agentgirl_</td>\n",
       "      <td>НАСТЯ ИВЛЕЕВА</td>\n",
       "      <td>Shows</td>\n",
       "      <td>NaN</td>\n",
       "      <td>18.8M</td>\n",
       "      <td>Russia</td>\n",
       "      <td>310.8K</td>\n",
       "      <td>377.9K</td>\n",
       "    </tr>\n",
       "    <tr>\n",
       "      <th>3</th>\n",
       "      <td>_imyour_joy</td>\n",
       "      <td>Joy</td>\n",
       "      <td>Lifestyle</td>\n",
       "      <td>NaN</td>\n",
       "      <td>13.5M</td>\n",
       "      <td>Indonesia</td>\n",
       "      <td>1.1M</td>\n",
       "      <td>1.4M</td>\n",
       "    </tr>\n",
       "    <tr>\n",
       "      <th>4</th>\n",
       "      <td>_jeongjaehyun</td>\n",
       "      <td>Jaehyun</td>\n",
       "      <td>NaN</td>\n",
       "      <td>NaN</td>\n",
       "      <td>11.1M</td>\n",
       "      <td>Indonesia</td>\n",
       "      <td>2.5M</td>\n",
       "      <td>3.1M</td>\n",
       "    </tr>\n",
       "    <tr>\n",
       "      <th>...</th>\n",
       "      <td>...</td>\n",
       "      <td>...</td>\n",
       "      <td>...</td>\n",
       "      <td>...</td>\n",
       "      <td>...</td>\n",
       "      <td>...</td>\n",
       "      <td>...</td>\n",
       "      <td>...</td>\n",
       "    </tr>\n",
       "    <tr>\n",
       "      <th>995</th>\n",
       "      <td>zendaya</td>\n",
       "      <td>Zendaya</td>\n",
       "      <td>Cinema &amp; Actors/actresses</td>\n",
       "      <td>Fashion</td>\n",
       "      <td>136.1M</td>\n",
       "      <td>United States</td>\n",
       "      <td>6.4M</td>\n",
       "      <td>8.6M</td>\n",
       "    </tr>\n",
       "    <tr>\n",
       "      <th>996</th>\n",
       "      <td>zidane</td>\n",
       "      <td>zidane</td>\n",
       "      <td>Sports with a ball</td>\n",
       "      <td>NaN</td>\n",
       "      <td>31.2M</td>\n",
       "      <td>Spain</td>\n",
       "      <td>546K</td>\n",
       "      <td>744.1K</td>\n",
       "    </tr>\n",
       "    <tr>\n",
       "      <th>997</th>\n",
       "      <td>zkdlin</td>\n",
       "      <td>KAI</td>\n",
       "      <td>Music</td>\n",
       "      <td>NaN</td>\n",
       "      <td>13.9M</td>\n",
       "      <td>Indonesia</td>\n",
       "      <td>1.3M</td>\n",
       "      <td>1.6M</td>\n",
       "    </tr>\n",
       "    <tr>\n",
       "      <th>998</th>\n",
       "      <td>zoeisabellakravitz</td>\n",
       "      <td>Zoë Kravitz</td>\n",
       "      <td>Cinema &amp; Actors/actresses</td>\n",
       "      <td>NaN</td>\n",
       "      <td>8.2M</td>\n",
       "      <td>United States</td>\n",
       "      <td>583K</td>\n",
       "      <td>885.5K</td>\n",
       "    </tr>\n",
       "    <tr>\n",
       "      <th>999</th>\n",
       "      <td>zoesugg</td>\n",
       "      <td>Zoë Sugg</td>\n",
       "      <td>Lifestyle</td>\n",
       "      <td>Business &amp; Careers</td>\n",
       "      <td>9.4M</td>\n",
       "      <td>United Kingdom</td>\n",
       "      <td>208.7K</td>\n",
       "      <td>289.3K</td>\n",
       "    </tr>\n",
       "  </tbody>\n",
       "</table>\n",
       "<p>1000 rows × 8 columns</p>\n",
       "</div>"
      ],
      "text/plain": [
       "    Influencer insta name instagram name                 category_1  \\\n",
       "0                     433            433         Sports with a ball   \n",
       "1            __youngbae__        TAEYANG                      Music   \n",
       "2             _agentgirl_  НАСТЯ ИВЛЕЕВА                      Shows   \n",
       "3             _imyour_joy            Joy                  Lifestyle   \n",
       "4           _jeongjaehyun        Jaehyun                        NaN   \n",
       "..                    ...            ...                        ...   \n",
       "995               zendaya        Zendaya  Cinema & Actors/actresses   \n",
       "996                zidane         zidane         Sports with a ball   \n",
       "997                zkdlin            KAI                      Music   \n",
       "998    zoeisabellakravitz   Zoë Kravitz  Cinema & Actors/actresses   \n",
       "999               zoesugg      Zoë Sugg                  Lifestyle   \n",
       "\n",
       "             category_2 Followers Audience country(mostly)  \\\n",
       "0                   NaN     48.5M                    Spain   \n",
       "1                   NaN     12.7M                Indonesia   \n",
       "2                   NaN     18.8M                   Russia   \n",
       "3                   NaN     13.5M                Indonesia   \n",
       "4                   NaN     11.1M                Indonesia   \n",
       "..                  ...       ...                      ...   \n",
       "995             Fashion    136.1M            United States   \n",
       "996                 NaN     31.2M                    Spain   \n",
       "997                 NaN     13.9M                Indonesia   \n",
       "998                 NaN      8.2M            United States   \n",
       "999  Business & Careers      9.4M           United Kingdom   \n",
       "\n",
       "    Authentic engagement\\r\\n Engagement avg\\r\\n  \n",
       "0                     383.1K               637K  \n",
       "1                       478K             542.3K  \n",
       "2                     310.8K             377.9K  \n",
       "3                       1.1M               1.4M  \n",
       "4                       2.5M               3.1M  \n",
       "..                       ...                ...  \n",
       "995                     6.4M               8.6M  \n",
       "996                     546K             744.1K  \n",
       "997                     1.3M               1.6M  \n",
       "998                     583K             885.5K  \n",
       "999                   208.7K             289.3K  \n",
       "\n",
       "[1000 rows x 8 columns]"
      ]
     },
     "execution_count": 36,
     "metadata": {},
     "output_type": "execute_result"
    }
   ],
   "source": [
    "ig_resumen = pd.read_csv('DATA/instagram.csv')\n",
    "ig_resumen"
   ]
  },
  {
   "cell_type": "code",
   "execution_count": null,
   "id": "9d3719b2-c060-4f4d-9970-5ac50b388fff",
   "metadata": {
    "tags": []
   },
   "outputs": [],
   "source": [
    "tiktok_resumen = pd.read_csv('DATA/tiktok.csv')\n",
    "tiktok_resumen"
   ]
  },
  {
   "cell_type": "code",
   "execution_count": null,
   "id": "9908bb8c-0b4b-4839-a055-cb903b94b988",
   "metadata": {
    "tags": []
   },
   "outputs": [],
   "source": [
    "youtube_resumen = pd.read_csv('DATA/youtube.csv')\n",
    "youtube_resumen"
   ]
  },
  {
   "cell_type": "code",
   "execution_count": null,
   "id": "4b6b43c3-7d5f-42ae-93ea-d2943382ed50",
   "metadata": {},
   "outputs": [],
   "source": []
  }
 ],
 "metadata": {
  "kernelspec": {
   "display_name": "Python 3 (ipykernel)",
   "language": "python",
   "name": "python3"
  },
  "language_info": {
   "codemirror_mode": {
    "name": "ipython",
    "version": 3
   },
   "file_extension": ".py",
   "mimetype": "text/x-python",
   "name": "python",
   "nbconvert_exporter": "python",
   "pygments_lexer": "ipython3",
   "version": "3.11.2"
  }
 },
 "nbformat": 4,
 "nbformat_minor": 5
}
