{
 "cells": [
  {
   "cell_type": "markdown",
   "metadata": {},
   "source": [
    "# Tiktok"
   ]
  },
  {
   "cell_type": "code",
   "execution_count": null,
   "metadata": {
    "tags": []
   },
   "outputs": [],
   "source": [
    "import numpy as np\n",
    "import pandas as pd\n",
    "import matplotlib.pyplot as plt\n",
    "import seaborn as sns\n",
    "import pathlib\n",
    "import re\n",
    "from difflib import SequenceMatcher"
   ]
  },
  {
   "cell_type": "code",
   "execution_count": null,
   "metadata": {
    "tags": []
   },
   "outputs": [],
   "source": [
    "tt_june = (\n",
    "    pd.read_csv('DATA/tiktokjune2022.csv')\n",
    "    .assign(Month='June')\n",
    "    .rename(columns={\n",
    "        \"Tiktoker\": \"username\",\n",
    "        \"influencer name\":\"name\",\n",
    "        \"Subscribers count\": \"subs\",\n",
    "        \"Views avg.\": \"views\",\n",
    "        \"Likes avg\": \"likes\",\n",
    "        \"Comments avg.\": \"comments\",\n",
    "        \"Shares avg\": \"shares\",\n",
    "        \"Month\": \"month\"\n",
    "    })\n",
    ")\n",
    "tt_june.head(1)"
   ]
  },
  {
   "cell_type": "code",
   "execution_count": null,
   "metadata": {
    "tags": []
   },
   "outputs": [],
   "source": [
    "tt_sep = (\n",
    "    pd.read_csv('DATA/Tiktoksep2022.csv')\n",
    "    .assign(Month='September')\n",
    "    .rename(columns={\n",
    "        \"Tiktoker name\": \"name\",\n",
    "        \"Tiktok name\":\"username\",\n",
    "        \"Subscribers\": \"subs\",\n",
    "        \"Views avg.\": \"views\",\n",
    "        \"Likes avg.\": \"likes\",\n",
    "        \"Comments avg.\": \"comments\",\n",
    "        \"Shares avg.\": \"shares\",\n",
    "        \"Month\": \"month\"\n",
    "    })\n",
    "    .drop(\"S.no\", axis=1)\n",
    ")\n",
    "tt_sep.head(1)"
   ]
  },
  {
   "cell_type": "code",
   "execution_count": null,
   "metadata": {
    "tags": []
   },
   "outputs": [],
   "source": [
    "tt_nov = (\n",
    "    pd.read_csv('DATA/tiktoknov2022.csv')\n",
    "    .assign(Month='November')\n",
    "    .rename(columns={\n",
    "        \"Tiktoker name\": \"name\",\n",
    "        \"Tiktok name\":\"username\",\n",
    "        \"\\nFollowers\": \"subs\",\n",
    "        \"Views (Avg.)\": \"views\",\n",
    "        \"Likes (Avg.)\": \"likes\",\n",
    "        \"Comments (Avg.)\": \"comments\",\n",
    "        \"Shares (Avg.)\": \"shares\",\n",
    "        \"Month\": \"month\"\n",
    "    })\n",
    "    .drop(\"row-cell\", axis=1)\n",
    "    .drop(0)\n",
    ")\n",
    "tt_nov.head(1)"
   ]
  },
  {
   "cell_type": "code",
   "execution_count": null,
   "metadata": {
    "tags": []
   },
   "outputs": [],
   "source": [
    "tt_dec = (\n",
    "    pd.read_csv('DATA/TIKTOKDEC2022.csv')\n",
    "    .assign(Month='December')\n",
    "    .rename(columns={\n",
    "        \"Tiktoker name\": \"name\",\n",
    "        \"Tiktok name\":\"username\",\n",
    "        \"followers\": \"subs\",\n",
    "        \"views(avg)\": \"views\",\n",
    "        \"likes(avg.)\": \"likes\",\n",
    "        \"comments(avg.)\": \"comments\",\n",
    "        \"shares(avg.)\": \"shares\",\n",
    "        \"Month\": \"month\"\n",
    "    })\n",
    "    .drop(\"Rank\", axis=1)\n",
    ")\n",
    "tt_dec.head(1)"
   ]
  },
  {
   "cell_type": "code",
   "execution_count": null,
   "metadata": {
    "tags": []
   },
   "outputs": [],
   "source": [
    "def cientific_int(column: pd.Series) -> pd.Series:\n",
    "    return (\n",
    "        column\n",
    "        .fillna('0')\n",
    "        .replace({'K': '*1e3', 'M': '*1e6', 'G':'*1e9'}, regex=True)\n",
    "        .map(pd.eval)\n",
    "        .astype(int)\n",
    "        .replace(0, np.nan)\n",
    "    )\n",
    "\n",
    "\n",
    "numeric_text_cols = ['subs', 'views', 'likes', 'comments', 'shares']\n",
    "\n",
    "tt_june.loc[:, numeric_text_cols] = tt_june[numeric_text_cols].apply(cientific_int)\n",
    "tt_sep.loc[:, numeric_text_cols] = tt_sep[numeric_text_cols].apply(cientific_int)\n",
    "tt_nov.loc[:, numeric_text_cols] = tt_nov[numeric_text_cols].apply(cientific_int)\n",
    "tt_dec.loc[:, numeric_text_cols] = tt_dec[numeric_text_cols].apply(cientific_int)"
   ]
  },
  {
   "cell_type": "code",
   "execution_count": null,
   "metadata": {
    "tags": []
   },
   "outputs": [],
   "source": [
    "tt_months = (\n",
    "    pd.concat([tt_june, tt_sep, tt_nov, tt_dec], ignore_index=True)\n",
    "    .drop_duplicates()\n",
    ")\n",
    "\n",
    "tt_months.head(3)"
   ]
  },
  {
   "cell_type": "markdown",
   "metadata": {},
   "source": [
    "# Análisis"
   ]
  },
  {
   "cell_type": "markdown",
   "metadata": {},
   "source": [
    "## 1. Tenemos 3055 cuentas únicas en nuestros registros de tiktok\n"
   ]
  },
  {
   "cell_type": "code",
   "execution_count": null,
   "metadata": {
    "tags": []
   },
   "outputs": [],
   "source": [
    "tt_months.username.drop_duplicates().size"
   ]
  },
  {
   "cell_type": "markdown",
   "metadata": {},
   "source": [
    "## 2. Medias de followers, views, likes, comments y shares de cada cuenta"
   ]
  },
  {
   "cell_type": "code",
   "execution_count": null,
   "metadata": {
    "tags": []
   },
   "outputs": [],
   "source": [
    "tt_means = (\n",
    "    tt_months\n",
    "    .groupby('username')\n",
    "     # aggregate functiosn skips nan by deffault\n",
    "    .aggregate({\n",
    "        'subs': 'mean',\n",
    "        'views': 'mean',\n",
    "        'likes': 'mean',\n",
    "        'comments': 'mean',\n",
    "        'shares': 'mean'\n",
    "    })    \n",
    "    .reset_index()\n",
    "    .sort_values('subs', ascending=False)\n",
    ")"
   ]
  },
  {
   "cell_type": "code",
   "execution_count": null,
   "metadata": {
    "tags": []
   },
   "outputs": [],
   "source": [
    "tt_means"
   ]
  },
  {
   "cell_type": "markdown",
   "metadata": {},
   "source": [
    "## 3. Métricas de valor"
   ]
  },
  {
   "cell_type": "code",
   "execution_count": null,
   "metadata": {
    "tags": []
   },
   "outputs": [],
   "source": [
    "tt_means['views_ratio'] = tt_means.views / tt_means.subs\n",
    "tt_means['likes_ratio'] = tt_means.likes / tt_means.subs\n",
    "tt_means['comments_ratio'] = tt_means.comments / tt_means.subs\n",
    "tt_means['share_ratio'] = tt_means.shares / tt_means.subs"
   ]
  },
  {
   "cell_type": "code",
   "execution_count": null,
   "metadata": {
    "tags": []
   },
   "outputs": [],
   "source": [
    "tt_means"
   ]
  },
  {
   "cell_type": "markdown",
   "metadata": {},
   "source": [
    "## 4. Gráficas del numero de cuentas que inicien por cada letra del alfabeto y agrupar en una categoría todos los que no comiencen con una letra del alfabeto"
   ]
  },
  {
   "cell_type": "code",
   "execution_count": null,
   "metadata": {
    "tags": []
   },
   "outputs": [
    {
     "data": {
      "image/png": "[encoded data removed]",
      "text/plain": [
       "<Figure size 1000x600 with 1 Axes>"
      ]
     },
     "metadata": {},
     "output_type": "display_data"
    }
   ],
   "source": [
    "def get_inicial(name: str) -> str:\n",
    "    name = str(name)\n",
    "    first_is_letter = re.search(r'^[a-zA-Z]', name)\n",
    "    if first_is_letter:\n",
    "        return name[0].upper()\n",
    "    else:\n",
    "        return 'other'\n",
    "\n",
    "\n",
    "initials = (\n",
    "    tt_months.name\n",
    "    .map(get_inicial)\n",
    "    .value_counts()\n",
    "    .reset_index(name='frequency')\n",
    "    .rename(columns={\n",
    "        'index': 'letter',\n",
    "        'name': 'letter'\n",
    "    })\n",
    ")\n",
    "plt.figure(figsize=(10, 6)) \n",
    "plt.bar(initials.letter, initials.frequency, color = 'olive')\n",
    "plt.show()"
   ]
  },
  {
   "cell_type": "markdown",
   "metadata": {},
   "source": [
    "## 5. ¿Cual es la cuenta de tiktok con mas caracteres en su nombre?"
   ]
  },
  {
   "cell_type": "code",
   "execution_count": null,
   "metadata": {
    "tags": []
   },
   "outputs": [],
   "source": [
    "name_len = (\n",
    "    tt_months[['name', 'username']]\n",
    "    .assign(len_name = tt_months.name.map(lambda x: len(str(x))))\n",
    "    .assign(len_username = tt_months.username.map(lambda x: len(str(x))))\n",
    ")\n",
    "tds1 = name_len.loc[name_len.len_name.idxmax()]\n",
    "tds2 = name_len.loc[name_len.len_username.idxmax()]"
   ]
  },
  {
   "cell_type": "code",
   "execution_count": null,
   "metadata": {
    "tags": []
   },
   "outputs": [],
   "source": [
    "tds2"
   ]
  },
  {
   "cell_type": "code",
   "execution_count": null,
   "metadata": {
    "tags": []
   },
   "outputs": [],
   "source": [
    "tds1"
   ]
  },
  {
   "cell_type": "markdown",
   "metadata": {},
   "source": [
    "## 6. Cuántas cuentas de tiktok tienen el nombre del aguno de estos animales: perro, gato, leon tigre?"
   ]
  },
  {
   "cell_type": "code",
   "execution_count": null,
   "metadata": {
    "tags": []
   },
   "outputs": [
    {
     "name": "stderr",
     "output_type": "stream",
     "text": [
      "<<<<<<< local <removed>\n"
     ]
    },
    {
     "name": "stderr",
     "output_type": "stream",
     "text": [
      "=======\n"
     ]
    },
    {
     "name": "stderr",
     "output_type": "stream",
     "text": [
      "/tmp/ipykernel_9500/3064001155.py:1: UserWarning: This pattern is interpreted as a regular expression, and has match groups. To actually get the groups, use str.extract.\n",
      "  (tt_months.username.str.contains(r'^(perro|gato|leon|tigre)$') | tt_months.username.str.contains(r'^(perro|gato|leon|tigre)$')).sum()\n"
     ]
    },
    {
     "name": "stderr",
     "output_type": "stream",
     "text": [
      ">>>>>>> remote <modified: >\n"
     ]
    }
   ],
   "source": [
    "(tt_months.username.str.contains(r'^(perro|gato|leon|tigre)$') | tt_months.username.str.contains(r'^(perro|gato|leon|tigre)$')).sum()"
   ]
  },
  {
   "cell_type": "markdown",
   "metadata": {},
   "source": [
    "## 7. Defina una metrica que identifique las 10 cuentas más importantes de tiktok"
   ]
  },
  {
   "cell_type": "code",
   "execution_count": null,
   "metadata": {
    "tags": []
   },
   "outputs": [],
   "source": [
    "tt_means = (\n",
    "    tt_means\n",
    "    .assign(\n",
    "        engagement_size = (tt_means.views / tt_means.subs) * (tt_means.subs / max(tt_means.subs))\n",
    "    )\n",
    "    .sort_values(['views'], ascending=False)\n",
    ")\n",
    "tt_means[['username', 'views']].head(10)"
   ]
  },
  {
   "cell_type": "markdown",
   "metadata": {},
   "source": [
    "## 8. Grafique una serie de tiempo de las cuentas que tengan al menos 3 datos de meses distintos de los promedios obtenidos en el inciso II"
   ]
  },
  {
   "cell_type": "code",
   "execution_count": null,
   "metadata": {},
   "outputs": [],
   "source": []
  }
 ],
 "metadata": {
  "kernelspec": {
   "display_name": "Python 3 (ipykernel)",
   "language": "python",
   "name": "python3"
  },
  "language_info": {
   "codemirror_mode": {
    "name": "ipython",
    "version": 3
   },
   "file_extension": ".py",
   "mimetype": "text/x-python",
   "name": "python",
   "nbconvert_exporter": "python",
   "pygments_lexer": "ipython3",
   "version": "3.10.6"
  }
 },
 "nbformat": 4,
 "nbformat_minor": 4
}
