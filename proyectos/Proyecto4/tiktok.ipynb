{
 "cells": [
  {
   "cell_type": "markdown",
   "metadata": {},
   "source": [
    "# Tiktok"
   ]
  },
  {
   "cell_type": "code",
   "execution_count": 1,
   "metadata": {
    "tags": []
   },
   "outputs": [],
   "source": [
    "import numpy as np\n",
    "import pandas as pd\n",
    "import matplotlib.pyplot as plt\n",
    "import seaborn as sns\n",
    "import pathlib\n",
    "import re\n",
    "from difflib import SequenceMatcher"
   ]
  },
  {
   "cell_type": "code",
   "execution_count": 2,
   "metadata": {
    "tags": []
   },
   "outputs": [
    {
     "data": {
      "text/html": [
       "<div>\n",
       "<style scoped>\n",
       "    .dataframe tbody tr th:only-of-type {\n",
       "        vertical-align: middle;\n",
       "    }\n",
       "\n",
       "    .dataframe tbody tr th {\n",
       "        vertical-align: top;\n",
       "    }\n",
       "\n",
       "    .dataframe thead th {\n",
       "        text-align: right;\n",
       "    }\n",
       "</style>\n",
       "<table border=\"1\" class=\"dataframe\">\n",
       "  <thead>\n",
       "    <tr style=\"text-align: right;\">\n",
       "      <th></th>\n",
       "      <th>username</th>\n",
       "      <th>name</th>\n",
       "      <th>subs</th>\n",
       "      <th>views</th>\n",
       "      <th>likes</th>\n",
       "      <th>comments</th>\n",
       "      <th>shares</th>\n",
       "      <th>month</th>\n",
       "    </tr>\n",
       "  </thead>\n",
       "  <tbody>\n",
       "    <tr>\n",
       "      <th>0</th>\n",
       "      <td>___nicoichi___</td>\n",
       "      <td>NICO【平成フラミンゴ】</td>\n",
       "      <td>1.3M</td>\n",
       "      <td>1.9M</td>\n",
       "      <td>225.3K</td>\n",
       "      <td>1.7K</td>\n",
       "      <td>1.1K</td>\n",
       "      <td>June</td>\n",
       "    </tr>\n",
       "  </tbody>\n",
       "</table>\n",
       "</div>"
      ],
      "text/plain": [
       "         username           name  subs views   likes comments shares month\n",
       "0  ___nicoichi___  NICO【平成フラミンゴ】  1.3M  1.9M  225.3K     1.7K   1.1K  June"
      ]
     },
     "execution_count": 2,
     "metadata": {},
     "output_type": "execute_result"
    }
   ],
   "source": [
    "tt_june = (\n",
    "    pd.read_csv('DATA/tiktokjune2022.csv')\n",
    "    .assign(Month='June')\n",
    "    .rename(columns={\n",
    "        \"Tiktoker\": \"username\",\n",
    "        \"influencer name\":\"name\",\n",
    "        \"Subscribers count\": \"subs\",\n",
    "        \"Views avg.\": \"views\",\n",
    "        \"Likes avg\": \"likes\",\n",
    "        \"Comments avg.\": \"comments\",\n",
    "        \"Shares avg\": \"shares\",\n",
    "        \"Month\": \"month\"\n",
    "    })\n",
    ")\n",
    "tt_june.head(1)"
   ]
  },
  {
   "cell_type": "code",
   "execution_count": 3,
   "metadata": {
    "tags": []
   },
   "outputs": [
    {
     "data": {
      "text/html": [
       "<div>\n",
       "<style scoped>\n",
       "    .dataframe tbody tr th:only-of-type {\n",
       "        vertical-align: middle;\n",
       "    }\n",
       "\n",
       "    .dataframe tbody tr th {\n",
       "        vertical-align: top;\n",
       "    }\n",
       "\n",
       "    .dataframe thead th {\n",
       "        text-align: right;\n",
       "    }\n",
       "</style>\n",
       "<table border=\"1\" class=\"dataframe\">\n",
       "  <thead>\n",
       "    <tr style=\"text-align: right;\">\n",
       "      <th></th>\n",
       "      <th>name</th>\n",
       "      <th>username</th>\n",
       "      <th>subs</th>\n",
       "      <th>views</th>\n",
       "      <th>likes</th>\n",
       "      <th>comments</th>\n",
       "      <th>shares</th>\n",
       "      <th>month</th>\n",
       "    </tr>\n",
       "  </thead>\n",
       "  <tbody>\n",
       "    <tr>\n",
       "      <th>0</th>\n",
       "      <td>jypestraykids</td>\n",
       "      <td>Stray Kids</td>\n",
       "      <td>13.8M</td>\n",
       "      <td>6.4M</td>\n",
       "      <td>2.3M</td>\n",
       "      <td>50.2K</td>\n",
       "      <td>34.2K</td>\n",
       "      <td>September</td>\n",
       "    </tr>\n",
       "  </tbody>\n",
       "</table>\n",
       "</div>"
      ],
      "text/plain": [
       "            name    username   subs views likes comments shares      month\n",
       "0  jypestraykids  Stray Kids  13.8M  6.4M  2.3M    50.2K  34.2K  September"
      ]
     },
     "execution_count": 3,
     "metadata": {},
     "output_type": "execute_result"
    }
   ],
   "source": [
    "tt_sep = (\n",
    "    pd.read_csv('DATA/Tiktoksep2022.csv')\n",
    "    .assign(Month='September')\n",
    "    .rename(columns={\n",
    "        \"Tiktoker name\": \"name\",\n",
    "        \"Tiktok name\":\"username\",\n",
    "        \"Subscribers\": \"subs\",\n",
    "        \"Views avg.\": \"views\",\n",
    "        \"Likes avg.\": \"likes\",\n",
    "        \"Comments avg.\": \"comments\",\n",
    "        \"Shares avg.\": \"shares\",\n",
    "        \"Month\": \"month\"\n",
    "    })\n",
    "    .drop(\"S.no\", axis=1)\n",
    ")\n",
    "tt_sep.head(1)"
   ]
  },
  {
   "cell_type": "code",
   "execution_count": 5,
   "metadata": {
    "tags": []
   },
   "outputs": [
    {
     "data": {
      "text/html": [
       "<div>\n",
       "<style scoped>\n",
       "    .dataframe tbody tr th:only-of-type {\n",
       "        vertical-align: middle;\n",
       "    }\n",
       "\n",
       "    .dataframe tbody tr th {\n",
       "        vertical-align: top;\n",
       "    }\n",
       "\n",
       "    .dataframe thead th {\n",
       "        text-align: right;\n",
       "    }\n",
       "</style>\n",
       "<table border=\"1\" class=\"dataframe\">\n",
       "  <thead>\n",
       "    <tr style=\"text-align: right;\">\n",
       "      <th></th>\n",
       "      <th>name</th>\n",
       "      <th>username</th>\n",
       "      <th>subs</th>\n",
       "      <th>views</th>\n",
       "      <th>likes</th>\n",
       "      <th>comments</th>\n",
       "      <th>shares</th>\n",
       "      <th>month</th>\n",
       "    </tr>\n",
       "  </thead>\n",
       "  <tbody>\n",
       "    <tr>\n",
       "      <th>1</th>\n",
       "      <td>yossikramer</td>\n",
       "      <td>Yossi</td>\n",
       "      <td>145.6K</td>\n",
       "      <td>26.8M</td>\n",
       "      <td>2.2M</td>\n",
       "      <td>30.1K</td>\n",
       "      <td>71.2K</td>\n",
       "      <td>November</td>\n",
       "    </tr>\n",
       "  </tbody>\n",
       "</table>\n",
       "</div>"
      ],
      "text/plain": [
       "          name username    subs  views likes comments shares     month\n",
       "1  yossikramer    Yossi  145.6K  26.8M  2.2M    30.1K  71.2K  November"
      ]
     },
     "execution_count": 5,
     "metadata": {},
     "output_type": "execute_result"
    }
   ],
   "source": [
    "tt_nov = (\n",
    "    pd.read_csv('DATA/tiktoknov2022.csv')\n",
    "    .assign(Month='November')\n",
    "    .rename(columns={\n",
    "        \"Tiktoker name\": \"name\",\n",
    "        \"Tiktok name\":\"username\",\n",
    "        \"\\nFollowers\": \"subs\",\n",
    "        \"Views (Avg.)\": \"views\",\n",
    "        \"Likes (Avg.)\": \"likes\",\n",
    "        \"Comments (Avg.)\": \"comments\",\n",
    "        \"Shares (Avg.)\": \"shares\",\n",
    "        \"Month\": \"month\"\n",
    "    })\n",
    "    .drop(\"row-cell\", axis=1)\n",
    "    .drop(0)\n",
    ")\n",
    "tt_nov.head(1)"
   ]
  },
  {
   "cell_type": "code",
   "execution_count": 6,
   "metadata": {
    "tags": []
   },
   "outputs": [
    {
     "data": {
      "text/html": [
       "<div>\n",
       "<style scoped>\n",
       "    .dataframe tbody tr th:only-of-type {\n",
       "        vertical-align: middle;\n",
       "    }\n",
       "\n",
       "    .dataframe tbody tr th {\n",
       "        vertical-align: top;\n",
       "    }\n",
       "\n",
       "    .dataframe thead th {\n",
       "        text-align: right;\n",
       "    }\n",
       "</style>\n",
       "<table border=\"1\" class=\"dataframe\">\n",
       "  <thead>\n",
       "    <tr style=\"text-align: right;\">\n",
       "      <th></th>\n",
       "      <th>name</th>\n",
       "      <th>username</th>\n",
       "      <th>subs</th>\n",
       "      <th>views</th>\n",
       "      <th>likes</th>\n",
       "      <th>comments</th>\n",
       "      <th>shares</th>\n",
       "      <th>month</th>\n",
       "    </tr>\n",
       "  </thead>\n",
       "  <tbody>\n",
       "    <tr>\n",
       "      <th>0</th>\n",
       "      <td>mrbeast</td>\n",
       "      <td>MrBeast</td>\n",
       "      <td>60.3M</td>\n",
       "      <td>29.2M</td>\n",
       "      <td>3.5M</td>\n",
       "      <td>30.8K</td>\n",
       "      <td>7.2K</td>\n",
       "      <td>December</td>\n",
       "    </tr>\n",
       "  </tbody>\n",
       "</table>\n",
       "</div>"
      ],
      "text/plain": [
       "      name username   subs  views likes comments shares     month\n",
       "0  mrbeast  MrBeast  60.3M  29.2M  3.5M    30.8K   7.2K  December"
      ]
     },
     "execution_count": 6,
     "metadata": {},
     "output_type": "execute_result"
    }
   ],
   "source": [
    "tt_dec = (\n",
    "    pd.read_csv('DATA/TIKTOKDEC2022.csv')\n",
    "    .assign(Month='December')\n",
    "    .rename(columns={\n",
    "        \"Tiktoker name\": \"name\",\n",
    "        \"Tiktok name\":\"username\",\n",
    "        \"followers\": \"subs\",\n",
    "        \"views(avg)\": \"views\",\n",
    "        \"likes(avg.)\": \"likes\",\n",
    "        \"comments(avg.)\": \"comments\",\n",
    "        \"shares(avg.)\": \"shares\",\n",
    "        \"Month\": \"month\"\n",
    "    })\n",
    "    .drop(\"Rank\", axis=1)\n",
    ")\n",
    "tt_dec.head(1)"
   ]
  },
  {
   "cell_type": "code",
   "execution_count": 7,
   "metadata": {
    "tags": []
   },
   "outputs": [],
   "source": [
    "def cientific_int(column: pd.Series) -> pd.Series:\n",
    "    return (\n",
    "        column\n",
    "        .fillna('0')\n",
    "        .replace({'K': '*1e3', 'M': '*1e6', 'G':'*1e9'}, regex=True)\n",
    "        .map(pd.eval)\n",
    "        .astype(int)\n",
    "        .replace(0, np.nan)\n",
    "    )\n",
    "\n",
    "\n",
    "numeric_text_cols = ['subs', 'views', 'likes', 'comments', 'shares']\n",
    "\n",
    "tt_june.loc[:, numeric_text_cols] = tt_june[numeric_text_cols].apply(cientific_int)\n",
    "tt_sep.loc[:, numeric_text_cols] = tt_sep[numeric_text_cols].apply(cientific_int)\n",
    "tt_nov.loc[:, numeric_text_cols] = tt_nov[numeric_text_cols].apply(cientific_int)\n",
    "tt_dec.loc[:, numeric_text_cols] = tt_dec[numeric_text_cols].apply(cientific_int)"
   ]
  },
  {
   "cell_type": "code",
   "execution_count": 8,
   "metadata": {
    "tags": []
   },
   "outputs": [
    {
     "data": {
      "text/html": [
       "<div>\n",
       "<style scoped>\n",
       "    .dataframe tbody tr th:only-of-type {\n",
       "        vertical-align: middle;\n",
       "    }\n",
       "\n",
       "    .dataframe tbody tr th {\n",
       "        vertical-align: top;\n",
       "    }\n",
       "\n",
       "    .dataframe thead th {\n",
       "        text-align: right;\n",
       "    }\n",
       "</style>\n",
       "<table border=\"1\" class=\"dataframe\">\n",
       "  <thead>\n",
       "    <tr style=\"text-align: right;\">\n",
       "      <th></th>\n",
       "      <th>username</th>\n",
       "      <th>name</th>\n",
       "      <th>subs</th>\n",
       "      <th>views</th>\n",
       "      <th>likes</th>\n",
       "      <th>comments</th>\n",
       "      <th>shares</th>\n",
       "      <th>month</th>\n",
       "    </tr>\n",
       "  </thead>\n",
       "  <tbody>\n",
       "    <tr>\n",
       "      <th>0</th>\n",
       "      <td>___nicoichi___</td>\n",
       "      <td>NICO【平成フラミンゴ】</td>\n",
       "      <td>1300000.0</td>\n",
       "      <td>1900000.0</td>\n",
       "      <td>225300.0</td>\n",
       "      <td>1700.0</td>\n",
       "      <td>1100.0</td>\n",
       "      <td>June</td>\n",
       "    </tr>\n",
       "    <tr>\n",
       "      <th>1</th>\n",
       "      <td>_.anime.edits_0</td>\n",
       "      <td>video</td>\n",
       "      <td>97000.0</td>\n",
       "      <td>1700000.0</td>\n",
       "      <td>75600.0</td>\n",
       "      <td>1500.0</td>\n",
       "      <td>8700.0</td>\n",
       "      <td>June</td>\n",
       "    </tr>\n",
       "    <tr>\n",
       "      <th>2</th>\n",
       "      <td>_.respect.boss._</td>\n",
       "      <td>Respect compilation 🤝🥶</td>\n",
       "      <td>1500000.0</td>\n",
       "      <td>4400000.0</td>\n",
       "      <td>241900.0</td>\n",
       "      <td>249.0</td>\n",
       "      <td>797.0</td>\n",
       "      <td>June</td>\n",
       "    </tr>\n",
       "  </tbody>\n",
       "</table>\n",
       "</div>"
      ],
      "text/plain": [
       "           username                    name       subs      views     likes  \\\n",
       "0    ___nicoichi___           NICO【平成フラミンゴ】  1300000.0  1900000.0  225300.0   \n",
       "1   _.anime.edits_0                   video    97000.0  1700000.0   75600.0   \n",
       "2  _.respect.boss._  Respect compilation 🤝🥶  1500000.0  4400000.0  241900.0   \n",
       "\n",
       "  comments  shares month  \n",
       "0   1700.0  1100.0  June  \n",
       "1   1500.0  8700.0  June  \n",
       "2    249.0   797.0  June  "
      ]
     },
     "execution_count": 8,
     "metadata": {},
     "output_type": "execute_result"
    }
   ],
   "source": [
    "tt_months = (\n",
    "    pd.concat([tt_june, tt_sep, tt_nov, tt_dec], ignore_index=True)\n",
    "    .drop_duplicates()\n",
    ")\n",
    "\n",
    "tt_months.head(3)"
   ]
  },
  {
   "cell_type": "markdown",
   "metadata": {},
   "source": [
    "# Análisis"
   ]
  },
  {
   "cell_type": "markdown",
   "metadata": {},
   "source": [
    "## 1. Tenemos 3055 cuentas únicas en nuestros registros de tiktok\n"
   ]
  },
  {
   "cell_type": "code",
   "execution_count": 9,
   "metadata": {
    "tags": []
   },
   "outputs": [
    {
     "data": {
      "text/plain": [
       "3055"
      ]
     },
     "execution_count": 9,
     "metadata": {},
     "output_type": "execute_result"
    }
   ],
   "source": [
    "tt_months.username.drop_duplicates().size"
   ]
  },
  {
   "cell_type": "markdown",
   "metadata": {},
   "source": [
    "## 2. Medias de followers, views, likes, comments y shares de cada cuenta"
   ]
  },
  {
   "cell_type": "code",
   "execution_count": 10,
   "metadata": {
    "tags": []
   },
   "outputs": [],
   "source": [
    "tt_means = (\n",
    "    tt_months\n",
    "    .groupby('username')\n",
    "     # aggregate functiosn skips nan by deffault\n",
    "    .aggregate({\n",
    "        'subs': 'mean',\n",
    "        'views': 'mean',\n",
    "        'likes': 'mean',\n",
    "        'comments': 'mean',\n",
    "        'shares': 'mean'\n",
    "    })    \n",
    "    .reset_index()\n",
    "    .sort_values('subs', ascending=False)\n",
    ")"
   ]
  },
  {
   "cell_type": "code",
   "execution_count": 11,
   "metadata": {
    "tags": []
   },
   "outputs": [
    {
     "data": {
      "text/html": [
       "<div>\n",
       "<style scoped>\n",
       "    .dataframe tbody tr th:only-of-type {\n",
       "        vertical-align: middle;\n",
       "    }\n",
       "\n",
       "    .dataframe tbody tr th {\n",
       "        vertical-align: top;\n",
       "    }\n",
       "\n",
       "    .dataframe thead th {\n",
       "        text-align: right;\n",
       "    }\n",
       "</style>\n",
       "<table border=\"1\" class=\"dataframe\">\n",
       "  <thead>\n",
       "    <tr style=\"text-align: right;\">\n",
       "      <th></th>\n",
       "      <th>username</th>\n",
       "      <th>subs</th>\n",
       "      <th>views</th>\n",
       "      <th>likes</th>\n",
       "      <th>comments</th>\n",
       "      <th>shares</th>\n",
       "    </tr>\n",
       "  </thead>\n",
       "  <tbody>\n",
       "    <tr>\n",
       "      <th>815</th>\n",
       "      <td>Khabane lame</td>\n",
       "      <td>1.514333e+08</td>\n",
       "      <td>1.430000e+07</td>\n",
       "      <td>1.766667e+06</td>\n",
       "      <td>14166.666667</td>\n",
       "      <td>4733.333333</td>\n",
       "    </tr>\n",
       "    <tr>\n",
       "      <th>1803</th>\n",
       "      <td>charli d’amelio</td>\n",
       "      <td>1.478667e+08</td>\n",
       "      <td>1.053333e+07</td>\n",
       "      <td>7.970667e+05</td>\n",
       "      <td>12466.666667</td>\n",
       "      <td>3366.666667</td>\n",
       "    </tr>\n",
       "    <tr>\n",
       "      <th>2216</th>\n",
       "      <td>khaby.lame</td>\n",
       "      <td>1.432000e+08</td>\n",
       "      <td>2.530000e+07</td>\n",
       "      <td>2.900000e+06</td>\n",
       "      <td>23500.000000</td>\n",
       "      <td>16300.000000</td>\n",
       "    </tr>\n",
       "    <tr>\n",
       "      <th>187</th>\n",
       "      <td>Bella Poarch</td>\n",
       "      <td>9.200000e+07</td>\n",
       "      <td>6.700000e+06</td>\n",
       "      <td>5.797500e+05</td>\n",
       "      <td>4850.000000</td>\n",
       "      <td>1300.000000</td>\n",
       "    </tr>\n",
       "    <tr>\n",
       "      <th>1716</th>\n",
       "      <td>bellapoarch</td>\n",
       "      <td>9.020000e+07</td>\n",
       "      <td>6.800000e+06</td>\n",
       "      <td>9.219000e+05</td>\n",
       "      <td>9500.000000</td>\n",
       "      <td>1200.000000</td>\n",
       "    </tr>\n",
       "    <tr>\n",
       "      <th>...</th>\n",
       "      <td>...</td>\n",
       "      <td>...</td>\n",
       "      <td>...</td>\n",
       "      <td>...</td>\n",
       "      <td>...</td>\n",
       "      <td>...</td>\n",
       "    </tr>\n",
       "    <tr>\n",
       "      <th>2736</th>\n",
       "      <td>tedwards</td>\n",
       "      <td>5.100000e+03</td>\n",
       "      <td>9.433000e+05</td>\n",
       "      <td>1.896000e+05</td>\n",
       "      <td>1900.000000</td>\n",
       "      <td>3100.000000</td>\n",
       "    </tr>\n",
       "    <tr>\n",
       "      <th>2178</th>\n",
       "      <td>juliaaliceaa</td>\n",
       "      <td>3.700000e+03</td>\n",
       "      <td>2.200000e+06</td>\n",
       "      <td>5.503000e+05</td>\n",
       "      <td>3100.000000</td>\n",
       "      <td>14300.000000</td>\n",
       "    </tr>\n",
       "    <tr>\n",
       "      <th>1634</th>\n",
       "      <td>alexbatistao</td>\n",
       "      <td>3.200000e+03</td>\n",
       "      <td>9.517000e+05</td>\n",
       "      <td>4.660000e+04</td>\n",
       "      <td>1700.000000</td>\n",
       "      <td>19400.000000</td>\n",
       "    </tr>\n",
       "    <tr>\n",
       "      <th>1671</th>\n",
       "      <td>apollolikesblu</td>\n",
       "      <td>3.000000e+03</td>\n",
       "      <td>7.023000e+05</td>\n",
       "      <td>1.245000e+05</td>\n",
       "      <td>9500.000000</td>\n",
       "      <td>2100.000000</td>\n",
       "    </tr>\n",
       "    <tr>\n",
       "      <th>2272</th>\n",
       "      <td>leonardzbant</td>\n",
       "      <td>3.000000e+03</td>\n",
       "      <td>1.700000e+06</td>\n",
       "      <td>1.312000e+05</td>\n",
       "      <td>486.000000</td>\n",
       "      <td>9600.000000</td>\n",
       "    </tr>\n",
       "  </tbody>\n",
       "</table>\n",
       "<p>3054 rows × 6 columns</p>\n",
       "</div>"
      ],
      "text/plain": [
       "             username          subs         views         likes      comments  \\\n",
       "815      Khabane lame  1.514333e+08  1.430000e+07  1.766667e+06  14166.666667   \n",
       "1803  charli d’amelio  1.478667e+08  1.053333e+07  7.970667e+05  12466.666667   \n",
       "2216       khaby.lame  1.432000e+08  2.530000e+07  2.900000e+06  23500.000000   \n",
       "187      Bella Poarch  9.200000e+07  6.700000e+06  5.797500e+05   4850.000000   \n",
       "1716      bellapoarch  9.020000e+07  6.800000e+06  9.219000e+05   9500.000000   \n",
       "...               ...           ...           ...           ...           ...   \n",
       "2736         tedwards  5.100000e+03  9.433000e+05  1.896000e+05   1900.000000   \n",
       "2178     juliaaliceaa  3.700000e+03  2.200000e+06  5.503000e+05   3100.000000   \n",
       "1634     alexbatistao  3.200000e+03  9.517000e+05  4.660000e+04   1700.000000   \n",
       "1671   apollolikesblu  3.000000e+03  7.023000e+05  1.245000e+05   9500.000000   \n",
       "2272     leonardzbant  3.000000e+03  1.700000e+06  1.312000e+05    486.000000   \n",
       "\n",
       "            shares  \n",
       "815    4733.333333  \n",
       "1803   3366.666667  \n",
       "2216  16300.000000  \n",
       "187    1300.000000  \n",
       "1716   1200.000000  \n",
       "...            ...  \n",
       "2736   3100.000000  \n",
       "2178  14300.000000  \n",
       "1634  19400.000000  \n",
       "1671   2100.000000  \n",
       "2272   9600.000000  \n",
       "\n",
       "[3054 rows x 6 columns]"
      ]
     },
     "execution_count": 11,
     "metadata": {},
     "output_type": "execute_result"
    }
   ],
   "source": [
    "tt_means"
   ]
  },
  {
   "cell_type": "markdown",
   "metadata": {},
   "source": [
    "## 3. Métricas de valor"
   ]
  },
  {
   "cell_type": "code",
   "execution_count": 12,
   "metadata": {
    "tags": []
   },
   "outputs": [],
   "source": [
    "tt_means['views_ratio'] = tt_means.views / tt_means.subs\n",
    "tt_means['likes_ratio'] = tt_means.likes / tt_means.subs\n",
    "tt_means['comments_ratio'] = tt_means.comments / tt_means.subs\n",
    "tt_means['share_ratio'] = tt_means.shares / tt_means.subs"
   ]
  },
  {
   "cell_type": "code",
   "execution_count": 13,
   "metadata": {
    "tags": []
   },
   "outputs": [
    {
     "data": {
      "text/html": [
       "<div>\n",
       "<style scoped>\n",
       "    .dataframe tbody tr th:only-of-type {\n",
       "        vertical-align: middle;\n",
       "    }\n",
       "\n",
       "    .dataframe tbody tr th {\n",
       "        vertical-align: top;\n",
       "    }\n",
       "\n",
       "    .dataframe thead th {\n",
       "        text-align: right;\n",
       "    }\n",
       "</style>\n",
       "<table border=\"1\" class=\"dataframe\">\n",
       "  <thead>\n",
       "    <tr style=\"text-align: right;\">\n",
       "      <th></th>\n",
       "      <th>username</th>\n",
       "      <th>subs</th>\n",
       "      <th>views</th>\n",
       "      <th>likes</th>\n",
       "      <th>comments</th>\n",
       "      <th>shares</th>\n",
       "      <th>views_ratio</th>\n",
       "      <th>likes_ratio</th>\n",
       "      <th>comments_ratio</th>\n",
       "      <th>share_ratio</th>\n",
       "    </tr>\n",
       "  </thead>\n",
       "  <tbody>\n",
       "    <tr>\n",
       "      <th>815</th>\n",
       "      <td>Khabane lame</td>\n",
       "      <td>1.514333e+08</td>\n",
       "      <td>1.430000e+07</td>\n",
       "      <td>1.766667e+06</td>\n",
       "      <td>14166.666667</td>\n",
       "      <td>4733.333333</td>\n",
       "      <td>0.094431</td>\n",
       "      <td>0.011666</td>\n",
       "      <td>0.000094</td>\n",
       "      <td>0.000031</td>\n",
       "    </tr>\n",
       "    <tr>\n",
       "      <th>1803</th>\n",
       "      <td>charli d’amelio</td>\n",
       "      <td>1.478667e+08</td>\n",
       "      <td>1.053333e+07</td>\n",
       "      <td>7.970667e+05</td>\n",
       "      <td>12466.666667</td>\n",
       "      <td>3366.666667</td>\n",
       "      <td>0.071235</td>\n",
       "      <td>0.005390</td>\n",
       "      <td>0.000084</td>\n",
       "      <td>0.000023</td>\n",
       "    </tr>\n",
       "    <tr>\n",
       "      <th>2216</th>\n",
       "      <td>khaby.lame</td>\n",
       "      <td>1.432000e+08</td>\n",
       "      <td>2.530000e+07</td>\n",
       "      <td>2.900000e+06</td>\n",
       "      <td>23500.000000</td>\n",
       "      <td>16300.000000</td>\n",
       "      <td>0.176676</td>\n",
       "      <td>0.020251</td>\n",
       "      <td>0.000164</td>\n",
       "      <td>0.000114</td>\n",
       "    </tr>\n",
       "    <tr>\n",
       "      <th>187</th>\n",
       "      <td>Bella Poarch</td>\n",
       "      <td>9.200000e+07</td>\n",
       "      <td>6.700000e+06</td>\n",
       "      <td>5.797500e+05</td>\n",
       "      <td>4850.000000</td>\n",
       "      <td>1300.000000</td>\n",
       "      <td>0.072826</td>\n",
       "      <td>0.006302</td>\n",
       "      <td>0.000053</td>\n",
       "      <td>0.000014</td>\n",
       "    </tr>\n",
       "    <tr>\n",
       "      <th>1716</th>\n",
       "      <td>bellapoarch</td>\n",
       "      <td>9.020000e+07</td>\n",
       "      <td>6.800000e+06</td>\n",
       "      <td>9.219000e+05</td>\n",
       "      <td>9500.000000</td>\n",
       "      <td>1200.000000</td>\n",
       "      <td>0.075388</td>\n",
       "      <td>0.010221</td>\n",
       "      <td>0.000105</td>\n",
       "      <td>0.000013</td>\n",
       "    </tr>\n",
       "    <tr>\n",
       "      <th>...</th>\n",
       "      <td>...</td>\n",
       "      <td>...</td>\n",
       "      <td>...</td>\n",
       "      <td>...</td>\n",
       "      <td>...</td>\n",
       "      <td>...</td>\n",
       "      <td>...</td>\n",
       "      <td>...</td>\n",
       "      <td>...</td>\n",
       "      <td>...</td>\n",
       "    </tr>\n",
       "    <tr>\n",
       "      <th>2736</th>\n",
       "      <td>tedwards</td>\n",
       "      <td>5.100000e+03</td>\n",
       "      <td>9.433000e+05</td>\n",
       "      <td>1.896000e+05</td>\n",
       "      <td>1900.000000</td>\n",
       "      <td>3100.000000</td>\n",
       "      <td>184.960784</td>\n",
       "      <td>37.176471</td>\n",
       "      <td>0.372549</td>\n",
       "      <td>0.607843</td>\n",
       "    </tr>\n",
       "    <tr>\n",
       "      <th>2178</th>\n",
       "      <td>juliaaliceaa</td>\n",
       "      <td>3.700000e+03</td>\n",
       "      <td>2.200000e+06</td>\n",
       "      <td>5.503000e+05</td>\n",
       "      <td>3100.000000</td>\n",
       "      <td>14300.000000</td>\n",
       "      <td>594.594595</td>\n",
       "      <td>148.729730</td>\n",
       "      <td>0.837838</td>\n",
       "      <td>3.864865</td>\n",
       "    </tr>\n",
       "    <tr>\n",
       "      <th>1634</th>\n",
       "      <td>alexbatistao</td>\n",
       "      <td>3.200000e+03</td>\n",
       "      <td>9.517000e+05</td>\n",
       "      <td>4.660000e+04</td>\n",
       "      <td>1700.000000</td>\n",
       "      <td>19400.000000</td>\n",
       "      <td>297.406250</td>\n",
       "      <td>14.562500</td>\n",
       "      <td>0.531250</td>\n",
       "      <td>6.062500</td>\n",
       "    </tr>\n",
       "    <tr>\n",
       "      <th>1671</th>\n",
       "      <td>apollolikesblu</td>\n",
       "      <td>3.000000e+03</td>\n",
       "      <td>7.023000e+05</td>\n",
       "      <td>1.245000e+05</td>\n",
       "      <td>9500.000000</td>\n",
       "      <td>2100.000000</td>\n",
       "      <td>234.100000</td>\n",
       "      <td>41.500000</td>\n",
       "      <td>3.166667</td>\n",
       "      <td>0.700000</td>\n",
       "    </tr>\n",
       "    <tr>\n",
       "      <th>2272</th>\n",
       "      <td>leonardzbant</td>\n",
       "      <td>3.000000e+03</td>\n",
       "      <td>1.700000e+06</td>\n",
       "      <td>1.312000e+05</td>\n",
       "      <td>486.000000</td>\n",
       "      <td>9600.000000</td>\n",
       "      <td>566.666667</td>\n",
       "      <td>43.733333</td>\n",
       "      <td>0.162000</td>\n",
       "      <td>3.200000</td>\n",
       "    </tr>\n",
       "  </tbody>\n",
       "</table>\n",
       "<p>3054 rows × 10 columns</p>\n",
       "</div>"
      ],
      "text/plain": [
       "             username          subs         views         likes      comments  \\\n",
       "815      Khabane lame  1.514333e+08  1.430000e+07  1.766667e+06  14166.666667   \n",
       "1803  charli d’amelio  1.478667e+08  1.053333e+07  7.970667e+05  12466.666667   \n",
       "2216       khaby.lame  1.432000e+08  2.530000e+07  2.900000e+06  23500.000000   \n",
       "187      Bella Poarch  9.200000e+07  6.700000e+06  5.797500e+05   4850.000000   \n",
       "1716      bellapoarch  9.020000e+07  6.800000e+06  9.219000e+05   9500.000000   \n",
       "...               ...           ...           ...           ...           ...   \n",
       "2736         tedwards  5.100000e+03  9.433000e+05  1.896000e+05   1900.000000   \n",
       "2178     juliaaliceaa  3.700000e+03  2.200000e+06  5.503000e+05   3100.000000   \n",
       "1634     alexbatistao  3.200000e+03  9.517000e+05  4.660000e+04   1700.000000   \n",
       "1671   apollolikesblu  3.000000e+03  7.023000e+05  1.245000e+05   9500.000000   \n",
       "2272     leonardzbant  3.000000e+03  1.700000e+06  1.312000e+05    486.000000   \n",
       "\n",
       "            shares  views_ratio  likes_ratio  comments_ratio  share_ratio  \n",
       "815    4733.333333     0.094431     0.011666        0.000094     0.000031  \n",
       "1803   3366.666667     0.071235     0.005390        0.000084     0.000023  \n",
       "2216  16300.000000     0.176676     0.020251        0.000164     0.000114  \n",
       "187    1300.000000     0.072826     0.006302        0.000053     0.000014  \n",
       "1716   1200.000000     0.075388     0.010221        0.000105     0.000013  \n",
       "...            ...          ...          ...             ...          ...  \n",
       "2736   3100.000000   184.960784    37.176471        0.372549     0.607843  \n",
       "2178  14300.000000   594.594595   148.729730        0.837838     3.864865  \n",
       "1634  19400.000000   297.406250    14.562500        0.531250     6.062500  \n",
       "1671   2100.000000   234.100000    41.500000        3.166667     0.700000  \n",
       "2272   9600.000000   566.666667    43.733333        0.162000     3.200000  \n",
       "\n",
       "[3054 rows x 10 columns]"
      ]
     },
     "execution_count": 13,
     "metadata": {},
     "output_type": "execute_result"
    }
   ],
   "source": [
    "tt_means"
   ]
  },
  {
   "cell_type": "markdown",
   "metadata": {},
   "source": [
    "## 4. Gráficas del numero de cuentas que inicien por cada letra del alfabeto y agrupar en una categoría todos los que no comiencen con una letra del alfabeto"
   ]
  },
  {
   "cell_type": "code",
   "execution_count": 17,
   "metadata": {
    "tags": []
   },
   "outputs": [
    {
     "data": {
      "image/png": "[encoded data removed]",
      "text/plain": [
       "<Figure size 1000x600 with 1 Axes>"
      ]
     },
     "metadata": {},
     "output_type": "display_data"
    }
   ],
   "source": [
    "def get_inicial(name: str) -> str:\n",
    "    name = str(name)\n",
    "    first_is_letter = re.search(r'^[a-zA-Z]', name)\n",
    "    if first_is_letter:\n",
    "        return name[0].upper()\n",
    "    else:\n",
    "        return 'other'\n",
    "\n",
    "\n",
    "initials = (\n",
    "    tt_months.name\n",
    "    .map(get_inicial)\n",
    "    .value_counts()\n",
    "    .reset_index(name='frequency')\n",
    "    .rename(columns={\n",
    "        'index': 'letter',\n",
    "        'name': 'letter'\n",
    "    })\n",
    ")\n",
    "plt.figure(figsize=(10, 6)) \n",
    "plt.bar(initials.letter, initials.frequency, color = 'olive')\n",
    "plt.show()"
   ]
  },
  {
   "cell_type": "markdown",
   "metadata": {},
   "source": [
    "## 5. ¿Cual es la cuenta de tiktok con mas caracteres en su nombre?"
   ]
  },
  {
   "cell_type": "code",
   "execution_count": 18,
   "metadata": {
    "tags": []
   },
   "outputs": [],
   "source": [
    "name_len = (\n",
    "    tt_months[['name', 'username']]\n",
    "    .assign(len_name = tt_months.name.map(lambda x: len(str(x))))\n",
    "    .assign(len_username = tt_months.username.map(lambda x: len(str(x))))\n",
    ")\n",
    "tds1 = name_len.loc[name_len.len_name.idxmax()]\n",
    "tds2 = name_len.loc[name_len.len_username.idxmax()]"
   ]
  },
  {
   "cell_type": "code",
   "execution_count": 19,
   "metadata": {
    "tags": []
   },
   "outputs": [
    {
     "data": {
      "text/plain": [
       "name                               spriteder_spd\n",
       "username        Prite Netijen Netirattanapaiboon\n",
       "len_name                                      13\n",
       "len_username                                  32\n",
       "Name: 1501, dtype: object"
      ]
     },
     "execution_count": 19,
     "metadata": {},
     "output_type": "execute_result"
    }
   ],
   "source": [
    "tds2"
   ]
  },
  {
   "cell_type": "code",
   "execution_count": 20,
   "metadata": {
    "tags": []
   },
   "outputs": [
    {
     "data": {
      "text/plain": [
       "name            بيسان اسماعيل - Bessan Ismail\n",
       "username                        bessan_esmail\n",
       "len_name                                   29\n",
       "len_username                               13\n",
       "Name: 116, dtype: object"
      ]
     },
     "execution_count": 20,
     "metadata": {},
     "output_type": "execute_result"
    }
   ],
   "source": [
    "tds1"
   ]
  },
  {
   "cell_type": "markdown",
   "metadata": {},
   "source": [
    "## 6. Cuántas cuentas de tiktok tienen el nombre del aguno de estos animales: perro, gato, leon tigre?"
   ]
  },
  {
   "cell_type": "code",
   "execution_count": 22,
   "metadata": {
    "tags": []
   },
   "outputs": [
    {
     "name": "stderr",
     "output_type": "stream",
     "text": [
      "/tmp/ipykernel_9500/3064001155.py:1: UserWarning: This pattern is interpreted as a regular expression, and has match groups. To actually get the groups, use str.extract.\n",
      "  (tt_months.username.str.contains(r'^(perro|gato|leon|tigre)$') | tt_months.username.str.contains(r'^(perro|gato|leon|tigre)$')).sum()\n"
     ]
    },
    {
     "data": {
      "text/plain": [
       "0"
      ]
     },
     "execution_count": 22,
     "metadata": {},
     "output_type": "execute_result"
    }
   ],
   "source": [
    "(tt_months.username.str.contains(r'^(perro|gato|leon|tigre)$') | tt_months.username.str.contains(r'^(perro|gato|leon|tigre)$')).sum()"
   ]
  },
  {
   "cell_type": "markdown",
   "metadata": {},
   "source": [
    "## 7. Defina una metrica que identifique las 10 cuentas más importantes de tiktok"
   ]
  },
  {
   "cell_type": "code",
   "execution_count": 23,
   "metadata": {
    "tags": []
   },
   "outputs": [
    {
     "data": {
      "text/html": [
       "<div>\n",
       "<style scoped>\n",
       "    .dataframe tbody tr th:only-of-type {\n",
       "        vertical-align: middle;\n",
       "    }\n",
       "\n",
       "    .dataframe tbody tr th {\n",
       "        vertical-align: top;\n",
       "    }\n",
       "\n",
       "    .dataframe thead th {\n",
       "        text-align: right;\n",
       "    }\n",
       "</style>\n",
       "<table border=\"1\" class=\"dataframe\">\n",
       "  <thead>\n",
       "    <tr style=\"text-align: right;\">\n",
       "      <th></th>\n",
       "      <th>username</th>\n",
       "      <th>views</th>\n",
       "    </tr>\n",
       "  </thead>\n",
       "  <tbody>\n",
       "    <tr>\n",
       "      <th>1335</th>\n",
       "      <td>SehatAQUA</td>\n",
       "      <td>6.110000e+07</td>\n",
       "    </tr>\n",
       "    <tr>\n",
       "      <th>1699</th>\n",
       "      <td>badbunny</td>\n",
       "      <td>4.890000e+07</td>\n",
       "    </tr>\n",
       "    <tr>\n",
       "      <th>2956</th>\n",
       "      <td>يزن الأسمر</td>\n",
       "      <td>4.890000e+07</td>\n",
       "    </tr>\n",
       "    <tr>\n",
       "      <th>1546</th>\n",
       "      <td>Yossi</td>\n",
       "      <td>2.680000e+07</td>\n",
       "    </tr>\n",
       "    <tr>\n",
       "      <th>1073</th>\n",
       "      <td>MrBeast</td>\n",
       "      <td>2.676667e+07</td>\n",
       "    </tr>\n",
       "    <tr>\n",
       "      <th>2216</th>\n",
       "      <td>khaby.lame</td>\n",
       "      <td>2.530000e+07</td>\n",
       "    </tr>\n",
       "    <tr>\n",
       "      <th>1536</th>\n",
       "      <td>Yailin La Más Viral</td>\n",
       "      <td>2.500000e+07</td>\n",
       "    </tr>\n",
       "    <tr>\n",
       "      <th>792</th>\n",
       "      <td>Karol G</td>\n",
       "      <td>2.370000e+07</td>\n",
       "    </tr>\n",
       "    <tr>\n",
       "      <th>2480</th>\n",
       "      <td>noahschnapp</td>\n",
       "      <td>2.360000e+07</td>\n",
       "    </tr>\n",
       "    <tr>\n",
       "      <th>47</th>\n",
       "      <td>Addison Rae</td>\n",
       "      <td>2.200000e+07</td>\n",
       "    </tr>\n",
       "  </tbody>\n",
       "</table>\n",
       "</div>"
      ],
      "text/plain": [
       "                 username         views\n",
       "1335            SehatAQUA  6.110000e+07\n",
       "1699             badbunny  4.890000e+07\n",
       "2956           يزن الأسمر  4.890000e+07\n",
       "1546                Yossi  2.680000e+07\n",
       "1073              MrBeast  2.676667e+07\n",
       "2216           khaby.lame  2.530000e+07\n",
       "1536  Yailin La Más Viral  2.500000e+07\n",
       "792               Karol G  2.370000e+07\n",
       "2480          noahschnapp  2.360000e+07\n",
       "47            Addison Rae  2.200000e+07"
      ]
     },
     "execution_count": 23,
     "metadata": {},
     "output_type": "execute_result"
    }
   ],
   "source": [
    "tt_means = (\n",
    "    tt_means\n",
    "    .assign(\n",
    "        engagement_size = (tt_means.views / tt_means.subs) * (tt_means.subs / max(tt_means.subs))\n",
    "    )\n",
    "    .sort_values(['views'], ascending=False)\n",
    ")\n",
    "tt_means[['username', 'views']].head(10)"
   ]
  },
  {
   "cell_type": "markdown",
   "metadata": {},
   "source": [
    "## 8. Grafique una serie de tiempo de las cuentas que tengan al menos 3 datos de meses distintos de los promedios obtenidos en el inciso II"
   ]
  },
  {
   "cell_type": "code",
   "execution_count": null,
   "metadata": {},
   "outputs": [],
   "source": []
  }
 ],
 "metadata": {
  "kernelspec": {
   "display_name": "Python 3 (ipykernel)",
   "language": "python",
   "name": "python3"
  },
  "language_info": {
   "codemirror_mode": {
    "name": "ipython",
    "version": 3
   },
   "file_extension": ".py",
   "mimetype": "text/x-python",
   "name": "python",
   "nbconvert_exporter": "python",
   "pygments_lexer": "ipython3",
   "version": "3.10.6"
  }
 },
 "nbformat": 4,
 "nbformat_minor": 4
}
