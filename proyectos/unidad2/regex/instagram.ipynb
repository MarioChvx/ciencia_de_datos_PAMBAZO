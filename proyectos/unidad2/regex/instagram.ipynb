{
 "cells": [
  {
   "attachments": {},
   "cell_type": "markdown",
   "id": "66684af0-a3d5-4983-910e-a8b0c1983dec",
   "metadata": {},
   "source": [
    "# <b><center> Social Networks EDA </b></center>\n"
   ]
  },
  {
   "attachments": {},
   "cell_type": "markdown",
   "id": "def6abdb-e041-45ff-a7f7-d90875ff1c72",
   "metadata": {},
   "source": [
    "## Entendimiento de los Datos:"
   ]
  },
  {
   "cell_type": "code",
   "execution_count": 177,
   "id": "391350a2-08cd-4be2-ab7e-265b382a1fbe",
   "metadata": {
    "tags": []
   },
   "outputs": [],
   "source": [
    "import numpy as np\n",
    "import pandas as pd\n",
    "import matplotlib.pyplot as plt\n",
    "import seaborn as sns\n",
    "import pathlib\n",
    "import re\n",
    "from difflib import SequenceMatcher"
   ]
  },
  {
   "attachments": {},
   "cell_type": "markdown",
   "id": "59959fc2-385c-47b7-92e0-e639e7ff5a5b",
   "metadata": {
    "tags": []
   },
   "source": [
    "## <u>Leer los datos que en el nombre contienen un mes:</u></br>\n",
    "### <b>Instagram:</b>"
   ]
  },
  {
   "attachments": {},
   "cell_type": "markdown",
   "id": "854e6951-f2cd-4dce-a728-44383b357b46",
   "metadata": {},
   "source": [
    "Cargar los 12 archivos que en el nombre tienen un mes, en 3  DataFrames, uno de cada red social, donde cada uno de los cuales debe contener las siguientes columnas:\n",
    "\n",
    "Instagram:\n",
    "* Username\n",
    "* Name\n",
    "* Subscribers o Followers\n",
    "* Country\n",
    "* Authentic\n",
    "* Engagement\n",
    "* Category1\n",
    "* Category2\n",
    "* Month"
   ]
  },
  {
   "cell_type": "code",
   "execution_count": 178,
   "id": "b01a8202-3571-4623-8939-fd3b98205298",
   "metadata": {
    "tags": []
   },
   "outputs": [],
   "source": [
    "ig_june = (\n",
    "    pd.read_csv('DATA/instagramjune2022.csv')\n",
    "    .assign(Month='June')\n",
    "    .rename(columns={\n",
    "        \"instagram name\": \"username\",\n",
    "        \"influencer name \":\"name\",\n",
    "        \"Category_1\": \"category1\",\n",
    "        \"Category_2\": \"category2\",\n",
    "        \"Subscribers count\": \"followers\",\n",
    "        \"Views avg.\": \"country\",\n",
    "        \"Likes avg\": \"authentic\",\n",
    "        \"Comments avg.\": \"average\",\n",
    "        \"Month\": \"month\"})\n",
    ")\n",
    "ig_june.country = ig_june.country.apply(lambda x: np.nan if re.search(r'\\d', str(x)) else str(x))"
   ]
  },
  {
   "cell_type": "code",
   "execution_count": 179,
   "id": "a46059c1-ae44-4e3c-88d8-2ac7c6d1e878",
   "metadata": {
    "tags": []
   },
   "outputs": [],
   "source": [
    "ig_sep = (\n",
    "    pd.read_csv('DATA/instagramsep2022.csv')\n",
    "    .assign(Month='September')\n",
    "    .rename(columns={\n",
    "        \"Instagram name\": \"username\",\n",
    "        \" Name\": \"name\",\n",
    "        \"Subscribers\": \"followers\",\n",
    "        \"Audience country\": \"country\",\n",
    "        \"Authentic engagement\\n\": \"authentic\",\n",
    "        \"Engagement average\\r\\n\": \"average\",\n",
    "        \"Category_1\": \"category1\",\n",
    "        \"Category_2\": \"category2\",\n",
    "        \"Month\": \"month\"})\n",
    "    .drop('S.no', axis=1)\n",
    ")"
   ]
  },
  {
   "cell_type": "code",
   "execution_count": 180,
   "id": "6f796886-ac38-428e-8591-3ae0871da635",
   "metadata": {
    "tags": []
   },
   "outputs": [],
   "source": [
    "ig_nov = (\n",
    "    pd.read_csv('DATA/instagramNov2022.csv')\n",
    "    .assign(Month='November')\n",
    "    .drop('s.no', axis=1)\n",
    "    .rename(columns={\n",
    "        \"Name\": \"username\",\n",
    "        \"Instagram Name\": \"name\",\n",
    "        \"Category-1\": \"category1\",\n",
    "        \"Followers\": \"followers\",\n",
    "        \"\\nCountry\": \"country\",\n",
    "        \"Eng. (Auth.)\": \"authentic\",\n",
    "        \"Eng. (Avg.)\": \"average\",\n",
    "        \"Category-2\": \"category2\",\n",
    "        \"Month\": \"month\"})\n",
    ")"
   ]
  },
  {
   "cell_type": "code",
   "execution_count": 181,
   "id": "f9ef5b5a-18c0-4a1a-ad7a-3375600fcb88",
   "metadata": {
    "tags": []
   },
   "outputs": [],
   "source": [
    "ig_dec = (\n",
    "    pd.read_csv('DATA/INSTAGRAMDEC2022.csv')\n",
    "    .assign(Month='December')\n",
    "    .rename(columns={\n",
    "        \"name\": \"username\",\n",
    "        \"instagram name\": \"name\",\n",
    "        \"Category_1\": \"category1\",\n",
    "        \"Category_2\": \"category2\",\n",
    "        \"Eng. (Auth.)\": \"authentic\",\n",
    "        \"Eng. (Avg.)\": \"average\",\n",
    "        \"Month\": \"month\"})\n",
    ")"
   ]
  },
  {
   "cell_type": "code",
   "execution_count": 182,
   "id": "399139e6",
   "metadata": {
    "tags": []
   },
   "outputs": [
    {
     "data": {
      "text/plain": [
       "username       0\n",
       "name          26\n",
       "category1     95\n",
       "category2    724\n",
       "followers      0\n",
       "country       16\n",
       "authentic      0\n",
       "average       16\n",
       "month          0\n",
       "dtype: int64"
      ]
     },
     "execution_count": 182,
     "metadata": {},
     "output_type": "execute_result"
    }
   ],
   "source": [
    "ig_june.isna().sum()"
   ]
  },
  {
   "attachments": {},
   "cell_type": "markdown",
   "id": "a75614f5",
   "metadata": {},
   "source": [
    "Definiendo una función que transforma los números de texto a int en todo una columna"
   ]
  },
  {
   "cell_type": "code",
   "execution_count": 183,
   "id": "7c3f05f7",
   "metadata": {
    "tags": []
   },
   "outputs": [],
   "source": [
    "def cientific_int(column: pd.Series) -> pd.Series:\n",
    "    return (\n",
    "        column\n",
    "        .fillna('0')\n",
    "        .replace({'K': '*1e3', 'M': '*1e6', 'G':'*1e9'}, regex=True)\n",
    "        .map(pd.eval)\n",
    "        .astype(int)\n",
    "        .replace(0, np.nan)\n",
    "    )\n",
    "\n",
    "numeric_text_cols = ['followers', 'average', 'authentic']"
   ]
  },
  {
   "cell_type": "code",
   "execution_count": 184,
   "id": "2547a2d1",
   "metadata": {
    "tags": []
   },
   "outputs": [
    {
     "name": "stderr",
     "output_type": "stream",
     "text": [
      "/tmp/ipykernel_102695/3766823224.py:4: DeprecationWarning: In a future version, `df.iloc[:, i] = newvals` will attempt to set the values inplace instead of always setting a new array. To retain the old behavior, use either `df[df.columns[i]] = newvals` or, if columns are non-unique, `df.isetitem(i, newvals)`\n",
      "  ig_dec.loc[:, numeric_text_cols] = ig_dec[numeric_text_cols].apply(cientific_int)\n"
     ]
    }
   ],
   "source": [
    "ig_june.loc[:, numeric_text_cols] = ig_june[numeric_text_cols].apply(cientific_int)\n",
    "ig_sep.loc[:, numeric_text_cols] = ig_sep[numeric_text_cols].apply(cientific_int)\n",
    "ig_nov.loc[:, numeric_text_cols] = ig_nov[numeric_text_cols].apply(cientific_int)\n",
    "ig_dec.loc[:, numeric_text_cols] = ig_dec[numeric_text_cols].apply(cientific_int)"
   ]
  },
  {
   "attachments": {},
   "cell_type": "markdown",
   "id": "29763cf5",
   "metadata": {},
   "source": [
    "ig_months es la combinación de todos los meses, eliminando aquellos registros duplicados.\n",
    "Tener cuidado con los datos numéricos, ya que son datos incompletos. Para sacar promedios se tiene que considerar los df por separado"
   ]
  },
  {
   "cell_type": "code",
   "execution_count": 185,
   "id": "cf891871-ae26-4e14-acc5-1df9334f8a83",
   "metadata": {
    "tags": []
   },
   "outputs": [],
   "source": [
    "ig_months = (\n",
    "    pd.concat([ig_june, ig_sep, ig_nov, ig_dec], ignore_index=True)\n",
    "    .drop(\"Rank\", axis=1)\n",
    "    .drop_duplicates()\n",
    ")"
   ]
  },
  {
   "attachments": {},
   "cell_type": "markdown",
   "id": "1a9aa8bf",
   "metadata": {},
   "source": [
    "Verificando duplicados"
   ]
  },
  {
   "cell_type": "code",
   "execution_count": 186,
   "id": "28691020-7605-4e5c-8e0b-adf96493b9f6",
   "metadata": {
    "tags": []
   },
   "outputs": [
    {
     "data": {
      "text/plain": [
       "0"
      ]
     },
     "execution_count": 186,
     "metadata": {},
     "output_type": "execute_result"
    }
   ],
   "source": [
    "ig_months.duplicated().sum()"
   ]
  },
  {
   "attachments": {},
   "cell_type": "markdown",
   "id": "79cda8b0",
   "metadata": {
    "tags": []
   },
   "source": [
    "# Análisis instagram"
   ]
  },
  {
   "attachments": {},
   "cell_type": "markdown",
   "id": "2878c4fe",
   "metadata": {},
   "source": [
    "### 1. Número total de cuentas distintas en instagram: 2409"
   ]
  },
  {
   "cell_type": "code",
   "execution_count": 187,
   "id": "415d8331-23c3-4831-b126-fb6d463152b6",
   "metadata": {
    "tags": []
   },
   "outputs": [
    {
     "data": {
      "text/plain": [
       "1384"
      ]
     },
     "execution_count": 187,
     "metadata": {},
     "output_type": "execute_result"
    }
   ],
   "source": [
    "ig_months.username.drop_duplicates().size"
   ]
  },
  {
   "attachments": {},
   "cell_type": "markdown",
   "id": "5877afed-6d8d-459f-8635-6b45a5cf915c",
   "metadata": {},
   "source": [
    "### 2. Media de seguidores\n",
    "Calcular el promedio de seguidores, authentic, engagement, de cada cuenta. Es decir, cada red social cuenta con 4 archivos de 4 meses distintos, si una cuenta aparece en los 4 meses, debera calcular el promedio de esos 4 meses, si una cuenta solo aparece 2 meses, se hara el promedio de esos dos meses y asi sucesivamente. SI el valor es nulo, vacio, N/A, o 0 no se debe promediar."
   ]
  },
  {
   "cell_type": "code",
   "execution_count": 188,
   "id": "4e8fd805",
   "metadata": {
    "tags": []
   },
   "outputs": [],
   "source": [
    "ig_means = (\n",
    "    ig_months\n",
    "    .groupby('username')\n",
    "     # aggregate functiosn skips nan by deffault\n",
    "    .aggregate({\n",
    "        'followers': 'mean',\n",
    "        'authentic': 'mean',\n",
    "        'average': 'mean'\n",
    "    })    \n",
    "    .reset_index()\n",
    "    .sort_values('followers', ascending=False)\n",
    ")"
   ]
  },
  {
   "attachments": {},
   "cell_type": "markdown",
   "id": "366fe346",
   "metadata": {},
   "source": [
    "### 3. Metricas de Valor\n",
    "\n",
    "Metricas de Valor de cada cuenta. Para este punto debe utilizar los promedios del punto anterior: Promedio Engagement/Promedio Followers."
   ]
  },
  {
   "cell_type": "code",
   "execution_count": 189,
   "id": "5e2527b2",
   "metadata": {
    "tags": []
   },
   "outputs": [],
   "source": [
    "ig_means['engagement_ratio'] = ig_means.average / ig_means.followers"
   ]
  },
  {
   "cell_type": "code",
   "execution_count": 190,
   "id": "44a4ce3d",
   "metadata": {
    "tags": []
   },
   "outputs": [
    {
     "data": {
      "text/html": [
       "<div>\n",
       "<style scoped>\n",
       "    .dataframe tbody tr th:only-of-type {\n",
       "        vertical-align: middle;\n",
       "    }\n",
       "\n",
       "    .dataframe tbody tr th {\n",
       "        vertical-align: top;\n",
       "    }\n",
       "\n",
       "    .dataframe thead th {\n",
       "        text-align: right;\n",
       "    }\n",
       "</style>\n",
       "<table border=\"1\" class=\"dataframe\">\n",
       "  <thead>\n",
       "    <tr style=\"text-align: right;\">\n",
       "      <th></th>\n",
       "      <th>username</th>\n",
       "      <th>followers</th>\n",
       "      <th>authentic</th>\n",
       "      <th>average</th>\n",
       "      <th>engagement_ratio</th>\n",
       "    </tr>\n",
       "  </thead>\n",
       "  <tbody>\n",
       "    <tr>\n",
       "      <th>536</th>\n",
       "      <td>instagram</td>\n",
       "      <td>5.497500e+08</td>\n",
       "      <td>310825.0</td>\n",
       "      <td>3.849750e+05</td>\n",
       "      <td>0.000700</td>\n",
       "    </tr>\n",
       "    <tr>\n",
       "      <th>270</th>\n",
       "      <td>cristiano</td>\n",
       "      <td>4.858000e+08</td>\n",
       "      <td>6575000.0</td>\n",
       "      <td>8.175000e+06</td>\n",
       "      <td>0.016828</td>\n",
       "    </tr>\n",
       "    <tr>\n",
       "      <th>740</th>\n",
       "      <td>leomessi</td>\n",
       "      <td>3.669750e+08</td>\n",
       "      <td>7100000.0</td>\n",
       "      <td>9.325000e+06</td>\n",
       "      <td>0.025410</td>\n",
       "    </tr>\n",
       "    <tr>\n",
       "      <th>709</th>\n",
       "      <td>kyliejenner</td>\n",
       "      <td>3.667750e+08</td>\n",
       "      <td>2950000.0</td>\n",
       "      <td>4.700000e+06</td>\n",
       "      <td>0.012814</td>\n",
       "    </tr>\n",
       "    <tr>\n",
       "      <th>1130</th>\n",
       "      <td>selenagomez</td>\n",
       "      <td>3.469500e+08</td>\n",
       "      <td>1750000.0</td>\n",
       "      <td>2.300000e+06</td>\n",
       "      <td>0.006629</td>\n",
       "    </tr>\n",
       "    <tr>\n",
       "      <th>...</th>\n",
       "      <td>...</td>\n",
       "      <td>...</td>\n",
       "      <td>...</td>\n",
       "      <td>...</td>\n",
       "      <td>...</td>\n",
       "    </tr>\n",
       "    <tr>\n",
       "      <th>394</th>\n",
       "      <td>feat.dino</td>\n",
       "      <td>2.700000e+06</td>\n",
       "      <td>716600.0</td>\n",
       "      <td>8.764000e+05</td>\n",
       "      <td>0.324593</td>\n",
       "    </tr>\n",
       "    <tr>\n",
       "      <th>718</th>\n",
       "      <td>lalala_lfamily</td>\n",
       "      <td>2.350000e+06</td>\n",
       "      <td>777300.0</td>\n",
       "      <td>9.299000e+05</td>\n",
       "      <td>0.395702</td>\n",
       "    </tr>\n",
       "    <tr>\n",
       "      <th>713</th>\n",
       "      <td>labels.hybe</td>\n",
       "      <td>2.300000e+06</td>\n",
       "      <td>891100.0</td>\n",
       "      <td>1.000000e+06</td>\n",
       "      <td>0.434783</td>\n",
       "    </tr>\n",
       "    <tr>\n",
       "      <th>681</th>\n",
       "      <td>kh1000le</td>\n",
       "      <td>2.266667e+06</td>\n",
       "      <td>980800.0</td>\n",
       "      <td>1.233333e+06</td>\n",
       "      <td>0.544118</td>\n",
       "    </tr>\n",
       "    <tr>\n",
       "      <th>1045</th>\n",
       "      <td>rampage_thedancer</td>\n",
       "      <td>2.200000e+06</td>\n",
       "      <td>1100000.0</td>\n",
       "      <td>1.300000e+06</td>\n",
       "      <td>0.590909</td>\n",
       "    </tr>\n",
       "  </tbody>\n",
       "</table>\n",
       "<p>1384 rows × 5 columns</p>\n",
       "</div>"
      ],
      "text/plain": [
       "               username     followers  authentic       average  \\\n",
       "536           instagram  5.497500e+08   310825.0  3.849750e+05   \n",
       "270           cristiano  4.858000e+08  6575000.0  8.175000e+06   \n",
       "740            leomessi  3.669750e+08  7100000.0  9.325000e+06   \n",
       "709         kyliejenner  3.667750e+08  2950000.0  4.700000e+06   \n",
       "1130        selenagomez  3.469500e+08  1750000.0  2.300000e+06   \n",
       "...                 ...           ...        ...           ...   \n",
       "394           feat.dino  2.700000e+06   716600.0  8.764000e+05   \n",
       "718      lalala_lfamily  2.350000e+06   777300.0  9.299000e+05   \n",
       "713         labels.hybe  2.300000e+06   891100.0  1.000000e+06   \n",
       "681            kh1000le  2.266667e+06   980800.0  1.233333e+06   \n",
       "1045  rampage_thedancer  2.200000e+06  1100000.0  1.300000e+06   \n",
       "\n",
       "      engagement_ratio  \n",
       "536           0.000700  \n",
       "270           0.016828  \n",
       "740           0.025410  \n",
       "709           0.012814  \n",
       "1130          0.006629  \n",
       "...                ...  \n",
       "394           0.324593  \n",
       "718           0.395702  \n",
       "713           0.434783  \n",
       "681           0.544118  \n",
       "1045          0.590909  \n",
       "\n",
       "[1384 rows x 5 columns]"
      ]
     },
     "execution_count": 190,
     "metadata": {},
     "output_type": "execute_result"
    }
   ],
   "source": [
    "ig_means"
   ]
  },
  {
   "attachments": {},
   "cell_type": "markdown",
   "id": "f36700b3",
   "metadata": {},
   "source": [
    "### 4. Graficar iniciales\n",
    "\n",
    "Graficar en un histograma el numero de cuentas que inicien por cada letra del alfabeto (Mayusculas y minusculas son tomadas de igual forma) y agrupar en una sola categoria todos los que no comiencen con una letra del alfabeto."
   ]
  },
  {
   "cell_type": "code",
   "execution_count": 191,
   "id": "1fe4be3a",
   "metadata": {
    "tags": []
   },
   "outputs": [],
   "source": [
    "def get_inicial(name: str) -> str:\n",
    "    name = str(name)\n",
    "    first_is_letter = re.search(r'^[a-zA-Z]', name)\n",
    "    if first_is_letter:\n",
    "        return name[0].upper()\n",
    "    else:\n",
    "        return 'other'"
   ]
  },
  {
   "cell_type": "code",
   "execution_count": 192,
   "id": "c99f7b4a",
   "metadata": {
    "tags": []
   },
   "outputs": [
    {
     "data": {
      "image/png": "[encoded data removed]",
      "text/plain": [
       "<Figure size 1000x600 with 1 Axes>"
      ]
     },
     "metadata": {},
     "output_type": "display_data"
    }
   ],
   "source": [
    "initials = (\n",
    "    ig_months.name\n",
    "    .map(get_inicial)\n",
    "    .value_counts()\n",
    "    .reset_index(name='frequency')\n",
    "    .rename(columns={\n",
    "        'index': 'letter',\n",
    "        'name': 'letter'\n",
    "    })\n",
    ")\n",
    "plt.figure(figsize=(10, 6)) \n",
    "plt.bar(initials.letter, initials.frequency,  color=\"cadetblue\")\n",
    "plt.show()"
   ]
  },
  {
   "attachments": {},
   "cell_type": "markdown",
   "id": "ec156ed6",
   "metadata": {},
   "source": [
    "### 5. ¿Cual es la cuenta de IG con mas caracteres en su nombre?"
   ]
  },
  {
   "cell_type": "code",
   "execution_count": 193,
   "id": "417242f0",
   "metadata": {
    "tags": []
   },
   "outputs": [],
   "source": [
    "name_len = (\n",
    "    ig_months[['name', 'username']]\n",
    "    .assign(len_name = ig_months.name.map(lambda x: len(str(x))))\n",
    "    .assign(len_username = ig_months.username.map(lambda x: len(str(x))))\n",
    ")\n",
    "ids1 = name_len.loc[name_len.len_name.idxmax()]\n",
    "ids2 = name_len.loc[name_len.len_username.idxmax()]"
   ]
  },
  {
   "attachments": {},
   "cell_type": "markdown",
   "id": "33f07d13",
   "metadata": {},
   "source": [
    "**username**"
   ]
  },
  {
   "cell_type": "code",
   "execution_count": 194,
   "id": "39453869",
   "metadata": {
    "tags": []
   },
   "outputs": [
    {
     "data": {
      "text/plain": [
       "name                  JUNGKOOK (전정국) Updates\n",
       "username        jungkook_bighitentertainment\n",
       "len_name                                  22\n",
       "len_username                              28\n",
       "Name: 465, dtype: object"
      ]
     },
     "execution_count": 194,
     "metadata": {},
     "output_type": "execute_result"
    }
   ],
   "source": [
    "ids2"
   ]
  },
  {
   "attachments": {},
   "cell_type": "markdown",
   "id": "168d5770",
   "metadata": {},
   "source": [
    "**name**"
   ]
  },
  {
   "cell_type": "code",
   "execution_count": 195,
   "id": "d99d2928",
   "metadata": {
    "tags": []
   },
   "outputs": [
    {
     "data": {
      "text/plain": [
       "name            💓배우 이준기 LEE JOON GI , a.k.a Actor JG 李準基 💓\n",
       "username                                          actor_jg\n",
       "len_name                                                42\n",
       "len_username                                             8\n",
       "Name: 22, dtype: object"
      ]
     },
     "execution_count": 195,
     "metadata": {},
     "output_type": "execute_result"
    }
   ],
   "source": [
    "ids1"
   ]
  },
  {
   "attachments": {},
   "cell_type": "markdown",
   "id": "5f718498",
   "metadata": {},
   "source": [
    "### 6. ¿Cuántas cuentas de Instagram tienen ya sea en su username o name las letras de las iniciales del primer nombre de cada uno de los integrantes de tu equipo?"
   ]
  },
  {
   "cell_type": "code",
   "execution_count": 196,
   "id": "e40c7a07",
   "metadata": {
    "tags": []
   },
   "outputs": [
    {
     "data": {
      "text/plain": [
       "2836"
      ]
     },
     "execution_count": 196,
     "metadata": {},
     "output_type": "execute_result"
    }
   ],
   "source": [
    "(ig_months.name.str.contains(r'[GgIiMm]') | ig_months.name.str.contains(r'[GgIiMm]')).sum()"
   ]
  },
  {
   "attachments": {},
   "cell_type": "markdown",
   "id": "57a714fa",
   "metadata": {},
   "source": [
    "### 7. Defina una métrica que identifique las 10 cuentas mas importantes de Instagram"
   ]
  },
  {
   "attachments": {},
   "cell_type": "markdown",
   "id": "4cfd2903",
   "metadata": {},
   "source": [
    "`engagement_size` es una metrica que toma en cuenta el engagement autentico y la cantidad de followers"
   ]
  },
  {
   "cell_type": "code",
   "execution_count": 197,
   "id": "0f737587",
   "metadata": {
    "tags": []
   },
   "outputs": [
    {
     "data": {
      "text/html": [
       "<div>\n",
       "<style scoped>\n",
       "    .dataframe tbody tr th:only-of-type {\n",
       "        vertical-align: middle;\n",
       "    }\n",
       "\n",
       "    .dataframe tbody tr th {\n",
       "        vertical-align: top;\n",
       "    }\n",
       "\n",
       "    .dataframe thead th {\n",
       "        text-align: right;\n",
       "    }\n",
       "</style>\n",
       "<table border=\"1\" class=\"dataframe\">\n",
       "  <thead>\n",
       "    <tr style=\"text-align: right;\">\n",
       "      <th></th>\n",
       "      <th>username</th>\n",
       "      <th>engagement_size</th>\n",
       "    </tr>\n",
       "  </thead>\n",
       "  <tbody>\n",
       "    <tr>\n",
       "      <th>1258</th>\n",
       "      <td>thv</td>\n",
       "      <td>0.023192</td>\n",
       "    </tr>\n",
       "    <tr>\n",
       "      <th>547</th>\n",
       "      <td>j.m</td>\n",
       "      <td>0.021282</td>\n",
       "    </tr>\n",
       "    <tr>\n",
       "      <th>48</th>\n",
       "      <td>agustd</td>\n",
       "      <td>0.017644</td>\n",
       "    </tr>\n",
       "    <tr>\n",
       "      <th>598</th>\n",
       "      <td>jin</td>\n",
       "      <td>0.015280</td>\n",
       "    </tr>\n",
       "    <tr>\n",
       "      <th>1287</th>\n",
       "      <td>uarmyhope</td>\n",
       "      <td>0.014097</td>\n",
       "    </tr>\n",
       "    <tr>\n",
       "      <th>740</th>\n",
       "      <td>leomessi</td>\n",
       "      <td>0.012915</td>\n",
       "    </tr>\n",
       "    <tr>\n",
       "      <th>270</th>\n",
       "      <td>cristiano</td>\n",
       "      <td>0.011960</td>\n",
       "    </tr>\n",
       "    <tr>\n",
       "      <th>719</th>\n",
       "      <td>lalalalisa_m</td>\n",
       "      <td>0.011187</td>\n",
       "    </tr>\n",
       "    <tr>\n",
       "      <th>1269</th>\n",
       "      <td>tomholland2013</td>\n",
       "      <td>0.010459</td>\n",
       "    </tr>\n",
       "    <tr>\n",
       "      <th>1079</th>\n",
       "      <td>rkive</td>\n",
       "      <td>0.010065</td>\n",
       "    </tr>\n",
       "  </tbody>\n",
       "</table>\n",
       "</div>"
      ],
      "text/plain": [
       "            username  engagement_size\n",
       "1258             thv         0.023192\n",
       "547              j.m         0.021282\n",
       "48            agustd         0.017644\n",
       "598              jin         0.015280\n",
       "1287       uarmyhope         0.014097\n",
       "740         leomessi         0.012915\n",
       "270        cristiano         0.011960\n",
       "719     lalalalisa_m         0.011187\n",
       "1269  tomholland2013         0.010459\n",
       "1079           rkive         0.010065"
      ]
     },
     "execution_count": 197,
     "metadata": {},
     "output_type": "execute_result"
    }
   ],
   "source": [
    "ig_means = (\n",
    "    ig_means\n",
    "    .assign(\n",
    "        engagement_size = (ig_means.authentic / ig_means.followers) * (ig_means.followers / max(ig_means.followers))\n",
    "    )\n",
    "    .sort_values(['engagement_size'], ascending=False)\n",
    ")\n",
    "ig_means[['username', 'engagement_size']].head(10)"
   ]
  },
  {
   "attachments": {},
   "cell_type": "markdown",
   "id": "cd29e2ba",
   "metadata": {},
   "source": [
    "### 8. Grafique un histograma del numero de seguidores promedio por país."
   ]
  },
  {
   "cell_type": "code",
   "execution_count": 198,
   "id": "d35bdc4e",
   "metadata": {
    "tags": []
   },
   "outputs": [
    {
     "data": {
      "image/png": "[encoded data removed]",
      "text/plain": [
       "<Figure size 1000x600 with 1 Axes>"
      ]
     },
     "metadata": {},
     "output_type": "display_data"
    }
   ],
   "source": [
    "ig_country_means = (\n",
    "    ig_means\n",
    "    .merge(ig_months, on='username', how='left')\n",
    "    [['username', 'country', 'followers_x']]\n",
    "    .groupby('country')\n",
    "    .aggregate({'followers_x': 'mean'})\n",
    "    .reset_index()\n",
    "    .rename(columns={\n",
    "        'followers_x': 'mean_followers'\n",
    "    })\n",
    "    .sort_values('mean_followers', ascending=False)\n",
    ")\n",
    "plt.figure(figsize=(10, 6)) \n",
    "plt.bar( ig_country_means.country, ig_country_means.mean_followers, color = 'salmon')\n",
    "plt.xticks(rotation='vertical')\n",
    "plt.show() "
   ]
  },
  {
   "attachments": {},
   "cell_type": "markdown",
   "id": "36a61520",
   "metadata": {},
   "source": [
    "### 9. Cree una serie con todas las categorias existentes en todos los archivos de Instagram."
   ]
  },
  {
   "cell_type": "code",
   "execution_count": 199,
   "id": "bf3a301f",
   "metadata": {
    "tags": []
   },
   "outputs": [],
   "source": [
    "ig_categories = (ig_months.category1 + ig_months.category2).dropna().drop_duplicates().reset_index(name='category')\n",
    "ig_categories = list(ig_categories.category)"
   ]
  },
  {
   "cell_type": "code",
   "execution_count": 200,
   "id": "4c589324",
   "metadata": {
    "tags": []
   },
   "outputs": [
    {
     "data": {
      "text/plain": [
       "0                 Gaming\n",
       "1                    Gym\n",
       "2                 Sports\n",
       "3             Motorbikes\n",
       "4              Happiness\n",
       "5          Winter sports\n",
       "6                 Retail\n",
       "7           Technologies\n",
       "8                 Travel\n",
       "9                 Luxury\n",
       "10            Journalism\n",
       "11             Economics\n",
       "12           Photography\n",
       "13    Sports with a ball\n",
       "14               Outfits\n",
       "15             Marketing\n",
       "16                 Shows\n",
       "17                Beauty\n",
       "18         Adult content\n",
       "19             Lifestyle\n",
       "20               Fashion\n",
       "21                  Toys\n",
       "22               Coaches\n",
       "23               Artists\n",
       "24                Family\n",
       "25               Science\n",
       "26               Gadgets\n",
       "27              Modeling\n",
       "28              Politics\n",
       "29                 Music\n",
       "30               Careers\n",
       "dtype: object"
      ]
     },
     "execution_count": 200,
     "metadata": {},
     "output_type": "execute_result"
    }
   ],
   "source": [
    "category_re = r'[A-Z][a-z\\s]+[a-z]$'\n",
    "res = set()\n",
    "for element in ig_categories:\n",
    "    has_categories = re.findall(category_re, str(element))\n",
    "    if has_categories:\n",
    "        res = res.union(set(has_categories))\n",
    "\n",
    "ig_categories = pd.Series(list(res))\n",
    "ig_categories"
   ]
  },
  {
   "attachments": {},
   "cell_type": "markdown",
   "id": "51f2cc4f",
   "metadata": {},
   "source": [
    "### 10. Cree una serie con todos los paises que encuentre en los archivos."
   ]
  },
  {
   "cell_type": "code",
   "execution_count": 201,
   "id": "3120f750",
   "metadata": {
    "tags": []
   },
   "outputs": [
    {
     "data": {
      "text/plain": [
       "0                      Spain\n",
       "1                  Indonesia\n",
       "3                     Russia\n",
       "4              United States\n",
       "8                     Brazil\n",
       "9                     Poland\n",
       "10               South Korea\n",
       "20                     India\n",
       "21                   Morocco\n",
       "25                    Turkey\n",
       "33                     Egypt\n",
       "40                     Chile\n",
       "45                      Iran\n",
       "49                     Italy\n",
       "53                    Mexico\n",
       "64                  Colombia\n",
       "67                 Argentina\n",
       "88                     Japan\n",
       "96                      Iraq\n",
       "103           United Kingdom\n",
       "123              Philippines\n",
       "128                  Germany\n",
       "217                  Nigeria\n",
       "237                   Serbia\n",
       "263                  Albania\n",
       "288     United Arab Emirates\n",
       "409                    China\n",
       "470                   France\n",
       "504               Kazakhstan\n",
       "530                 Thailand\n",
       "668                    Syria\n",
       "786                  Algeria\n",
       "819                 Pakistan\n",
       "1250                   Yemen\n",
       "1960                 Romania\n",
       "3102                Ethiopia\n",
       "3313               Australia\n",
       "3686                Portugal\n",
       "Name: country, dtype: object"
      ]
     },
     "execution_count": 201,
     "metadata": {},
     "output_type": "execute_result"
    }
   ],
   "source": [
    "all_countries = ig_months.country.dropna().drop_duplicates()\n",
    "all_countries"
   ]
  },
  {
   "attachments": {},
   "cell_type": "markdown",
   "id": "1683ac79",
   "metadata": {},
   "source": [
    "### 11. Grafique en un histograma el numero de seguidores por categoria."
   ]
  },
  {
   "cell_type": "code",
   "execution_count": 202,
   "id": "792e956c",
   "metadata": {},
   "outputs": [],
   "source": [
    "ig_last = (\n",
    "    ig_months\n",
    "    .groupby(['username'])\n",
    "    .last()\n",
    "    .reset_index()\n",
    ")\n",
    "\n",
    "ig_cat_foll = (\n",
    "    ig_categories.reset_index(name='category')\n",
    "    .merge(ig_last, how='cross')\n",
    "    .rename(columns={'0': 'category'})\n",
    ")"
   ]
  },
  {
   "cell_type": "code",
   "execution_count": 203,
   "id": "c115ea5a",
   "metadata": {},
   "outputs": [],
   "source": [
    "def index_cat(data: pd.DataFrame) -> pd.Series:\n",
    "    categories = data.category.to_list()\n",
    "    cat1 = data.category1.to_list()\n",
    "    cat2 = data.category2.to_list()\n",
    "    res = list()\n",
    "    for i, cat in enumerate(categories):\n",
    "        res.append(cat in str(cat1[i]) or cat in str(cat2[i]))\n",
    "    return pd.Series(res)\n",
    "            "
   ]
  },
  {
   "cell_type": "code",
   "execution_count": 204,
   "id": "f6fb9151",
   "metadata": {},
   "outputs": [],
   "source": [
    "ig_cat_foll = (\n",
    "    ig_cat_foll[index_cat(ig_cat_foll)]\n",
    "    [['category', 'followers']]\n",
    "    .groupby('category').mean()\n",
    "    .reset_index()\n",
    "    .sort_values('followers', ascending=False)\n",
    ")"
   ]
  },
  {
   "cell_type": "code",
   "execution_count": 205,
   "id": "050444b8",
   "metadata": {},
   "outputs": [
    {
     "data": {
      "image/png": "[encoded data removed]",
      "text/plain": [
       "<Figure size 640x480 with 1 Axes>"
      ]
     },
     "metadata": {},
     "output_type": "display_data"
    }
   ],
   "source": [
    "sns.barplot(\n",
    "    data=ig_cat_foll,\n",
    "    x='category',\n",
    "    y='followers'\n",
    ")\n",
    "plt.xticks(rotation='vertical')\n",
    "plt.show()"
   ]
  }
 ],
 "metadata": {
  "kernelspec": {
   "display_name": "Python 3 (ipykernel)",
   "language": "python",
   "name": "python3"
  },
  "language_info": {
   "codemirror_mode": {
    "name": "ipython",
    "version": 3
   },
   "file_extension": ".py",
   "mimetype": "text/x-python",
   "name": "python",
   "nbconvert_exporter": "python",
   "pygments_lexer": "ipython3",
   "version": "3.11.2"
  }
 },
 "nbformat": 4,
 "nbformat_minor": 5
}
