{
 "cells": [
  {
   "cell_type": "markdown",
   "metadata": {},
   "source": [
    "# Tiktok"
   ]
  },
  {
   "cell_type": "code",
   "execution_count": 21,
   "metadata": {
    "tags": []
   },
   "outputs": [],
   "source": [
    "import numpy as np\n",
    "import pandas as pd\n",
    "import matplotlib.pyplot as plt\n",
    "import seaborn as sns\n",
    "import pathlib\n",
    "import re\n",
    "from difflib import SequenceMatcher"
   ]
  },
  {
   "cell_type": "code",
   "execution_count": 22,
   "metadata": {
    "tags": []
   },
   "outputs": [
    {
     "data": {
      "text/html": [
       "<div>\n",
       "<style scoped>\n",
       "    .dataframe tbody tr th:only-of-type {\n",
       "        vertical-align: middle;\n",
       "    }\n",
       "\n",
       "    .dataframe tbody tr th {\n",
       "        vertical-align: top;\n",
       "    }\n",
       "\n",
       "    .dataframe thead th {\n",
       "        text-align: right;\n",
       "    }\n",
       "</style>\n",
       "<table border=\"1\" class=\"dataframe\">\n",
       "  <thead>\n",
       "    <tr style=\"text-align: right;\">\n",
       "      <th></th>\n",
       "      <th>username</th>\n",
       "      <th>name</th>\n",
       "      <th>subs</th>\n",
       "      <th>views</th>\n",
       "      <th>likes</th>\n",
       "      <th>comments</th>\n",
       "      <th>shares</th>\n",
       "      <th>month</th>\n",
       "    </tr>\n",
       "  </thead>\n",
       "  <tbody>\n",
       "    <tr>\n",
       "      <th>0</th>\n",
       "      <td>___nicoichi___</td>\n",
       "      <td>NICO【平成フラミンゴ】</td>\n",
       "      <td>1.3M</td>\n",
       "      <td>1.9M</td>\n",
       "      <td>225.3K</td>\n",
       "      <td>1.7K</td>\n",
       "      <td>1.1K</td>\n",
       "      <td>June</td>\n",
       "    </tr>\n",
       "  </tbody>\n",
       "</table>\n",
       "</div>"
      ],
      "text/plain": [
       "         username           name  subs views   likes comments shares month\n",
       "0  ___nicoichi___  NICO【平成フラミンゴ】  1.3M  1.9M  225.3K     1.7K   1.1K  June"
      ]
     },
     "execution_count": 22,
     "metadata": {},
     "output_type": "execute_result"
    }
   ],
   "source": [
    "tt_june = (\n",
    "    pd.read_csv('DATA/tiktokjune2022.csv')\n",
    "    .assign(Month='June')\n",
    "    .rename(columns={\n",
    "        \"Tiktoker\": \"username\",\n",
    "        \"influencer name\":\"name\",\n",
    "        \"Subscribers count\": \"subs\",\n",
    "        \"Views avg.\": \"views\",\n",
    "        \"Likes avg\": \"likes\",\n",
    "        \"Comments avg.\": \"comments\",\n",
    "        \"Shares avg\": \"shares\",\n",
    "        \"Month\": \"month\"\n",
    "    })\n",
    ")\n",
    "tt_june.head(1)"
   ]
  },
  {
   "cell_type": "code",
   "execution_count": 23,
   "metadata": {
    "tags": []
   },
   "outputs": [
    {
     "data": {
      "text/html": [
       "<div>\n",
       "<style scoped>\n",
       "    .dataframe tbody tr th:only-of-type {\n",
       "        vertical-align: middle;\n",
       "    }\n",
       "\n",
       "    .dataframe tbody tr th {\n",
       "        vertical-align: top;\n",
       "    }\n",
       "\n",
       "    .dataframe thead th {\n",
       "        text-align: right;\n",
       "    }\n",
       "</style>\n",
       "<table border=\"1\" class=\"dataframe\">\n",
       "  <thead>\n",
       "    <tr style=\"text-align: right;\">\n",
       "      <th></th>\n",
       "      <th>username</th>\n",
       "      <th>name</th>\n",
       "      <th>subs</th>\n",
       "      <th>views</th>\n",
       "      <th>likes</th>\n",
       "      <th>comments</th>\n",
       "      <th>shares</th>\n",
       "      <th>month</th>\n",
       "    </tr>\n",
       "  </thead>\n",
       "  <tbody>\n",
       "    <tr>\n",
       "      <th>0</th>\n",
       "      <td>jypestraykids</td>\n",
       "      <td>Stray Kids</td>\n",
       "      <td>13.8M</td>\n",
       "      <td>6.4M</td>\n",
       "      <td>2.3M</td>\n",
       "      <td>50.2K</td>\n",
       "      <td>34.2K</td>\n",
       "      <td>September</td>\n",
       "    </tr>\n",
       "  </tbody>\n",
       "</table>\n",
       "</div>"
      ],
      "text/plain": [
       "        username        name   subs views likes comments shares      month\n",
       "0  jypestraykids  Stray Kids  13.8M  6.4M  2.3M    50.2K  34.2K  September"
      ]
     },
     "execution_count": 23,
     "metadata": {},
     "output_type": "execute_result"
    }
   ],
   "source": [
    "tt_sep = (\n",
    "    pd.read_csv('DATA/Tiktoksep2022.csv')\n",
    "    .assign(Month='September')\n",
    "    .rename(columns={\n",
    "        \"Tiktoker name\": \"username\",\n",
    "        \"Tiktok name\":\"name\",\n",
    "        \"Subscribers\": \"subs\",\n",
    "        \"Views avg.\": \"views\",\n",
    "        \"Likes avg.\": \"likes\",\n",
    "        \"Comments avg.\": \"comments\",\n",
    "        \"Shares avg.\": \"shares\",\n",
    "        \"Month\": \"month\"\n",
    "    })\n",
    "    .drop(\"S.no\", axis=1)\n",
    ")\n",
    "tt_sep.head(1)"
   ]
  },
  {
   "cell_type": "code",
   "execution_count": 24,
   "metadata": {
    "tags": []
   },
   "outputs": [
    {
     "data": {
      "text/html": [
       "<div>\n",
       "<style scoped>\n",
       "    .dataframe tbody tr th:only-of-type {\n",
       "        vertical-align: middle;\n",
       "    }\n",
       "\n",
       "    .dataframe tbody tr th {\n",
       "        vertical-align: top;\n",
       "    }\n",
       "\n",
       "    .dataframe thead th {\n",
       "        text-align: right;\n",
       "    }\n",
       "</style>\n",
       "<table border=\"1\" class=\"dataframe\">\n",
       "  <thead>\n",
       "    <tr style=\"text-align: right;\">\n",
       "      <th></th>\n",
       "      <th>username</th>\n",
       "      <th>name</th>\n",
       "      <th>subs</th>\n",
       "      <th>views</th>\n",
       "      <th>likes</th>\n",
       "      <th>comments</th>\n",
       "      <th>shares</th>\n",
       "      <th>month</th>\n",
       "    </tr>\n",
       "  </thead>\n",
       "  <tbody>\n",
       "    <tr>\n",
       "      <th>1</th>\n",
       "      <td>yossikramer</td>\n",
       "      <td>Yossi</td>\n",
       "      <td>145.6K</td>\n",
       "      <td>26.8M</td>\n",
       "      <td>2.2M</td>\n",
       "      <td>30.1K</td>\n",
       "      <td>71.2K</td>\n",
       "      <td>November</td>\n",
       "    </tr>\n",
       "  </tbody>\n",
       "</table>\n",
       "</div>"
      ],
      "text/plain": [
       "      username   name    subs  views likes comments shares     month\n",
       "1  yossikramer  Yossi  145.6K  26.8M  2.2M    30.1K  71.2K  November"
      ]
     },
     "execution_count": 24,
     "metadata": {},
     "output_type": "execute_result"
    }
   ],
   "source": [
    "tt_nov = (\n",
    "    pd.read_csv('DATA/tiktoknov2022.csv')\n",
    "    .assign(Month='November')\n",
    "    .rename(columns={\n",
    "        \"Tiktoker name\": \"username\",\n",
    "        \"Tiktok name\":\"name\",\n",
    "        \"\\nFollowers\": \"subs\",\n",
    "        \"Views (Avg.)\": \"views\",\n",
    "        \"Likes (Avg.)\": \"likes\",\n",
    "        \"Comments (Avg.)\": \"comments\",\n",
    "        \"Shares (Avg.)\": \"shares\",\n",
    "        \"Month\": \"month\"\n",
    "    })\n",
    "    .drop(\"row-cell\", axis=1)\n",
    "    .drop(0)\n",
    ")\n",
    "tt_nov.head(1)"
   ]
  },
  {
   "cell_type": "code",
   "execution_count": 25,
   "metadata": {
    "tags": []
   },
   "outputs": [
    {
     "data": {
      "text/html": [
       "<div>\n",
       "<style scoped>\n",
       "    .dataframe tbody tr th:only-of-type {\n",
       "        vertical-align: middle;\n",
       "    }\n",
       "\n",
       "    .dataframe tbody tr th {\n",
       "        vertical-align: top;\n",
       "    }\n",
       "\n",
       "    .dataframe thead th {\n",
       "        text-align: right;\n",
       "    }\n",
       "</style>\n",
       "<table border=\"1\" class=\"dataframe\">\n",
       "  <thead>\n",
       "    <tr style=\"text-align: right;\">\n",
       "      <th></th>\n",
       "      <th>username</th>\n",
       "      <th>name</th>\n",
       "      <th>subs</th>\n",
       "      <th>views</th>\n",
       "      <th>likes</th>\n",
       "      <th>comments</th>\n",
       "      <th>shares</th>\n",
       "      <th>month</th>\n",
       "    </tr>\n",
       "  </thead>\n",
       "  <tbody>\n",
       "    <tr>\n",
       "      <th>0</th>\n",
       "      <td>mrbeast</td>\n",
       "      <td>MrBeast</td>\n",
       "      <td>60.3M</td>\n",
       "      <td>29.2M</td>\n",
       "      <td>3.5M</td>\n",
       "      <td>30.8K</td>\n",
       "      <td>7.2K</td>\n",
       "      <td>December</td>\n",
       "    </tr>\n",
       "  </tbody>\n",
       "</table>\n",
       "</div>"
      ],
      "text/plain": [
       "  username     name   subs  views likes comments shares     month\n",
       "0  mrbeast  MrBeast  60.3M  29.2M  3.5M    30.8K   7.2K  December"
      ]
     },
     "execution_count": 25,
     "metadata": {},
     "output_type": "execute_result"
    }
   ],
   "source": [
    "tt_dec = (\n",
    "    pd.read_csv('DATA/TIKTOKDEC2022.csv')\n",
    "    .assign(Month='December')\n",
    "    .rename(columns={\n",
    "        \"Tiktoker name\": \"username\",\n",
    "        \"Tiktok name\":\"name\",\n",
    "        \"followers\": \"subs\",\n",
    "        \"views(avg)\": \"views\",\n",
    "        \"likes(avg.)\": \"likes\",\n",
    "        \"comments(avg.)\": \"comments\",\n",
    "        \"shares(avg.)\": \"shares\",\n",
    "        \"Month\": \"month\"\n",
    "    })\n",
    "    .drop(\"Rank\", axis=1)\n",
    ")\n",
    "tt_dec.head(1)"
   ]
  },
  {
   "cell_type": "code",
   "execution_count": 26,
   "metadata": {
    "tags": []
   },
   "outputs": [],
   "source": [
    "def cientific_int(column: pd.Series) -> pd.Series:\n",
    "    return (\n",
    "        column\n",
    "        .fillna('0')\n",
    "        .replace({'K': '*1e3', 'M': '*1e6', 'G':'*1e9'}, regex=True)\n",
    "        .map(pd.eval)\n",
    "        .astype(int)\n",
    "        .replace(0, np.nan)\n",
    "    )\n",
    "\n",
    "\n",
    "numeric_text_cols = ['subs', 'views', 'likes', 'comments', 'shares']\n",
    "\n",
    "tt_june.loc[:, numeric_text_cols] = tt_june[numeric_text_cols].apply(cientific_int)\n",
    "tt_sep.loc[:, numeric_text_cols] = tt_sep[numeric_text_cols].apply(cientific_int)\n",
    "tt_nov.loc[:, numeric_text_cols] = tt_nov[numeric_text_cols].apply(cientific_int)\n",
    "tt_dec.loc[:, numeric_text_cols] = tt_dec[numeric_text_cols].apply(cientific_int)"
   ]
  },
  {
   "cell_type": "code",
   "execution_count": 27,
   "metadata": {
    "tags": []
   },
   "outputs": [
    {
     "data": {
      "text/html": [
       "<div>\n",
       "<style scoped>\n",
       "    .dataframe tbody tr th:only-of-type {\n",
       "        vertical-align: middle;\n",
       "    }\n",
       "\n",
       "    .dataframe tbody tr th {\n",
       "        vertical-align: top;\n",
       "    }\n",
       "\n",
       "    .dataframe thead th {\n",
       "        text-align: right;\n",
       "    }\n",
       "</style>\n",
       "<table border=\"1\" class=\"dataframe\">\n",
       "  <thead>\n",
       "    <tr style=\"text-align: right;\">\n",
       "      <th></th>\n",
       "      <th>username</th>\n",
       "      <th>name</th>\n",
       "      <th>subs</th>\n",
       "      <th>views</th>\n",
       "      <th>likes</th>\n",
       "      <th>comments</th>\n",
       "      <th>shares</th>\n",
       "      <th>month</th>\n",
       "    </tr>\n",
       "  </thead>\n",
       "  <tbody>\n",
       "    <tr>\n",
       "      <th>0</th>\n",
       "      <td>___nicoichi___</td>\n",
       "      <td>NICO【平成フラミンゴ】</td>\n",
       "      <td>1300000</td>\n",
       "      <td>1900000</td>\n",
       "      <td>225300</td>\n",
       "      <td>1700.0</td>\n",
       "      <td>1100</td>\n",
       "      <td>June</td>\n",
       "    </tr>\n",
       "    <tr>\n",
       "      <th>1</th>\n",
       "      <td>_.anime.edits_0</td>\n",
       "      <td>video</td>\n",
       "      <td>97000</td>\n",
       "      <td>1700000</td>\n",
       "      <td>75600</td>\n",
       "      <td>1500.0</td>\n",
       "      <td>8700</td>\n",
       "      <td>June</td>\n",
       "    </tr>\n",
       "    <tr>\n",
       "      <th>2</th>\n",
       "      <td>_.respect.boss._</td>\n",
       "      <td>Respect compilation 🤝🥶</td>\n",
       "      <td>1500000</td>\n",
       "      <td>4400000</td>\n",
       "      <td>241900</td>\n",
       "      <td>249.0</td>\n",
       "      <td>797</td>\n",
       "      <td>June</td>\n",
       "    </tr>\n",
       "  </tbody>\n",
       "</table>\n",
       "</div>"
      ],
      "text/plain": [
       "           username                    name     subs    views   likes  \\\n",
       "0    ___nicoichi___           NICO【平成フラミンゴ】  1300000  1900000  225300   \n",
       "1   _.anime.edits_0                   video    97000  1700000   75600   \n",
       "2  _.respect.boss._  Respect compilation 🤝🥶  1500000  4400000  241900   \n",
       "\n",
       "  comments shares month  \n",
       "0   1700.0   1100  June  \n",
       "1   1500.0   8700  June  \n",
       "2    249.0    797  June  "
      ]
     },
     "execution_count": 27,
     "metadata": {},
     "output_type": "execute_result"
    }
   ],
   "source": [
    "tt_months = (\n",
    "    pd.concat([tt_june, tt_sep, tt_nov, tt_dec], ignore_index=True)\n",
    "    .drop_duplicates()\n",
    ")\n",
    "\n",
    "tt_months.head(3)"
   ]
  },
  {
   "cell_type": "markdown",
   "metadata": {},
   "source": [
    "# Análisis"
   ]
  },
  {
   "cell_type": "markdown",
   "metadata": {},
   "source": [
    "## 1. Tenemos 3055 cuentas únicas en nuestros registros de tiktok\n"
   ]
  },
  {
   "cell_type": "code",
   "execution_count": 28,
   "metadata": {
    "tags": []
   },
   "outputs": [
    {
     "data": {
      "text/plain": [
       "2582"
      ]
     },
     "execution_count": 28,
     "metadata": {},
     "output_type": "execute_result"
    }
   ],
   "source": [
    "tt_months.username.drop_duplicates().size"
   ]
  },
  {
   "cell_type": "markdown",
   "metadata": {},
   "source": [
    "## 2. Medias de followers, views, likes, comments y shares de cada cuenta"
   ]
  },
  {
   "cell_type": "code",
   "execution_count": 29,
   "metadata": {
    "tags": []
   },
   "outputs": [],
   "source": [
    "tt_means = (\n",
    "    tt_months\n",
    "    .groupby('username')\n",
    "     # aggregate functiosn skips nan by deffault\n",
    "    .aggregate({\n",
    "        'subs': 'mean',\n",
    "        'views': 'mean',\n",
    "        'likes': 'mean',\n",
    "        'comments': 'mean',\n",
    "        'shares': 'mean'\n",
    "    })    \n",
    "    .reset_index()\n",
    "    .sort_values('subs', ascending=False)\n",
    ")"
   ]
  },
  {
   "cell_type": "code",
   "execution_count": 30,
   "metadata": {
    "tags": []
   },
   "outputs": [
    {
     "data": {
      "text/html": [
       "<div>\n",
       "<style scoped>\n",
       "    .dataframe tbody tr th:only-of-type {\n",
       "        vertical-align: middle;\n",
       "    }\n",
       "\n",
       "    .dataframe tbody tr th {\n",
       "        vertical-align: top;\n",
       "    }\n",
       "\n",
       "    .dataframe thead th {\n",
       "        text-align: right;\n",
       "    }\n",
       "</style>\n",
       "<table border=\"1\" class=\"dataframe\">\n",
       "  <thead>\n",
       "    <tr style=\"text-align: right;\">\n",
       "      <th></th>\n",
       "      <th>username</th>\n",
       "      <th>subs</th>\n",
       "      <th>views</th>\n",
       "      <th>likes</th>\n",
       "      <th>comments</th>\n",
       "      <th>shares</th>\n",
       "    </tr>\n",
       "  </thead>\n",
       "  <tbody>\n",
       "    <tr>\n",
       "      <th>1294</th>\n",
       "      <td>khaby.lame</td>\n",
       "      <td>149375000.0</td>\n",
       "      <td>17050000.0</td>\n",
       "      <td>2050000.0</td>\n",
       "      <td>16500.0</td>\n",
       "      <td>7625.0</td>\n",
       "    </tr>\n",
       "    <tr>\n",
       "      <th>463</th>\n",
       "      <td>charlidamelio</td>\n",
       "      <td>146400000.0</td>\n",
       "      <td>11999999.75</td>\n",
       "      <td>1047800.0</td>\n",
       "      <td>16175.0</td>\n",
       "      <td>4900.0</td>\n",
       "    </tr>\n",
       "    <tr>\n",
       "      <th>299</th>\n",
       "      <td>bellapoarch</td>\n",
       "      <td>91400000.0</td>\n",
       "      <td>6733333.333333</td>\n",
       "      <td>693800.0</td>\n",
       "      <td>6400.0</td>\n",
       "      <td>1266.666667</td>\n",
       "    </tr>\n",
       "    <tr>\n",
       "      <th>80</th>\n",
       "      <td>addisonre</td>\n",
       "      <td>88525000.0</td>\n",
       "      <td>10400000.0</td>\n",
       "      <td>609750.0</td>\n",
       "      <td>4200.0</td>\n",
       "      <td>8500.0</td>\n",
       "    </tr>\n",
       "    <tr>\n",
       "      <th>2495</th>\n",
       "      <td>willsmith</td>\n",
       "      <td>73000000.0</td>\n",
       "      <td>4700000.0</td>\n",
       "      <td>514600.0</td>\n",
       "      <td>2200.0</td>\n",
       "      <td>2000.0</td>\n",
       "    </tr>\n",
       "    <tr>\n",
       "      <th>...</th>\n",
       "      <td>...</td>\n",
       "      <td>...</td>\n",
       "      <td>...</td>\n",
       "      <td>...</td>\n",
       "      <td>...</td>\n",
       "      <td>...</td>\n",
       "    </tr>\n",
       "    <tr>\n",
       "      <th>2194</th>\n",
       "      <td>soapinmymouthoncemore</td>\n",
       "      <td>5100.0</td>\n",
       "      <td>943300.0</td>\n",
       "      <td>189600.0</td>\n",
       "      <td>1900.0</td>\n",
       "      <td>3100.0</td>\n",
       "    </tr>\n",
       "    <tr>\n",
       "      <th>1222</th>\n",
       "      <td>juliaaliceaa</td>\n",
       "      <td>3700.0</td>\n",
       "      <td>2200000.0</td>\n",
       "      <td>550300.0</td>\n",
       "      <td>3100.0</td>\n",
       "      <td>14300.0</td>\n",
       "    </tr>\n",
       "    <tr>\n",
       "      <th>128</th>\n",
       "      <td>alexbatistao</td>\n",
       "      <td>3200.0</td>\n",
       "      <td>951700.0</td>\n",
       "      <td>46600.0</td>\n",
       "      <td>1700.0</td>\n",
       "      <td>19400.0</td>\n",
       "    </tr>\n",
       "    <tr>\n",
       "      <th>1408</th>\n",
       "      <td>leonardzbant</td>\n",
       "      <td>3000.0</td>\n",
       "      <td>1700000.0</td>\n",
       "      <td>131200.0</td>\n",
       "      <td>486.0</td>\n",
       "      <td>9600.0</td>\n",
       "    </tr>\n",
       "    <tr>\n",
       "      <th>207</th>\n",
       "      <td>apollolikesblu</td>\n",
       "      <td>3000.0</td>\n",
       "      <td>702300.0</td>\n",
       "      <td>124500.0</td>\n",
       "      <td>9500.0</td>\n",
       "      <td>2100.0</td>\n",
       "    </tr>\n",
       "  </tbody>\n",
       "</table>\n",
       "<p>2582 rows × 6 columns</p>\n",
       "</div>"
      ],
      "text/plain": [
       "                   username         subs           views      likes comments  \\\n",
       "1294             khaby.lame  149375000.0      17050000.0  2050000.0  16500.0   \n",
       "463           charlidamelio  146400000.0     11999999.75  1047800.0  16175.0   \n",
       "299             bellapoarch   91400000.0  6733333.333333   693800.0   6400.0   \n",
       "80                addisonre   88525000.0      10400000.0   609750.0   4200.0   \n",
       "2495              willsmith   73000000.0       4700000.0   514600.0   2200.0   \n",
       "...                     ...          ...             ...        ...      ...   \n",
       "2194  soapinmymouthoncemore       5100.0        943300.0   189600.0   1900.0   \n",
       "1222           juliaaliceaa       3700.0       2200000.0   550300.0   3100.0   \n",
       "128            alexbatistao       3200.0        951700.0    46600.0   1700.0   \n",
       "1408           leonardzbant       3000.0       1700000.0   131200.0    486.0   \n",
       "207          apollolikesblu       3000.0        702300.0   124500.0   9500.0   \n",
       "\n",
       "           shares  \n",
       "1294       7625.0  \n",
       "463        4900.0  \n",
       "299   1266.666667  \n",
       "80         8500.0  \n",
       "2495       2000.0  \n",
       "...           ...  \n",
       "2194       3100.0  \n",
       "1222      14300.0  \n",
       "128       19400.0  \n",
       "1408       9600.0  \n",
       "207        2100.0  \n",
       "\n",
       "[2582 rows x 6 columns]"
      ]
     },
     "execution_count": 30,
     "metadata": {},
     "output_type": "execute_result"
    }
   ],
   "source": [
    "tt_means"
   ]
  },
  {
   "cell_type": "markdown",
   "metadata": {},
   "source": [
    "## 3. Métricas de valor"
   ]
  },
  {
   "cell_type": "code",
   "execution_count": 31,
   "metadata": {
    "tags": []
   },
   "outputs": [],
   "source": [
    "tt_means['views_ratio'] = tt_means.views / tt_means.subs\n",
    "tt_means['likes_ratio'] = tt_means.likes / tt_means.subs\n",
    "tt_means['comments_ratio'] = tt_means.comments / tt_means.subs\n",
    "tt_means['share_ratio'] = tt_means.shares / tt_means.subs"
   ]
  },
  {
   "cell_type": "code",
   "execution_count": 32,
   "metadata": {
    "tags": []
   },
   "outputs": [
    {
     "data": {
      "text/html": [
       "<div>\n",
       "<style scoped>\n",
       "    .dataframe tbody tr th:only-of-type {\n",
       "        vertical-align: middle;\n",
       "    }\n",
       "\n",
       "    .dataframe tbody tr th {\n",
       "        vertical-align: top;\n",
       "    }\n",
       "\n",
       "    .dataframe thead th {\n",
       "        text-align: right;\n",
       "    }\n",
       "</style>\n",
       "<table border=\"1\" class=\"dataframe\">\n",
       "  <thead>\n",
       "    <tr style=\"text-align: right;\">\n",
       "      <th></th>\n",
       "      <th>username</th>\n",
       "      <th>subs</th>\n",
       "      <th>views</th>\n",
       "      <th>likes</th>\n",
       "      <th>comments</th>\n",
       "      <th>shares</th>\n",
       "      <th>views_ratio</th>\n",
       "      <th>likes_ratio</th>\n",
       "      <th>comments_ratio</th>\n",
       "      <th>share_ratio</th>\n",
       "    </tr>\n",
       "  </thead>\n",
       "  <tbody>\n",
       "    <tr>\n",
       "      <th>1294</th>\n",
       "      <td>khaby.lame</td>\n",
       "      <td>149375000.0</td>\n",
       "      <td>17050000.0</td>\n",
       "      <td>2050000.0</td>\n",
       "      <td>16500.0</td>\n",
       "      <td>7625.0</td>\n",
       "      <td>0.114142</td>\n",
       "      <td>0.013724</td>\n",
       "      <td>0.00011</td>\n",
       "      <td>0.000051</td>\n",
       "    </tr>\n",
       "    <tr>\n",
       "      <th>463</th>\n",
       "      <td>charlidamelio</td>\n",
       "      <td>146400000.0</td>\n",
       "      <td>11999999.75</td>\n",
       "      <td>1047800.0</td>\n",
       "      <td>16175.0</td>\n",
       "      <td>4900.0</td>\n",
       "      <td>0.081967</td>\n",
       "      <td>0.007157</td>\n",
       "      <td>0.00011</td>\n",
       "      <td>0.000033</td>\n",
       "    </tr>\n",
       "    <tr>\n",
       "      <th>299</th>\n",
       "      <td>bellapoarch</td>\n",
       "      <td>91400000.0</td>\n",
       "      <td>6733333.333333</td>\n",
       "      <td>693800.0</td>\n",
       "      <td>6400.0</td>\n",
       "      <td>1266.666667</td>\n",
       "      <td>0.073669</td>\n",
       "      <td>0.007591</td>\n",
       "      <td>0.00007</td>\n",
       "      <td>0.000014</td>\n",
       "    </tr>\n",
       "    <tr>\n",
       "      <th>80</th>\n",
       "      <td>addisonre</td>\n",
       "      <td>88525000.0</td>\n",
       "      <td>10400000.0</td>\n",
       "      <td>609750.0</td>\n",
       "      <td>4200.0</td>\n",
       "      <td>8500.0</td>\n",
       "      <td>0.117481</td>\n",
       "      <td>0.006888</td>\n",
       "      <td>0.000047</td>\n",
       "      <td>0.000096</td>\n",
       "    </tr>\n",
       "    <tr>\n",
       "      <th>2495</th>\n",
       "      <td>willsmith</td>\n",
       "      <td>73000000.0</td>\n",
       "      <td>4700000.0</td>\n",
       "      <td>514600.0</td>\n",
       "      <td>2200.0</td>\n",
       "      <td>2000.0</td>\n",
       "      <td>0.064384</td>\n",
       "      <td>0.007049</td>\n",
       "      <td>0.00003</td>\n",
       "      <td>0.000027</td>\n",
       "    </tr>\n",
       "    <tr>\n",
       "      <th>...</th>\n",
       "      <td>...</td>\n",
       "      <td>...</td>\n",
       "      <td>...</td>\n",
       "      <td>...</td>\n",
       "      <td>...</td>\n",
       "      <td>...</td>\n",
       "      <td>...</td>\n",
       "      <td>...</td>\n",
       "      <td>...</td>\n",
       "      <td>...</td>\n",
       "    </tr>\n",
       "    <tr>\n",
       "      <th>2194</th>\n",
       "      <td>soapinmymouthoncemore</td>\n",
       "      <td>5100.0</td>\n",
       "      <td>943300.0</td>\n",
       "      <td>189600.0</td>\n",
       "      <td>1900.0</td>\n",
       "      <td>3100.0</td>\n",
       "      <td>184.960784</td>\n",
       "      <td>37.176471</td>\n",
       "      <td>0.372549</td>\n",
       "      <td>0.607843</td>\n",
       "    </tr>\n",
       "    <tr>\n",
       "      <th>1222</th>\n",
       "      <td>juliaaliceaa</td>\n",
       "      <td>3700.0</td>\n",
       "      <td>2200000.0</td>\n",
       "      <td>550300.0</td>\n",
       "      <td>3100.0</td>\n",
       "      <td>14300.0</td>\n",
       "      <td>594.594595</td>\n",
       "      <td>148.72973</td>\n",
       "      <td>0.837838</td>\n",
       "      <td>3.864865</td>\n",
       "    </tr>\n",
       "    <tr>\n",
       "      <th>128</th>\n",
       "      <td>alexbatistao</td>\n",
       "      <td>3200.0</td>\n",
       "      <td>951700.0</td>\n",
       "      <td>46600.0</td>\n",
       "      <td>1700.0</td>\n",
       "      <td>19400.0</td>\n",
       "      <td>297.40625</td>\n",
       "      <td>14.5625</td>\n",
       "      <td>0.53125</td>\n",
       "      <td>6.0625</td>\n",
       "    </tr>\n",
       "    <tr>\n",
       "      <th>1408</th>\n",
       "      <td>leonardzbant</td>\n",
       "      <td>3000.0</td>\n",
       "      <td>1700000.0</td>\n",
       "      <td>131200.0</td>\n",
       "      <td>486.0</td>\n",
       "      <td>9600.0</td>\n",
       "      <td>566.666667</td>\n",
       "      <td>43.733333</td>\n",
       "      <td>0.162</td>\n",
       "      <td>3.2</td>\n",
       "    </tr>\n",
       "    <tr>\n",
       "      <th>207</th>\n",
       "      <td>apollolikesblu</td>\n",
       "      <td>3000.0</td>\n",
       "      <td>702300.0</td>\n",
       "      <td>124500.0</td>\n",
       "      <td>9500.0</td>\n",
       "      <td>2100.0</td>\n",
       "      <td>234.1</td>\n",
       "      <td>41.5</td>\n",
       "      <td>3.166667</td>\n",
       "      <td>0.7</td>\n",
       "    </tr>\n",
       "  </tbody>\n",
       "</table>\n",
       "<p>2582 rows × 10 columns</p>\n",
       "</div>"
      ],
      "text/plain": [
       "                   username         subs           views      likes comments  \\\n",
       "1294             khaby.lame  149375000.0      17050000.0  2050000.0  16500.0   \n",
       "463           charlidamelio  146400000.0     11999999.75  1047800.0  16175.0   \n",
       "299             bellapoarch   91400000.0  6733333.333333   693800.0   6400.0   \n",
       "80                addisonre   88525000.0      10400000.0   609750.0   4200.0   \n",
       "2495              willsmith   73000000.0       4700000.0   514600.0   2200.0   \n",
       "...                     ...          ...             ...        ...      ...   \n",
       "2194  soapinmymouthoncemore       5100.0        943300.0   189600.0   1900.0   \n",
       "1222           juliaaliceaa       3700.0       2200000.0   550300.0   3100.0   \n",
       "128            alexbatistao       3200.0        951700.0    46600.0   1700.0   \n",
       "1408           leonardzbant       3000.0       1700000.0   131200.0    486.0   \n",
       "207          apollolikesblu       3000.0        702300.0   124500.0   9500.0   \n",
       "\n",
       "           shares views_ratio likes_ratio comments_ratio share_ratio  \n",
       "1294       7625.0    0.114142    0.013724        0.00011    0.000051  \n",
       "463        4900.0    0.081967    0.007157        0.00011    0.000033  \n",
       "299   1266.666667    0.073669    0.007591        0.00007    0.000014  \n",
       "80         8500.0    0.117481    0.006888       0.000047    0.000096  \n",
       "2495       2000.0    0.064384    0.007049        0.00003    0.000027  \n",
       "...           ...         ...         ...            ...         ...  \n",
       "2194       3100.0  184.960784   37.176471       0.372549    0.607843  \n",
       "1222      14300.0  594.594595   148.72973       0.837838    3.864865  \n",
       "128       19400.0   297.40625     14.5625        0.53125      6.0625  \n",
       "1408       9600.0  566.666667   43.733333          0.162         3.2  \n",
       "207        2100.0       234.1        41.5       3.166667         0.7  \n",
       "\n",
       "[2582 rows x 10 columns]"
      ]
     },
     "execution_count": 32,
     "metadata": {},
     "output_type": "execute_result"
    }
   ],
   "source": [
    "tt_means"
   ]
  },
  {
   "cell_type": "markdown",
   "metadata": {},
   "source": [
    "## 4. Gráficas del numero de cuentas que inicien por cada letra del alfabeto y agrupar en una categoría todos los que no comiencen con una letra del alfabeto"
   ]
  },
  {
   "cell_type": "code",
   "execution_count": 33,
   "metadata": {
    "tags": []
   },
   "outputs": [
    {
     "data": {
      "image/png": "[encoded data removed]",
      "text/plain": [
       "<Figure size 720x432 with 1 Axes>"
      ]
     },
     "metadata": {
      "needs_background": "light"
     },
     "output_type": "display_data"
    }
   ],
   "source": [
    "def get_inicial(name: str) -> str:\n",
    "    name = str(name)\n",
    "    first_is_letter = re.search(r'^[a-zA-Z]', name)\n",
    "    if first_is_letter:\n",
    "        return name[0].upper()\n",
    "    else:\n",
    "        return 'other'\n",
    "\n",
    "\n",
    "initials = (\n",
    "    tt_months.name\n",
    "    .map(get_inicial)\n",
    "    .value_counts()\n",
    "    .reset_index(name='frequency')\n",
    "    .rename(columns={\n",
    "        'index': 'letter',\n",
    "        'name': 'letter'\n",
    "    })\n",
    ")\n",
    "plt.figure(figsize=(10, 6)) \n",
    "plt.bar(initials.letter, initials.frequency, color = 'olive')\n",
    "plt.show()"
   ]
  },
  {
   "cell_type": "markdown",
   "metadata": {},
   "source": [
    "## 5. ¿Cual es la cuenta de tiktok con mas caracteres en su nombre?"
   ]
  },
  {
   "cell_type": "code",
   "execution_count": 34,
   "metadata": {
    "tags": []
   },
   "outputs": [],
   "source": [
    "name_len = (\n",
    "    tt_months[['name', 'username']]\n",
    "    .assign(len_name = tt_months.name.map(lambda x: len(str(x))))\n",
    "    .assign(len_username = tt_months.username.map(lambda x: len(str(x))))\n",
    ")\n",
    "tds1 = name_len.loc[name_len.len_name.idxmax()]\n",
    "tds2 = name_len.loc[name_len.len_username.idxmax()]"
   ]
  },
  {
   "cell_type": "code",
   "execution_count": 35,
   "metadata": {
    "tags": []
   },
   "outputs": [
    {
     "data": {
      "text/plain": [
       "name            Squatch and Sons Customs\n",
       "username        squatch.and.sons_customs\n",
       "len_name                              24\n",
       "len_username                          24\n",
       "Name: 1167, dtype: object"
      ]
     },
     "execution_count": 35,
     "metadata": {},
     "output_type": "execute_result"
    }
   ],
   "source": [
    "tds2"
   ]
  },
  {
   "cell_type": "code",
   "execution_count": 36,
   "metadata": {
    "tags": []
   },
   "outputs": [
    {
     "data": {
      "text/plain": [
       "name            Prite Netijen Netirattanapaiboon\n",
       "username                           spriteder_spd\n",
       "len_name                                      32\n",
       "len_username                                  13\n",
       "Name: 1501, dtype: object"
      ]
     },
     "execution_count": 36,
     "metadata": {},
     "output_type": "execute_result"
    }
   ],
   "source": [
    "tds1"
   ]
  },
  {
   "cell_type": "markdown",
   "metadata": {},
   "source": [
    "## 6. Cuántas cuentas de tiktok tienen el nombre del aguno de estos animales: perro, gato, leon tigre?"
   ]
  },
  {
   "cell_type": "code",
   "execution_count": 37,
   "metadata": {
    "tags": []
   },
   "outputs": [
    {
     "name": "stderr",
     "output_type": "stream",
     "text": [
      "/tmp/ipykernel_142691/3064001155.py:1: UserWarning: This pattern is interpreted as a regular expression, and has match groups. To actually get the groups, use str.extract.\n",
      "  (tt_months.username.str.contains(r'^(perro|gato|leon|tigre)$') | tt_months.username.str.contains(r'^(perro|gato|leon|tigre)$')).sum()\n"
     ]
    },
    {
     "data": {
      "text/plain": [
       "0"
      ]
     },
     "execution_count": 37,
     "metadata": {},
     "output_type": "execute_result"
    }
   ],
   "source": [
    "(tt_months.username.str.contains(r'^(perro|gato|leon|tigre)$') | tt_months.username.str.contains(r'^(perro|gato|leon|tigre)$')).sum()"
   ]
  },
  {
   "cell_type": "markdown",
   "metadata": {},
   "source": [
    "## 7. Defina una metrica que identifique las 10 cuentas más importantes de tiktok"
   ]
  },
  {
   "cell_type": "code",
   "execution_count": 38,
   "metadata": {
    "tags": []
   },
   "outputs": [
    {
     "data": {
      "text/html": [
       "<div>\n",
       "<style scoped>\n",
       "    .dataframe tbody tr th:only-of-type {\n",
       "        vertical-align: middle;\n",
       "    }\n",
       "\n",
       "    .dataframe tbody tr th {\n",
       "        vertical-align: top;\n",
       "    }\n",
       "\n",
       "    .dataframe thead th {\n",
       "        text-align: right;\n",
       "    }\n",
       "</style>\n",
       "<table border=\"1\" class=\"dataframe\">\n",
       "  <thead>\n",
       "    <tr style=\"text-align: right;\">\n",
       "      <th></th>\n",
       "      <th>username</th>\n",
       "      <th>gen_engagement</th>\n",
       "    </tr>\n",
       "  </thead>\n",
       "  <tbody>\n",
       "    <tr>\n",
       "      <th>1294</th>\n",
       "      <td>khaby.lame</td>\n",
       "      <td>0.121202</td>\n",
       "    </tr>\n",
       "    <tr>\n",
       "      <th>463</th>\n",
       "      <td>charlidamelio</td>\n",
       "      <td>0.086899</td>\n",
       "    </tr>\n",
       "    <tr>\n",
       "      <th>299</th>\n",
       "      <td>bellapoarch</td>\n",
       "      <td>0.06363</td>\n",
       "    </tr>\n",
       "    <tr>\n",
       "      <th>1306</th>\n",
       "      <td>kimberly.loaiza</td>\n",
       "      <td>0.059311</td>\n",
       "    </tr>\n",
       "    <tr>\n",
       "      <th>658</th>\n",
       "      <td>domelipa</td>\n",
       "      <td>0.05813</td>\n",
       "    </tr>\n",
       "    <tr>\n",
       "      <th>1248</th>\n",
       "      <td>kallmekris</td>\n",
       "      <td>0.054957</td>\n",
       "    </tr>\n",
       "    <tr>\n",
       "      <th>2495</th>\n",
       "      <td>willsmith</td>\n",
       "      <td>0.053737</td>\n",
       "    </tr>\n",
       "    <tr>\n",
       "      <th>2353</th>\n",
       "      <td>therock</td>\n",
       "      <td>0.050176</td>\n",
       "    </tr>\n",
       "    <tr>\n",
       "      <th>1351</th>\n",
       "      <td>kyliejenner</td>\n",
       "      <td>0.047387</td>\n",
       "    </tr>\n",
       "    <tr>\n",
       "      <th>2128</th>\n",
       "      <td>selenagomez</td>\n",
       "      <td>0.046642</td>\n",
       "    </tr>\n",
       "  </tbody>\n",
       "</table>\n",
       "</div>"
      ],
      "text/plain": [
       "             username gen_engagement\n",
       "1294       khaby.lame       0.121202\n",
       "463     charlidamelio       0.086899\n",
       "299       bellapoarch        0.06363\n",
       "1306  kimberly.loaiza       0.059311\n",
       "658          domelipa        0.05813\n",
       "1248       kallmekris       0.054957\n",
       "2495        willsmith       0.053737\n",
       "2353          therock       0.050176\n",
       "1351      kyliejenner       0.047387\n",
       "2128      selenagomez       0.046642"
      ]
     },
     "execution_count": 38,
     "metadata": {},
     "output_type": "execute_result"
    }
   ],
   "source": [
    "tt_means = (\n",
    "    tt_means\n",
    "    .assign(\n",
    "        gen_engagement = ((tt_means.comments / tt_means.views) + (tt_means.likes / tt_means.views)) * (tt_means.subs / max(tt_means.subs))\n",
    "    )\n",
    "    .sort_values(['gen_engagement'], ascending=False)\n",
    ")\n",
    "tt_means[['username', 'gen_engagement']].head(10)"
   ]
  },
  {
   "cell_type": "markdown",
   "metadata": {},
   "source": [
    "## 8. Grafique una serie de tiempo de las cuentas que tengan al menos 3 datos de meses distintos de los promedios obtenidos en el inciso II"
   ]
  },
  {
   "cell_type": "code",
   "execution_count": 39,
   "metadata": {},
   "outputs": [
    {
     "data": {
      "text/html": [
       "<div>\n",
       "<style scoped>\n",
       "    .dataframe tbody tr th:only-of-type {\n",
       "        vertical-align: middle;\n",
       "    }\n",
       "\n",
       "    .dataframe tbody tr th {\n",
       "        vertical-align: top;\n",
       "    }\n",
       "\n",
       "    .dataframe thead th {\n",
       "        text-align: right;\n",
       "    }\n",
       "</style>\n",
       "<table border=\"1\" class=\"dataframe\">\n",
       "  <thead>\n",
       "    <tr style=\"text-align: right;\">\n",
       "      <th></th>\n",
       "      <th>username</th>\n",
       "      <th>name</th>\n",
       "      <th>subs</th>\n",
       "      <th>views</th>\n",
       "      <th>likes</th>\n",
       "      <th>comments</th>\n",
       "      <th>shares</th>\n",
       "      <th>month</th>\n",
       "    </tr>\n",
       "  </thead>\n",
       "  <tbody>\n",
       "  </tbody>\n",
       "</table>\n",
       "</div>"
      ],
      "text/plain": [
       "Empty DataFrame\n",
       "Columns: [username, name, subs, views, likes, comments, shares, month]\n",
       "Index: []"
      ]
     },
     "execution_count": 39,
     "metadata": {},
     "output_type": "execute_result"
    }
   ],
   "source": [
    "tt_months.head(0)"
   ]
  }
 ],
 "metadata": {
  "kernelspec": {
   "display_name": "Python 3 (ipykernel)",
   "language": "python",
   "name": "python3"
  },
  "language_info": {
   "codemirror_mode": {
    "name": "ipython",
    "version": 3
   },
   "file_extension": ".py",
   "mimetype": "text/x-python",
   "name": "python",
   "nbconvert_exporter": "python",
   "pygments_lexer": "ipython3",
   "version": "3.11.3"
  }
 },
 "nbformat": 4,
 "nbformat_minor": 4
}
