{
 "cells": [
  {
   "attachments": {},
   "cell_type": "markdown",
   "metadata": {},
   "source": [
    "# Tiktok"
   ]
  },
  {
   "cell_type": "code",
   "execution_count": 172,
   "metadata": {
    "tags": []
   },
   "outputs": [],
   "source": [
    "import numpy as np\n",
    "import pandas as pd\n",
    "import matplotlib.pyplot as plt\n",
    "import seaborn as sns\n",
    "import pathlib\n",
    "import re\n",
    "from difflib import SequenceMatcher"
   ]
  },
  {
   "cell_type": "code",
   "execution_count": 173,
   "metadata": {
    "tags": []
   },
   "outputs": [
    {
     "data": {
      "text/plain": [
       "8056"
      ]
     },
     "execution_count": 173,
     "metadata": {},
     "output_type": "execute_result"
    }
   ],
   "source": [
    "tt_june = (\n",
    "    pd.read_csv('DATA/tiktokjune2022.csv')\n",
    "    .assign(Month='June')\n",
    "    .rename(columns={\n",
    "        \"Tiktoker\": \"username\",\n",
    "        \"influencer name\":\"name\",\n",
    "        \"Subscribers count\": \"subs\",\n",
    "        \"Views avg.\": \"views\",\n",
    "        \"Likes avg\": \"likes\",\n",
    "        \"Comments avg.\": \"comments\",\n",
    "        \"Shares avg\": \"shares\",\n",
    "        \"Month\": \"month\"\n",
    "    })\n",
    ")\n",
    "tt_june.size"
   ]
  },
  {
   "cell_type": "code",
   "execution_count": 174,
   "metadata": {
    "tags": []
   },
   "outputs": [
    {
     "data": {
      "text/plain": [
       "8000"
      ]
     },
     "execution_count": 174,
     "metadata": {},
     "output_type": "execute_result"
    }
   ],
   "source": [
    "tt_sep = (\n",
    "    pd.read_csv('DATA/Tiktoksep2022.csv')\n",
    "    .assign(Month='September')\n",
    "    .rename(columns={\n",
    "        \"Tiktoker name\": \"username\",\n",
    "        \"Tiktok name\":\"name\",\n",
    "        \"Subscribers\": \"subs\",\n",
    "        \"Views avg.\": \"views\",\n",
    "        \"Likes avg.\": \"likes\",\n",
    "        \"Comments avg.\": \"comments\",\n",
    "        \"Shares avg.\": \"shares\",\n",
    "        \"Month\": \"month\"\n",
    "    })\n",
    "    .drop(\"S.no\", axis=1)\n",
    ")\n",
    "tt_sep.size"
   ]
  },
  {
   "cell_type": "code",
   "execution_count": 175,
   "metadata": {
    "tags": []
   },
   "outputs": [
    {
     "data": {
      "text/plain": [
       "8000"
      ]
     },
     "execution_count": 175,
     "metadata": {},
     "output_type": "execute_result"
    }
   ],
   "source": [
    "tt_nov = (\n",
    "    pd.read_csv('DATA/tiktoknov2022.csv')\n",
    "    .assign(Month='November')\n",
    "    .rename(columns={\n",
    "        \"Tiktoker name\": \"username\",\n",
    "        \"Tiktok name\":\"name\",\n",
    "        \"\\nFollowers\": \"subs\",\n",
    "        \"Views (Avg.)\": \"views\",\n",
    "        \"Likes (Avg.)\": \"likes\",\n",
    "        \"Comments (Avg.)\": \"comments\",\n",
    "        \"Shares (Avg.)\": \"shares\",\n",
    "        \"Month\": \"month\"\n",
    "    })\n",
    "    .drop(\"row-cell\", axis=1)\n",
    "    .drop(0)\n",
    ")\n",
    "tt_nov.size"
   ]
  },
  {
   "cell_type": "code",
   "execution_count": 176,
   "metadata": {
    "tags": []
   },
   "outputs": [
    {
     "data": {
      "text/plain": [
       "8000"
      ]
     },
     "execution_count": 176,
     "metadata": {},
     "output_type": "execute_result"
    }
   ],
   "source": [
    "tt_dec = (\n",
    "    pd.read_csv('DATA/TIKTOKDEC2022.csv')\n",
    "    .assign(Month='December')\n",
    "    .rename(columns={\n",
    "        \"Tiktoker name\": \"username\",\n",
    "        \"Tiktok name\":\"name\",\n",
    "        \"followers\": \"subs\",\n",
    "        \"views(avg)\": \"views\",\n",
    "        \"likes(avg.)\": \"likes\",\n",
    "        \"comments(avg.)\": \"comments\",\n",
    "        \"shares(avg.)\": \"shares\",\n",
    "        \"Month\": \"month\"\n",
    "    })\n",
    "    .drop(\"Rank\", axis=1)\n",
    ")\n",
    "tt_dec.size"
   ]
  },
  {
   "cell_type": "code",
   "execution_count": 177,
   "metadata": {
    "tags": []
   },
   "outputs": [],
   "source": [
    "def cientific_int(column: pd.Series) -> pd.Series:\n",
    "    return (\n",
    "        column\n",
    "        .fillna('0')\n",
    "        .replace({'K': '*1e3', 'M': '*1e6', 'G':'*1e9'}, regex=True)\n",
    "        .map(pd.eval)\n",
    "        .astype(int)\n",
    "        .replace(0, np.nan)\n",
    "    )\n",
    "\n",
    "\n",
    "numeric_text_cols = ['subs', 'views', 'likes', 'comments', 'shares']\n",
    "\n",
    "tt_june.loc[:, numeric_text_cols] = tt_june[numeric_text_cols].apply(cientific_int)\n",
    "tt_sep.loc[:, numeric_text_cols] = tt_sep[numeric_text_cols].apply(cientific_int)\n",
    "tt_nov.loc[:, numeric_text_cols] = tt_nov[numeric_text_cols].apply(cientific_int)\n",
    "tt_dec.loc[:, numeric_text_cols] = tt_dec[numeric_text_cols].apply(cientific_int)"
   ]
  },
  {
   "cell_type": "code",
   "execution_count": 178,
   "metadata": {},
   "outputs": [],
   "source": [
    "tt_june = (\n",
    "    tt_june\n",
    "    .sort_values(['subs', 'views', 'likes', 'comments', 'shares'], ascending=False)\n",
    "    .drop_duplicates(subset='username', keep='first')\n",
    ")"
   ]
  },
  {
   "cell_type": "code",
   "execution_count": 179,
   "metadata": {},
   "outputs": [],
   "source": [
    "tt_sep = (\n",
    "    tt_sep\n",
    "    .sort_values(['subs', 'views', 'likes', 'comments', 'shares'], ascending=False)\n",
    "    .drop_duplicates(subset='username', keep='first')\n",
    ")"
   ]
  },
  {
   "cell_type": "code",
   "execution_count": 180,
   "metadata": {},
   "outputs": [],
   "source": [
    "tt_nov = (\n",
    "    tt_nov\n",
    "    .sort_values(['subs', 'views', 'likes', 'comments', 'shares'], ascending=False)\n",
    "    .drop_duplicates(subset='username', keep='first')\n",
    ")"
   ]
  },
  {
   "cell_type": "code",
   "execution_count": 181,
   "metadata": {},
   "outputs": [],
   "source": [
    "tt_dec = (\n",
    "    tt_dec\n",
    "    .sort_values(['subs', 'views', 'likes', 'comments', 'shares'], ascending=False)\n",
    "    .drop_duplicates(subset='username', keep='first')\n",
    ")"
   ]
  },
  {
   "cell_type": "code",
   "execution_count": 182,
   "metadata": {
    "tags": []
   },
   "outputs": [
    {
     "data": {
      "text/plain": [
       "31744"
      ]
     },
     "execution_count": 182,
     "metadata": {},
     "output_type": "execute_result"
    }
   ],
   "source": [
    "tt_months = (\n",
    "    pd.concat([tt_june, tt_sep, tt_nov, tt_dec], ignore_index=True)\n",
    "    .drop_duplicates()\n",
    ")\n",
    "\n",
    "tt_months.size"
   ]
  },
  {
   "attachments": {},
   "cell_type": "markdown",
   "metadata": {},
   "source": [
    "# Análisis"
   ]
  },
  {
   "attachments": {},
   "cell_type": "markdown",
   "metadata": {},
   "source": [
    "## 1. Tenemos 3055 cuentas únicas en nuestros registros de tiktok\n"
   ]
  },
  {
   "cell_type": "code",
   "execution_count": 183,
   "metadata": {
    "tags": []
   },
   "outputs": [
    {
     "data": {
      "text/plain": [
       "2582"
      ]
     },
     "execution_count": 183,
     "metadata": {},
     "output_type": "execute_result"
    }
   ],
   "source": [
    "tt_months.username.drop_duplicates().size"
   ]
  },
  {
   "attachments": {},
   "cell_type": "markdown",
   "metadata": {},
   "source": [
    "## 2. Medias de followers, views, likes, comments y shares de cada cuenta"
   ]
  },
  {
   "cell_type": "code",
   "execution_count": 184,
   "metadata": {
    "tags": []
   },
   "outputs": [],
   "source": [
    "tt_means = (\n",
    "    tt_months\n",
    "    .groupby('username')\n",
    "     # aggregate functiosn skips nan by deffault\n",
    "    .aggregate({\n",
    "        'subs': 'mean',\n",
    "        'views': 'mean',\n",
    "        'likes': 'mean',\n",
    "        'comments': 'mean',\n",
    "        'shares': 'mean'\n",
    "    })    \n",
    "    .reset_index()\n",
    "    .sort_values('subs', ascending=False)\n",
    ")"
   ]
  },
  {
   "cell_type": "code",
   "execution_count": 185,
   "metadata": {
    "tags": []
   },
   "outputs": [
    {
     "data": {
      "text/html": [
       "<div>\n",
       "<style scoped>\n",
       "    .dataframe tbody tr th:only-of-type {\n",
       "        vertical-align: middle;\n",
       "    }\n",
       "\n",
       "    .dataframe tbody tr th {\n",
       "        vertical-align: top;\n",
       "    }\n",
       "\n",
       "    .dataframe thead th {\n",
       "        text-align: right;\n",
       "    }\n",
       "</style>\n",
       "<table border=\"1\" class=\"dataframe\">\n",
       "  <thead>\n",
       "    <tr style=\"text-align: right;\">\n",
       "      <th></th>\n",
       "      <th>username</th>\n",
       "      <th>subs</th>\n",
       "      <th>views</th>\n",
       "      <th>likes</th>\n",
       "      <th>comments</th>\n",
       "      <th>shares</th>\n",
       "    </tr>\n",
       "  </thead>\n",
       "  <tbody>\n",
       "    <tr>\n",
       "      <th>1294</th>\n",
       "      <td>khaby.lame</td>\n",
       "      <td>149375000.0</td>\n",
       "      <td>1.705000e+07</td>\n",
       "      <td>2050000.0</td>\n",
       "      <td>16500.0</td>\n",
       "      <td>7625.000000</td>\n",
       "    </tr>\n",
       "    <tr>\n",
       "      <th>463</th>\n",
       "      <td>charlidamelio</td>\n",
       "      <td>146400000.0</td>\n",
       "      <td>1.200000e+07</td>\n",
       "      <td>1047800.0</td>\n",
       "      <td>16175.0</td>\n",
       "      <td>4900.000000</td>\n",
       "    </tr>\n",
       "    <tr>\n",
       "      <th>299</th>\n",
       "      <td>bellapoarch</td>\n",
       "      <td>91400000.0</td>\n",
       "      <td>6.733333e+06</td>\n",
       "      <td>693800.0</td>\n",
       "      <td>6400.0</td>\n",
       "      <td>1266.666667</td>\n",
       "    </tr>\n",
       "    <tr>\n",
       "      <th>80</th>\n",
       "      <td>addisonre</td>\n",
       "      <td>88525000.0</td>\n",
       "      <td>1.040000e+07</td>\n",
       "      <td>609750.0</td>\n",
       "      <td>4200.0</td>\n",
       "      <td>8500.000000</td>\n",
       "    </tr>\n",
       "    <tr>\n",
       "      <th>2495</th>\n",
       "      <td>willsmith</td>\n",
       "      <td>73000000.0</td>\n",
       "      <td>4.700000e+06</td>\n",
       "      <td>514600.0</td>\n",
       "      <td>2200.0</td>\n",
       "      <td>2000.000000</td>\n",
       "    </tr>\n",
       "    <tr>\n",
       "      <th>...</th>\n",
       "      <td>...</td>\n",
       "      <td>...</td>\n",
       "      <td>...</td>\n",
       "      <td>...</td>\n",
       "      <td>...</td>\n",
       "      <td>...</td>\n",
       "    </tr>\n",
       "    <tr>\n",
       "      <th>2194</th>\n",
       "      <td>soapinmymouthoncemore</td>\n",
       "      <td>5100.0</td>\n",
       "      <td>9.433000e+05</td>\n",
       "      <td>189600.0</td>\n",
       "      <td>1900.0</td>\n",
       "      <td>3100.000000</td>\n",
       "    </tr>\n",
       "    <tr>\n",
       "      <th>1222</th>\n",
       "      <td>juliaaliceaa</td>\n",
       "      <td>3700.0</td>\n",
       "      <td>2.200000e+06</td>\n",
       "      <td>550300.0</td>\n",
       "      <td>3100.0</td>\n",
       "      <td>14300.000000</td>\n",
       "    </tr>\n",
       "    <tr>\n",
       "      <th>128</th>\n",
       "      <td>alexbatistao</td>\n",
       "      <td>3200.0</td>\n",
       "      <td>9.517000e+05</td>\n",
       "      <td>46600.0</td>\n",
       "      <td>1700.0</td>\n",
       "      <td>19400.000000</td>\n",
       "    </tr>\n",
       "    <tr>\n",
       "      <th>1408</th>\n",
       "      <td>leonardzbant</td>\n",
       "      <td>3000.0</td>\n",
       "      <td>1.700000e+06</td>\n",
       "      <td>131200.0</td>\n",
       "      <td>486.0</td>\n",
       "      <td>9600.000000</td>\n",
       "    </tr>\n",
       "    <tr>\n",
       "      <th>207</th>\n",
       "      <td>apollolikesblu</td>\n",
       "      <td>3000.0</td>\n",
       "      <td>7.023000e+05</td>\n",
       "      <td>124500.0</td>\n",
       "      <td>9500.0</td>\n",
       "      <td>2100.000000</td>\n",
       "    </tr>\n",
       "  </tbody>\n",
       "</table>\n",
       "<p>2582 rows × 6 columns</p>\n",
       "</div>"
      ],
      "text/plain": [
       "                   username         subs         views      likes  comments  \\\n",
       "1294             khaby.lame  149375000.0  1.705000e+07  2050000.0   16500.0   \n",
       "463           charlidamelio  146400000.0  1.200000e+07  1047800.0   16175.0   \n",
       "299             bellapoarch   91400000.0  6.733333e+06   693800.0    6400.0   \n",
       "80                addisonre   88525000.0  1.040000e+07   609750.0    4200.0   \n",
       "2495              willsmith   73000000.0  4.700000e+06   514600.0    2200.0   \n",
       "...                     ...          ...           ...        ...       ...   \n",
       "2194  soapinmymouthoncemore       5100.0  9.433000e+05   189600.0    1900.0   \n",
       "1222           juliaaliceaa       3700.0  2.200000e+06   550300.0    3100.0   \n",
       "128            alexbatistao       3200.0  9.517000e+05    46600.0    1700.0   \n",
       "1408           leonardzbant       3000.0  1.700000e+06   131200.0     486.0   \n",
       "207          apollolikesblu       3000.0  7.023000e+05   124500.0    9500.0   \n",
       "\n",
       "            shares  \n",
       "1294   7625.000000  \n",
       "463    4900.000000  \n",
       "299    1266.666667  \n",
       "80     8500.000000  \n",
       "2495   2000.000000  \n",
       "...            ...  \n",
       "2194   3100.000000  \n",
       "1222  14300.000000  \n",
       "128   19400.000000  \n",
       "1408   9600.000000  \n",
       "207    2100.000000  \n",
       "\n",
       "[2582 rows x 6 columns]"
      ]
     },
     "execution_count": 185,
     "metadata": {},
     "output_type": "execute_result"
    }
   ],
   "source": [
    "tt_means"
   ]
  },
  {
   "attachments": {},
   "cell_type": "markdown",
   "metadata": {},
   "source": [
    "## 3. Métricas de valor"
   ]
  },
  {
   "cell_type": "code",
   "execution_count": 186,
   "metadata": {
    "tags": []
   },
   "outputs": [],
   "source": [
    "tt_means['views_ratio'] = tt_means.views / tt_means.subs\n",
    "tt_means['likes_ratio'] = tt_means.likes / tt_means.subs\n",
    "tt_means['comments_ratio'] = tt_means.comments / tt_means.subs\n",
    "tt_means['share_ratio'] = tt_means.shares / tt_means.subs"
   ]
  },
  {
   "cell_type": "code",
   "execution_count": 187,
   "metadata": {
    "tags": []
   },
   "outputs": [
    {
     "data": {
      "text/html": [
       "<div>\n",
       "<style scoped>\n",
       "    .dataframe tbody tr th:only-of-type {\n",
       "        vertical-align: middle;\n",
       "    }\n",
       "\n",
       "    .dataframe tbody tr th {\n",
       "        vertical-align: top;\n",
       "    }\n",
       "\n",
       "    .dataframe thead th {\n",
       "        text-align: right;\n",
       "    }\n",
       "</style>\n",
       "<table border=\"1\" class=\"dataframe\">\n",
       "  <thead>\n",
       "    <tr style=\"text-align: right;\">\n",
       "      <th></th>\n",
       "      <th>username</th>\n",
       "      <th>subs</th>\n",
       "      <th>views</th>\n",
       "      <th>likes</th>\n",
       "      <th>comments</th>\n",
       "      <th>shares</th>\n",
       "      <th>views_ratio</th>\n",
       "      <th>likes_ratio</th>\n",
       "      <th>comments_ratio</th>\n",
       "      <th>share_ratio</th>\n",
       "    </tr>\n",
       "  </thead>\n",
       "  <tbody>\n",
       "    <tr>\n",
       "      <th>1294</th>\n",
       "      <td>khaby.lame</td>\n",
       "      <td>149375000.0</td>\n",
       "      <td>1.705000e+07</td>\n",
       "      <td>2050000.0</td>\n",
       "      <td>16500.0</td>\n",
       "      <td>7625.000000</td>\n",
       "      <td>0.114142</td>\n",
       "      <td>0.013724</td>\n",
       "      <td>0.000110</td>\n",
       "      <td>0.000051</td>\n",
       "    </tr>\n",
       "    <tr>\n",
       "      <th>463</th>\n",
       "      <td>charlidamelio</td>\n",
       "      <td>146400000.0</td>\n",
       "      <td>1.200000e+07</td>\n",
       "      <td>1047800.0</td>\n",
       "      <td>16175.0</td>\n",
       "      <td>4900.000000</td>\n",
       "      <td>0.081967</td>\n",
       "      <td>0.007157</td>\n",
       "      <td>0.000110</td>\n",
       "      <td>0.000033</td>\n",
       "    </tr>\n",
       "    <tr>\n",
       "      <th>299</th>\n",
       "      <td>bellapoarch</td>\n",
       "      <td>91400000.0</td>\n",
       "      <td>6.733333e+06</td>\n",
       "      <td>693800.0</td>\n",
       "      <td>6400.0</td>\n",
       "      <td>1266.666667</td>\n",
       "      <td>0.073669</td>\n",
       "      <td>0.007591</td>\n",
       "      <td>0.000070</td>\n",
       "      <td>0.000014</td>\n",
       "    </tr>\n",
       "    <tr>\n",
       "      <th>80</th>\n",
       "      <td>addisonre</td>\n",
       "      <td>88525000.0</td>\n",
       "      <td>1.040000e+07</td>\n",
       "      <td>609750.0</td>\n",
       "      <td>4200.0</td>\n",
       "      <td>8500.000000</td>\n",
       "      <td>0.117481</td>\n",
       "      <td>0.006888</td>\n",
       "      <td>0.000047</td>\n",
       "      <td>0.000096</td>\n",
       "    </tr>\n",
       "    <tr>\n",
       "      <th>2495</th>\n",
       "      <td>willsmith</td>\n",
       "      <td>73000000.0</td>\n",
       "      <td>4.700000e+06</td>\n",
       "      <td>514600.0</td>\n",
       "      <td>2200.0</td>\n",
       "      <td>2000.000000</td>\n",
       "      <td>0.064384</td>\n",
       "      <td>0.007049</td>\n",
       "      <td>0.000030</td>\n",
       "      <td>0.000027</td>\n",
       "    </tr>\n",
       "    <tr>\n",
       "      <th>...</th>\n",
       "      <td>...</td>\n",
       "      <td>...</td>\n",
       "      <td>...</td>\n",
       "      <td>...</td>\n",
       "      <td>...</td>\n",
       "      <td>...</td>\n",
       "      <td>...</td>\n",
       "      <td>...</td>\n",
       "      <td>...</td>\n",
       "      <td>...</td>\n",
       "    </tr>\n",
       "    <tr>\n",
       "      <th>2194</th>\n",
       "      <td>soapinmymouthoncemore</td>\n",
       "      <td>5100.0</td>\n",
       "      <td>9.433000e+05</td>\n",
       "      <td>189600.0</td>\n",
       "      <td>1900.0</td>\n",
       "      <td>3100.000000</td>\n",
       "      <td>184.960784</td>\n",
       "      <td>37.176471</td>\n",
       "      <td>0.372549</td>\n",
       "      <td>0.607843</td>\n",
       "    </tr>\n",
       "    <tr>\n",
       "      <th>1222</th>\n",
       "      <td>juliaaliceaa</td>\n",
       "      <td>3700.0</td>\n",
       "      <td>2.200000e+06</td>\n",
       "      <td>550300.0</td>\n",
       "      <td>3100.0</td>\n",
       "      <td>14300.000000</td>\n",
       "      <td>594.594595</td>\n",
       "      <td>148.729730</td>\n",
       "      <td>0.837838</td>\n",
       "      <td>3.864865</td>\n",
       "    </tr>\n",
       "    <tr>\n",
       "      <th>128</th>\n",
       "      <td>alexbatistao</td>\n",
       "      <td>3200.0</td>\n",
       "      <td>9.517000e+05</td>\n",
       "      <td>46600.0</td>\n",
       "      <td>1700.0</td>\n",
       "      <td>19400.000000</td>\n",
       "      <td>297.406250</td>\n",
       "      <td>14.562500</td>\n",
       "      <td>0.531250</td>\n",
       "      <td>6.062500</td>\n",
       "    </tr>\n",
       "    <tr>\n",
       "      <th>1408</th>\n",
       "      <td>leonardzbant</td>\n",
       "      <td>3000.0</td>\n",
       "      <td>1.700000e+06</td>\n",
       "      <td>131200.0</td>\n",
       "      <td>486.0</td>\n",
       "      <td>9600.000000</td>\n",
       "      <td>566.666667</td>\n",
       "      <td>43.733333</td>\n",
       "      <td>0.162000</td>\n",
       "      <td>3.200000</td>\n",
       "    </tr>\n",
       "    <tr>\n",
       "      <th>207</th>\n",
       "      <td>apollolikesblu</td>\n",
       "      <td>3000.0</td>\n",
       "      <td>7.023000e+05</td>\n",
       "      <td>124500.0</td>\n",
       "      <td>9500.0</td>\n",
       "      <td>2100.000000</td>\n",
       "      <td>234.100000</td>\n",
       "      <td>41.500000</td>\n",
       "      <td>3.166667</td>\n",
       "      <td>0.700000</td>\n",
       "    </tr>\n",
       "  </tbody>\n",
       "</table>\n",
       "<p>2582 rows × 10 columns</p>\n",
       "</div>"
      ],
      "text/plain": [
       "                   username         subs         views      likes  comments  \\\n",
       "1294             khaby.lame  149375000.0  1.705000e+07  2050000.0   16500.0   \n",
       "463           charlidamelio  146400000.0  1.200000e+07  1047800.0   16175.0   \n",
       "299             bellapoarch   91400000.0  6.733333e+06   693800.0    6400.0   \n",
       "80                addisonre   88525000.0  1.040000e+07   609750.0    4200.0   \n",
       "2495              willsmith   73000000.0  4.700000e+06   514600.0    2200.0   \n",
       "...                     ...          ...           ...        ...       ...   \n",
       "2194  soapinmymouthoncemore       5100.0  9.433000e+05   189600.0    1900.0   \n",
       "1222           juliaaliceaa       3700.0  2.200000e+06   550300.0    3100.0   \n",
       "128            alexbatistao       3200.0  9.517000e+05    46600.0    1700.0   \n",
       "1408           leonardzbant       3000.0  1.700000e+06   131200.0     486.0   \n",
       "207          apollolikesblu       3000.0  7.023000e+05   124500.0    9500.0   \n",
       "\n",
       "            shares  views_ratio  likes_ratio  comments_ratio  share_ratio  \n",
       "1294   7625.000000     0.114142     0.013724        0.000110     0.000051  \n",
       "463    4900.000000     0.081967     0.007157        0.000110     0.000033  \n",
       "299    1266.666667     0.073669     0.007591        0.000070     0.000014  \n",
       "80     8500.000000     0.117481     0.006888        0.000047     0.000096  \n",
       "2495   2000.000000     0.064384     0.007049        0.000030     0.000027  \n",
       "...            ...          ...          ...             ...          ...  \n",
       "2194   3100.000000   184.960784    37.176471        0.372549     0.607843  \n",
       "1222  14300.000000   594.594595   148.729730        0.837838     3.864865  \n",
       "128   19400.000000   297.406250    14.562500        0.531250     6.062500  \n",
       "1408   9600.000000   566.666667    43.733333        0.162000     3.200000  \n",
       "207    2100.000000   234.100000    41.500000        3.166667     0.700000  \n",
       "\n",
       "[2582 rows x 10 columns]"
      ]
     },
     "execution_count": 187,
     "metadata": {},
     "output_type": "execute_result"
    }
   ],
   "source": [
    "tt_means"
   ]
  },
  {
   "attachments": {},
   "cell_type": "markdown",
   "metadata": {},
   "source": [
    "## 4. Gráficas del numero de cuentas que inicien por cada letra del alfabeto y agrupar en una categoría todos los que no comiencen con una letra del alfabeto"
   ]
  },
  {
   "cell_type": "code",
   "execution_count": 188,
   "metadata": {
    "tags": []
   },
   "outputs": [
    {
     "data": {
      "image/png": "[encoded data removed]",
      "text/plain": [
       "<Figure size 1000x600 with 1 Axes>"
      ]
     },
     "metadata": {},
     "output_type": "display_data"
    }
   ],
   "source": [
    "def get_inicial(name: str) -> str:\n",
    "    name = str(name)\n",
    "    first_is_letter = re.search(r'^[a-zA-Z]', name)\n",
    "    if first_is_letter:\n",
    "        return name[0].upper()\n",
    "    else:\n",
    "        return 'other'\n",
    "\n",
    "\n",
    "initials = (\n",
    "    tt_months.name\n",
    "    .map(get_inicial)\n",
    "    .value_counts()\n",
    "    .reset_index(name='frequency')\n",
    "    .rename(columns={\n",
    "        'index': 'letter',\n",
    "        'name': 'letter'\n",
    "    })\n",
    ")\n",
    "plt.figure(figsize=(10, 6)) \n",
    "plt.bar(initials.letter, initials.frequency, color = 'olive')\n",
    "plt.show()"
   ]
  },
  {
   "attachments": {},
   "cell_type": "markdown",
   "metadata": {},
   "source": [
    "## 5. ¿Cual es la cuenta de tiktok con mas caracteres en su nombre?"
   ]
  },
  {
   "cell_type": "code",
   "execution_count": 189,
   "metadata": {
    "tags": []
   },
   "outputs": [],
   "source": [
    "name_len = (\n",
    "    tt_months[['name', 'username']]\n",
    "    .assign(len_name = tt_months.name.map(lambda x: len(str(x))))\n",
    "    .assign(len_username = tt_months.username.map(lambda x: len(str(x))))\n",
    ")\n",
    "tds1 = name_len.loc[name_len.len_name.idxmax()]\n",
    "tds2 = name_len.loc[name_len.len_username.idxmax()]"
   ]
  },
  {
   "cell_type": "code",
   "execution_count": 190,
   "metadata": {
    "tags": []
   },
   "outputs": [
    {
     "data": {
      "text/plain": [
       "name            Isaac H.P Karaoke Backup\n",
       "username        isaac.h.p.karaoke.backup\n",
       "len_name                              24\n",
       "len_username                          24\n",
       "Name: 1690, dtype: object"
      ]
     },
     "execution_count": 190,
     "metadata": {},
     "output_type": "execute_result"
    }
   ],
   "source": [
    "tds2"
   ]
  },
  {
   "cell_type": "code",
   "execution_count": 191,
   "metadata": {
    "tags": []
   },
   "outputs": [
    {
     "data": {
      "text/plain": [
       "name            Prite Netijen Netirattanapaiboon\n",
       "username                           spriteder_spd\n",
       "len_name                                      32\n",
       "len_username                                  13\n",
       "Name: 1428, dtype: object"
      ]
     },
     "execution_count": 191,
     "metadata": {},
     "output_type": "execute_result"
    }
   ],
   "source": [
    "tds1"
   ]
  },
  {
   "attachments": {},
   "cell_type": "markdown",
   "metadata": {},
   "source": [
    "## 6. Cuántas cuentas de tiktok tienen el nombre del aguno de estos animales: perro, gato, leon tigre?"
   ]
  },
  {
   "cell_type": "code",
   "execution_count": 192,
   "metadata": {
    "tags": []
   },
   "outputs": [
    {
     "name": "stderr",
     "output_type": "stream",
     "text": [
      "/tmp/ipykernel_76637/3064001155.py:1: UserWarning: This pattern is interpreted as a regular expression, and has match groups. To actually get the groups, use str.extract.\n",
      "  (tt_months.username.str.contains(r'^(perro|gato|leon|tigre)$') | tt_months.username.str.contains(r'^(perro|gato|leon|tigre)$')).sum()\n"
     ]
    },
    {
     "data": {
      "text/plain": [
       "0"
      ]
     },
     "execution_count": 192,
     "metadata": {},
     "output_type": "execute_result"
    }
   ],
   "source": [
    "(tt_months.username.str.contains(r'^(perro|gato|leon|tigre)$') | tt_months.username.str.contains(r'^(perro|gato|leon|tigre)$')).sum()"
   ]
  },
  {
   "attachments": {},
   "cell_type": "markdown",
   "metadata": {},
   "source": [
    "## 7. Defina una metrica que identifique las 10 cuentas más importantes de tiktok"
   ]
  },
  {
   "cell_type": "code",
   "execution_count": 197,
   "metadata": {},
   "outputs": [
    {
     "data": {
      "text/html": [
       "<div>\n",
       "<style scoped>\n",
       "    .dataframe tbody tr th:only-of-type {\n",
       "        vertical-align: middle;\n",
       "    }\n",
       "\n",
       "    .dataframe tbody tr th {\n",
       "        vertical-align: top;\n",
       "    }\n",
       "\n",
       "    .dataframe thead th {\n",
       "        text-align: right;\n",
       "    }\n",
       "</style>\n",
       "<table border=\"1\" class=\"dataframe\">\n",
       "  <thead>\n",
       "    <tr style=\"text-align: right;\">\n",
       "      <th></th>\n",
       "      <th>username</th>\n",
       "      <th>subs</th>\n",
       "      <th>views</th>\n",
       "      <th>likes</th>\n",
       "      <th>comments</th>\n",
       "      <th>shares</th>\n",
       "      <th>views_ratio</th>\n",
       "      <th>likes_ratio</th>\n",
       "      <th>comments_ratio</th>\n",
       "      <th>share_ratio</th>\n",
       "      <th>gen_engagement</th>\n",
       "    </tr>\n",
       "  </thead>\n",
       "  <tbody>\n",
       "  </tbody>\n",
       "</table>\n",
       "</div>"
      ],
      "text/plain": [
       "Empty DataFrame\n",
       "Columns: [username, subs, views, likes, comments, shares, views_ratio, likes_ratio, comments_ratio, share_ratio, gen_engagement]\n",
       "Index: []"
      ]
     },
     "execution_count": 197,
     "metadata": {},
     "output_type": "execute_result"
    }
   ],
   "source": [
    "tt_means.head(0)"
   ]
  },
  {
   "cell_type": "code",
   "execution_count": 202,
   "metadata": {
    "tags": []
   },
   "outputs": [
    {
     "data": {
      "text/html": [
       "<div>\n",
       "<style scoped>\n",
       "    .dataframe tbody tr th:only-of-type {\n",
       "        vertical-align: middle;\n",
       "    }\n",
       "\n",
       "    .dataframe tbody tr th {\n",
       "        vertical-align: top;\n",
       "    }\n",
       "\n",
       "    .dataframe thead th {\n",
       "        text-align: right;\n",
       "    }\n",
       "</style>\n",
       "<table border=\"1\" class=\"dataframe\">\n",
       "  <thead>\n",
       "    <tr style=\"text-align: right;\">\n",
       "      <th></th>\n",
       "      <th>username</th>\n",
       "      <th>gen_engagement</th>\n",
       "    </tr>\n",
       "  </thead>\n",
       "  <tbody>\n",
       "    <tr>\n",
       "      <th>1294</th>\n",
       "      <td>khaby.lame</td>\n",
       "      <td>0.121650</td>\n",
       "    </tr>\n",
       "    <tr>\n",
       "      <th>463</th>\n",
       "      <td>charlidamelio</td>\n",
       "      <td>0.087299</td>\n",
       "    </tr>\n",
       "    <tr>\n",
       "      <th>299</th>\n",
       "      <td>bellapoarch</td>\n",
       "      <td>0.063745</td>\n",
       "    </tr>\n",
       "    <tr>\n",
       "      <th>1306</th>\n",
       "      <td>kimberly.loaiza</td>\n",
       "      <td>0.059500</td>\n",
       "    </tr>\n",
       "    <tr>\n",
       "      <th>658</th>\n",
       "      <td>domelipa</td>\n",
       "      <td>0.058278</td>\n",
       "    </tr>\n",
       "    <tr>\n",
       "      <th>1248</th>\n",
       "      <td>kallmekris</td>\n",
       "      <td>0.055098</td>\n",
       "    </tr>\n",
       "    <tr>\n",
       "      <th>2495</th>\n",
       "      <td>willsmith</td>\n",
       "      <td>0.053944</td>\n",
       "    </tr>\n",
       "    <tr>\n",
       "      <th>2353</th>\n",
       "      <td>therock</td>\n",
       "      <td>0.050585</td>\n",
       "    </tr>\n",
       "    <tr>\n",
       "      <th>1351</th>\n",
       "      <td>kyliejenner</td>\n",
       "      <td>0.047452</td>\n",
       "    </tr>\n",
       "    <tr>\n",
       "      <th>2128</th>\n",
       "      <td>selenagomez</td>\n",
       "      <td>0.046800</td>\n",
       "    </tr>\n",
       "  </tbody>\n",
       "</table>\n",
       "</div>"
      ],
      "text/plain": [
       "             username  gen_engagement\n",
       "1294       khaby.lame        0.121650\n",
       "463     charlidamelio        0.087299\n",
       "299       bellapoarch        0.063745\n",
       "1306  kimberly.loaiza        0.059500\n",
       "658          domelipa        0.058278\n",
       "1248       kallmekris        0.055098\n",
       "2495        willsmith        0.053944\n",
       "2353          therock        0.050585\n",
       "1351      kyliejenner        0.047452\n",
       "2128      selenagomez        0.046800"
      ]
     },
     "execution_count": 202,
     "metadata": {},
     "output_type": "execute_result"
    }
   ],
   "source": [
    "tt_means = (\n",
    "    tt_means\n",
    "    .assign(\n",
    "        gen_engagement = (\n",
    "            ((tt_means.comments / tt_means.views)\n",
    "            + (tt_means.likes / tt_means.views)\n",
    "            + (tt_means.shares / tt_means.views))\n",
    "            * (tt_means.subs / max(tt_means.subs))\n",
    "        )\n",
    "    )\n",
    "    .sort_values(['gen_engagement'], ascending=False)\n",
    ")\n",
    "tt_means[['username', 'gen_engagement']].head(10)"
   ]
  },
  {
   "attachments": {},
   "cell_type": "markdown",
   "metadata": {},
   "source": [
    "## 8. Grafique una serie de tiempo de las cuentas que tengan al menos 3 datos de meses distintos de los promedios obtenidos en el inciso II"
   ]
  },
  {
   "cell_type": "code",
   "execution_count": 194,
   "metadata": {},
   "outputs": [],
   "source": [
    "tt_info = (\n",
    "    tt_months\n",
    "    .groupby('username')\n",
    "    ['username'].count()\n",
    "    .reset_index(name='counts')\n",
    "    .sort_values('counts', ascending=False)\n",
    ")\n",
    "tt_info = tt_info[tt_info.counts >2].username.to_frame()\n",
    "tt_info = (\n",
    "    tt_info\n",
    "    .merge(tt_months, on='username', how='left')\n",
    "    .sort_values(['username', 'subs', 'views', 'likes', 'comments', 'shares'], ascending=False)\n",
    "    .head(50)\n",
    ")"
   ]
  },
  {
   "cell_type": "code",
   "execution_count": 195,
   "metadata": {},
   "outputs": [
    {
     "data": {
      "image/png": "[encoded data removed]",
      "text/plain": [
       "<Figure size 640x480 with 1 Axes>"
      ]
     },
     "metadata": {},
     "output_type": "display_data"
    }
   ],
   "source": [
    "sns.barplot(\n",
    "    data=tt_info,\n",
    "    x = 'username',\n",
    "    y = 'subs',\n",
    "    hue = 'month',\n",
    ")\n",
    "plt.xticks(rotation='vertical')\n",
    "plt.show()"
   ]
  }
 ],
 "metadata": {
  "kernelspec": {
   "display_name": "Python 3 (ipykernel)",
   "language": "python",
   "name": "python3"
  },
  "language_info": {
   "codemirror_mode": {
    "name": "ipython",
    "version": 3
   },
   "file_extension": ".py",
   "mimetype": "text/x-python",
   "name": "python",
   "nbconvert_exporter": "python",
   "pygments_lexer": "ipython3",
   "version": "3.11.3"
  }
 },
 "nbformat": 4,
 "nbformat_minor": 4
}
